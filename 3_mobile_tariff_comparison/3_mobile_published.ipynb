{
 "cells": [
  {
   "cell_type": "markdown",
   "metadata": {},
   "source": [
    "# Сравнительный анализ доходности тарифов \"Смарт\" и \"Ультра\""
   ]
  },
  {
   "cell_type": "markdown",
   "metadata": {},
   "source": [
    "## Общие положения"
   ]
  },
  {
   "cell_type": "markdown",
   "metadata": {},
   "source": [
    "**Дата выполнения проекта:** 11 апреля 2021.\n",
    "\n",
    "**Заказчик исследования:** коммерческий отдел оператора сотовой связи \"Мегалайн\".\n",
    "\n",
    "**Цель исследования** — определить, доходность какова из тарифов — Smart или Ultra — выше.\n",
    "\n",
    "**Задачи исследования:**\n",
    "1. Проверить, отличается ли средняя выручка тарифа Smart от средней выручки тарифа Ultra.\n",
    "2. Проверить, есть ли отличия между пользователями разных городов.\n",
    "3. Сравнить полученные оценки и подготовить обоснованный вывод.\n",
    "\n",
    "**Описание данных:** выборка данных по 500 пользователям тарифов \"Смарт\" и \"Ультра\" за 2018 год, предоставлена Заказчиком.\n",
    "\n",
    "**Этапы исследования:**\n",
    "1. Изучение данных.\n",
    "2. Подготовка данных — удаление пропусков, дублей и аномалий.\n",
    "3. Внутреннее обогащение данных.\n",
    "4. Статистический и исследовательский анализ данных.\n",
    "5. Общий вывод."
   ]
  },
  {
   "cell_type": "markdown",
   "metadata": {},
   "source": [
    "## Изучение данных"
   ]
  },
  {
   "cell_type": "markdown",
   "metadata": {},
   "source": [
    "Для анализа предоставлены 5 файлов. Будем изучать каждый отдельно. Но первым шагом импортируем необходимые для работы библиотеки."
   ]
  },
  {
   "cell_type": "code",
   "execution_count": 1,
   "metadata": {},
   "outputs": [],
   "source": [
    "# импорт необходимых библиотек\n",
    "import numpy as np\n",
    "import pandas as pd\n",
    "import math as mt\n",
    "import matplotlib.pyplot as plt\n",
    "import seaborn as sns\n",
    "from scipy import stats as st"
   ]
  },
  {
   "cell_type": "code",
   "execution_count": 2,
   "metadata": {},
   "outputs": [],
   "source": [
    "# обновление библиотеки seaborn, при перезагрузке тетрадки перестает работать\n",
    "# для работы графиков нужно выполнить эту ячейку, потом перезапустить ядро\n",
    "# повторное выполнение ячейки не требуется, как я поняла, поэтому закомментировано\n",
    "\n",
    "# !pip install -U seaborn"
   ]
  },
  {
   "cell_type": "code",
   "execution_count": 3,
   "metadata": {},
   "outputs": [],
   "source": [
    "# зададим количество отображаемых столбцов, чтобы видеть все\n",
    "pd.options.display.max_columns = 200"
   ]
  },
  {
   "cell_type": "markdown",
   "metadata": {},
   "source": [
    "### Файл calls"
   ]
  },
  {
   "cell_type": "markdown",
   "metadata": {},
   "source": [
    "**Описание файла:**\n",
    "- id — уникальный номер звонка\n",
    "- call_date — дата звонка\n",
    "- duration — длительность звонка в минутах\n",
    "- user_id — идентификатор пользователя, сделавшего звонок"
   ]
  },
  {
   "cell_type": "code",
   "execution_count": 4,
   "metadata": {},
   "outputs": [],
   "source": [
    "# чтение файла из однозначно указанной директории\n",
    "calls = pd.read_csv('calls.csv')"
   ]
  },
  {
   "cell_type": "code",
   "execution_count": 5,
   "metadata": {},
   "outputs": [
    {
     "name": "stdout",
     "output_type": "stream",
     "text": [
      "<class 'pandas.core.frame.DataFrame'>\n",
      "RangeIndex: 202607 entries, 0 to 202606\n",
      "Data columns (total 4 columns):\n",
      " #   Column     Non-Null Count   Dtype  \n",
      "---  ------     --------------   -----  \n",
      " 0   id         202607 non-null  object \n",
      " 1   call_date  202607 non-null  object \n",
      " 2   duration   202607 non-null  float64\n",
      " 3   user_id    202607 non-null  int64  \n",
      "dtypes: float64(1), int64(1), object(2)\n",
      "memory usage: 6.2+ MB\n"
     ]
    }
   ],
   "source": [
    "# запросим общую информацию о файле стандартным методом .info()\n",
    "calls.info()"
   ]
  },
  {
   "cell_type": "markdown",
   "metadata": {},
   "source": [
    "В файле нет пустых значений. Потребуется замена типа данных в столбце call_date. Перейдем к визуальному изучению данных, а также посмотрим, есть ли в файле дубли."
   ]
  },
  {
   "cell_type": "code",
   "execution_count": 6,
   "metadata": {},
   "outputs": [],
   "source": [
    "# напишем функцию, которая выводит первые 5 строк для визуального изучения\n",
    "# а также подсчитывает количество и долю дублей в данных\n",
    "def check(data):\n",
    "    display(data.head())\n",
    "    duplicates = data.duplicated().sum()\n",
    "    duplicates_part = duplicates / len(data)\n",
    "    print('Количество дублирующихся строк в данных:', duplicates)\n",
    "    print('Доля дублей в данных: {:.2%}'.format(duplicates_part))"
   ]
  },
  {
   "cell_type": "code",
   "execution_count": 7,
   "metadata": {
    "scrolled": true
   },
   "outputs": [
    {
     "data": {
      "text/html": [
       "<div>\n",
       "<style scoped>\n",
       "    .dataframe tbody tr th:only-of-type {\n",
       "        vertical-align: middle;\n",
       "    }\n",
       "\n",
       "    .dataframe tbody tr th {\n",
       "        vertical-align: top;\n",
       "    }\n",
       "\n",
       "    .dataframe thead th {\n",
       "        text-align: right;\n",
       "    }\n",
       "</style>\n",
       "<table border=\"1\" class=\"dataframe\">\n",
       "  <thead>\n",
       "    <tr style=\"text-align: right;\">\n",
       "      <th></th>\n",
       "      <th>id</th>\n",
       "      <th>call_date</th>\n",
       "      <th>duration</th>\n",
       "      <th>user_id</th>\n",
       "    </tr>\n",
       "  </thead>\n",
       "  <tbody>\n",
       "    <tr>\n",
       "      <th>0</th>\n",
       "      <td>1000_0</td>\n",
       "      <td>2018-07-25</td>\n",
       "      <td>0.00</td>\n",
       "      <td>1000</td>\n",
       "    </tr>\n",
       "    <tr>\n",
       "      <th>1</th>\n",
       "      <td>1000_1</td>\n",
       "      <td>2018-08-17</td>\n",
       "      <td>0.00</td>\n",
       "      <td>1000</td>\n",
       "    </tr>\n",
       "    <tr>\n",
       "      <th>2</th>\n",
       "      <td>1000_2</td>\n",
       "      <td>2018-06-11</td>\n",
       "      <td>2.85</td>\n",
       "      <td>1000</td>\n",
       "    </tr>\n",
       "    <tr>\n",
       "      <th>3</th>\n",
       "      <td>1000_3</td>\n",
       "      <td>2018-09-21</td>\n",
       "      <td>13.80</td>\n",
       "      <td>1000</td>\n",
       "    </tr>\n",
       "    <tr>\n",
       "      <th>4</th>\n",
       "      <td>1000_4</td>\n",
       "      <td>2018-12-15</td>\n",
       "      <td>5.18</td>\n",
       "      <td>1000</td>\n",
       "    </tr>\n",
       "  </tbody>\n",
       "</table>\n",
       "</div>"
      ],
      "text/plain": [
       "       id   call_date  duration  user_id\n",
       "0  1000_0  2018-07-25      0.00     1000\n",
       "1  1000_1  2018-08-17      0.00     1000\n",
       "2  1000_2  2018-06-11      2.85     1000\n",
       "3  1000_3  2018-09-21     13.80     1000\n",
       "4  1000_4  2018-12-15      5.18     1000"
      ]
     },
     "metadata": {},
     "output_type": "display_data"
    },
    {
     "name": "stdout",
     "output_type": "stream",
     "text": [
      "Количество дублирующихся строк в данных: 0\n",
      "Доля дублей в данных: 0.00%\n"
     ]
    }
   ],
   "source": [
    "check(calls)"
   ]
  },
  {
   "cell_type": "markdown",
   "metadata": {},
   "source": [
    "На первый взгляд данные выглядят удовлетворительно, полных дублей нет. Удостоверимся, что в данных нет неожиданных значений — например, отрицательного количества минут. Заодно посчитаем долю нулевых значений."
   ]
  },
  {
   "cell_type": "code",
   "execution_count": 8,
   "metadata": {},
   "outputs": [],
   "source": [
    "# напишем функцию, которая будет подсчитывать количество нулей и отрицательных значений\n",
    "# в заданном столбце заданной таблицы\n",
    "def zero_negative(data, col_name):\n",
    "    zero_amount = data.query('{} == 0'.format(col_name))[col_name].count()    \n",
    "    zero_part = zero_amount / len(data)\n",
    "    negative_amount = data.query('{} < 0'.format(col_name))[col_name].count()\n",
    "    negative_part = negative_amount / len(data)\n",
    "    print('Количество нулей:', zero_amount)\n",
    "    print('Доля нулей: {:.2%}'.format(zero_part))\n",
    "    print('Количество отрицательных значений:', negative_amount)\n",
    "    print('Доля отрицательных значений: {:.2%}'.format(negative_part))"
   ]
  },
  {
   "cell_type": "code",
   "execution_count": 9,
   "metadata": {
    "scrolled": true
   },
   "outputs": [
    {
     "name": "stdout",
     "output_type": "stream",
     "text": [
      "Количество нулей: 39613\n",
      "Доля нулей: 19.55%\n",
      "Количество отрицательных значений: 0\n",
      "Доля отрицательных значений: 0.00%\n"
     ]
    }
   ],
   "source": [
    "# подсчитаем нули и пропуски для длительности звонка в файле calls\n",
    "zero_negative(calls, 'duration')"
   ]
  },
  {
   "cell_type": "markdown",
   "metadata": {},
   "source": [
    "Практически пятая часть звонков продолжались 0 секунд. Либо звонки сбрасывали, либо есть какие-то нарушения в учете — требуется более детальное изучение. Посмотрим, по всем ли 500 пользователям есть данные в файле."
   ]
  },
  {
   "cell_type": "code",
   "execution_count": 10,
   "metadata": {},
   "outputs": [
    {
     "name": "stdout",
     "output_type": "stream",
     "text": [
      "Количество уникальных user_id в файле: 492\n"
     ]
    }
   ],
   "source": [
    "print('Количество уникальных user_id в файле:', len(calls['user_id'].unique()))"
   ]
  },
  {
   "cell_type": "markdown",
   "metadata": {},
   "source": [
    "В данных нет информации по звонкам 8 человек. Может быть, эти люди вообще не пользовались звонками (поскольку есть большой объем нулевых значений, значит, любые, даже несостоявшиеся звонки, фиксируются). Второй вариант — есть проблемы на стадии сбора данных. Прежде чем делать выводы, посмотрим, есть ли подобные отклонения в данных о смс и использовании интернета."
   ]
  },
  {
   "cell_type": "markdown",
   "metadata": {},
   "source": [
    "**Вывод:** в датасете нет полных дублей. Требуется изменение типа данных для call_date. В собранной статистике не хватает информации о 8 пользователях. В столбце duration (продолжительность) имеются нулевые значения. Подробно изучать нулевые значения будем на следующем этапе подготовки данных. "
   ]
  },
  {
   "cell_type": "markdown",
   "metadata": {},
   "source": [
    "### Файл internet"
   ]
  },
  {
   "cell_type": "markdown",
   "metadata": {},
   "source": [
    "**Описание файла:**\n",
    "- id — уникальный номер сессии\n",
    "- mb_used — объём потраченного за сессию интернет-трафика (в мегабайтах)\n",
    "- session_date — дата интернет-сессии\n",
    "- user_id — идентификатор пользователя"
   ]
  },
  {
   "cell_type": "code",
   "execution_count": 11,
   "metadata": {},
   "outputs": [],
   "source": [
    "# чтение файла из однозначно указанной директории\n",
    "internet = pd.read_csv('internet.csv')"
   ]
  },
  {
   "cell_type": "code",
   "execution_count": 12,
   "metadata": {
    "scrolled": true
   },
   "outputs": [
    {
     "name": "stdout",
     "output_type": "stream",
     "text": [
      "<class 'pandas.core.frame.DataFrame'>\n",
      "RangeIndex: 149396 entries, 0 to 149395\n",
      "Data columns (total 5 columns):\n",
      " #   Column        Non-Null Count   Dtype  \n",
      "---  ------        --------------   -----  \n",
      " 0   Unnamed: 0    149396 non-null  int64  \n",
      " 1   id            149396 non-null  object \n",
      " 2   mb_used       149396 non-null  float64\n",
      " 3   session_date  149396 non-null  object \n",
      " 4   user_id       149396 non-null  int64  \n",
      "dtypes: float64(1), int64(2), object(2)\n",
      "memory usage: 5.7+ MB\n"
     ]
    }
   ],
   "source": [
    "# запросим общую информацию о файле стандартным методом .info()\n",
    "internet.info()"
   ]
  },
  {
   "cell_type": "markdown",
   "metadata": {},
   "source": [
    "Аналогично, нет пропусков и требуется замена типа данных в столбце session_date.\n",
    "Изучим образец данных: сколько нулей, отрицательных значений и неактивных пользователей в датасете."
   ]
  },
  {
   "cell_type": "code",
   "execution_count": 13,
   "metadata": {
    "scrolled": false
   },
   "outputs": [
    {
     "data": {
      "text/html": [
       "<div>\n",
       "<style scoped>\n",
       "    .dataframe tbody tr th:only-of-type {\n",
       "        vertical-align: middle;\n",
       "    }\n",
       "\n",
       "    .dataframe tbody tr th {\n",
       "        vertical-align: top;\n",
       "    }\n",
       "\n",
       "    .dataframe thead th {\n",
       "        text-align: right;\n",
       "    }\n",
       "</style>\n",
       "<table border=\"1\" class=\"dataframe\">\n",
       "  <thead>\n",
       "    <tr style=\"text-align: right;\">\n",
       "      <th></th>\n",
       "      <th>Unnamed: 0</th>\n",
       "      <th>id</th>\n",
       "      <th>mb_used</th>\n",
       "      <th>session_date</th>\n",
       "      <th>user_id</th>\n",
       "    </tr>\n",
       "  </thead>\n",
       "  <tbody>\n",
       "    <tr>\n",
       "      <th>0</th>\n",
       "      <td>0</td>\n",
       "      <td>1000_0</td>\n",
       "      <td>112.95</td>\n",
       "      <td>2018-11-25</td>\n",
       "      <td>1000</td>\n",
       "    </tr>\n",
       "    <tr>\n",
       "      <th>1</th>\n",
       "      <td>1</td>\n",
       "      <td>1000_1</td>\n",
       "      <td>1052.81</td>\n",
       "      <td>2018-09-07</td>\n",
       "      <td>1000</td>\n",
       "    </tr>\n",
       "    <tr>\n",
       "      <th>2</th>\n",
       "      <td>2</td>\n",
       "      <td>1000_2</td>\n",
       "      <td>1197.26</td>\n",
       "      <td>2018-06-25</td>\n",
       "      <td>1000</td>\n",
       "    </tr>\n",
       "    <tr>\n",
       "      <th>3</th>\n",
       "      <td>3</td>\n",
       "      <td>1000_3</td>\n",
       "      <td>550.27</td>\n",
       "      <td>2018-08-22</td>\n",
       "      <td>1000</td>\n",
       "    </tr>\n",
       "    <tr>\n",
       "      <th>4</th>\n",
       "      <td>4</td>\n",
       "      <td>1000_4</td>\n",
       "      <td>302.56</td>\n",
       "      <td>2018-09-24</td>\n",
       "      <td>1000</td>\n",
       "    </tr>\n",
       "  </tbody>\n",
       "</table>\n",
       "</div>"
      ],
      "text/plain": [
       "   Unnamed: 0      id  mb_used session_date  user_id\n",
       "0           0  1000_0   112.95   2018-11-25     1000\n",
       "1           1  1000_1  1052.81   2018-09-07     1000\n",
       "2           2  1000_2  1197.26   2018-06-25     1000\n",
       "3           3  1000_3   550.27   2018-08-22     1000\n",
       "4           4  1000_4   302.56   2018-09-24     1000"
      ]
     },
     "metadata": {},
     "output_type": "display_data"
    },
    {
     "name": "stdout",
     "output_type": "stream",
     "text": [
      "Количество дублирующихся строк в данных: 0\n",
      "Доля дублей в данных: 0.00%\n",
      "Количество нулей: 19598\n",
      "Доля нулей: 13.12%\n",
      "Количество отрицательных значений: 0\n",
      "Доля отрицательных значений: 0.00%\n",
      "Количество уникальных user_id в файле: 497\n"
     ]
    }
   ],
   "source": [
    "check(internet)\n",
    "zero_negative(internet, 'mb_used')\n",
    "print('Количество уникальных user_id в файле:', len(internet['user_id'].unique()))"
   ]
  },
  {
   "cell_type": "markdown",
   "metadata": {},
   "source": [
    "**Вывод:** также значительная доля нулей в использованных мегабайтах, неожиданных значений и дублей нет, по 3 абонентам нет записей. Вполне вероятно, что есть люди, которые не пользуются звонками или интернетом по тарифу — для обоснованного вывода необходимо изучить совокупные данные по всем услугам по всем пользователям, поэтому работу с нулями отложим до следующего шага."
   ]
  },
  {
   "cell_type": "markdown",
   "metadata": {},
   "source": [
    "### Файл messages"
   ]
  },
  {
   "cell_type": "markdown",
   "metadata": {},
   "source": [
    "**Описание файла:**\n",
    "- id — уникальный номер сообщения\n",
    "- message_date — дата сообщения\n",
    "- user_id — идентификатор пользователя, отправившего сообщение"
   ]
  },
  {
   "cell_type": "code",
   "execution_count": 14,
   "metadata": {},
   "outputs": [],
   "source": [
    "# чтение файла из однозначно указанной директории\n",
    "messages = pd.read_csv('messages.csv')"
   ]
  },
  {
   "cell_type": "code",
   "execution_count": 15,
   "metadata": {
    "scrolled": true
   },
   "outputs": [
    {
     "name": "stdout",
     "output_type": "stream",
     "text": [
      "<class 'pandas.core.frame.DataFrame'>\n",
      "RangeIndex: 123036 entries, 0 to 123035\n",
      "Data columns (total 3 columns):\n",
      " #   Column        Non-Null Count   Dtype \n",
      "---  ------        --------------   ----- \n",
      " 0   id            123036 non-null  object\n",
      " 1   message_date  123036 non-null  object\n",
      " 2   user_id       123036 non-null  int64 \n",
      "dtypes: int64(1), object(2)\n",
      "memory usage: 2.8+ MB\n"
     ]
    }
   ],
   "source": [
    "# запросим общую информацию о файле стандартным методом .info()\n",
    "messages.info()"
   ]
  },
  {
   "cell_type": "code",
   "execution_count": 16,
   "metadata": {
    "scrolled": false
   },
   "outputs": [
    {
     "data": {
      "text/html": [
       "<div>\n",
       "<style scoped>\n",
       "    .dataframe tbody tr th:only-of-type {\n",
       "        vertical-align: middle;\n",
       "    }\n",
       "\n",
       "    .dataframe tbody tr th {\n",
       "        vertical-align: top;\n",
       "    }\n",
       "\n",
       "    .dataframe thead th {\n",
       "        text-align: right;\n",
       "    }\n",
       "</style>\n",
       "<table border=\"1\" class=\"dataframe\">\n",
       "  <thead>\n",
       "    <tr style=\"text-align: right;\">\n",
       "      <th></th>\n",
       "      <th>id</th>\n",
       "      <th>message_date</th>\n",
       "      <th>user_id</th>\n",
       "    </tr>\n",
       "  </thead>\n",
       "  <tbody>\n",
       "    <tr>\n",
       "      <th>0</th>\n",
       "      <td>1000_0</td>\n",
       "      <td>2018-06-27</td>\n",
       "      <td>1000</td>\n",
       "    </tr>\n",
       "    <tr>\n",
       "      <th>1</th>\n",
       "      <td>1000_1</td>\n",
       "      <td>2018-10-08</td>\n",
       "      <td>1000</td>\n",
       "    </tr>\n",
       "    <tr>\n",
       "      <th>2</th>\n",
       "      <td>1000_2</td>\n",
       "      <td>2018-08-04</td>\n",
       "      <td>1000</td>\n",
       "    </tr>\n",
       "    <tr>\n",
       "      <th>3</th>\n",
       "      <td>1000_3</td>\n",
       "      <td>2018-06-16</td>\n",
       "      <td>1000</td>\n",
       "    </tr>\n",
       "    <tr>\n",
       "      <th>4</th>\n",
       "      <td>1000_4</td>\n",
       "      <td>2018-12-05</td>\n",
       "      <td>1000</td>\n",
       "    </tr>\n",
       "  </tbody>\n",
       "</table>\n",
       "</div>"
      ],
      "text/plain": [
       "       id message_date  user_id\n",
       "0  1000_0   2018-06-27     1000\n",
       "1  1000_1   2018-10-08     1000\n",
       "2  1000_2   2018-08-04     1000\n",
       "3  1000_3   2018-06-16     1000\n",
       "4  1000_4   2018-12-05     1000"
      ]
     },
     "metadata": {},
     "output_type": "display_data"
    },
    {
     "name": "stdout",
     "output_type": "stream",
     "text": [
      "Количество дублирующихся строк в данных: 0\n",
      "Доля дублей в данных: 0.00%\n",
      "Количество уникальных user_id в файле: 426\n"
     ]
    }
   ],
   "source": [
    "check(messages)\n",
    "print('Количество уникальных user_id в файле:', len(messages['user_id'].unique()))"
   ]
  },
  {
   "cell_type": "markdown",
   "metadata": {},
   "source": [
    "**Вывод:** файл messages нуждается только в преобразовании типа данных для столбца с датой. Пропущенных пользователей в этом файле значительно больше — 74 человека. В рассматриваемое время (2018 год) SMS как инструмент коммуникации продолжал активно замещаться мессанджерами, вероятно, какой-то процент людей к тому време действительно совсем прекратил им пользоваться."
   ]
  },
  {
   "cell_type": "markdown",
   "metadata": {},
   "source": [
    "### Файл tariffs"
   ]
  },
  {
   "cell_type": "markdown",
   "metadata": {},
   "source": [
    "**Описание файла:**\n",
    "- tariff_name — название тарифа\n",
    "- rub_monthly_fee — ежемесячная абонентская плата в рублях\n",
    "- minutes_included — количество минут разговора в месяц, включённых в абонентскую плату\n",
    "- messages_included — количество сообщений в месяц, включённых в абонентскую плату\n",
    "- mb_per_month_included — объём интернет-трафика, включённого в абонентскую плату (в мегабайтах)\n",
    "- rub_per_minute — стоимость минуты разговора сверх тарифного пакета (например, если в тарифе 100 минут разговора в месяц, то со 101 минуты будет взиматься плата)\n",
    "- rub_per_message — стоимость отправки сообщения сверх тарифного пакета\n",
    "- rub_per_gb — стоимость дополнительного гигабайта интернет-трафика сверх тарифного пакета (1 гигабайт = 1024 мегабайта)"
   ]
  },
  {
   "cell_type": "code",
   "execution_count": 17,
   "metadata": {},
   "outputs": [],
   "source": [
    "# чтение файла из однозначно указанной директории\n",
    "tariffs = pd.read_csv('tariffs.csv')"
   ]
  },
  {
   "cell_type": "code",
   "execution_count": 18,
   "metadata": {
    "scrolled": true
   },
   "outputs": [
    {
     "name": "stdout",
     "output_type": "stream",
     "text": [
      "<class 'pandas.core.frame.DataFrame'>\n",
      "RangeIndex: 2 entries, 0 to 1\n",
      "Data columns (total 8 columns):\n",
      " #   Column                 Non-Null Count  Dtype \n",
      "---  ------                 --------------  ----- \n",
      " 0   messages_included      2 non-null      int64 \n",
      " 1   mb_per_month_included  2 non-null      int64 \n",
      " 2   minutes_included       2 non-null      int64 \n",
      " 3   rub_monthly_fee        2 non-null      int64 \n",
      " 4   rub_per_gb             2 non-null      int64 \n",
      " 5   rub_per_message        2 non-null      int64 \n",
      " 6   rub_per_minute         2 non-null      int64 \n",
      " 7   tariff_name            2 non-null      object\n",
      "dtypes: int64(7), object(1)\n",
      "memory usage: 256.0+ bytes\n"
     ]
    }
   ],
   "source": [
    "# запросим общую информацию о файле стандартным методом .info()\n",
    "tariffs.info()"
   ]
  },
  {
   "cell_type": "code",
   "execution_count": 19,
   "metadata": {
    "scrolled": true
   },
   "outputs": [
    {
     "data": {
      "text/html": [
       "<div>\n",
       "<style scoped>\n",
       "    .dataframe tbody tr th:only-of-type {\n",
       "        vertical-align: middle;\n",
       "    }\n",
       "\n",
       "    .dataframe tbody tr th {\n",
       "        vertical-align: top;\n",
       "    }\n",
       "\n",
       "    .dataframe thead th {\n",
       "        text-align: right;\n",
       "    }\n",
       "</style>\n",
       "<table border=\"1\" class=\"dataframe\">\n",
       "  <thead>\n",
       "    <tr style=\"text-align: right;\">\n",
       "      <th></th>\n",
       "      <th>messages_included</th>\n",
       "      <th>mb_per_month_included</th>\n",
       "      <th>minutes_included</th>\n",
       "      <th>rub_monthly_fee</th>\n",
       "      <th>rub_per_gb</th>\n",
       "      <th>rub_per_message</th>\n",
       "      <th>rub_per_minute</th>\n",
       "      <th>tariff_name</th>\n",
       "    </tr>\n",
       "  </thead>\n",
       "  <tbody>\n",
       "    <tr>\n",
       "      <th>0</th>\n",
       "      <td>50</td>\n",
       "      <td>15360</td>\n",
       "      <td>500</td>\n",
       "      <td>550</td>\n",
       "      <td>200</td>\n",
       "      <td>3</td>\n",
       "      <td>3</td>\n",
       "      <td>smart</td>\n",
       "    </tr>\n",
       "    <tr>\n",
       "      <th>1</th>\n",
       "      <td>1000</td>\n",
       "      <td>30720</td>\n",
       "      <td>3000</td>\n",
       "      <td>1950</td>\n",
       "      <td>150</td>\n",
       "      <td>1</td>\n",
       "      <td>1</td>\n",
       "      <td>ultra</td>\n",
       "    </tr>\n",
       "  </tbody>\n",
       "</table>\n",
       "</div>"
      ],
      "text/plain": [
       "   messages_included  mb_per_month_included  minutes_included  \\\n",
       "0                 50                  15360               500   \n",
       "1               1000                  30720              3000   \n",
       "\n",
       "   rub_monthly_fee  rub_per_gb  rub_per_message  rub_per_minute tariff_name  \n",
       "0              550         200                3               3       smart  \n",
       "1             1950         150                1               1       ultra  "
      ]
     },
     "metadata": {},
     "output_type": "display_data"
    },
    {
     "name": "stdout",
     "output_type": "stream",
     "text": [
      "Количество дублирующихся строк в данных: 0\n",
      "Доля дублей в данных: 0.00%\n"
     ]
    }
   ],
   "source": [
    "check(tariffs)"
   ]
  },
  {
   "cell_type": "markdown",
   "metadata": {},
   "source": [
    "**Вывод:** все условия тарифа понятны. Данные могут быть использованы в сводной таблице, преобразования не требуются."
   ]
  },
  {
   "cell_type": "markdown",
   "metadata": {},
   "source": [
    "### Файл users"
   ]
  },
  {
   "cell_type": "markdown",
   "metadata": {},
   "source": [
    "**Описание файла:**\n",
    "- user_id — уникальный идентификатор пользователя\n",
    "- first_name — имя пользователя\n",
    "- last_name — фамилия пользователя\n",
    "- age — возраст пользователя (годы)\n",
    "- reg_date — дата подключения тарифа (день, месяц, год)\n",
    "- churn_date — дата прекращения пользования тарифом (если значение пропущено, то тариф ещё действовал на момент выгрузки данных)\n",
    "- city — город проживания пользователя\n",
    "- tariff — название тарифного плана"
   ]
  },
  {
   "cell_type": "code",
   "execution_count": 20,
   "metadata": {},
   "outputs": [],
   "source": [
    "# чтение файла из однозначно указанной директории\n",
    "users = pd.read_csv('users.csv')"
   ]
  },
  {
   "cell_type": "code",
   "execution_count": 21,
   "metadata": {
    "scrolled": true
   },
   "outputs": [
    {
     "name": "stdout",
     "output_type": "stream",
     "text": [
      "<class 'pandas.core.frame.DataFrame'>\n",
      "RangeIndex: 500 entries, 0 to 499\n",
      "Data columns (total 8 columns):\n",
      " #   Column      Non-Null Count  Dtype \n",
      "---  ------      --------------  ----- \n",
      " 0   user_id     500 non-null    int64 \n",
      " 1   age         500 non-null    int64 \n",
      " 2   churn_date  38 non-null     object\n",
      " 3   city        500 non-null    object\n",
      " 4   first_name  500 non-null    object\n",
      " 5   last_name   500 non-null    object\n",
      " 6   reg_date    500 non-null    object\n",
      " 7   tariff      500 non-null    object\n",
      "dtypes: int64(2), object(6)\n",
      "memory usage: 31.4+ KB\n"
     ]
    }
   ],
   "source": [
    "# запросим общую информацию о файле стандартным методом .info()\n",
    "users.info()"
   ]
  },
  {
   "cell_type": "code",
   "execution_count": 22,
   "metadata": {
    "scrolled": true
   },
   "outputs": [
    {
     "data": {
      "text/html": [
       "<div>\n",
       "<style scoped>\n",
       "    .dataframe tbody tr th:only-of-type {\n",
       "        vertical-align: middle;\n",
       "    }\n",
       "\n",
       "    .dataframe tbody tr th {\n",
       "        vertical-align: top;\n",
       "    }\n",
       "\n",
       "    .dataframe thead th {\n",
       "        text-align: right;\n",
       "    }\n",
       "</style>\n",
       "<table border=\"1\" class=\"dataframe\">\n",
       "  <thead>\n",
       "    <tr style=\"text-align: right;\">\n",
       "      <th></th>\n",
       "      <th>user_id</th>\n",
       "      <th>age</th>\n",
       "      <th>churn_date</th>\n",
       "      <th>city</th>\n",
       "      <th>first_name</th>\n",
       "      <th>last_name</th>\n",
       "      <th>reg_date</th>\n",
       "      <th>tariff</th>\n",
       "    </tr>\n",
       "  </thead>\n",
       "  <tbody>\n",
       "    <tr>\n",
       "      <th>0</th>\n",
       "      <td>1000</td>\n",
       "      <td>52</td>\n",
       "      <td>NaN</td>\n",
       "      <td>Краснодар</td>\n",
       "      <td>Рафаил</td>\n",
       "      <td>Верещагин</td>\n",
       "      <td>2018-05-25</td>\n",
       "      <td>ultra</td>\n",
       "    </tr>\n",
       "    <tr>\n",
       "      <th>1</th>\n",
       "      <td>1001</td>\n",
       "      <td>41</td>\n",
       "      <td>NaN</td>\n",
       "      <td>Москва</td>\n",
       "      <td>Иван</td>\n",
       "      <td>Ежов</td>\n",
       "      <td>2018-11-01</td>\n",
       "      <td>smart</td>\n",
       "    </tr>\n",
       "    <tr>\n",
       "      <th>2</th>\n",
       "      <td>1002</td>\n",
       "      <td>59</td>\n",
       "      <td>NaN</td>\n",
       "      <td>Стерлитамак</td>\n",
       "      <td>Евгений</td>\n",
       "      <td>Абрамович</td>\n",
       "      <td>2018-06-17</td>\n",
       "      <td>smart</td>\n",
       "    </tr>\n",
       "    <tr>\n",
       "      <th>3</th>\n",
       "      <td>1003</td>\n",
       "      <td>23</td>\n",
       "      <td>NaN</td>\n",
       "      <td>Москва</td>\n",
       "      <td>Белла</td>\n",
       "      <td>Белякова</td>\n",
       "      <td>2018-08-17</td>\n",
       "      <td>ultra</td>\n",
       "    </tr>\n",
       "    <tr>\n",
       "      <th>4</th>\n",
       "      <td>1004</td>\n",
       "      <td>68</td>\n",
       "      <td>NaN</td>\n",
       "      <td>Новокузнецк</td>\n",
       "      <td>Татьяна</td>\n",
       "      <td>Авдеенко</td>\n",
       "      <td>2018-05-14</td>\n",
       "      <td>ultra</td>\n",
       "    </tr>\n",
       "  </tbody>\n",
       "</table>\n",
       "</div>"
      ],
      "text/plain": [
       "   user_id  age churn_date         city first_name  last_name    reg_date  \\\n",
       "0     1000   52        NaN    Краснодар     Рафаил  Верещагин  2018-05-25   \n",
       "1     1001   41        NaN       Москва       Иван       Ежов  2018-11-01   \n",
       "2     1002   59        NaN  Стерлитамак    Евгений  Абрамович  2018-06-17   \n",
       "3     1003   23        NaN       Москва      Белла   Белякова  2018-08-17   \n",
       "4     1004   68        NaN  Новокузнецк    Татьяна   Авдеенко  2018-05-14   \n",
       "\n",
       "  tariff  \n",
       "0  ultra  \n",
       "1  smart  \n",
       "2  smart  \n",
       "3  ultra  \n",
       "4  ultra  "
      ]
     },
     "metadata": {},
     "output_type": "display_data"
    },
    {
     "name": "stdout",
     "output_type": "stream",
     "text": [
      "Количество дублирующихся строк в данных: 0\n",
      "Доля дублей в данных: 0.00%\n"
     ]
    }
   ],
   "source": [
    "check(users)"
   ]
  },
  {
   "cell_type": "markdown",
   "metadata": {},
   "source": [
    "Проверим, по всем ли пользователям заполнен тариф."
   ]
  },
  {
   "cell_type": "code",
   "execution_count": 23,
   "metadata": {},
   "outputs": [
    {
     "data": {
      "text/plain": [
       "tariff\n",
       "smart    351\n",
       "ultra    149\n",
       "Name: tariff, dtype: int64"
      ]
     },
     "execution_count": 23,
     "metadata": {},
     "output_type": "execute_result"
    }
   ],
   "source": [
    "users.groupby('tariff')['tariff'].count()"
   ]
  },
  {
   "cell_type": "markdown",
   "metadata": {},
   "source": [
    "**Вывод:** для каждого пользователя прописан тариф, на текущем этапе представляется, что прочие данные таблицы использоваться не будут. В целом, таблица не содержит дублей, а значения NaN только в столбце с датой прекращения пользования тарифом, что эквивалетно информации, что пользователь пользуется тарифом."
   ]
  },
  {
   "cell_type": "markdown",
   "metadata": {},
   "source": [
    "### Вывод"
   ]
  },
  {
   "cell_type": "markdown",
   "metadata": {},
   "source": [
    "Предоставленные для анализа файлы содержат от 123036 до 202607 строк, что представляется достаточным для анализа объемом. В предоставленных данных нет дублей и отрицательных значений, наблюдается большой процент нулевых значений по минутам и гигабайтам, ситуация требует более внимательного изучения. На следующем этапе из дополнительных файлов — tariffs и users — в сводную таблицу будут добавлены тарифные планы для каждого user_id и выручка с каждого пользователя."
   ]
  },
  {
   "cell_type": "markdown",
   "metadata": {},
   "source": [
    "## Подготовка данных"
   ]
  },
  {
   "cell_type": "markdown",
   "metadata": {},
   "source": [
    "На этапе подготовки данных сделаем сводную таблицу по звонкам, сообщениям и использованию интернета по пользователям и месяцам. Первым шагом выделим из даты месяц и округлим данные по израсходованным минутам и гигабайтам (по условиям тарифов, оператор всегда округляет значения вверх до целых)."
   ]
  },
  {
   "cell_type": "markdown",
   "metadata": {},
   "source": [
    "### Добавление названия месяца, округление численных значений вверх"
   ]
  },
  {
   "cell_type": "markdown",
   "metadata": {},
   "source": [
    "Поскольку идентичные преобразования потребуются для нескольких файлов, напишем функции для изменения формата даты, добавления названия месяца и округления значений вверх."
   ]
  },
  {
   "cell_type": "code",
   "execution_count": 24,
   "metadata": {},
   "outputs": [],
   "source": [
    "# напишем функцию, которая меняет формат даты и добавляет номер и название месяца\n",
    "# для проверки после работы функции вернем первые 5 строчек датасета \n",
    "def add_month(data, col_name):\n",
    "    data[col_name] = pd.to_datetime(data[col_name], format='%Y-%m-%d')\n",
    "    data['month'] = data[col_name].dt.month\n",
    "    data['month_name'] = data[col_name].dt.month_name(None)\n",
    "    return data.head()"
   ]
  },
  {
   "cell_type": "code",
   "execution_count": 25,
   "metadata": {},
   "outputs": [],
   "source": [
    "# напишем функцию, которая в заданном столбце заданного датасета округляет значения вверх\n",
    "# и переводит их в целочисленный тип\n",
    "def ceiling(data, col_name):\n",
    "    data[col_name+'_up'] = np.ceil(data[col_name]).astype(int)\n",
    "    return data.head()"
   ]
  },
  {
   "cell_type": "code",
   "execution_count": 26,
   "metadata": {},
   "outputs": [
    {
     "data": {
      "text/html": [
       "<div>\n",
       "<style scoped>\n",
       "    .dataframe tbody tr th:only-of-type {\n",
       "        vertical-align: middle;\n",
       "    }\n",
       "\n",
       "    .dataframe tbody tr th {\n",
       "        vertical-align: top;\n",
       "    }\n",
       "\n",
       "    .dataframe thead th {\n",
       "        text-align: right;\n",
       "    }\n",
       "</style>\n",
       "<table border=\"1\" class=\"dataframe\">\n",
       "  <thead>\n",
       "    <tr style=\"text-align: right;\">\n",
       "      <th></th>\n",
       "      <th>id</th>\n",
       "      <th>call_date</th>\n",
       "      <th>duration</th>\n",
       "      <th>user_id</th>\n",
       "      <th>month</th>\n",
       "      <th>month_name</th>\n",
       "      <th>duration_up</th>\n",
       "    </tr>\n",
       "  </thead>\n",
       "  <tbody>\n",
       "    <tr>\n",
       "      <th>0</th>\n",
       "      <td>1000_0</td>\n",
       "      <td>2018-07-25</td>\n",
       "      <td>0.00</td>\n",
       "      <td>1000</td>\n",
       "      <td>7</td>\n",
       "      <td>July</td>\n",
       "      <td>0</td>\n",
       "    </tr>\n",
       "    <tr>\n",
       "      <th>1</th>\n",
       "      <td>1000_1</td>\n",
       "      <td>2018-08-17</td>\n",
       "      <td>0.00</td>\n",
       "      <td>1000</td>\n",
       "      <td>8</td>\n",
       "      <td>August</td>\n",
       "      <td>0</td>\n",
       "    </tr>\n",
       "    <tr>\n",
       "      <th>2</th>\n",
       "      <td>1000_2</td>\n",
       "      <td>2018-06-11</td>\n",
       "      <td>2.85</td>\n",
       "      <td>1000</td>\n",
       "      <td>6</td>\n",
       "      <td>June</td>\n",
       "      <td>3</td>\n",
       "    </tr>\n",
       "    <tr>\n",
       "      <th>3</th>\n",
       "      <td>1000_3</td>\n",
       "      <td>2018-09-21</td>\n",
       "      <td>13.80</td>\n",
       "      <td>1000</td>\n",
       "      <td>9</td>\n",
       "      <td>September</td>\n",
       "      <td>14</td>\n",
       "    </tr>\n",
       "    <tr>\n",
       "      <th>4</th>\n",
       "      <td>1000_4</td>\n",
       "      <td>2018-12-15</td>\n",
       "      <td>5.18</td>\n",
       "      <td>1000</td>\n",
       "      <td>12</td>\n",
       "      <td>December</td>\n",
       "      <td>6</td>\n",
       "    </tr>\n",
       "  </tbody>\n",
       "</table>\n",
       "</div>"
      ],
      "text/plain": [
       "       id  call_date  duration  user_id  month month_name  duration_up\n",
       "0  1000_0 2018-07-25      0.00     1000      7       July            0\n",
       "1  1000_1 2018-08-17      0.00     1000      8     August            0\n",
       "2  1000_2 2018-06-11      2.85     1000      6       June            3\n",
       "3  1000_3 2018-09-21     13.80     1000      9  September           14\n",
       "4  1000_4 2018-12-15      5.18     1000     12   December            6"
      ]
     },
     "execution_count": 26,
     "metadata": {},
     "output_type": "execute_result"
    }
   ],
   "source": [
    "# применим описанные выше функции к таблице calls\n",
    "add_month(calls, 'call_date')\n",
    "ceiling(calls, 'duration')"
   ]
  },
  {
   "cell_type": "code",
   "execution_count": 27,
   "metadata": {
    "scrolled": true
   },
   "outputs": [
    {
     "data": {
      "text/html": [
       "<div>\n",
       "<style scoped>\n",
       "    .dataframe tbody tr th:only-of-type {\n",
       "        vertical-align: middle;\n",
       "    }\n",
       "\n",
       "    .dataframe tbody tr th {\n",
       "        vertical-align: top;\n",
       "    }\n",
       "\n",
       "    .dataframe thead th {\n",
       "        text-align: right;\n",
       "    }\n",
       "</style>\n",
       "<table border=\"1\" class=\"dataframe\">\n",
       "  <thead>\n",
       "    <tr style=\"text-align: right;\">\n",
       "      <th></th>\n",
       "      <th>Unnamed: 0</th>\n",
       "      <th>id</th>\n",
       "      <th>mb_used</th>\n",
       "      <th>session_date</th>\n",
       "      <th>user_id</th>\n",
       "      <th>month</th>\n",
       "      <th>month_name</th>\n",
       "      <th>mb_used_up</th>\n",
       "    </tr>\n",
       "  </thead>\n",
       "  <tbody>\n",
       "    <tr>\n",
       "      <th>0</th>\n",
       "      <td>0</td>\n",
       "      <td>1000_0</td>\n",
       "      <td>112.95</td>\n",
       "      <td>2018-11-25</td>\n",
       "      <td>1000</td>\n",
       "      <td>11</td>\n",
       "      <td>November</td>\n",
       "      <td>113</td>\n",
       "    </tr>\n",
       "    <tr>\n",
       "      <th>1</th>\n",
       "      <td>1</td>\n",
       "      <td>1000_1</td>\n",
       "      <td>1052.81</td>\n",
       "      <td>2018-09-07</td>\n",
       "      <td>1000</td>\n",
       "      <td>9</td>\n",
       "      <td>September</td>\n",
       "      <td>1053</td>\n",
       "    </tr>\n",
       "    <tr>\n",
       "      <th>2</th>\n",
       "      <td>2</td>\n",
       "      <td>1000_2</td>\n",
       "      <td>1197.26</td>\n",
       "      <td>2018-06-25</td>\n",
       "      <td>1000</td>\n",
       "      <td>6</td>\n",
       "      <td>June</td>\n",
       "      <td>1198</td>\n",
       "    </tr>\n",
       "    <tr>\n",
       "      <th>3</th>\n",
       "      <td>3</td>\n",
       "      <td>1000_3</td>\n",
       "      <td>550.27</td>\n",
       "      <td>2018-08-22</td>\n",
       "      <td>1000</td>\n",
       "      <td>8</td>\n",
       "      <td>August</td>\n",
       "      <td>551</td>\n",
       "    </tr>\n",
       "    <tr>\n",
       "      <th>4</th>\n",
       "      <td>4</td>\n",
       "      <td>1000_4</td>\n",
       "      <td>302.56</td>\n",
       "      <td>2018-09-24</td>\n",
       "      <td>1000</td>\n",
       "      <td>9</td>\n",
       "      <td>September</td>\n",
       "      <td>303</td>\n",
       "    </tr>\n",
       "  </tbody>\n",
       "</table>\n",
       "</div>"
      ],
      "text/plain": [
       "   Unnamed: 0      id  mb_used session_date  user_id  month month_name  \\\n",
       "0           0  1000_0   112.95   2018-11-25     1000     11   November   \n",
       "1           1  1000_1  1052.81   2018-09-07     1000      9  September   \n",
       "2           2  1000_2  1197.26   2018-06-25     1000      6       June   \n",
       "3           3  1000_3   550.27   2018-08-22     1000      8     August   \n",
       "4           4  1000_4   302.56   2018-09-24     1000      9  September   \n",
       "\n",
       "   mb_used_up  \n",
       "0         113  \n",
       "1        1053  \n",
       "2        1198  \n",
       "3         551  \n",
       "4         303  "
      ]
     },
     "execution_count": 27,
     "metadata": {},
     "output_type": "execute_result"
    }
   ],
   "source": [
    "# и к таблице internet\n",
    "add_month(internet, 'session_date')\n",
    "ceiling(internet, 'mb_used')"
   ]
  },
  {
   "cell_type": "code",
   "execution_count": 28,
   "metadata": {},
   "outputs": [
    {
     "data": {
      "text/html": [
       "<div>\n",
       "<style scoped>\n",
       "    .dataframe tbody tr th:only-of-type {\n",
       "        vertical-align: middle;\n",
       "    }\n",
       "\n",
       "    .dataframe tbody tr th {\n",
       "        vertical-align: top;\n",
       "    }\n",
       "\n",
       "    .dataframe thead th {\n",
       "        text-align: right;\n",
       "    }\n",
       "</style>\n",
       "<table border=\"1\" class=\"dataframe\">\n",
       "  <thead>\n",
       "    <tr style=\"text-align: right;\">\n",
       "      <th></th>\n",
       "      <th>id</th>\n",
       "      <th>message_date</th>\n",
       "      <th>user_id</th>\n",
       "      <th>month</th>\n",
       "      <th>month_name</th>\n",
       "    </tr>\n",
       "  </thead>\n",
       "  <tbody>\n",
       "    <tr>\n",
       "      <th>0</th>\n",
       "      <td>1000_0</td>\n",
       "      <td>2018-06-27</td>\n",
       "      <td>1000</td>\n",
       "      <td>6</td>\n",
       "      <td>June</td>\n",
       "    </tr>\n",
       "    <tr>\n",
       "      <th>1</th>\n",
       "      <td>1000_1</td>\n",
       "      <td>2018-10-08</td>\n",
       "      <td>1000</td>\n",
       "      <td>10</td>\n",
       "      <td>October</td>\n",
       "    </tr>\n",
       "    <tr>\n",
       "      <th>2</th>\n",
       "      <td>1000_2</td>\n",
       "      <td>2018-08-04</td>\n",
       "      <td>1000</td>\n",
       "      <td>8</td>\n",
       "      <td>August</td>\n",
       "    </tr>\n",
       "    <tr>\n",
       "      <th>3</th>\n",
       "      <td>1000_3</td>\n",
       "      <td>2018-06-16</td>\n",
       "      <td>1000</td>\n",
       "      <td>6</td>\n",
       "      <td>June</td>\n",
       "    </tr>\n",
       "    <tr>\n",
       "      <th>4</th>\n",
       "      <td>1000_4</td>\n",
       "      <td>2018-12-05</td>\n",
       "      <td>1000</td>\n",
       "      <td>12</td>\n",
       "      <td>December</td>\n",
       "    </tr>\n",
       "  </tbody>\n",
       "</table>\n",
       "</div>"
      ],
      "text/plain": [
       "       id message_date  user_id  month month_name\n",
       "0  1000_0   2018-06-27     1000      6       June\n",
       "1  1000_1   2018-10-08     1000     10    October\n",
       "2  1000_2   2018-08-04     1000      8     August\n",
       "3  1000_3   2018-06-16     1000      6       June\n",
       "4  1000_4   2018-12-05     1000     12   December"
      ]
     },
     "execution_count": 28,
     "metadata": {},
     "output_type": "execute_result"
    }
   ],
   "source": [
    "# добавим название месяца в таблицу messages\n",
    "add_month(messages, 'message_date')"
   ]
  },
  {
   "cell_type": "markdown",
   "metadata": {},
   "source": [
    "Все преобразования проши успешно. На следующем шаге объединим таблицы calls, internet и messages на основании совпадения столбцов user_id и month_name. В итоговую таблицу по каждому пользователю выведем сумму минут, гигабайт и смс по округленным вверх значениям."
   ]
  },
  {
   "cell_type": "markdown",
   "metadata": {},
   "source": [
    "### Создание сводной таблицы по расходу минут, мегабайт, sms"
   ]
  },
  {
   "cell_type": "markdown",
   "metadata": {},
   "source": [
    "Как и в предыдущем случае, однотипные преобрзования потребуются несколько раз, поэтому подготовим функцию для посчета суммы значений по столбцам."
   ]
  },
  {
   "cell_type": "code",
   "execution_count": 29,
   "metadata": {},
   "outputs": [],
   "source": [
    "# напишем функцию, которая суммирует количество израсходованных минут/мегабайт\n",
    "# с учетом пользователя и месяца и выводит сокращенную таблицу\n",
    "def aggregation(data, col_name):\n",
    "    data2 = data.groupby(['user_id', 'month', 'month_name'])\\\n",
    "    .agg({col_name: sum}).reset_index()\n",
    "    return data2"
   ]
  },
  {
   "cell_type": "code",
   "execution_count": 30,
   "metadata": {},
   "outputs": [
    {
     "data": {
      "text/html": [
       "<div>\n",
       "<style scoped>\n",
       "    .dataframe tbody tr th:only-of-type {\n",
       "        vertical-align: middle;\n",
       "    }\n",
       "\n",
       "    .dataframe tbody tr th {\n",
       "        vertical-align: top;\n",
       "    }\n",
       "\n",
       "    .dataframe thead th {\n",
       "        text-align: right;\n",
       "    }\n",
       "</style>\n",
       "<table border=\"1\" class=\"dataframe\">\n",
       "  <thead>\n",
       "    <tr style=\"text-align: right;\">\n",
       "      <th></th>\n",
       "      <th>user_id</th>\n",
       "      <th>month</th>\n",
       "      <th>month_name</th>\n",
       "      <th>duration_up</th>\n",
       "      <th>mb_used_up</th>\n",
       "    </tr>\n",
       "  </thead>\n",
       "  <tbody>\n",
       "    <tr>\n",
       "      <th>8</th>\n",
       "      <td>1001</td>\n",
       "      <td>11</td>\n",
       "      <td>November</td>\n",
       "      <td>430.0</td>\n",
       "      <td>18452.0</td>\n",
       "    </tr>\n",
       "    <tr>\n",
       "      <th>9</th>\n",
       "      <td>1001</td>\n",
       "      <td>12</td>\n",
       "      <td>December</td>\n",
       "      <td>414.0</td>\n",
       "      <td>14053.0</td>\n",
       "    </tr>\n",
       "  </tbody>\n",
       "</table>\n",
       "</div>"
      ],
      "text/plain": [
       "   user_id  month month_name  duration_up  mb_used_up\n",
       "8     1001     11   November        430.0     18452.0\n",
       "9     1001     12   December        414.0     14053.0"
      ]
     },
     "execution_count": 30,
     "metadata": {},
     "output_type": "execute_result"
    }
   ],
   "source": [
    "# применим функцию к таблицам calls и internet\n",
    "calls_agg = aggregation(calls, 'duration_up')\n",
    "internet_agg = aggregation(internet, 'mb_used_up')\n",
    "\n",
    "# объединим полученные таблицы\n",
    "calls_internet = calls_agg.merge(internet_agg, how='outer', on = ['user_id', 'month', 'month_name'])\n",
    "# изучим образец получившихся данных\n",
    "calls_internet.query('user_id == 1001')"
   ]
  },
  {
   "cell_type": "code",
   "execution_count": 31,
   "metadata": {},
   "outputs": [
    {
     "data": {
      "text/html": [
       "<div>\n",
       "<style scoped>\n",
       "    .dataframe tbody tr th:only-of-type {\n",
       "        vertical-align: middle;\n",
       "    }\n",
       "\n",
       "    .dataframe tbody tr th {\n",
       "        vertical-align: top;\n",
       "    }\n",
       "\n",
       "    .dataframe thead th {\n",
       "        text-align: right;\n",
       "    }\n",
       "</style>\n",
       "<table border=\"1\" class=\"dataframe\">\n",
       "  <thead>\n",
       "    <tr style=\"text-align: right;\">\n",
       "      <th></th>\n",
       "      <th>user_id</th>\n",
       "      <th>month</th>\n",
       "      <th>month_name</th>\n",
       "      <th>duration_up</th>\n",
       "      <th>mb_used_up</th>\n",
       "      <th>messages_amount</th>\n",
       "    </tr>\n",
       "  </thead>\n",
       "  <tbody>\n",
       "    <tr>\n",
       "      <th>10</th>\n",
       "      <td>1002</td>\n",
       "      <td>6</td>\n",
       "      <td>June</td>\n",
       "      <td>117.0</td>\n",
       "      <td>10871.0</td>\n",
       "      <td>4.0</td>\n",
       "    </tr>\n",
       "    <tr>\n",
       "      <th>11</th>\n",
       "      <td>1002</td>\n",
       "      <td>7</td>\n",
       "      <td>July</td>\n",
       "      <td>214.0</td>\n",
       "      <td>17601.0</td>\n",
       "      <td>11.0</td>\n",
       "    </tr>\n",
       "    <tr>\n",
       "      <th>12</th>\n",
       "      <td>1002</td>\n",
       "      <td>8</td>\n",
       "      <td>August</td>\n",
       "      <td>289.0</td>\n",
       "      <td>20347.0</td>\n",
       "      <td>13.0</td>\n",
       "    </tr>\n",
       "    <tr>\n",
       "      <th>13</th>\n",
       "      <td>1002</td>\n",
       "      <td>9</td>\n",
       "      <td>September</td>\n",
       "      <td>206.0</td>\n",
       "      <td>16712.0</td>\n",
       "      <td>4.0</td>\n",
       "    </tr>\n",
       "    <tr>\n",
       "      <th>14</th>\n",
       "      <td>1002</td>\n",
       "      <td>10</td>\n",
       "      <td>October</td>\n",
       "      <td>212.0</td>\n",
       "      <td>13905.0</td>\n",
       "      <td>10.0</td>\n",
       "    </tr>\n",
       "    <tr>\n",
       "      <th>15</th>\n",
       "      <td>1002</td>\n",
       "      <td>11</td>\n",
       "      <td>November</td>\n",
       "      <td>243.0</td>\n",
       "      <td>18610.0</td>\n",
       "      <td>16.0</td>\n",
       "    </tr>\n",
       "    <tr>\n",
       "      <th>16</th>\n",
       "      <td>1002</td>\n",
       "      <td>12</td>\n",
       "      <td>December</td>\n",
       "      <td>236.0</td>\n",
       "      <td>18137.0</td>\n",
       "      <td>12.0</td>\n",
       "    </tr>\n",
       "  </tbody>\n",
       "</table>\n",
       "</div>"
      ],
      "text/plain": [
       "    user_id  month month_name  duration_up  mb_used_up  messages_amount\n",
       "10     1002      6       June        117.0     10871.0              4.0\n",
       "11     1002      7       July        214.0     17601.0             11.0\n",
       "12     1002      8     August        289.0     20347.0             13.0\n",
       "13     1002      9  September        206.0     16712.0              4.0\n",
       "14     1002     10    October        212.0     13905.0             10.0\n",
       "15     1002     11   November        243.0     18610.0             16.0\n",
       "16     1002     12   December        236.0     18137.0             12.0"
      ]
     },
     "execution_count": 31,
     "metadata": {},
     "output_type": "execute_result"
    }
   ],
   "source": [
    "# добавим информацию по количеству смс\n",
    "messages_agg = messages.groupby(['user_id', 'month_name'])\\\n",
    "    .agg({'id': 'count'}).reset_index().rename(columns = {'id':'messages_amount'})\n",
    "\n",
    "# объединим с таблицей по звонкам и интернету и выведем образец получившихся данных\n",
    "calls_sms_inet = calls_internet.merge(messages_agg, how='outer', on = ['user_id', 'month_name'])\n",
    "calls_sms_inet.query('user_id == 1002')"
   ]
  },
  {
   "cell_type": "markdown",
   "metadata": {},
   "source": [
    "Методы отработали корректно — получилась сводная таблица с количеством израсходованных минут, мегабайт и SMS по каждому user_id в разрезе месяцев. На этапе изучения данным мы фиксировали пропуски в user_id в каждой из таблиц: 8 в calls, 3 в intenet, 74 в messages. Посмотрим, какое количесто уникальных user_id в итоговой таблице."
   ]
  },
  {
   "cell_type": "code",
   "execution_count": 32,
   "metadata": {},
   "outputs": [
    {
     "name": "stdout",
     "output_type": "stream",
     "text": [
      "Количество уникальных user_id в файле: 498\n"
     ]
    }
   ],
   "source": [
    "print('Количество уникальных user_id в файле:', len(calls_sms_inet['user_id'].unique()))"
   ]
  },
  {
   "cell_type": "markdown",
   "metadata": {},
   "source": [
    "Группировка данных прошла с хорошим результатом — не хватает всего 2 пользователей. Вполне вероятно, что эти люди действительно не пользовались телефонами. То, что в итоговой таблице больше строк, чем в каждой из исходных, подтверждает догадку, что некоторые абоненты не пользуются определенными средствами: кто-то не звонит, кто-то не пользуется интернетом, а кто-то отказался от SMS. Таким образом, нулевые значения в каждом из столбцов не являются ошибками учета."
   ]
  },
  {
   "cell_type": "markdown",
   "metadata": {},
   "source": [
    "### Добавление данных по тарифным планам"
   ]
  },
  {
   "cell_type": "markdown",
   "metadata": {},
   "source": [
    "Добавим в таблицу данные о тарифе и стоимости услуг для каждого пользователя."
   ]
  },
  {
   "cell_type": "code",
   "execution_count": 33,
   "metadata": {},
   "outputs": [
    {
     "data": {
      "text/html": [
       "<div>\n",
       "<style scoped>\n",
       "    .dataframe tbody tr th:only-of-type {\n",
       "        vertical-align: middle;\n",
       "    }\n",
       "\n",
       "    .dataframe tbody tr th {\n",
       "        vertical-align: top;\n",
       "    }\n",
       "\n",
       "    .dataframe thead th {\n",
       "        text-align: right;\n",
       "    }\n",
       "</style>\n",
       "<table border=\"1\" class=\"dataframe\">\n",
       "  <thead>\n",
       "    <tr style=\"text-align: right;\">\n",
       "      <th></th>\n",
       "      <th>user_id</th>\n",
       "      <th>month</th>\n",
       "      <th>month_name</th>\n",
       "      <th>duration_up</th>\n",
       "      <th>mb_used_up</th>\n",
       "      <th>messages_amount</th>\n",
       "      <th>city</th>\n",
       "      <th>tariff_name</th>\n",
       "    </tr>\n",
       "  </thead>\n",
       "  <tbody>\n",
       "    <tr>\n",
       "      <th>22</th>\n",
       "      <td>1004</td>\n",
       "      <td>5</td>\n",
       "      <td>May</td>\n",
       "      <td>35.0</td>\n",
       "      <td>13415.0</td>\n",
       "      <td>95.0</td>\n",
       "      <td>Новокузнецк</td>\n",
       "      <td>ultra</td>\n",
       "    </tr>\n",
       "    <tr>\n",
       "      <th>23</th>\n",
       "      <td>1004</td>\n",
       "      <td>6</td>\n",
       "      <td>June</td>\n",
       "      <td>171.0</td>\n",
       "      <td>17619.0</td>\n",
       "      <td>134.0</td>\n",
       "      <td>Новокузнецк</td>\n",
       "      <td>ultra</td>\n",
       "    </tr>\n",
       "    <tr>\n",
       "      <th>24</th>\n",
       "      <td>1004</td>\n",
       "      <td>7</td>\n",
       "      <td>July</td>\n",
       "      <td>135.0</td>\n",
       "      <td>22243.0</td>\n",
       "      <td>181.0</td>\n",
       "      <td>Новокузнецк</td>\n",
       "      <td>ultra</td>\n",
       "    </tr>\n",
       "    <tr>\n",
       "      <th>25</th>\n",
       "      <td>1004</td>\n",
       "      <td>8</td>\n",
       "      <td>August</td>\n",
       "      <td>137.0</td>\n",
       "      <td>28607.0</td>\n",
       "      <td>151.0</td>\n",
       "      <td>Новокузнецк</td>\n",
       "      <td>ultra</td>\n",
       "    </tr>\n",
       "    <tr>\n",
       "      <th>26</th>\n",
       "      <td>1004</td>\n",
       "      <td>9</td>\n",
       "      <td>September</td>\n",
       "      <td>117.0</td>\n",
       "      <td>15125.0</td>\n",
       "      <td>146.0</td>\n",
       "      <td>Новокузнецк</td>\n",
       "      <td>ultra</td>\n",
       "    </tr>\n",
       "    <tr>\n",
       "      <th>27</th>\n",
       "      <td>1004</td>\n",
       "      <td>10</td>\n",
       "      <td>October</td>\n",
       "      <td>145.0</td>\n",
       "      <td>18494.0</td>\n",
       "      <td>165.0</td>\n",
       "      <td>Новокузнецк</td>\n",
       "      <td>ultra</td>\n",
       "    </tr>\n",
       "    <tr>\n",
       "      <th>28</th>\n",
       "      <td>1004</td>\n",
       "      <td>11</td>\n",
       "      <td>November</td>\n",
       "      <td>117.0</td>\n",
       "      <td>15631.0</td>\n",
       "      <td>158.0</td>\n",
       "      <td>Новокузнецк</td>\n",
       "      <td>ultra</td>\n",
       "    </tr>\n",
       "    <tr>\n",
       "      <th>29</th>\n",
       "      <td>1004</td>\n",
       "      <td>12</td>\n",
       "      <td>December</td>\n",
       "      <td>130.0</td>\n",
       "      <td>18038.0</td>\n",
       "      <td>162.0</td>\n",
       "      <td>Новокузнецк</td>\n",
       "      <td>ultra</td>\n",
       "    </tr>\n",
       "  </tbody>\n",
       "</table>\n",
       "</div>"
      ],
      "text/plain": [
       "    user_id  month month_name  duration_up  mb_used_up  messages_amount  \\\n",
       "22     1004      5        May         35.0     13415.0             95.0   \n",
       "23     1004      6       June        171.0     17619.0            134.0   \n",
       "24     1004      7       July        135.0     22243.0            181.0   \n",
       "25     1004      8     August        137.0     28607.0            151.0   \n",
       "26     1004      9  September        117.0     15125.0            146.0   \n",
       "27     1004     10    October        145.0     18494.0            165.0   \n",
       "28     1004     11   November        117.0     15631.0            158.0   \n",
       "29     1004     12   December        130.0     18038.0            162.0   \n",
       "\n",
       "           city tariff_name  \n",
       "22  Новокузнецк       ultra  \n",
       "23  Новокузнецк       ultra  \n",
       "24  Новокузнецк       ultra  \n",
       "25  Новокузнецк       ultra  \n",
       "26  Новокузнецк       ultra  \n",
       "27  Новокузнецк       ultra  \n",
       "28  Новокузнецк       ultra  \n",
       "29  Новокузнецк       ultra  "
      ]
     },
     "execution_count": 33,
     "metadata": {},
     "output_type": "execute_result"
    }
   ],
   "source": [
    "# отберем из таблицы users данные по user_id и tariff\n",
    "users_cut = users[['user_id', 'city', 'tariff']]\n",
    "\n",
    "# добавим тариф в сводную таблицу звонков, смс и интернета\n",
    "data_tariff = calls_sms_inet.merge(users_cut, on = 'user_id').rename(columns = {'tariff':'tariff_name'})\n",
    "data_tariff.query('user_id == 1004')"
   ]
  },
  {
   "cell_type": "markdown",
   "metadata": {},
   "source": [
    "Добавим в таблицу данные по стоимости услуг по каждому тарифу."
   ]
  },
  {
   "cell_type": "code",
   "execution_count": 34,
   "metadata": {
    "scrolled": true
   },
   "outputs": [
    {
     "data": {
      "text/html": [
       "<div>\n",
       "<style scoped>\n",
       "    .dataframe tbody tr th:only-of-type {\n",
       "        vertical-align: middle;\n",
       "    }\n",
       "\n",
       "    .dataframe tbody tr th {\n",
       "        vertical-align: top;\n",
       "    }\n",
       "\n",
       "    .dataframe thead th {\n",
       "        text-align: right;\n",
       "    }\n",
       "</style>\n",
       "<table border=\"1\" class=\"dataframe\">\n",
       "  <thead>\n",
       "    <tr style=\"text-align: right;\">\n",
       "      <th></th>\n",
       "      <th>user_id</th>\n",
       "      <th>month</th>\n",
       "      <th>month_name</th>\n",
       "      <th>duration_up</th>\n",
       "      <th>mb_used_up</th>\n",
       "      <th>messages_amount</th>\n",
       "      <th>city</th>\n",
       "      <th>tariff_name</th>\n",
       "      <th>messages_included</th>\n",
       "      <th>mb_per_month_included</th>\n",
       "      <th>minutes_included</th>\n",
       "      <th>rub_monthly_fee</th>\n",
       "      <th>rub_per_gb</th>\n",
       "      <th>rub_per_message</th>\n",
       "      <th>rub_per_minute</th>\n",
       "    </tr>\n",
       "  </thead>\n",
       "  <tbody>\n",
       "    <tr>\n",
       "      <th>3204</th>\n",
       "      <td>1498</td>\n",
       "      <td>10</td>\n",
       "      <td>October</td>\n",
       "      <td>247.0</td>\n",
       "      <td>20604.0</td>\n",
       "      <td>42.0</td>\n",
       "      <td>Владикавказ</td>\n",
       "      <td>smart</td>\n",
       "      <td>50</td>\n",
       "      <td>15360</td>\n",
       "      <td>500</td>\n",
       "      <td>550</td>\n",
       "      <td>200</td>\n",
       "      <td>3</td>\n",
       "      <td>3</td>\n",
       "    </tr>\n",
       "    <tr>\n",
       "      <th>3205</th>\n",
       "      <td>1499</td>\n",
       "      <td>9</td>\n",
       "      <td>September</td>\n",
       "      <td>70.0</td>\n",
       "      <td>1848.0</td>\n",
       "      <td>11.0</td>\n",
       "      <td>Пермь</td>\n",
       "      <td>smart</td>\n",
       "      <td>50</td>\n",
       "      <td>15360</td>\n",
       "      <td>500</td>\n",
       "      <td>550</td>\n",
       "      <td>200</td>\n",
       "      <td>3</td>\n",
       "      <td>3</td>\n",
       "    </tr>\n",
       "    <tr>\n",
       "      <th>3206</th>\n",
       "      <td>1499</td>\n",
       "      <td>10</td>\n",
       "      <td>October</td>\n",
       "      <td>449.0</td>\n",
       "      <td>17809.0</td>\n",
       "      <td>48.0</td>\n",
       "      <td>Пермь</td>\n",
       "      <td>smart</td>\n",
       "      <td>50</td>\n",
       "      <td>15360</td>\n",
       "      <td>500</td>\n",
       "      <td>550</td>\n",
       "      <td>200</td>\n",
       "      <td>3</td>\n",
       "      <td>3</td>\n",
       "    </tr>\n",
       "    <tr>\n",
       "      <th>3207</th>\n",
       "      <td>1499</td>\n",
       "      <td>11</td>\n",
       "      <td>November</td>\n",
       "      <td>612.0</td>\n",
       "      <td>17984.0</td>\n",
       "      <td>59.0</td>\n",
       "      <td>Пермь</td>\n",
       "      <td>smart</td>\n",
       "      <td>50</td>\n",
       "      <td>15360</td>\n",
       "      <td>500</td>\n",
       "      <td>550</td>\n",
       "      <td>200</td>\n",
       "      <td>3</td>\n",
       "      <td>3</td>\n",
       "    </tr>\n",
       "    <tr>\n",
       "      <th>3208</th>\n",
       "      <td>1499</td>\n",
       "      <td>12</td>\n",
       "      <td>December</td>\n",
       "      <td>492.0</td>\n",
       "      <td>13077.0</td>\n",
       "      <td>66.0</td>\n",
       "      <td>Пермь</td>\n",
       "      <td>smart</td>\n",
       "      <td>50</td>\n",
       "      <td>15360</td>\n",
       "      <td>500</td>\n",
       "      <td>550</td>\n",
       "      <td>200</td>\n",
       "      <td>3</td>\n",
       "      <td>3</td>\n",
       "    </tr>\n",
       "    <tr>\n",
       "      <th>3209</th>\n",
       "      <td>1489</td>\n",
       "      <td>8</td>\n",
       "      <td>August</td>\n",
       "      <td>NaN</td>\n",
       "      <td>11066.0</td>\n",
       "      <td>17.0</td>\n",
       "      <td>Санкт-Петербург</td>\n",
       "      <td>smart</td>\n",
       "      <td>50</td>\n",
       "      <td>15360</td>\n",
       "      <td>500</td>\n",
       "      <td>550</td>\n",
       "      <td>200</td>\n",
       "      <td>3</td>\n",
       "      <td>3</td>\n",
       "    </tr>\n",
       "    <tr>\n",
       "      <th>3210</th>\n",
       "      <td>1489</td>\n",
       "      <td>9</td>\n",
       "      <td>September</td>\n",
       "      <td>NaN</td>\n",
       "      <td>17232.0</td>\n",
       "      <td>32.0</td>\n",
       "      <td>Санкт-Петербург</td>\n",
       "      <td>smart</td>\n",
       "      <td>50</td>\n",
       "      <td>15360</td>\n",
       "      <td>500</td>\n",
       "      <td>550</td>\n",
       "      <td>200</td>\n",
       "      <td>3</td>\n",
       "      <td>3</td>\n",
       "    </tr>\n",
       "    <tr>\n",
       "      <th>3211</th>\n",
       "      <td>1489</td>\n",
       "      <td>10</td>\n",
       "      <td>October</td>\n",
       "      <td>NaN</td>\n",
       "      <td>19588.0</td>\n",
       "      <td>21.0</td>\n",
       "      <td>Санкт-Петербург</td>\n",
       "      <td>smart</td>\n",
       "      <td>50</td>\n",
       "      <td>15360</td>\n",
       "      <td>500</td>\n",
       "      <td>550</td>\n",
       "      <td>200</td>\n",
       "      <td>3</td>\n",
       "      <td>3</td>\n",
       "    </tr>\n",
       "    <tr>\n",
       "      <th>3212</th>\n",
       "      <td>1489</td>\n",
       "      <td>11</td>\n",
       "      <td>November</td>\n",
       "      <td>NaN</td>\n",
       "      <td>17516.0</td>\n",
       "      <td>20.0</td>\n",
       "      <td>Санкт-Петербург</td>\n",
       "      <td>smart</td>\n",
       "      <td>50</td>\n",
       "      <td>15360</td>\n",
       "      <td>500</td>\n",
       "      <td>550</td>\n",
       "      <td>200</td>\n",
       "      <td>3</td>\n",
       "      <td>3</td>\n",
       "    </tr>\n",
       "    <tr>\n",
       "      <th>3213</th>\n",
       "      <td>1489</td>\n",
       "      <td>12</td>\n",
       "      <td>December</td>\n",
       "      <td>NaN</td>\n",
       "      <td>17341.0</td>\n",
       "      <td>35.0</td>\n",
       "      <td>Санкт-Петербург</td>\n",
       "      <td>smart</td>\n",
       "      <td>50</td>\n",
       "      <td>15360</td>\n",
       "      <td>500</td>\n",
       "      <td>550</td>\n",
       "      <td>200</td>\n",
       "      <td>3</td>\n",
       "      <td>3</td>\n",
       "    </tr>\n",
       "  </tbody>\n",
       "</table>\n",
       "</div>"
      ],
      "text/plain": [
       "      user_id  month month_name  duration_up  mb_used_up  messages_amount  \\\n",
       "3204     1498     10    October        247.0     20604.0             42.0   \n",
       "3205     1499      9  September         70.0      1848.0             11.0   \n",
       "3206     1499     10    October        449.0     17809.0             48.0   \n",
       "3207     1499     11   November        612.0     17984.0             59.0   \n",
       "3208     1499     12   December        492.0     13077.0             66.0   \n",
       "3209     1489      8     August          NaN     11066.0             17.0   \n",
       "3210     1489      9  September          NaN     17232.0             32.0   \n",
       "3211     1489     10    October          NaN     19588.0             21.0   \n",
       "3212     1489     11   November          NaN     17516.0             20.0   \n",
       "3213     1489     12   December          NaN     17341.0             35.0   \n",
       "\n",
       "                 city tariff_name  messages_included  mb_per_month_included  \\\n",
       "3204      Владикавказ       smart                 50                  15360   \n",
       "3205            Пермь       smart                 50                  15360   \n",
       "3206            Пермь       smart                 50                  15360   \n",
       "3207            Пермь       smart                 50                  15360   \n",
       "3208            Пермь       smart                 50                  15360   \n",
       "3209  Санкт-Петербург       smart                 50                  15360   \n",
       "3210  Санкт-Петербург       smart                 50                  15360   \n",
       "3211  Санкт-Петербург       smart                 50                  15360   \n",
       "3212  Санкт-Петербург       smart                 50                  15360   \n",
       "3213  Санкт-Петербург       smart                 50                  15360   \n",
       "\n",
       "      minutes_included  rub_monthly_fee  rub_per_gb  rub_per_message  \\\n",
       "3204               500              550         200                3   \n",
       "3205               500              550         200                3   \n",
       "3206               500              550         200                3   \n",
       "3207               500              550         200                3   \n",
       "3208               500              550         200                3   \n",
       "3209               500              550         200                3   \n",
       "3210               500              550         200                3   \n",
       "3211               500              550         200                3   \n",
       "3212               500              550         200                3   \n",
       "3213               500              550         200                3   \n",
       "\n",
       "      rub_per_minute  \n",
       "3204               3  \n",
       "3205               3  \n",
       "3206               3  \n",
       "3207               3  \n",
       "3208               3  \n",
       "3209               3  \n",
       "3210               3  \n",
       "3211               3  \n",
       "3212               3  \n",
       "3213               3  "
      ]
     },
     "execution_count": 34,
     "metadata": {},
     "output_type": "execute_result"
    }
   ],
   "source": [
    "# с помощью метода .merge() добавим данные из таблицы tariffs\n",
    "# посмотрим, как прошло объединение\n",
    "data = data_tariff.merge(tariffs, on = 'tariff_name')\n",
    "data.tail(10)"
   ]
  },
  {
   "cell_type": "markdown",
   "metadata": {},
   "source": [
    "Вся исходная информация собрана, на следующем этапе проведем необходимые вычисления, чтобы определить доходность по тарифам."
   ]
  },
  {
   "cell_type": "markdown",
   "metadata": {},
   "source": [
    "### Расчет выручки с каждого пользователя"
   ]
  },
  {
   "cell_type": "markdown",
   "metadata": {},
   "source": [
    "Посчитаем, какую сумму приносит каждый абонент. Для этого вычислим стоимость услуг, которые пользователи оплачивают сверх тарифа. Первым шагом заменим значения NaN на нулевые — пустые значения появились в результате объединения таблиц (в каждой таблице были недостающие значения в user_id, которые впоследствии стали пустыми значениями в сводной таблице), поэтому замена на 0 не поменяет сути данных. \n",
    "\n",
    "Также высчитаем количество гигабайт, которые пользователи используют сверх тарифа — тарифные планы включают в себя определенное количество Мб, учет трафика идет также по Мб, а вот оплачивается дополнительный трафик по Гб. Округлим количество полученных Гб вверх до целых, согласно базовой логике работы тарифов. Один Гб содержит 1024 Мб."
   ]
  },
  {
   "cell_type": "code",
   "execution_count": 35,
   "metadata": {
    "scrolled": true
   },
   "outputs": [
    {
     "data": {
      "text/html": [
       "<div>\n",
       "<style scoped>\n",
       "    .dataframe tbody tr th:only-of-type {\n",
       "        vertical-align: middle;\n",
       "    }\n",
       "\n",
       "    .dataframe tbody tr th {\n",
       "        vertical-align: top;\n",
       "    }\n",
       "\n",
       "    .dataframe thead th {\n",
       "        text-align: right;\n",
       "    }\n",
       "</style>\n",
       "<table border=\"1\" class=\"dataframe\">\n",
       "  <thead>\n",
       "    <tr style=\"text-align: right;\">\n",
       "      <th></th>\n",
       "      <th>user_id</th>\n",
       "      <th>month_name</th>\n",
       "      <th>tariff_name</th>\n",
       "      <th>mb_used_up</th>\n",
       "      <th>mb_per_month_included</th>\n",
       "      <th>gb_extra_used</th>\n",
       "    </tr>\n",
       "  </thead>\n",
       "  <tbody>\n",
       "    <tr>\n",
       "      <th>3209</th>\n",
       "      <td>1489</td>\n",
       "      <td>August</td>\n",
       "      <td>smart</td>\n",
       "      <td>11066.0</td>\n",
       "      <td>15360</td>\n",
       "      <td>-4</td>\n",
       "    </tr>\n",
       "    <tr>\n",
       "      <th>3210</th>\n",
       "      <td>1489</td>\n",
       "      <td>September</td>\n",
       "      <td>smart</td>\n",
       "      <td>17232.0</td>\n",
       "      <td>15360</td>\n",
       "      <td>2</td>\n",
       "    </tr>\n",
       "    <tr>\n",
       "      <th>3211</th>\n",
       "      <td>1489</td>\n",
       "      <td>October</td>\n",
       "      <td>smart</td>\n",
       "      <td>19588.0</td>\n",
       "      <td>15360</td>\n",
       "      <td>5</td>\n",
       "    </tr>\n",
       "    <tr>\n",
       "      <th>3212</th>\n",
       "      <td>1489</td>\n",
       "      <td>November</td>\n",
       "      <td>smart</td>\n",
       "      <td>17516.0</td>\n",
       "      <td>15360</td>\n",
       "      <td>3</td>\n",
       "    </tr>\n",
       "    <tr>\n",
       "      <th>3213</th>\n",
       "      <td>1489</td>\n",
       "      <td>December</td>\n",
       "      <td>smart</td>\n",
       "      <td>17341.0</td>\n",
       "      <td>15360</td>\n",
       "      <td>2</td>\n",
       "    </tr>\n",
       "  </tbody>\n",
       "</table>\n",
       "</div>"
      ],
      "text/plain": [
       "      user_id month_name tariff_name  mb_used_up  mb_per_month_included  \\\n",
       "3209     1489     August       smart     11066.0                  15360   \n",
       "3210     1489  September       smart     17232.0                  15360   \n",
       "3211     1489    October       smart     19588.0                  15360   \n",
       "3212     1489   November       smart     17516.0                  15360   \n",
       "3213     1489   December       smart     17341.0                  15360   \n",
       "\n",
       "      gb_extra_used  \n",
       "3209             -4  \n",
       "3210              2  \n",
       "3211              5  \n",
       "3212              3  \n",
       "3213              2  "
      ]
     },
     "execution_count": 35,
     "metadata": {},
     "output_type": "execute_result"
    }
   ],
   "source": [
    "# заполним NaN нулями с помощью метода .fillna()\n",
    "data = data.fillna(0)\n",
    "\n",
    "# найдем разницу между использованным трафиком и объемом Мб, включенных в тариф\n",
    "# переведем в Гб и сделаем целочисленным значением\n",
    "data['gb_extra_used'] = np.ceil((data['mb_used_up'] - data['mb_per_month_included']) / 1024).astype(int)\n",
    "\n",
    "# посмотрим, что получилось\n",
    "data[['user_id', 'month_name', 'tariff_name', 'mb_used_up', 'mb_per_month_included', 'gb_extra_used']].tail()"
   ]
  },
  {
   "cell_type": "markdown",
   "metadata": {},
   "source": [
    "Добавим столбцы с расчетом дохода по видам услуг — минуты, интернет, sms — использованных сверх тарифа. Как видим по таблице выше, если абонент не вышел за объем услуг, предусмотренных тарифом, то получается отрицательно значение. Для дальнейшего корректного анализа заменим отрицательные значения в новых столбцах на нулевые — если абонент уложился в тариф, то дополнительного дохода не было."
   ]
  },
  {
   "cell_type": "code",
   "execution_count": 36,
   "metadata": {},
   "outputs": [],
   "source": [
    "# добавим столбцы по видам услуг\n",
    "data['revenue_calls'] = (data['duration_up'] - data['minutes_included']) * data['rub_per_minute']\n",
    "data['revenue_internet'] = data['gb_extra_used'] * data['rub_per_gb']\n",
    "data['revenue_sms'] = (data['messages_amount'] - data['messages_included']) * data['rub_per_message']"
   ]
  },
  {
   "cell_type": "code",
   "execution_count": 37,
   "metadata": {},
   "outputs": [],
   "source": [
    "# напишем функцию, которая заменит отрицательные значения на нулевые\n",
    "def excluding_subzero(col_name):\n",
    "    data[col_name] = data.apply(lambda row: 0 if row[col_name] < 0 else row[col_name], axis=1)"
   ]
  },
  {
   "cell_type": "code",
   "execution_count": 38,
   "metadata": {},
   "outputs": [
    {
     "data": {
      "text/html": [
       "<div>\n",
       "<style scoped>\n",
       "    .dataframe tbody tr th:only-of-type {\n",
       "        vertical-align: middle;\n",
       "    }\n",
       "\n",
       "    .dataframe tbody tr th {\n",
       "        vertical-align: top;\n",
       "    }\n",
       "\n",
       "    .dataframe thead th {\n",
       "        text-align: right;\n",
       "    }\n",
       "</style>\n",
       "<table border=\"1\" class=\"dataframe\">\n",
       "  <thead>\n",
       "    <tr style=\"text-align: right;\">\n",
       "      <th></th>\n",
       "      <th>user_id</th>\n",
       "      <th>month_name</th>\n",
       "      <th>tariff_name</th>\n",
       "      <th>revenue_calls</th>\n",
       "      <th>revenue_internet</th>\n",
       "      <th>revenue_sms</th>\n",
       "    </tr>\n",
       "  </thead>\n",
       "  <tbody>\n",
       "    <tr>\n",
       "      <th>3209</th>\n",
       "      <td>1489</td>\n",
       "      <td>August</td>\n",
       "      <td>smart</td>\n",
       "      <td>0.0</td>\n",
       "      <td>0</td>\n",
       "      <td>0.0</td>\n",
       "    </tr>\n",
       "    <tr>\n",
       "      <th>3210</th>\n",
       "      <td>1489</td>\n",
       "      <td>September</td>\n",
       "      <td>smart</td>\n",
       "      <td>0.0</td>\n",
       "      <td>400</td>\n",
       "      <td>0.0</td>\n",
       "    </tr>\n",
       "    <tr>\n",
       "      <th>3211</th>\n",
       "      <td>1489</td>\n",
       "      <td>October</td>\n",
       "      <td>smart</td>\n",
       "      <td>0.0</td>\n",
       "      <td>1000</td>\n",
       "      <td>0.0</td>\n",
       "    </tr>\n",
       "    <tr>\n",
       "      <th>3212</th>\n",
       "      <td>1489</td>\n",
       "      <td>November</td>\n",
       "      <td>smart</td>\n",
       "      <td>0.0</td>\n",
       "      <td>600</td>\n",
       "      <td>0.0</td>\n",
       "    </tr>\n",
       "    <tr>\n",
       "      <th>3213</th>\n",
       "      <td>1489</td>\n",
       "      <td>December</td>\n",
       "      <td>smart</td>\n",
       "      <td>0.0</td>\n",
       "      <td>400</td>\n",
       "      <td>0.0</td>\n",
       "    </tr>\n",
       "  </tbody>\n",
       "</table>\n",
       "</div>"
      ],
      "text/plain": [
       "      user_id month_name tariff_name  revenue_calls  revenue_internet  \\\n",
       "3209     1489     August       smart            0.0                 0   \n",
       "3210     1489  September       smart            0.0               400   \n",
       "3211     1489    October       smart            0.0              1000   \n",
       "3212     1489   November       smart            0.0               600   \n",
       "3213     1489   December       smart            0.0               400   \n",
       "\n",
       "      revenue_sms  \n",
       "3209          0.0  \n",
       "3210          0.0  \n",
       "3211          0.0  \n",
       "3212          0.0  \n",
       "3213          0.0  "
      ]
     },
     "execution_count": 38,
     "metadata": {},
     "output_type": "execute_result"
    }
   ],
   "source": [
    "# заменим отрицательные значения на нулевые\n",
    "excluding_subzero('revenue_calls')\n",
    "excluding_subzero('revenue_internet')\n",
    "excluding_subzero('revenue_sms')\n",
    "\n",
    "# проверим результат работы функции\n",
    "data[['user_id', 'month_name', 'tariff_name', 'revenue_calls', 'revenue_internet', 'revenue_sms']].tail()"
   ]
  },
  {
   "cell_type": "markdown",
   "metadata": {},
   "source": [
    "Отрицательные значения успешно заменены. Добавим еще один столбец со сводным доходом по каждому пользователю по месяцам: сложим доходы по видам услуг с оплатой по тарифу."
   ]
  },
  {
   "cell_type": "code",
   "execution_count": 39,
   "metadata": {
    "scrolled": true
   },
   "outputs": [
    {
     "data": {
      "text/html": [
       "<div>\n",
       "<style scoped>\n",
       "    .dataframe tbody tr th:only-of-type {\n",
       "        vertical-align: middle;\n",
       "    }\n",
       "\n",
       "    .dataframe tbody tr th {\n",
       "        vertical-align: top;\n",
       "    }\n",
       "\n",
       "    .dataframe thead th {\n",
       "        text-align: right;\n",
       "    }\n",
       "</style>\n",
       "<table border=\"1\" class=\"dataframe\">\n",
       "  <thead>\n",
       "    <tr style=\"text-align: right;\">\n",
       "      <th></th>\n",
       "      <th>user_id</th>\n",
       "      <th>month_name</th>\n",
       "      <th>tariff_name</th>\n",
       "      <th>rub_monthly_fee</th>\n",
       "      <th>revenue_calls</th>\n",
       "      <th>revenue_internet</th>\n",
       "      <th>revenue_sms</th>\n",
       "      <th>revenue</th>\n",
       "    </tr>\n",
       "  </thead>\n",
       "  <tbody>\n",
       "    <tr>\n",
       "      <th>994</th>\n",
       "      <td>1005</td>\n",
       "      <td>January</td>\n",
       "      <td>smart</td>\n",
       "      <td>550</td>\n",
       "      <td>0.0</td>\n",
       "      <td>0</td>\n",
       "      <td>0.0</td>\n",
       "      <td>550.0</td>\n",
       "    </tr>\n",
       "    <tr>\n",
       "      <th>995</th>\n",
       "      <td>1005</td>\n",
       "      <td>February</td>\n",
       "      <td>smart</td>\n",
       "      <td>550</td>\n",
       "      <td>0.0</td>\n",
       "      <td>0</td>\n",
       "      <td>0.0</td>\n",
       "      <td>550.0</td>\n",
       "    </tr>\n",
       "    <tr>\n",
       "      <th>996</th>\n",
       "      <td>1005</td>\n",
       "      <td>March</td>\n",
       "      <td>smart</td>\n",
       "      <td>550</td>\n",
       "      <td>318.0</td>\n",
       "      <td>0</td>\n",
       "      <td>18.0</td>\n",
       "      <td>886.0</td>\n",
       "    </tr>\n",
       "    <tr>\n",
       "      <th>997</th>\n",
       "      <td>1005</td>\n",
       "      <td>April</td>\n",
       "      <td>smart</td>\n",
       "      <td>550</td>\n",
       "      <td>636.0</td>\n",
       "      <td>0</td>\n",
       "      <td>0.0</td>\n",
       "      <td>1186.0</td>\n",
       "    </tr>\n",
       "    <tr>\n",
       "      <th>998</th>\n",
       "      <td>1005</td>\n",
       "      <td>May</td>\n",
       "      <td>smart</td>\n",
       "      <td>550</td>\n",
       "      <td>285.0</td>\n",
       "      <td>0</td>\n",
       "      <td>0.0</td>\n",
       "      <td>835.0</td>\n",
       "    </tr>\n",
       "    <tr>\n",
       "      <th>999</th>\n",
       "      <td>1005</td>\n",
       "      <td>June</td>\n",
       "      <td>smart</td>\n",
       "      <td>550</td>\n",
       "      <td>336.0</td>\n",
       "      <td>0</td>\n",
       "      <td>0.0</td>\n",
       "      <td>886.0</td>\n",
       "    </tr>\n",
       "    <tr>\n",
       "      <th>1000</th>\n",
       "      <td>1005</td>\n",
       "      <td>July</td>\n",
       "      <td>smart</td>\n",
       "      <td>550</td>\n",
       "      <td>207.0</td>\n",
       "      <td>0</td>\n",
       "      <td>18.0</td>\n",
       "      <td>775.0</td>\n",
       "    </tr>\n",
       "    <tr>\n",
       "      <th>1001</th>\n",
       "      <td>1005</td>\n",
       "      <td>August</td>\n",
       "      <td>smart</td>\n",
       "      <td>550</td>\n",
       "      <td>357.0</td>\n",
       "      <td>0</td>\n",
       "      <td>42.0</td>\n",
       "      <td>949.0</td>\n",
       "    </tr>\n",
       "    <tr>\n",
       "      <th>1002</th>\n",
       "      <td>1005</td>\n",
       "      <td>September</td>\n",
       "      <td>smart</td>\n",
       "      <td>550</td>\n",
       "      <td>0.0</td>\n",
       "      <td>0</td>\n",
       "      <td>6.0</td>\n",
       "      <td>556.0</td>\n",
       "    </tr>\n",
       "    <tr>\n",
       "      <th>1003</th>\n",
       "      <td>1005</td>\n",
       "      <td>October</td>\n",
       "      <td>smart</td>\n",
       "      <td>550</td>\n",
       "      <td>669.0</td>\n",
       "      <td>0</td>\n",
       "      <td>0.0</td>\n",
       "      <td>1219.0</td>\n",
       "    </tr>\n",
       "    <tr>\n",
       "      <th>1004</th>\n",
       "      <td>1005</td>\n",
       "      <td>November</td>\n",
       "      <td>smart</td>\n",
       "      <td>550</td>\n",
       "      <td>141.0</td>\n",
       "      <td>0</td>\n",
       "      <td>3.0</td>\n",
       "      <td>694.0</td>\n",
       "    </tr>\n",
       "    <tr>\n",
       "      <th>1005</th>\n",
       "      <td>1005</td>\n",
       "      <td>December</td>\n",
       "      <td>smart</td>\n",
       "      <td>550</td>\n",
       "      <td>276.0</td>\n",
       "      <td>0</td>\n",
       "      <td>12.0</td>\n",
       "      <td>838.0</td>\n",
       "    </tr>\n",
       "  </tbody>\n",
       "</table>\n",
       "</div>"
      ],
      "text/plain": [
       "      user_id month_name tariff_name  rub_monthly_fee  revenue_calls  \\\n",
       "994      1005    January       smart              550            0.0   \n",
       "995      1005   February       smart              550            0.0   \n",
       "996      1005      March       smart              550          318.0   \n",
       "997      1005      April       smart              550          636.0   \n",
       "998      1005        May       smart              550          285.0   \n",
       "999      1005       June       smart              550          336.0   \n",
       "1000     1005       July       smart              550          207.0   \n",
       "1001     1005     August       smart              550          357.0   \n",
       "1002     1005  September       smart              550            0.0   \n",
       "1003     1005    October       smart              550          669.0   \n",
       "1004     1005   November       smart              550          141.0   \n",
       "1005     1005   December       smart              550          276.0   \n",
       "\n",
       "      revenue_internet  revenue_sms  revenue  \n",
       "994                  0          0.0    550.0  \n",
       "995                  0          0.0    550.0  \n",
       "996                  0         18.0    886.0  \n",
       "997                  0          0.0   1186.0  \n",
       "998                  0          0.0    835.0  \n",
       "999                  0          0.0    886.0  \n",
       "1000                 0         18.0    775.0  \n",
       "1001                 0         42.0    949.0  \n",
       "1002                 0          6.0    556.0  \n",
       "1003                 0          0.0   1219.0  \n",
       "1004                 0          3.0    694.0  \n",
       "1005                 0         12.0    838.0  "
      ]
     },
     "execution_count": 39,
     "metadata": {},
     "output_type": "execute_result"
    }
   ],
   "source": [
    "# сложим дополнительный доход по видам услуг и оплату по тарифу\n",
    "data['revenue'] = data['revenue_calls'] + data['revenue_internet'] \\\n",
    "                + data['revenue_sms'] + data['rub_monthly_fee']\n",
    "\n",
    "# посмотрим, что получилось\n",
    "data[['user_id', 'month_name', 'tariff_name', 'rub_monthly_fee',\\\n",
    "      'revenue_calls', 'revenue_internet', 'revenue_sms', 'revenue']].query('user_id == 1005')"
   ]
  },
  {
   "cell_type": "markdown",
   "metadata": {},
   "source": [
    "Мы получили удобную для анализа сводную таблицу данных по каждому абоненту по каждому месяцу. Перейдем к более детальному изучению тарифов."
   ]
  },
  {
   "cell_type": "markdown",
   "metadata": {},
   "source": [
    "### Вывод"
   ]
  },
  {
   "cell_type": "markdown",
   "metadata": {},
   "source": [
    "В итоговом файле остались записи по 498 абонентам, подтвердилась догадка, что нулевые значения по виду услуг не являются ошибками учета (каждый пользователь выбирает наиболее подходящие форматы общения, часть пользователей, вероятно, могут пользоваться только одним видом связи). Отрицательные значения, появившиеся в ходе преобразований, заменены на нулевые. Данные готовы к анализу."
   ]
  },
  {
   "cell_type": "markdown",
   "metadata": {},
   "source": [
    "## Статистический и исследовательский анализ данных"
   ]
  },
  {
   "cell_type": "markdown",
   "metadata": {},
   "source": [
    "В ходе анализа проверим гипотезу, что доходность тарифов Smart и Ultra одинаковая. Но для начала изучим характеристики положения данных."
   ]
  },
  {
   "cell_type": "markdown",
   "metadata": {},
   "source": [
    "### Общая информация о поведении абонентов разных тарифов"
   ]
  },
  {
   "cell_type": "markdown",
   "metadata": {},
   "source": [
    "Изучим общую информацию о пользователях тарифов Smart и Ultra."
   ]
  },
  {
   "cell_type": "code",
   "execution_count": 40,
   "metadata": {},
   "outputs": [
    {
     "name": "stdout",
     "output_type": "stream",
     "text": [
      "Количество уникальных пользователей тарифа Smart: 350\n"
     ]
    },
    {
     "data": {
      "text/html": [
       "<div>\n",
       "<style scoped>\n",
       "    .dataframe tbody tr th:only-of-type {\n",
       "        vertical-align: middle;\n",
       "    }\n",
       "\n",
       "    .dataframe tbody tr th {\n",
       "        vertical-align: top;\n",
       "    }\n",
       "\n",
       "    .dataframe thead th {\n",
       "        text-align: right;\n",
       "    }\n",
       "</style>\n",
       "<table border=\"1\" class=\"dataframe\">\n",
       "  <thead>\n",
       "    <tr style=\"text-align: right;\">\n",
       "      <th></th>\n",
       "      <th>revenue</th>\n",
       "      <th>minutes_included</th>\n",
       "      <th>duration_up</th>\n",
       "      <th>mb_per_month_included</th>\n",
       "      <th>mb_used_up</th>\n",
       "      <th>messages_included</th>\n",
       "      <th>messages_amount</th>\n",
       "    </tr>\n",
       "  </thead>\n",
       "  <tbody>\n",
       "    <tr>\n",
       "      <th>count</th>\n",
       "      <td>2229</td>\n",
       "      <td>2229</td>\n",
       "      <td>2229</td>\n",
       "      <td>2229</td>\n",
       "      <td>2229</td>\n",
       "      <td>2229</td>\n",
       "      <td>2229</td>\n",
       "    </tr>\n",
       "    <tr>\n",
       "      <th>mean</th>\n",
       "      <td>1294</td>\n",
       "      <td>500</td>\n",
       "      <td>417</td>\n",
       "      <td>15360</td>\n",
       "      <td>16229</td>\n",
       "      <td>50</td>\n",
       "      <td>33</td>\n",
       "    </tr>\n",
       "    <tr>\n",
       "      <th>std</th>\n",
       "      <td>820</td>\n",
       "      <td>0</td>\n",
       "      <td>190</td>\n",
       "      <td>0</td>\n",
       "      <td>5877</td>\n",
       "      <td>0</td>\n",
       "      <td>28</td>\n",
       "    </tr>\n",
       "    <tr>\n",
       "      <th>min</th>\n",
       "      <td>550</td>\n",
       "      <td>500</td>\n",
       "      <td>0</td>\n",
       "      <td>15360</td>\n",
       "      <td>0</td>\n",
       "      <td>50</td>\n",
       "      <td>0</td>\n",
       "    </tr>\n",
       "    <tr>\n",
       "      <th>25%</th>\n",
       "      <td>550</td>\n",
       "      <td>500</td>\n",
       "      <td>282</td>\n",
       "      <td>15360</td>\n",
       "      <td>12658</td>\n",
       "      <td>50</td>\n",
       "      <td>10</td>\n",
       "    </tr>\n",
       "    <tr>\n",
       "      <th>50%</th>\n",
       "      <td>1038</td>\n",
       "      <td>500</td>\n",
       "      <td>422</td>\n",
       "      <td>15360</td>\n",
       "      <td>16531</td>\n",
       "      <td>50</td>\n",
       "      <td>28</td>\n",
       "    </tr>\n",
       "    <tr>\n",
       "      <th>75%</th>\n",
       "      <td>1750</td>\n",
       "      <td>500</td>\n",
       "      <td>545</td>\n",
       "      <td>15360</td>\n",
       "      <td>20068</td>\n",
       "      <td>50</td>\n",
       "      <td>51</td>\n",
       "    </tr>\n",
       "    <tr>\n",
       "      <th>max</th>\n",
       "      <td>6770</td>\n",
       "      <td>500</td>\n",
       "      <td>1435</td>\n",
       "      <td>15360</td>\n",
       "      <td>38610</td>\n",
       "      <td>50</td>\n",
       "      <td>143</td>\n",
       "    </tr>\n",
       "  </tbody>\n",
       "</table>\n",
       "</div>"
      ],
      "text/plain": [
       "       revenue  minutes_included  duration_up  mb_per_month_included  \\\n",
       "count     2229              2229         2229                   2229   \n",
       "mean      1294               500          417                  15360   \n",
       "std        820                 0          190                      0   \n",
       "min        550               500            0                  15360   \n",
       "25%        550               500          282                  15360   \n",
       "50%       1038               500          422                  15360   \n",
       "75%       1750               500          545                  15360   \n",
       "max       6770               500         1435                  15360   \n",
       "\n",
       "       mb_used_up  messages_included  messages_amount  \n",
       "count        2229               2229             2229  \n",
       "mean        16229                 50               33  \n",
       "std          5877                  0               28  \n",
       "min             0                 50                0  \n",
       "25%         12658                 50               10  \n",
       "50%         16531                 50               28  \n",
       "75%         20068                 50               51  \n",
       "max         38610                 50              143  "
      ]
     },
     "execution_count": 40,
     "metadata": {},
     "output_type": "execute_result"
    }
   ],
   "source": [
    "smart_check = data.query('tariff_name == \"smart\"')\n",
    "ultra_check = data.query('tariff_name == \"ultra\"')\n",
    "\n",
    "print('Количество уникальных пользователей тарифа Smart:', len(smart_check['user_id'].unique()))\n",
    "smart_check[['revenue', 'minutes_included', 'duration_up', 'mb_per_month_included',\\\n",
    "       'mb_used_up', 'messages_included', 'messages_amount']].describe().astype(int)"
   ]
  },
  {
   "cell_type": "code",
   "execution_count": 41,
   "metadata": {},
   "outputs": [
    {
     "name": "stdout",
     "output_type": "stream",
     "text": [
      "Количество уникальных пользователей тарифа Ultra: 148\n"
     ]
    },
    {
     "data": {
      "text/html": [
       "<div>\n",
       "<style scoped>\n",
       "    .dataframe tbody tr th:only-of-type {\n",
       "        vertical-align: middle;\n",
       "    }\n",
       "\n",
       "    .dataframe tbody tr th {\n",
       "        vertical-align: top;\n",
       "    }\n",
       "\n",
       "    .dataframe thead th {\n",
       "        text-align: right;\n",
       "    }\n",
       "</style>\n",
       "<table border=\"1\" class=\"dataframe\">\n",
       "  <thead>\n",
       "    <tr style=\"text-align: right;\">\n",
       "      <th></th>\n",
       "      <th>revenue</th>\n",
       "      <th>minutes_included</th>\n",
       "      <th>duration_up</th>\n",
       "      <th>mb_per_month_included</th>\n",
       "      <th>mb_used_up</th>\n",
       "      <th>messages_included</th>\n",
       "      <th>messages_amount</th>\n",
       "    </tr>\n",
       "  </thead>\n",
       "  <tbody>\n",
       "    <tr>\n",
       "      <th>count</th>\n",
       "      <td>985</td>\n",
       "      <td>985</td>\n",
       "      <td>985</td>\n",
       "      <td>985</td>\n",
       "      <td>985</td>\n",
       "      <td>985</td>\n",
       "      <td>985</td>\n",
       "    </tr>\n",
       "    <tr>\n",
       "      <th>mean</th>\n",
       "      <td>2071</td>\n",
       "      <td>3000</td>\n",
       "      <td>526</td>\n",
       "      <td>30720</td>\n",
       "      <td>19486</td>\n",
       "      <td>1000</td>\n",
       "      <td>49</td>\n",
       "    </tr>\n",
       "    <tr>\n",
       "      <th>std</th>\n",
       "      <td>378</td>\n",
       "      <td>0</td>\n",
       "      <td>317</td>\n",
       "      <td>0</td>\n",
       "      <td>10096</td>\n",
       "      <td>0</td>\n",
       "      <td>47</td>\n",
       "    </tr>\n",
       "    <tr>\n",
       "      <th>min</th>\n",
       "      <td>1950</td>\n",
       "      <td>3000</td>\n",
       "      <td>0</td>\n",
       "      <td>30720</td>\n",
       "      <td>0</td>\n",
       "      <td>1000</td>\n",
       "      <td>0</td>\n",
       "    </tr>\n",
       "    <tr>\n",
       "      <th>25%</th>\n",
       "      <td>1950</td>\n",
       "      <td>3000</td>\n",
       "      <td>284</td>\n",
       "      <td>30720</td>\n",
       "      <td>11785</td>\n",
       "      <td>1000</td>\n",
       "      <td>6</td>\n",
       "    </tr>\n",
       "    <tr>\n",
       "      <th>50%</th>\n",
       "      <td>1950</td>\n",
       "      <td>3000</td>\n",
       "      <td>518</td>\n",
       "      <td>30720</td>\n",
       "      <td>19324</td>\n",
       "      <td>1000</td>\n",
       "      <td>38</td>\n",
       "    </tr>\n",
       "    <tr>\n",
       "      <th>75%</th>\n",
       "      <td>1950</td>\n",
       "      <td>3000</td>\n",
       "      <td>752</td>\n",
       "      <td>30720</td>\n",
       "      <td>26863</td>\n",
       "      <td>1000</td>\n",
       "      <td>79</td>\n",
       "    </tr>\n",
       "    <tr>\n",
       "      <th>max</th>\n",
       "      <td>4800</td>\n",
       "      <td>3000</td>\n",
       "      <td>1673</td>\n",
       "      <td>30720</td>\n",
       "      <td>49789</td>\n",
       "      <td>1000</td>\n",
       "      <td>224</td>\n",
       "    </tr>\n",
       "  </tbody>\n",
       "</table>\n",
       "</div>"
      ],
      "text/plain": [
       "       revenue  minutes_included  duration_up  mb_per_month_included  \\\n",
       "count      985               985          985                    985   \n",
       "mean      2071              3000          526                  30720   \n",
       "std        378                 0          317                      0   \n",
       "min       1950              3000            0                  30720   \n",
       "25%       1950              3000          284                  30720   \n",
       "50%       1950              3000          518                  30720   \n",
       "75%       1950              3000          752                  30720   \n",
       "max       4800              3000         1673                  30720   \n",
       "\n",
       "       mb_used_up  messages_included  messages_amount  \n",
       "count         985                985              985  \n",
       "mean        19486               1000               49  \n",
       "std         10096                  0               47  \n",
       "min             0               1000                0  \n",
       "25%         11785               1000                6  \n",
       "50%         19324               1000               38  \n",
       "75%         26863               1000               79  \n",
       "max         49789               1000              224  "
      ]
     },
     "execution_count": 41,
     "metadata": {},
     "output_type": "execute_result"
    }
   ],
   "source": [
    "print('Количество уникальных пользователей тарифа Ultra:', len(ultra_check['user_id'].unique()))\n",
    "ultra_check[['revenue', 'minutes_included', 'duration_up', 'mb_per_month_included',\\\n",
    "       'mb_used_up', 'messages_included', 'messages_amount']].describe().astype(int)"
   ]
  },
  {
   "cell_type": "markdown",
   "metadata": {},
   "source": [
    "В выборку попали две трети абонентов тарифа Smart. Средний доход с абонента на этом тарифе — 1294 р. \n",
    "Абонентов тарифа Ultra в выборке всего 148 человек (чуть менее 30%) со средней доходностью 2071 р.\n",
    "Стандратные отклонения доходности выборок значительно отличаются: 820 у Smart против 378 у Ultra.\n",
    "\n",
    "В среднем абоненты тарифа Smart не успевают потратить минуты и SMS, а вот интернет им приходится докупать (среднее 16300 Мб против 15360 включенных в пакет). Абоненты тарифа Ultra в среднем с большим запасом укладываются в отведенные тарифом рамки (75% значений по каждому виду услуг меньше, чем установленные тарифом лимиты)."
   ]
  },
  {
   "cell_type": "markdown",
   "metadata": {},
   "source": [
    "### Распределение изучаемых характеристик"
   ]
  },
  {
   "cell_type": "markdown",
   "metadata": {},
   "source": [
    "Изучим сравнительное распределение данных выборки по видам услуг: посмотрим на графике, как отличаются распределения минут, мегабайт и SMS в каждом из тарифов."
   ]
  },
  {
   "cell_type": "code",
   "execution_count": 42,
   "metadata": {},
   "outputs": [],
   "source": [
    "# для оптимизации работы напишем фукнцию, которая строит графики и делает подписи\n",
    "# в качестве аргументов функция принимает колонку, по которой надо построить график, \n",
    "# название графика и подписи осей\n",
    "\n",
    "# при перезагрузке тетрадки теряется обновление библиотеки, сделала отдельную ячейку, которая подгружает обновление, \n",
    "# но после этого требуется рестарт и вроде как повторно ее не надо запускать, поэтому закомментирована\n",
    "\n",
    "def hist_captions (col, title, x):\n",
    "    fig, ax = plt.subplots(1, 1, figsize=(9, 5))\n",
    "    sns.histplot(data=data[['user_id', col, 'tariff_name']], x=col, kde=True, hue='tariff_name')\n",
    "    ax.set_title(title)\n",
    "    ax.set_xlabel(x)\n",
    "    ax.set_ylabel('Количество наблюдений')\n",
    "    plt.show"
   ]
  },
  {
   "cell_type": "code",
   "execution_count": 43,
   "metadata": {},
   "outputs": [
    {
     "data": {
      "image/png": "[encoded data removed]",
      "text/plain": [
       "<Figure size 648x360 with 1 Axes>"
      ]
     },
     "metadata": {
      "needs_background": "light"
     },
     "output_type": "display_data"
    }
   ],
   "source": [
    "# построим график для звонков\n",
    "hist_captions('duration_up', 'Сравнение распределения минут', 'Количество минут')"
   ]
  },
  {
   "cell_type": "markdown",
   "metadata": {},
   "source": [
    "Распределение использования минут на тарифе Ultra более равномерное. Количество наблюдений меньше, но и пользователей меньше почти в 2,5 раза."
   ]
  },
  {
   "cell_type": "code",
   "execution_count": 44,
   "metadata": {
    "scrolled": true
   },
   "outputs": [
    {
     "data": {
      "image/png": "[encoded data removed]",
      "text/plain": [
       "<Figure size 648x360 with 1 Axes>"
      ]
     },
     "metadata": {
      "needs_background": "light"
     },
     "output_type": "display_data"
    }
   ],
   "source": [
    "# построим график для использования интернета\n",
    "hist_captions('mb_used_up', 'Сравнение распределения мегабайт', 'Количество Мб')"
   ]
  },
  {
   "cell_type": "markdown",
   "metadata": {},
   "source": [
    "Аналогичная картина и в использовании интернета: пользователи Ultra очень равномерно распределены между трафиком до 5 Гб и более 25 Гб, тогда как у пользователей Smart если ярко выраженное \"ядро\" пользователей в диапазоне от 15 до 20 Гб."
   ]
  },
  {
   "cell_type": "code",
   "execution_count": 45,
   "metadata": {
    "scrolled": true
   },
   "outputs": [
    {
     "data": {
      "image/png": "[encoded data removed]",
      "text/plain": [
       "<Figure size 648x360 with 1 Axes>"
      ]
     },
     "metadata": {
      "needs_background": "light"
     },
     "output_type": "display_data"
    }
   ],
   "source": [
    "# построим график для сообщений\n",
    "hist_captions('messages_amount', 'Сравнение распределения SMS', 'Количество SMS')"
   ]
  },
  {
   "cell_type": "markdown",
   "metadata": {},
   "source": [
    "Большая часть абонентов обоих тарифов практически не пользуется SMS. Большинство пользователей за наблюдаемый период отправили до 75 сообщений. Как и в предыдущих случаях график в тарифе Ultra более пологий.\n",
    "\n",
    "Характер распределений использования услуг на тарифах Smart и Ultra сильно отличается."
   ]
  },
  {
   "cell_type": "markdown",
   "metadata": {},
   "source": [
    "### Статистические показатели изучаемых характеристик"
   ]
  },
  {
   "cell_type": "markdown",
   "metadata": {},
   "source": [
    "Посмотрим, как соотносятся друг с другом статистические метрики по тарифам. Создадим сводную таблицу по месяцам по тарифам со средним, дисперсией и средним стандартным отклонением."
   ]
  },
  {
   "cell_type": "code",
   "execution_count": 46,
   "metadata": {
    "scrolled": true
   },
   "outputs": [
    {
     "data": {
      "text/html": [
       "<div>\n",
       "<style scoped>\n",
       "    .dataframe tbody tr th:only-of-type {\n",
       "        vertical-align: middle;\n",
       "    }\n",
       "\n",
       "    .dataframe tbody tr th {\n",
       "        vertical-align: top;\n",
       "    }\n",
       "\n",
       "    .dataframe thead tr th {\n",
       "        text-align: left;\n",
       "    }\n",
       "\n",
       "    .dataframe thead tr:last-of-type th {\n",
       "        text-align: right;\n",
       "    }\n",
       "</style>\n",
       "<table border=\"1\" class=\"dataframe\">\n",
       "  <thead>\n",
       "    <tr>\n",
       "      <th></th>\n",
       "      <th></th>\n",
       "      <th colspan=\"3\" halign=\"left\">mean</th>\n",
       "      <th colspan=\"3\" halign=\"left\">new_var</th>\n",
       "      <th colspan=\"3\" halign=\"left\">new_std</th>\n",
       "    </tr>\n",
       "    <tr>\n",
       "      <th></th>\n",
       "      <th></th>\n",
       "      <th>duration_up</th>\n",
       "      <th>mb_used_up</th>\n",
       "      <th>messages_amount</th>\n",
       "      <th>duration_up</th>\n",
       "      <th>mb_used_up</th>\n",
       "      <th>messages_amount</th>\n",
       "      <th>duration_up</th>\n",
       "      <th>mb_used_up</th>\n",
       "      <th>messages_amount</th>\n",
       "    </tr>\n",
       "    <tr>\n",
       "      <th>tariff_name</th>\n",
       "      <th>month</th>\n",
       "      <th></th>\n",
       "      <th></th>\n",
       "      <th></th>\n",
       "      <th></th>\n",
       "      <th></th>\n",
       "      <th></th>\n",
       "      <th></th>\n",
       "      <th></th>\n",
       "      <th></th>\n",
       "    </tr>\n",
       "  </thead>\n",
       "  <tbody>\n",
       "    <tr>\n",
       "      <th rowspan=\"5\" valign=\"top\">smart</th>\n",
       "      <th>1</th>\n",
       "      <td>203</td>\n",
       "      <td>8524</td>\n",
       "      <td>18</td>\n",
       "      <td>23787</td>\n",
       "      <td>41626212</td>\n",
       "      <td>262</td>\n",
       "      <td>154</td>\n",
       "      <td>6451</td>\n",
       "      <td>16</td>\n",
       "    </tr>\n",
       "    <tr>\n",
       "      <th>2</th>\n",
       "      <td>298</td>\n",
       "      <td>11611</td>\n",
       "      <td>24</td>\n",
       "      <td>36412</td>\n",
       "      <td>39119349</td>\n",
       "      <td>473</td>\n",
       "      <td>190</td>\n",
       "      <td>6254</td>\n",
       "      <td>21</td>\n",
       "    </tr>\n",
       "    <tr>\n",
       "      <th>3</th>\n",
       "      <td>390</td>\n",
       "      <td>15123</td>\n",
       "      <td>31</td>\n",
       "      <td>36823</td>\n",
       "      <td>34052595</td>\n",
       "      <td>718</td>\n",
       "      <td>191</td>\n",
       "      <td>5835</td>\n",
       "      <td>26</td>\n",
       "    </tr>\n",
       "    <tr>\n",
       "      <th>4</th>\n",
       "      <td>367</td>\n",
       "      <td>13479</td>\n",
       "      <td>30</td>\n",
       "      <td>34778</td>\n",
       "      <td>32547357</td>\n",
       "      <td>602</td>\n",
       "      <td>186</td>\n",
       "      <td>5705</td>\n",
       "      <td>24</td>\n",
       "    </tr>\n",
       "    <tr>\n",
       "      <th>5</th>\n",
       "      <td>387</td>\n",
       "      <td>15825</td>\n",
       "      <td>33</td>\n",
       "      <td>34820</td>\n",
       "      <td>35822355</td>\n",
       "      <td>730</td>\n",
       "      <td>186</td>\n",
       "      <td>5985</td>\n",
       "      <td>27</td>\n",
       "    </tr>\n",
       "  </tbody>\n",
       "</table>\n",
       "</div>"
      ],
      "text/plain": [
       "                         mean                                new_var  \\\n",
       "                  duration_up mb_used_up messages_amount duration_up   \n",
       "tariff_name month                                                      \n",
       "smart       1             203       8524              18       23787   \n",
       "            2             298      11611              24       36412   \n",
       "            3             390      15123              31       36823   \n",
       "            4             367      13479              30       34778   \n",
       "            5             387      15825              33       34820   \n",
       "\n",
       "                                                 new_std             \\\n",
       "                  mb_used_up messages_amount duration_up mb_used_up   \n",
       "tariff_name month                                                     \n",
       "smart       1       41626212             262         154       6451   \n",
       "            2       39119349             473         190       6254   \n",
       "            3       34052595             718         191       5835   \n",
       "            4       32547357             602         186       5705   \n",
       "            5       35822355             730         186       5985   \n",
       "\n",
       "                                   \n",
       "                  messages_amount  \n",
       "tariff_name month                  \n",
       "smart       1                  16  \n",
       "            2                  21  \n",
       "            3                  26  \n",
       "            4                  24  \n",
       "            5                  27  "
      ]
     },
     "execution_count": 46,
     "metadata": {},
     "output_type": "execute_result"
    }
   ],
   "source": [
    "# воспользуемся функцией, чтобы в сводной таблице применить расчет дисперсии и отклонения для выборки, \n",
    "# а не для генеральной совокупности, как по умолчанию\n",
    "def new_std(x):\n",
    "    return np.std(x, ddof=1)\n",
    "def new_var(x):\n",
    "    return np.var(x, ddof=1)\n",
    "\n",
    "# создадим сводную таблицу, значения округлим до целых\n",
    "data_pivot = data.pivot_table(index = ['tariff_name', 'month'], values = ['duration_up', 'mb_used_up', 'messages_amount'],\\\n",
    "                                                  aggfunc = ['mean', new_var, new_std]).astype(int)\n",
    "data_pivot.head()"
   ]
  },
  {
   "cell_type": "code",
   "execution_count": 47,
   "metadata": {},
   "outputs": [],
   "source": [
    "# сделаем из сводной таблицы два набора данных для построения графиков\n",
    "smart = data_pivot.query('tariff_name == \"smart\"')\n",
    "ultra = data_pivot.query('tariff_name == \"ultra\"')"
   ]
  },
  {
   "cell_type": "code",
   "execution_count": 48,
   "metadata": {},
   "outputs": [],
   "source": [
    "# напишем функцию, которая строит графики на основании данных таблиц smart и ultra\n",
    "# помимо графиков зададим константу - объем услуг, включенных в тариф Smart\n",
    "def bar_maker(ind1, ind2, const, t, y_l):\n",
    "    x = np.arange(1, len(smart.index) + 1)\n",
    "    smart_bar = smart[(ind1, ind2)]\n",
    "    ultra_bar = ultra[(ind1, ind2)]\n",
    "    width = 0.35\n",
    "    fig, ax = plt.subplots(1, 1, figsize=(9, 5))\n",
    "    rects1 = ax.bar(x - width/2, smart_bar, width, label='Smart', color='#ed984e', alpha = 0.75)\n",
    "    rects2 = ax.bar(x + width/2, ultra_bar, width, label='Ultra', color='#3285a8', alpha = 0.75) \n",
    "    ax.hlines([const], 0, 1, transform=ax.get_yaxis_transform(), colors='orange')\n",
    "    ax.set_ylabel(y_l)\n",
    "    ax.set_title(t)\n",
    "    ax.set_xticks(x)\n",
    "    ax.set_xticklabels(['Январь', 'Февраль', 'Март', 'Апрель', 'Май', 'Июнь', 'Июль', 'Август', 'Сентябрь', 'Октябрь', 'Ноябрь', 'Декабрь'])\n",
    "    fig.legend(bbox_to_anchor=(1.05, 1), borderaxespad=0., loc='upper left')\n",
    "    fig.tight_layout()\n",
    "    plt.show()"
   ]
  },
  {
   "cell_type": "markdown",
   "metadata": {},
   "source": [
    "Изучим изменение рассматриваемых характеристик на графиках."
   ]
  },
  {
   "cell_type": "code",
   "execution_count": 49,
   "metadata": {},
   "outputs": [
    {
     "data": {
      "image/png": "[encoded data removed]",
      "text/plain": [
       "<Figure size 648x360 with 1 Axes>"
      ]
     },
     "metadata": {
      "needs_background": "light"
     },
     "output_type": "display_data"
    }
   ],
   "source": [
    "# построим график среднего времени разговоров для каждого тарифа в разрезе месяцев\n",
    "bar_maker('mean', 'duration_up', 500, 'Среднее количество минут по месяцам', 'Количество минут')"
   ]
  },
  {
   "cell_type": "code",
   "execution_count": 50,
   "metadata": {},
   "outputs": [
    {
     "data": {
      "image/png": "[encoded data removed]",
      "text/plain": [
       "<Figure size 648x360 with 1 Axes>"
      ]
     },
     "metadata": {
      "needs_background": "light"
     },
     "output_type": "display_data"
    }
   ],
   "source": [
    "# построим график среднего пользования интернетом для каждого тарифа в разрезе месяцев\n",
    "bar_maker('mean', 'mb_used_up', 15360, 'Интернет по месяцам', 'Количество Мб')"
   ]
  },
  {
   "cell_type": "code",
   "execution_count": 51,
   "metadata": {},
   "outputs": [
    {
     "data": {
      "image/png": "[encoded data removed]",
      "text/plain": [
       "<Figure size 648x360 with 1 Axes>"
      ]
     },
     "metadata": {
      "needs_background": "light"
     },
     "output_type": "display_data"
    }
   ],
   "source": [
    "# построим график использования смс для каждого тарифа в разрезе месяцев\n",
    "bar_maker('mean', 'messages_amount', 50, 'Сообщения по месяцам', 'Количество SMS')"
   ]
  },
  {
   "cell_type": "markdown",
   "metadata": {},
   "source": [
    "Абоненты тарифа Ultra в среднем пользуются бОльшим количеством минут, мегабайт и SMS. Но разница не столь существенная — в тарифный лимит у Ultra включено в 6 раз больше минут, в 2 раза больше трафика и в 20 раз больше SMS. По факту, пользователи Ultra в среднем лишь незначительно превышают лимиты, установленные для тарифа Smart. По обоим тарифам по всем видам услуг наблюдается заметный спад в январе-феврале. Во второй половине года пользователи тарифа Smart в среднем не укладывались в лимиты по интернету."
   ]
  },
  {
   "cell_type": "markdown",
   "metadata": {},
   "source": [
    "Построим аналогичные графики для дисперсии. Константу установим на уровне 0."
   ]
  },
  {
   "cell_type": "code",
   "execution_count": 52,
   "metadata": {},
   "outputs": [
    {
     "data": {
      "image/png": "[encoded data removed]",
      "text/plain": [
       "<Figure size 648x360 with 1 Axes>"
      ]
     },
     "metadata": {
      "needs_background": "light"
     },
     "output_type": "display_data"
    }
   ],
   "source": [
    "# график дисперсии минут для каждого тарифа в разрезе месяцев\n",
    "bar_maker('new_var', 'duration_up', 0, 'Минуты', 'Дисперсия')"
   ]
  },
  {
   "cell_type": "code",
   "execution_count": 53,
   "metadata": {
    "scrolled": true
   },
   "outputs": [
    {
     "data": {
      "image/png": "[encoded data removed]",
      "text/plain": [
       "<Figure size 648x360 with 1 Axes>"
      ]
     },
     "metadata": {
      "needs_background": "light"
     },
     "output_type": "display_data"
    }
   ],
   "source": [
    "# график дисперсии интернета для каждого тарифа в разрезе месяцев\n",
    "bar_maker('new_var', 'mb_used_up', 0, 'Интернет', 'Дисперсия')"
   ]
  },
  {
   "cell_type": "code",
   "execution_count": 54,
   "metadata": {
    "scrolled": false
   },
   "outputs": [
    {
     "data": {
      "image/png": "[encoded data removed]",
      "text/plain": [
       "<Figure size 648x360 with 1 Axes>"
      ]
     },
     "metadata": {
      "needs_background": "light"
     },
     "output_type": "display_data"
    }
   ],
   "source": [
    "# график дисперсии смс для каждого тарифа в разрезе месяцев\n",
    "bar_maker('new_var', 'messages_amount', 0, 'Сообщения', 'Дисперсия')"
   ]
  },
  {
   "cell_type": "markdown",
   "metadata": {},
   "source": [
    "Дисперсия для тарифа Ultra принимает заметно более высокие значения — такое положение вещей можно было предсказать по графикам распределения: \"хвост\" в тарифе Ultra был более длинный."
   ]
  },
  {
   "cell_type": "markdown",
   "metadata": {},
   "source": [
    "Посмотрим на стандартное отклонение по каждой из услуг. В качестве константы установим первого квартиля для тарифа Smart (как следует из таблицы блока \"Общая информация о поведении абонентов разных тарифов\", значения для 25% отклонения по тарифам отличаются незначительно: звонки 282 Smart против 284 Ultra, интернет 12658 в Smart против 11785 в Ultra, сообщения 10 в Smart против 6 в Ultra; но поскольку на прошлых графиках в качестве порога использовали Smart, то сохраним эту логику). "
   ]
  },
  {
   "cell_type": "code",
   "execution_count": 55,
   "metadata": {
    "scrolled": true
   },
   "outputs": [
    {
     "data": {
      "image/png": "[encoded data removed]",
      "text/plain": [
       "<Figure size 648x360 with 1 Axes>"
      ]
     },
     "metadata": {
      "needs_background": "light"
     },
     "output_type": "display_data"
    }
   ],
   "source": [
    "# график стандартного отклонения для использованных минут для каждого тарифа в разрезе месяцев\n",
    "bar_maker('new_std', 'duration_up', 282, 'Звонки', 'Стандартное отклонение')"
   ]
  },
  {
   "cell_type": "markdown",
   "metadata": {},
   "source": [
    "Величины стандартно отклонение тарифа Smart не превышают значение в 1 сигма. В тарифе Ultra по использованию минут отклонение почти всегда выше 1 сигма."
   ]
  },
  {
   "cell_type": "code",
   "execution_count": 56,
   "metadata": {
    "scrolled": true
   },
   "outputs": [
    {
     "data": {
      "image/png": "[encoded data removed]",
      "text/plain": [
       "<Figure size 648x360 with 1 Axes>"
      ]
     },
     "metadata": {
      "needs_background": "light"
     },
     "output_type": "display_data"
    }
   ],
   "source": [
    "# график стандартного отклонения для использованных мегабайт для каждого тарифа в разрезе месяцев\n",
    "bar_maker('new_std', 'mb_used_up', 12658, 'Интернет', 'Стандартное отклонение')"
   ]
  },
  {
   "cell_type": "markdown",
   "metadata": {},
   "source": [
    "По услуге использование интернета по обоим тарифам отклонения не превышают значения в 1 сигма. Надо обратить внимание, что и сами интервали в этой характеристике большие — 25% граница проходит на уровне около 12000."
   ]
  },
  {
   "cell_type": "code",
   "execution_count": 57,
   "metadata": {
    "scrolled": true
   },
   "outputs": [
    {
     "data": {
      "image/png": "[encoded data removed]",
      "text/plain": [
       "<Figure size 648x360 with 1 Axes>"
      ]
     },
     "metadata": {
      "needs_background": "light"
     },
     "output_type": "display_data"
    }
   ],
   "source": [
    "# график стандартного отклонения для использованных смс для каждого тарифа в разрезе месяцев\n",
    "bar_maker('new_std', 'messages_amount', 10, 'Сообщения', 'Стандартное отклонение')"
   ]
  },
  {
   "cell_type": "markdown",
   "metadata": {},
   "source": [
    "А вот отклоенения по пользованию SMS превышают 25% границу по обоим тарифам (тариф Smart не выходит и за границу в 50% или 28, на тарифе Ultra второй квартиль заканчивается значением 38, и в большинстве месяцев значения превышают этот порог)."
   ]
  },
  {
   "cell_type": "markdown",
   "metadata": {},
   "source": [
    "Итак, разброс значений по тарифу Ultra больше по каждой характеристике. Стандартное отклонение укладывается в диапазон 1 сигма для интенета в обоих тарифах и для звонков в тарифе Smart. По SMS сообщениям отклонение превышает границу в 25% по обоим тарифам."
   ]
  },
  {
   "cell_type": "markdown",
   "metadata": {},
   "source": [
    "### Проверка гипотез"
   ]
  },
  {
   "cell_type": "markdown",
   "metadata": {},
   "source": [
    "Цель исследования — определить, доходность по какому из тарифов выше. Поскольку данные по совокупной доходности тарифов недоступным, изучим, отличается ли средняя доходность на абонента по этим тарифам. \n",
    "\n",
    "Сформулируем нулевую гипотезу:\n",
    "**H<sub>0</sub>** — средняя доходность абонента тарифа Smart равна средней доходности абонента тарифа Ultra.\n",
    "Альтернативная гипотеза:\n",
    "**H<sub>1</sub>** — средняя доходность абонента тарифа Smart не равна средней доходности абонента тарифа Ultra.\n",
    "\n",
    "Создадим две таблицы, в которые выведем средний доход по пользователям каждого тарифа. Из датасета Smart выберем 148 случайных абонентов."
   ]
  },
  {
   "cell_type": "code",
   "execution_count": 58,
   "metadata": {
    "scrolled": true
   },
   "outputs": [
    {
     "name": "stdout",
     "output_type": "stream",
     "text": [
      "<class 'pandas.core.frame.DataFrame'>\n",
      "Int64Index: 148 entries, 192 to 332\n",
      "Data columns (total 3 columns):\n",
      " #   Column   Non-Null Count  Dtype \n",
      "---  ------   --------------  ----- \n",
      " 0   user_id  148 non-null    int64 \n",
      " 1   city     148 non-null    object\n",
      " 2   revenue  148 non-null    int32 \n",
      "dtypes: int32(1), int64(1), object(1)\n",
      "memory usage: 4.0+ KB\n"
     ]
    }
   ],
   "source": [
    "# создадим таблицу ultra_stat, куда отберем нужные столбцы и среднее значение дохода на абонента\n",
    "ultra_stat = ultra_check.groupby(['user_id', 'city']).agg({'revenue': 'mean'}).astype(int).reset_index()\n",
    "\n",
    "# создадим таблицу smart_stat_full с аналогичным содержанием\n",
    "smart_stat_full = smart_check.groupby(['user_id', 'city']).agg({'revenue': 'mean'}).astype(int).reset_index()\n",
    "\n",
    "# определим функцию для случайного выбора заданного количества записей из датасета\n",
    "def cut(data, n):\n",
    "    data2 = data.sample(n=n, random_state=1)\n",
    "    return data2\n",
    "\n",
    "# оставим в таблице по тарифу Smart 148 случайных записей, чтобы можно было сравнить с Ultra\n",
    "smart_stat = cut(smart_stat_full, 148)\n",
    "\n",
    "# проверим результат\n",
    "smart_stat.info()"
   ]
  },
  {
   "cell_type": "markdown",
   "metadata": {},
   "source": [
    "Для проверки нулевой гипотезы проведем t-test двух выборок. В данном случае ошибка второго рода более значима (ошибка первого рода — отвергнуть верную нулевую — это прийти к заключению, что средняя доходность на тарифах не равна, хотя она равна, что потребует дополнительных исследований, какой тариф более доходный; ошибка второго рода — принять неверную нулевую — заключить, что доходность на тарифах равна, хотя это не так; в этом случае заказчик, вероятно, откажется от продвижения либо сделает равное продвижение для обоих тарифов, что приведет к избыточным расходам). Поэтому выбран уровень значимости 5% (alpha = 0.05)."
   ]
  },
  {
   "cell_type": "code",
   "execution_count": 59,
   "metadata": {},
   "outputs": [],
   "source": [
    "# напишем функцию для проверки гипотез\n",
    "def ttest_2_data (alpha, data1, data2, equal_var):\n",
    "    alpha = alpha\n",
    "    results = st.ttest_ind(data1, data2, equal_var = equal_var)\n",
    "    print('p-значение:', results.pvalue)\n",
    "    if results.pvalue < alpha:\n",
    "        print('Отвергаем нулевую гипотезу.')\n",
    "    else:\n",
    "        print('Не получилось отвергнуть нулевую гипотезу.')"
   ]
  },
  {
   "cell_type": "code",
   "execution_count": 60,
   "metadata": {},
   "outputs": [
    {
     "name": "stdout",
     "output_type": "stream",
     "text": [
      "p-значение: 9.040978948222162e-30\n",
      "Отвергаем нулевую гипотезу.\n"
     ]
    }
   ],
   "source": [
    "# уровень значимости 5%, поскольку важно не совершить ошибку второго рода\n",
    "# equal_var = False, поскольку стандартные отклонения в тарифах заметно отличаются\n",
    "ttest_2_data(0.05, smart_stat['revenue'], ultra_stat['revenue'], False)"
   ]
  },
  {
   "cell_type": "markdown",
   "metadata": {},
   "source": [
    "В результате проверки мы отвергли H<sub>0</sub> в пользу альтернативной гипотезы H<sub>1</sub>: средняя доходность абонента тарифа Smart не равна средней доходности абонента тарифа Ultra. Посмотрим, каков средний доход с абонента в выборке в разрезе тарифов."
   ]
  },
  {
   "cell_type": "code",
   "execution_count": 61,
   "metadata": {},
   "outputs": [
    {
     "name": "stdout",
     "output_type": "stream",
     "text": [
      "Средняя доходность на тарифе Smart: 1329 р.\n",
      "Средняя доходность на тарифе Ultra: 2087 р.\n"
     ]
    }
   ],
   "source": [
    "print('Средняя доходность на тарифе Smart:', int(smart_stat_full['revenue'].mean()), 'р.')\n",
    "print('Средняя доходность на тарифе Ultra:', int(ultra_stat['revenue'].mean()), 'р.')"
   ]
  },
  {
   "cell_type": "markdown",
   "metadata": {},
   "source": [
    "Средняя доходность на тарифе Ultra для абонентов, попавших в выборку, выше, чем для тарифа Smart (подобный результат уже был получен в разделе \"Общая информация о поведении абонентов разных тарифов, разница в полученном среднем объясняется отсутствием группировки по месяцам). Проверим, является ли полученное среднее для выборки средним для генеральной совокупности. Опеределим нулевую и альтернативную гипотезу:\n",
    "\n",
    "**H<sub>0</sub>** — средняя доходность выборки по тарифу равна средней доходности генеральной совокупности.\n",
    "**H<sub>1</sub>** — средняя доходность выборки по тарифу не равна средней доходности генеральной совокупности.\n",
    "\n",
    "Проведем t-test для выборок по каждому тарифу."
   ]
  },
  {
   "cell_type": "code",
   "execution_count": 62,
   "metadata": {},
   "outputs": [],
   "source": [
    "# напишем функицю для проведения теста\n",
    "def ttest_1(a, alpha, data):\n",
    "    revenue_mean = a\n",
    "    alpha = alpha\n",
    "    results = st.ttest_1samp(data, revenue_mean) \n",
    "    print('p-значение: ', results.pvalue)\n",
    "    if results.pvalue < alpha:\n",
    "        print('Отвергаем нулевую гипотезу.')\n",
    "    else:\n",
    "        print('Не получилось отвергнуть нулевую гипотезу.')"
   ]
  },
  {
   "cell_type": "code",
   "execution_count": 63,
   "metadata": {},
   "outputs": [
    {
     "name": "stdout",
     "output_type": "stream",
     "text": [
      "p-значение:  0.9894658722995798\n",
      "Не получилось отвергнуть нулевую гипотезу.\n"
     ]
    }
   ],
   "source": [
    "# проведем тест для тарифа Smart\n",
    "ttest_1(1329, 0.01, smart_stat_full['revenue'])"
   ]
  },
  {
   "cell_type": "code",
   "execution_count": 64,
   "metadata": {},
   "outputs": [
    {
     "name": "stdout",
     "output_type": "stream",
     "text": [
      "p-значение:  0.9888982946790249\n",
      "Не получилось отвергнуть нулевую гипотезу.\n"
     ]
    }
   ],
   "source": [
    "# проведем тест для тарифа Ultra\n",
    "ttest_1(2087, 0.01, ultra_stat['revenue'])"
   ]
  },
  {
   "cell_type": "markdown",
   "metadata": {},
   "source": [
    "В результате в обоих тестах получили вероятность выше 98%, что наблюдаемое среднее близко к среднему генеральной совокупности. Следовательно, доходность тарифа Ultra выше. Посмотрим, есть ли разница в доходности между абонентами из столицы и жителями других городов. Нулевая и альтернативная гипотеза будут следующими:\n",
    "\n",
    "**H<sub>0</sub>** — доходность абонентов из Москвы равна доходности абонентов из других городов.\n",
    "**H<sub>1</sub>** — доходность абонентов из Москвы не равна доходности абонентов из других городов.\n",
    "\n",
    "Проверим гипотезы для каждого тарифа в отдельности. Сначала подготовим таблицы для анализа и приведем их к равной длине."
   ]
  },
  {
   "cell_type": "code",
   "execution_count": 65,
   "metadata": {
    "scrolled": true
   },
   "outputs": [
    {
     "name": "stdout",
     "output_type": "stream",
     "text": [
      "Количество абонентов Smart в Москве: 67\n",
      "Количество абонентов Smart в других городах: 283\n"
     ]
    }
   ],
   "source": [
    "# создадим таблицы с выборкой по МСК и по остальным городам\n",
    "smart_stat_msk = smart_stat_full.query('city == \"Москва\"')\n",
    "smart_stat_cities = smart_stat_full.query('city != \"Москва\"')\n",
    "\n",
    "print('Количество абонентов Smart в Москве:', len(smart_stat_msk))\n",
    "print('Количество абонентов Smart в других городах:', len(smart_stat_cities))"
   ]
  },
  {
   "cell_type": "code",
   "execution_count": 66,
   "metadata": {},
   "outputs": [
    {
     "name": "stdout",
     "output_type": "stream",
     "text": [
      "Количество абонентов Ultra в Москве: 32\n",
      "Количество абонентов Ultra в других городах: 116\n"
     ]
    }
   ],
   "source": [
    "# создадим таблицы с выборкой по МСК и по остальным городам\n",
    "ultra_stat_msk = ultra_stat.query('city == \"Москва\"')\n",
    "ultra_stat_cities = ultra_stat.query('city != \"Москва\"')\n",
    "\n",
    "print('Количество абонентов Ultra в Москве:', len(ultra_stat_msk))\n",
    "print('Количество абонентов Ultra в других городах:', len(ultra_stat_cities))"
   ]
  },
  {
   "cell_type": "code",
   "execution_count": 67,
   "metadata": {},
   "outputs": [],
   "source": [
    "# оставим в таблице по другим городам 67 случайных записей, чтобы можно было сравнить с Москвой\n",
    "smart_stat_cities_cut = cut(smart_stat_cities, 67)"
   ]
  },
  {
   "cell_type": "code",
   "execution_count": 68,
   "metadata": {},
   "outputs": [],
   "source": [
    "# оставим в таблице по другим городам 32 случайных записb, чтобы можно было сравнить с Москвой\n",
    "ultra_stat_cities_cut = cut(ultra_stat_cities, 32)"
   ]
  },
  {
   "cell_type": "markdown",
   "metadata": {},
   "source": [
    "Проверим ранее озвученную гипотезу: доходность абонентов из Москвы равна доходности абонентов из других городов."
   ]
  },
  {
   "cell_type": "code",
   "execution_count": 69,
   "metadata": {
    "scrolled": true
   },
   "outputs": [
    {
     "name": "stdout",
     "output_type": "stream",
     "text": [
      "p-значение: 0.9846581329458434\n",
      "Не получилось отвергнуть нулевую гипотезу.\n"
     ]
    }
   ],
   "source": [
    "ttest_2_data(0.05, smart_stat_msk['revenue'], smart_stat_cities_cut['revenue'], True)"
   ]
  },
  {
   "cell_type": "code",
   "execution_count": 70,
   "metadata": {
    "scrolled": true
   },
   "outputs": [
    {
     "name": "stdout",
     "output_type": "stream",
     "text": [
      "p-значение: 0.17731920187606956\n",
      "Не получилось отвергнуть нулевую гипотезу.\n"
     ]
    }
   ],
   "source": [
    "ttest_2_data(0.05, ultra_stat_msk['revenue'], ultra_stat_cities_cut['revenue'], True)"
   ]
  },
  {
   "cell_type": "markdown",
   "metadata": {},
   "source": [
    "Итак, между абонентами из Москвы и абонентами из других городов нет значимоый статистической разницы ни в одном из тарифов. В среднем, доходность в Москве и регионах сходная, при этом на тарифе Ultra доходность выше."
   ]
  },
  {
   "cell_type": "markdown",
   "metadata": {},
   "source": [
    "## Общие выводы"
   ]
  },
  {
   "cell_type": "markdown",
   "metadata": {},
   "source": [
    "Средняя доходность тарифов Smart и Ultra различается. Средний доход абонентов в выборке по тарифу Ultra составляет 2087 р., по тарифу Smart — 1329 р. Средние значения выборки близки к средним значеним генеральной совокупности, соответственно, тариф Ultra является более доходным в расчете на абонента. Не выявлено значимой разницы между абонентами из Москвы и других городов.\n",
    "\n",
    "**Расширенные выводы по результатам проекта:**\n",
    "- Не все абоненты пользуются всеми способами связи, заложенными в тариф: интернетом не пользовались 3 абонента из 500, звонками 8 абонентов, SMS не использовали 74 абонента.\n",
    "- В выборке 2/3 — пользователи тарифа Smart, 1/3 — Ultra.\n",
    "- В тарифе Ultra распределения использования услуг более равномерное. В тарифе Smart есть ярко выраженное \"ядро\".\n",
    "- Абоненты тарифа Ultra в среднем пользуются бОльшим количеством минут, мегабайт и смс. Но разница не столь существенная — в тарифный лимит у Ultra включено в 6 раз больше минут, в 2 раза больше трафика и в 20 раз больше SMS. По факту, пользователи Ultra в среднем лишь незначительно превышают лимиты, установленные для тарифа Smart. \n",
    "- По обоим тарифам по всем видам услуг наблюдается заметный спад в январе-феврале."
   ]
  }
 ],
 "metadata": {
  "kernelspec": {
   "display_name": "Python 3",
   "language": "python",
   "name": "python3"
  },
  "language_info": {
   "codemirror_mode": {
    "name": "ipython",
    "version": 3
   },
   "file_extension": ".py",
   "mimetype": "text/x-python",
   "name": "python",
   "nbconvert_exporter": "python",
   "pygments_lexer": "ipython3",
   "version": "3.8.8"
  },
  "toc": {
   "base_numbering": 1,
   "nav_menu": {},
   "number_sections": true,
   "sideBar": true,
   "skip_h1_title": true,
   "title_cell": "Table of Contents",
   "title_sidebar": "Contents",
   "toc_cell": false,
   "toc_position": {
    "height": "calc(100% - 180px)",
    "left": "10px",
    "top": "150px",
    "width": "230.391px"
   },
   "toc_section_display": true,
   "toc_window_display": true
  }
 },
 "nbformat": 4,
 "nbformat_minor": 2
}
