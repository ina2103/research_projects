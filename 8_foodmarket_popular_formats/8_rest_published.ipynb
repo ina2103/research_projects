{
 "cells": [
  {
   "cell_type": "markdown",
   "id": "08135336",
   "metadata": {},
   "source": [
    "# Исследование заведений общественного питания г. Москва"
   ]
  },
  {
   "cell_type": "markdown",
   "id": "7cac1499",
   "metadata": {},
   "source": [
    "## Общие положения"
   ]
  },
  {
   "cell_type": "markdown",
   "id": "1a2eddf6",
   "metadata": {},
   "source": [
    "**Дата выполнения проекта:** 20 июня 2021.\n",
    "\n",
    "**Адресат исследования** — инвестор.\n",
    "\n",
    "**Цель исследования** — оценить потенциал нового оригинального кафе с роботами-официантами.\n",
    "\n",
    "**Задачи исследования:**\n",
    "\n",
    "1. Исследовать рынок заведений общественного питания;\n",
    "2. Определить факторы, способствующие успеху заведения.\n",
    "\n",
    "**Этапы исследования:**\n",
    "\n",
    "- <a href='#Изучение-и-предобработка-данных'>изучение и предобработка данных</a>;\n",
    "- <a href=\"#Анализ-данных\">обогащение и исследовательский анализ данных</a>;\n",
    "- <a href=\"#Общий-вывод\">общий вывод</a>;\n",
    "- <a href=\"#Презентация\">подготовка презентации для инвесторов</a>.\n",
    "\n",
    "**Столбцы данных:**\n",
    "- id — идентификатор объекта;\n",
    "- object_name — название объекта общественного питания;\n",
    "- chain — сетевой ресторан;\n",
    "- object_type — тип объекта общественного питания;\n",
    "- address — адрес;\n",
    "- number — количество посадочных мест."
   ]
  },
  {
   "cell_type": "markdown",
   "id": "9ebf514c",
   "metadata": {},
   "source": [
    "## <a>Изучение и предобработка данных</a>"
   ]
  },
  {
   "cell_type": "code",
   "execution_count": 1,
   "id": "19e1b589",
   "metadata": {},
   "outputs": [
    {
     "name": "stdout",
     "output_type": "stream",
     "text": [
      "Defaulting to user installation because normal site-packages is not writeable\n",
      "Requirement already up-to-date: seaborn in /home/jovyan/.local/lib/python3.7/site-packages (0.11.1)\n",
      "Requirement already satisfied, skipping upgrade: pandas>=0.23 in /home/jovyan/.local/lib/python3.7/site-packages (from seaborn) (1.2.4)\n",
      "Requirement already satisfied, skipping upgrade: scipy>=1.0 in /opt/conda/lib/python3.7/site-packages (from seaborn) (1.4.1)\n",
      "Requirement already satisfied, skipping upgrade: numpy>=1.15 in /opt/conda/lib/python3.7/site-packages (from seaborn) (1.19.5)\n",
      "Requirement already satisfied, skipping upgrade: matplotlib>=2.2 in /opt/conda/lib/python3.7/site-packages (from seaborn) (3.1.0)\n",
      "Requirement already satisfied, skipping upgrade: pytz>=2017.3 in /opt/conda/lib/python3.7/site-packages (from pandas>=0.23->seaborn) (2021.1)\n",
      "Requirement already satisfied, skipping upgrade: python-dateutil>=2.7.3 in /opt/conda/lib/python3.7/site-packages (from pandas>=0.23->seaborn) (2.8.1)\n",
      "Requirement already satisfied, skipping upgrade: pyparsing!=2.0.4,!=2.1.2,!=2.1.6,>=2.0.1 in /opt/conda/lib/python3.7/site-packages (from matplotlib>=2.2->seaborn) (2.4.7)\n",
      "Requirement already satisfied, skipping upgrade: kiwisolver>=1.0.1 in /opt/conda/lib/python3.7/site-packages (from matplotlib>=2.2->seaborn) (1.3.1)\n",
      "Requirement already satisfied, skipping upgrade: cycler>=0.10 in /opt/conda/lib/python3.7/site-packages (from matplotlib>=2.2->seaborn) (0.10.0)\n",
      "Requirement already satisfied, skipping upgrade: six>=1.5 in /opt/conda/lib/python3.7/site-packages (from python-dateutil>=2.7.3->pandas>=0.23->seaborn) (1.15.0)\n",
      "Defaulting to user installation because normal site-packages is not writeable\n",
      "Requirement already up-to-date: pandas in /home/jovyan/.local/lib/python3.7/site-packages (1.2.4)\n",
      "Requirement already satisfied, skipping upgrade: python-dateutil>=2.7.3 in /opt/conda/lib/python3.7/site-packages (from pandas) (2.8.1)\n",
      "Requirement already satisfied, skipping upgrade: pytz>=2017.3 in /opt/conda/lib/python3.7/site-packages (from pandas) (2021.1)\n",
      "Requirement already satisfied, skipping upgrade: numpy>=1.16.5 in /opt/conda/lib/python3.7/site-packages (from pandas) (1.19.5)\n",
      "Requirement already satisfied, skipping upgrade: six>=1.5 in /opt/conda/lib/python3.7/site-packages (from python-dateutil>=2.7.3->pandas) (1.15.0)\n"
     ]
    }
   ],
   "source": [
    "# обновление библиотек\n",
    "#!pip install -U plotly\n",
    "#!pip install -U stats\n",
    "!pip install -U seaborn\n",
    "!pip install -U pandas"
   ]
  },
  {
   "cell_type": "code",
   "execution_count": 2,
   "id": "88a30913",
   "metadata": {},
   "outputs": [],
   "source": [
    "import warnings \n",
    "warnings.filterwarnings(\"ignore\")"
   ]
  },
  {
   "cell_type": "code",
   "execution_count": 3,
   "id": "2706040c",
   "metadata": {},
   "outputs": [],
   "source": [
    "# импорт необходимых библиотек\n",
    "import numpy as np\n",
    "import pandas as pd\n",
    "import re\n",
    "import math as mt\n",
    "import matplotlib.pyplot as plt\n",
    "import plotly.express as px\n",
    "import plotly.graph_objects as go\n",
    "import seaborn as sns\n",
    "from datetime import date\n",
    "from scipy import stats as st"
   ]
  },
  {
   "cell_type": "code",
   "execution_count": 4,
   "id": "5214ab60",
   "metadata": {},
   "outputs": [],
   "source": [
    "# зададим количество отображаемых столбцов, чтобы видеть все\n",
    "pd.options.display.max_columns = 200"
   ]
  },
  {
   "cell_type": "code",
   "execution_count": 5,
   "id": "1a0da070",
   "metadata": {},
   "outputs": [
    {
     "name": "stdout",
     "output_type": "stream",
     "text": [
      "<class 'pandas.core.frame.DataFrame'>\n",
      "RangeIndex: 15366 entries, 0 to 15365\n",
      "Data columns (total 6 columns):\n",
      " #   Column       Non-Null Count  Dtype \n",
      "---  ------       --------------  ----- \n",
      " 0   id           15366 non-null  int64 \n",
      " 1   object_name  15366 non-null  object\n",
      " 2   chain        15366 non-null  object\n",
      " 3   object_type  15366 non-null  object\n",
      " 4   address      15366 non-null  object\n",
      " 5   number       15366 non-null  int64 \n",
      "dtypes: int64(2), object(4)\n",
      "memory usage: 720.4+ KB\n"
     ]
    }
   ],
   "source": [
    "# прочитаем файл локально или с сервера\n",
    "try: \n",
    "    data = pd.read_csv('rest_data.csv')\n",
    "except:\n",
    "    data = pd.read_csv('/datasets/rest_data.csv')\n",
    "\n",
    "# изучим информацию о датасете\n",
    "data.info()"
   ]
  },
  {
   "cell_type": "markdown",
   "id": "e49aa9fa",
   "metadata": {},
   "source": [
    "Предоставленный файл содержит 15366 записей, что представляется достаточным для анализа объемом. В колонках нет пустых значений. Перейдем к визуальному изучению файла."
   ]
  },
  {
   "cell_type": "code",
   "execution_count": 6,
   "id": "fe6bfa91",
   "metadata": {
    "scrolled": true
   },
   "outputs": [
    {
     "data": {
      "text/html": [
       "<div>\n",
       "<style scoped>\n",
       "    .dataframe tbody tr th:only-of-type {\n",
       "        vertical-align: middle;\n",
       "    }\n",
       "\n",
       "    .dataframe tbody tr th {\n",
       "        vertical-align: top;\n",
       "    }\n",
       "\n",
       "    .dataframe thead th {\n",
       "        text-align: right;\n",
       "    }\n",
       "</style>\n",
       "<table border=\"1\" class=\"dataframe\">\n",
       "  <thead>\n",
       "    <tr style=\"text-align: right;\">\n",
       "      <th></th>\n",
       "      <th>id</th>\n",
       "      <th>object_name</th>\n",
       "      <th>chain</th>\n",
       "      <th>object_type</th>\n",
       "      <th>address</th>\n",
       "      <th>number</th>\n",
       "    </tr>\n",
       "  </thead>\n",
       "  <tbody>\n",
       "    <tr>\n",
       "      <th>0</th>\n",
       "      <td>151635</td>\n",
       "      <td>СМЕТАНА</td>\n",
       "      <td>нет</td>\n",
       "      <td>кафе</td>\n",
       "      <td>город Москва, улица Егора Абакумова, дом 9</td>\n",
       "      <td>48</td>\n",
       "    </tr>\n",
       "    <tr>\n",
       "      <th>1</th>\n",
       "      <td>77874</td>\n",
       "      <td>Родник</td>\n",
       "      <td>нет</td>\n",
       "      <td>кафе</td>\n",
       "      <td>город Москва, улица Талалихина, дом 2/1, корпус 1</td>\n",
       "      <td>35</td>\n",
       "    </tr>\n",
       "    <tr>\n",
       "      <th>2</th>\n",
       "      <td>24309</td>\n",
       "      <td>Кафе «Академия»</td>\n",
       "      <td>нет</td>\n",
       "      <td>кафе</td>\n",
       "      <td>город Москва, Абельмановская улица, дом 6</td>\n",
       "      <td>95</td>\n",
       "    </tr>\n",
       "    <tr>\n",
       "      <th>3</th>\n",
       "      <td>21894</td>\n",
       "      <td>ПИЦЦЕТОРИЯ</td>\n",
       "      <td>да</td>\n",
       "      <td>кафе</td>\n",
       "      <td>город Москва, Абрамцевская улица, дом 1</td>\n",
       "      <td>40</td>\n",
       "    </tr>\n",
       "    <tr>\n",
       "      <th>4</th>\n",
       "      <td>119365</td>\n",
       "      <td>Кафе «Вишневая метель»</td>\n",
       "      <td>нет</td>\n",
       "      <td>кафе</td>\n",
       "      <td>город Москва, Абрамцевская улица, дом 9, корпус 1</td>\n",
       "      <td>50</td>\n",
       "    </tr>\n",
       "  </tbody>\n",
       "</table>\n",
       "</div>"
      ],
      "text/plain": [
       "       id             object_name chain object_type  \\\n",
       "0  151635                 СМЕТАНА   нет        кафе   \n",
       "1   77874                  Родник   нет        кафе   \n",
       "2   24309         Кафе «Академия»   нет        кафе   \n",
       "3   21894              ПИЦЦЕТОРИЯ    да        кафе   \n",
       "4  119365  Кафе «Вишневая метель»   нет        кафе   \n",
       "\n",
       "                                             address  number  \n",
       "0         город Москва, улица Егора Абакумова, дом 9      48  \n",
       "1  город Москва, улица Талалихина, дом 2/1, корпус 1      35  \n",
       "2          город Москва, Абельмановская улица, дом 6      95  \n",
       "3            город Москва, Абрамцевская улица, дом 1      40  \n",
       "4  город Москва, Абрамцевская улица, дом 9, корпус 1      50  "
      ]
     },
     "execution_count": 6,
     "metadata": {},
     "output_type": "execute_result"
    }
   ],
   "source": [
    "# методом .head() выведем первые 5 строчек датасета\n",
    "data.head()"
   ]
  },
  {
   "cell_type": "markdown",
   "id": "164d20ac",
   "metadata": {},
   "source": [
    "Столбцы с id и количеством посадочных мест имеют верный тип значений int, остальные колонки содержат текстовые данные, так что формат подходящий. Изучим значения в колонке number."
   ]
  },
  {
   "cell_type": "code",
   "execution_count": 7,
   "id": "a8c4bce0",
   "metadata": {},
   "outputs": [
    {
     "data": {
      "text/html": [
       "<div>\n",
       "<style scoped>\n",
       "    .dataframe tbody tr th:only-of-type {\n",
       "        vertical-align: middle;\n",
       "    }\n",
       "\n",
       "    .dataframe tbody tr th {\n",
       "        vertical-align: top;\n",
       "    }\n",
       "\n",
       "    .dataframe thead th {\n",
       "        text-align: right;\n",
       "    }\n",
       "</style>\n",
       "<table border=\"1\" class=\"dataframe\">\n",
       "  <thead>\n",
       "    <tr style=\"text-align: right;\">\n",
       "      <th></th>\n",
       "      <th>id</th>\n",
       "      <th>object_name</th>\n",
       "      <th>chain</th>\n",
       "      <th>object_type</th>\n",
       "      <th>address</th>\n",
       "      <th>number</th>\n",
       "    </tr>\n",
       "  </thead>\n",
       "  <tbody>\n",
       "    <tr>\n",
       "      <th>0</th>\n",
       "      <td>151635</td>\n",
       "      <td>сметана</td>\n",
       "      <td>нет</td>\n",
       "      <td>кафе</td>\n",
       "      <td>город Москва, улица Егора Абакумова, дом 9</td>\n",
       "      <td>48</td>\n",
       "    </tr>\n",
       "    <tr>\n",
       "      <th>1</th>\n",
       "      <td>77874</td>\n",
       "      <td>родник</td>\n",
       "      <td>нет</td>\n",
       "      <td>кафе</td>\n",
       "      <td>город Москва, улица Талалихина, дом 2/1, корпус 1</td>\n",
       "      <td>35</td>\n",
       "    </tr>\n",
       "    <tr>\n",
       "      <th>2</th>\n",
       "      <td>24309</td>\n",
       "      <td>кафе «академия»</td>\n",
       "      <td>нет</td>\n",
       "      <td>кафе</td>\n",
       "      <td>город Москва, Абельмановская улица, дом 6</td>\n",
       "      <td>95</td>\n",
       "    </tr>\n",
       "    <tr>\n",
       "      <th>3</th>\n",
       "      <td>21894</td>\n",
       "      <td>пиццетория</td>\n",
       "      <td>да</td>\n",
       "      <td>кафе</td>\n",
       "      <td>город Москва, Абрамцевская улица, дом 1</td>\n",
       "      <td>40</td>\n",
       "    </tr>\n",
       "    <tr>\n",
       "      <th>4</th>\n",
       "      <td>119365</td>\n",
       "      <td>кафе «вишневая метель»</td>\n",
       "      <td>нет</td>\n",
       "      <td>кафе</td>\n",
       "      <td>город Москва, Абрамцевская улица, дом 9, корпус 1</td>\n",
       "      <td>50</td>\n",
       "    </tr>\n",
       "  </tbody>\n",
       "</table>\n",
       "</div>"
      ],
      "text/plain": [
       "       id             object_name chain object_type  \\\n",
       "0  151635                 сметана   нет        кафе   \n",
       "1   77874                  родник   нет        кафе   \n",
       "2   24309         кафе «академия»   нет        кафе   \n",
       "3   21894              пиццетория    да        кафе   \n",
       "4  119365  кафе «вишневая метель»   нет        кафе   \n",
       "\n",
       "                                             address  number  \n",
       "0         город Москва, улица Егора Абакумова, дом 9      48  \n",
       "1  город Москва, улица Талалихина, дом 2/1, корпус 1      35  \n",
       "2          город Москва, Абельмановская улица, дом 6      95  \n",
       "3            город Москва, Абрамцевская улица, дом 1      40  \n",
       "4  город Москва, Абрамцевская улица, дом 9, корпус 1      50  "
      ]
     },
     "execution_count": 7,
     "metadata": {},
     "output_type": "execute_result"
    }
   ],
   "source": [
    "# приведем написание названий к нижнему регистру\n",
    "data['object_name'] = [c.lower() for c in data['object_name']]\n",
    "data.head()"
   ]
  },
  {
   "cell_type": "code",
   "execution_count": 8,
   "id": "25c5c65c",
   "metadata": {},
   "outputs": [
    {
     "data": {
      "text/plain": [
       "count    15366.000000\n",
       "mean        59.547182\n",
       "std         74.736833\n",
       "min          0.000000\n",
       "25%         12.000000\n",
       "50%         40.000000\n",
       "75%         80.000000\n",
       "max       1700.000000\n",
       "Name: number, dtype: float64"
      ]
     },
     "execution_count": 8,
     "metadata": {},
     "output_type": "execute_result"
    }
   ],
   "source": [
    "data['number'].describe()"
   ]
  },
  {
   "cell_type": "markdown",
   "id": "78228b51",
   "metadata": {},
   "source": [
    "Минимальное количество посадочных мест — 0. Вероятно, это предприятия, которые работают на вынос. Посмотрим, у каких типов заведений количество посадочных мест равно нулю."
   ]
  },
  {
   "cell_type": "code",
   "execution_count": 9,
   "id": "76fef410",
   "metadata": {},
   "outputs": [
    {
     "name": "stdout",
     "output_type": "stream",
     "text": [
      "object_type\n",
      "бар                                   28\n",
      "буфет                                 68\n",
      "закусочная                           189\n",
      "кафе                                 310\n",
      "кафетерий                            113\n",
      "магазин (отдел кулинарии)            145\n",
      "предприятие быстрого обслуживания    704\n",
      "ресторан                              45\n",
      "столовая                              19\n",
      "Name: id, dtype: int64\n",
      "\n",
      "Доля нулей: 10.55%\n"
     ]
    }
   ],
   "source": [
    "print(data.query('number == 0').groupby('object_type')['id'].count())\n",
    "print()\n",
    "print('Доля нулей: {:.2%}'.format(len(data.query('number == 0'))/ len(data)))"
   ]
  },
  {
   "cell_type": "markdown",
   "id": "8b1807b6",
   "metadata": {},
   "source": [
    "Как мы и предполагали, большинство заведений без посадочных мест относятся к предприятиям быстрого обслуживания. Кафе и рестораны с нулем посадочных мест выглядят подозрительно. Вероятно, данные не были предоставлены. Нули составляют значительную долю датасета — 10,5%, показатель не влияет на изучение популярности заведений по видам, поэтому удалять их не будем. Для анализа распределения заведений по количеству мест исключим нулевые и сверхбольшие значения. Изучим, есть ли в данных дубликаты."
   ]
  },
  {
   "cell_type": "code",
   "execution_count": 10,
   "id": "0685dbe2",
   "metadata": {},
   "outputs": [
    {
     "name": "stdout",
     "output_type": "stream",
     "text": [
      "Количество дублирующихся строк в данных: 85\n",
      "Доля дублей в данных: 0.55%\n"
     ]
    }
   ],
   "source": [
    "# отберем из датасета нужные столбцы\n",
    "data_duplicats_check = data.loc[:, 'object_name':'number']\n",
    "# посчитаем количество дублей\n",
    "duplicates = data_duplicats_check.duplicated().sum()\n",
    "\n",
    "# для расчета доли дублей найдем длину массива через функцию len()\n",
    "duplicates_part = duplicates / len(data_duplicats_check)\n",
    "\n",
    "print('Количество дублирующихся строк в данных:', duplicates)\n",
    "print('Доля дублей в данных: {:.2%}'.format(duplicates_part))"
   ]
  },
  {
   "cell_type": "code",
   "execution_count": 11,
   "id": "6e57519b",
   "metadata": {},
   "outputs": [
    {
     "name": "stdout",
     "output_type": "stream",
     "text": [
      "<class 'pandas.core.frame.DataFrame'>\n",
      "Int64Index: 15281 entries, 0 to 15365\n",
      "Data columns (total 5 columns):\n",
      " #   Column       Non-Null Count  Dtype \n",
      "---  ------       --------------  ----- \n",
      " 0   object_name  15281 non-null  object\n",
      " 1   chain        15281 non-null  object\n",
      " 2   object_type  15281 non-null  object\n",
      " 3   address      15281 non-null  object\n",
      " 4   number       15281 non-null  int64 \n",
      "dtypes: int64(1), object(4)\n",
      "memory usage: 716.3+ KB\n"
     ]
    }
   ],
   "source": [
    "data_no_id = data_duplicats_check.drop_duplicates()\n",
    "data_no_id.info()"
   ]
  },
  {
   "cell_type": "markdown",
   "id": "7a6cf730",
   "metadata": {},
   "source": [
    "Посмотрим, какие варианты значений есть в столбце object_type: список должен содержать ограниченное количество значений, не повторяющихся по смыслу."
   ]
  },
  {
   "cell_type": "code",
   "execution_count": 12,
   "id": "45e7823e",
   "metadata": {
    "scrolled": true
   },
   "outputs": [
    {
     "data": {
      "text/html": [
       "<div>\n",
       "<style scoped>\n",
       "    .dataframe tbody tr th:only-of-type {\n",
       "        vertical-align: middle;\n",
       "    }\n",
       "\n",
       "    .dataframe tbody tr th {\n",
       "        vertical-align: top;\n",
       "    }\n",
       "\n",
       "    .dataframe thead th {\n",
       "        text-align: right;\n",
       "    }\n",
       "</style>\n",
       "<table border=\"1\" class=\"dataframe\">\n",
       "  <thead>\n",
       "    <tr style=\"text-align: right;\">\n",
       "      <th></th>\n",
       "      <th>object_type</th>\n",
       "      <th>object_name</th>\n",
       "    </tr>\n",
       "  </thead>\n",
       "  <tbody>\n",
       "    <tr>\n",
       "      <th>0</th>\n",
       "      <td>бар</td>\n",
       "      <td>855</td>\n",
       "    </tr>\n",
       "    <tr>\n",
       "      <th>1</th>\n",
       "      <td>буфет</td>\n",
       "      <td>576</td>\n",
       "    </tr>\n",
       "    <tr>\n",
       "      <th>2</th>\n",
       "      <td>закусочная</td>\n",
       "      <td>348</td>\n",
       "    </tr>\n",
       "    <tr>\n",
       "      <th>3</th>\n",
       "      <td>кафе</td>\n",
       "      <td>6071</td>\n",
       "    </tr>\n",
       "    <tr>\n",
       "      <th>4</th>\n",
       "      <td>кафетерий</td>\n",
       "      <td>395</td>\n",
       "    </tr>\n",
       "    <tr>\n",
       "      <th>5</th>\n",
       "      <td>магазин (отдел кулинарии)</td>\n",
       "      <td>273</td>\n",
       "    </tr>\n",
       "    <tr>\n",
       "      <th>6</th>\n",
       "      <td>предприятие быстрого обслуживания</td>\n",
       "      <td>1897</td>\n",
       "    </tr>\n",
       "    <tr>\n",
       "      <th>7</th>\n",
       "      <td>ресторан</td>\n",
       "      <td>2282</td>\n",
       "    </tr>\n",
       "    <tr>\n",
       "      <th>8</th>\n",
       "      <td>столовая</td>\n",
       "      <td>2584</td>\n",
       "    </tr>\n",
       "  </tbody>\n",
       "</table>\n",
       "</div>"
      ],
      "text/plain": [
       "                         object_type  object_name\n",
       "0                                бар          855\n",
       "1                              буфет          576\n",
       "2                         закусочная          348\n",
       "3                               кафе         6071\n",
       "4                          кафетерий          395\n",
       "5          магазин (отдел кулинарии)          273\n",
       "6  предприятие быстрого обслуживания         1897\n",
       "7                           ресторан         2282\n",
       "8                           столовая         2584"
      ]
     },
     "execution_count": 12,
     "metadata": {},
     "output_type": "execute_result"
    }
   ],
   "source": [
    "# посчитаем количество объектов по типам\n",
    "data_no_id.groupby('object_type').agg({'object_name': 'count'}).reset_index()"
   ]
  },
  {
   "cell_type": "markdown",
   "id": "5c63239c",
   "metadata": {},
   "source": [
    "**Вывод по разделу \"Изучение данных\":** в данных нет пропусков, тип значений в каждой колонке соответствует содержанию. Был небольшой процент дублей (0,55%), которые могли появится в случае сбора данных из разных источников. Дублирующиеся данные удалены, поскольку могу завысить показатели по конкретному типу заведений.\n",
    "В столбце object_type используются однотипные, непротиворечивые значения, замен не требуется. В столбце number (количество посадочных мест) встречаются нули в типах заведений, которые посадочные места предполагают. Поскольку сбор данных происходил из открытых источников, то либо данные в органы статистики не предоставлены, либо имели место ошибки парсинга. При повторном проведении анализа стоит уточнить причину проблемы и по возможности устранить. Текущие данные готовы к анализу."
   ]
  },
  {
   "cell_type": "markdown",
   "id": "af0ac9c7",
   "metadata": {},
   "source": [
    "## <a>Анализ данных</a>"
   ]
  },
  {
   "cell_type": "markdown",
   "id": "e2dbeb25",
   "metadata": {},
   "source": [
    "### Распространенность и вместимость заведений в зависимости от типа"
   ]
  },
  {
   "cell_type": "markdown",
   "id": "a0bcbd54",
   "metadata": {},
   "source": [
    "Изучим, как заведения распределяются по типам, есть ли разница между сетевым и несетевым общепитом, какого среднее количество мест в заведениях."
   ]
  },
  {
   "cell_type": "code",
   "execution_count": 13,
   "id": "ab0f0ba4",
   "metadata": {},
   "outputs": [],
   "source": [
    "# заменим названия типов \"магазин (отдел кулинарии)\" и \"предприятие быстрого обслуживания\" на более короткие\n",
    "data_replaced = data_no_id.replace({'магазин (отдел кулинарии)': 'кулинария', 'предприятие быстрого обслуживания':'фастфуд'})"
   ]
  },
  {
   "cell_type": "code",
   "execution_count": 14,
   "id": "47b10c87",
   "metadata": {},
   "outputs": [],
   "source": [
    "# объявим функцию для построения графиков\n",
    "def bar_maker(data, title, x, y):\n",
    "    with plt.style.context('ggplot'):\n",
    "        data.plot(kind = 'bar', title = title, xlabel = x, ylabel = y, figsize=(9, 5))"
   ]
  },
  {
   "cell_type": "code",
   "execution_count": 15,
   "id": "ab900687",
   "metadata": {},
   "outputs": [
    {
     "data": {
      "image/png": "[encoded data removed]",
      "text/plain": [
       "<Figure size 648x360 with 1 Axes>"
      ]
     },
     "metadata": {},
     "output_type": "display_data"
    }
   ],
   "source": [
    "# построим график\n",
    "bar_maker(data_replaced.groupby('object_type')['object_type'].count().sort_values(ascending=False),\\\n",
    "          'Количество заведений по типам', '', '')"
   ]
  },
  {
   "cell_type": "markdown",
   "id": "51b47628",
   "metadata": {},
   "source": [
    "ТОП-3 заведений по типу:\n",
    "- кафе — более 6000 точек;\n",
    "- столовые — около 2500 заведений;\n",
    "- рестораны — примерно 2300 точек."
   ]
  },
  {
   "cell_type": "code",
   "execution_count": 16,
   "id": "29652452",
   "metadata": {},
   "outputs": [],
   "source": [
    "# найдем долю сетевых заведений в каждом формате\n",
    "data_chain = data_replaced.pivot_table(index = 'object_type', columns = 'chain', values = 'object_name', aggfunc = 'count')\n",
    "data_chain['total'] = data_chain['да'] + data_chain['нет']\n",
    "data_chain['part'] = data_chain.apply(lambda x: (x['да'] / x['total'] * 100), axis=1)\n",
    "\n",
    "# отберем данные для графика\n",
    "data_chain_bar = data_chain.loc[:, 'part']"
   ]
  },
  {
   "cell_type": "code",
   "execution_count": 17,
   "id": "c8b45058",
   "metadata": {},
   "outputs": [
    {
     "data": {
      "image/png": "[encoded data removed]",
      "text/plain": [
       "<Figure size 648x360 with 1 Axes>"
      ]
     },
     "metadata": {},
     "output_type": "display_data"
    }
   ],
   "source": [
    "# воспользуемся ранее объявленной функцией\n",
    "bar_maker(data_chain_bar.sort_values(ascending=False),\\\n",
    "          'Соотношение сетевых и несетевых заведений', '', '')"
   ]
  },
  {
   "cell_type": "markdown",
   "id": "4c40ebfa",
   "metadata": {},
   "source": [
    "Cреди сетевых заведений наибольшую долю имеет фастфуд (более 40% заведений из категории), вторые по популярности кулинарии (около 28%), почти равные доли у ресторанов и кафе (примерно 23-24%). Вероятно, лидерство фастфуда объясняется наличием международных игроков, которые давно развивают бизнес через франчайзинг. Посмотрим, как связано количество заведений сети и количество посадочных мест."
   ]
  },
  {
   "cell_type": "code",
   "execution_count": 18,
   "id": "5dfd79e2",
   "metadata": {},
   "outputs": [
    {
     "data": {
      "image/png": "[encoded data removed]",
      "text/plain": [
       "<Figure size 864x504 with 1 Axes>"
      ]
     },
     "metadata": {},
     "output_type": "display_data"
    }
   ],
   "source": [
    "# подготовим датасет: оставим заведения с количеством мест не более 200\n",
    "data_distribution = data_replaced.query('number > 0 and number <= 200').rename(columns={'chain':'сетевое'})\n",
    "\n",
    "# построим график распределения по сетевым и несетевым заведениям\n",
    "with plt.style.context('ggplot'):\n",
    "    fig, ax = plt.subplots(1, 1, figsize=(12, 7))\n",
    "    sns.histplot(data=data_distribution[['object_name', 'number', 'сетевое']], x = 'number', kde=True, hue='сетевое')\n",
    "    ax.set_title('Распределение мест в заведениях')\n",
    "    ax.set_xlabel('Количество мест')\n",
    "    ax.set_ylabel('Количество наблюдений')\n",
    "    plt.show"
   ]
  },
  {
   "cell_type": "markdown",
   "id": "1f8bc660",
   "metadata": {},
   "source": [
    "Распределения мест по количеству в сетевой и несетевой рознице имеют похожий характер, хотя сетевое распределение менее выраженное, имеет значительно менее выраженные колебания. Посмотрим на распределение мест в сетевой рознице."
   ]
  },
  {
   "cell_type": "code",
   "execution_count": 19,
   "id": "523d227f",
   "metadata": {},
   "outputs": [
    {
     "data": {
      "image/png": "[encoded data removed]",
      "text/plain": [
       "<Figure size 576x576 with 3 Axes>"
      ]
     },
     "metadata": {},
     "output_type": "display_data"
    }
   ],
   "source": [
    "# подготовим датасет, отберем только сетевые заведения\n",
    "data_scatter = data_replaced.query('chain == \"да\"').groupby('object_name')\\\n",
    "                            .agg({'object_name':'count', 'number':'mean'})\n",
    "\n",
    "# построим график\n",
    "with plt.style.context('ggplot'):\n",
    "    s = sns.jointplot(x='number', y='object_name', data=data_scatter, kind='reg')\n",
    "    s.fig.set_figwidth(8)\n",
    "    s.fig.set_figheight(8)\n",
    "    s.fig.suptitle('Соотношение количества посадочных месте к числу заведений', fontsize=16)\n",
    "    s.fig.subplots_adjust(top = 0.92)\n",
    "    s.set_axis_labels('Количество посадочных мест', 'Число заведений')"
   ]
  },
  {
   "cell_type": "markdown",
   "id": "a012c7fa",
   "metadata": {},
   "source": [
    "Чаще всего, в состав сетей входит небольшое количество заведений (до 20) с небольшим количество посадочных мест (до 50). Надо отметить, что в анализируемом датасете большую часть составляют сети с одним заведением и широким разбросом вместимости (до 300 мест), но также встречаются и крупные сети (до 160 заведений) с 60-70 местами (вероятно, как раз в эту категорию попадают заведения фастфуда)."
   ]
  },
  {
   "cell_type": "code",
   "execution_count": 20,
   "id": "d80d5e10",
   "metadata": {},
   "outputs": [
    {
     "data": {
      "image/png": "[encoded data removed]",
      "text/plain": [
       "<Figure size 648x360 with 1 Axes>"
      ]
     },
     "metadata": {},
     "output_type": "display_data"
    }
   ],
   "source": [
    "# воспользуемся ранее написанной функцией\n",
    "bar_maker(data_replaced.rename(columns={'chain':'сетевое'})\\\n",
    "          .pivot_table(index='object_type', columns = 'сетевое', values='number', aggfunc='mean'),\\\n",
    "          'Среднее количество посадочных мест по типам заведений', '', '')"
   ]
  },
  {
   "cell_type": "markdown",
   "id": "48e07b6f",
   "metadata": {},
   "source": [
    "Закономерным является факт, что наибольшее количество посадочных мест в столовых (более 100). Следующие по вместимости рестораны (сетевые и несетевые) практически — 100 мест. Третье место у баров — около 50.\n",
    "Наиболее сильные разброс в количестве посадочных мест между сетевой и несетевой розницей в буфетах и фастфуде: сетевой фастфуд обычно большой (40 посадочных мест), тогда как в несетевом менее 5 мест в среднем. Вероятно, несетевой фастфуд вообще работает на вынос. А вот с буфетами ситуация обратная — сетевые заведения компактные (около 10 мест), а несетевые сопоставимы с барами (50 мест)."
   ]
  },
  {
   "cell_type": "markdown",
   "id": "64177a9b",
   "metadata": {},
   "source": [
    "### Географическая представленность заведений"
   ]
  },
  {
   "cell_type": "markdown",
   "id": "3ef5e4df",
   "metadata": {},
   "source": [
    "#### Обогащение данных: выделение улиц, добавление данных о районе"
   ]
  },
  {
   "cell_type": "markdown",
   "id": "a5ce727e",
   "metadata": {},
   "source": [
    "Для дальнейшего анализа выделим из адреса улицу и добавим данные о районе из внешнего источника."
   ]
  },
  {
   "cell_type": "code",
   "execution_count": 21,
   "id": "8d132fa9",
   "metadata": {},
   "outputs": [],
   "source": [
    "# объявим функцию, которая будет выделять название улицы/проспекта/переулка и так далее,\n",
    "# вне зависимости от взаимного расположения типа и названия\n",
    "# закомментирована обработка населенных пунктов второго уровня и вывод необработанных значений\n",
    "def street(address): \n",
    "    types = ['улица', 'переулок', 'шоссе', 'проезд', 'проспект', 'набережная', 'бульвар', 'площадь', \n",
    "             'аллея', 'тупик', 'микрорайон', 'квартал[^,]*', 'линия[^,]*', 'территория',  \n",
    "#             'поселение [^,]*, (село|посёлок|деревня|рабочий посёлок)[^,]*', 'километр', \n",
    "#             'просек', 'вблизи', '(рабочий )*посёлок' \n",
    "            ] \n",
    "    m = re.search(f\"({'|'.join([f'{t} ([^,]+)|([^,]+) {t}' for t in types])})\", address) \n",
    "    if m is not None: \n",
    "        return m.group(1).strip() \n",
    "    else: \n",
    "#        print(address) \n",
    "        return ''\n",
    "\n",
    "# объявим функцию, которая форматирует название улицы: выносит название типа вперед\n",
    "def proper_street(street):\n",
    "    types = ['улица', 'переулок', 'шоссе', 'проезд', 'проспект', 'набережная', 'бульвар', 'площадь',\n",
    "             'аллея', 'тупик', 'микрорайон']\n",
    "    \n",
    "    def repl(m):\n",
    "        if street.find(m.group(1)) == 0:\n",
    "            return street\n",
    "        mm = re.search(f\"(.*) ({m.group(1)})\", street)\n",
    "        return f\"{mm.group(2)} {mm.group(1)}\"\n",
    "\n",
    "    return re.sub(f\"^.*({'|'.join([f'{t}' for t in types])}).*$\", repl, street)\n",
    "\n",
    "# добавим соответствующий столбец к данным, применим к нему последовательно обе ранее написанные функции\n",
    "data_replaced['street'] = data_replaced['address'].apply(lambda x: street(x))\n",
    "data_replaced['street'] = data_replaced['street'].apply(lambda x: proper_street(x))"
   ]
  },
  {
   "cell_type": "markdown",
   "id": "0e77c84d",
   "metadata": {},
   "source": [
    "В новой переменной сохраним данные по улицам города Москва, без учета поселков, деревень и Зеленограда — для рассматриваемой концепции (кафе с официантами-роботами) не подойдут небольшие населенные пункты, у кафе должна быть хорошая транспортная и, желательно, пешеходная доступность. Поэтому анализ будем проводить для заведений непосредственно в Москве."
   ]
  },
  {
   "cell_type": "code",
   "execution_count": 22,
   "id": "3a647801",
   "metadata": {
    "scrolled": true
   },
   "outputs": [
    {
     "name": "stdout",
     "output_type": "stream",
     "text": [
      "<class 'pandas.core.frame.DataFrame'>\n",
      "Int64Index: 14989 entries, 0 to 15365\n",
      "Data columns (total 6 columns):\n",
      " #   Column       Non-Null Count  Dtype \n",
      "---  ------       --------------  ----- \n",
      " 0   object_name  14989 non-null  object\n",
      " 1   chain        14989 non-null  object\n",
      " 2   object_type  14989 non-null  object\n",
      " 3   address      14989 non-null  object\n",
      " 4   number       14989 non-null  int64 \n",
      " 5   street       14989 non-null  object\n",
      "dtypes: int64(1), object(5)\n",
      "memory usage: 819.7+ KB\n"
     ]
    },
    {
     "data": {
      "text/html": [
       "<div>\n",
       "<style scoped>\n",
       "    .dataframe tbody tr th:only-of-type {\n",
       "        vertical-align: middle;\n",
       "    }\n",
       "\n",
       "    .dataframe tbody tr th {\n",
       "        vertical-align: top;\n",
       "    }\n",
       "\n",
       "    .dataframe thead th {\n",
       "        text-align: right;\n",
       "    }\n",
       "</style>\n",
       "<table border=\"1\" class=\"dataframe\">\n",
       "  <thead>\n",
       "    <tr style=\"text-align: right;\">\n",
       "      <th></th>\n",
       "      <th>id</th>\n",
       "      <th>object_name</th>\n",
       "      <th>chain</th>\n",
       "      <th>object_type</th>\n",
       "      <th>address</th>\n",
       "      <th>number</th>\n",
       "    </tr>\n",
       "  </thead>\n",
       "  <tbody>\n",
       "    <tr>\n",
       "      <th>15361</th>\n",
       "      <td>208537</td>\n",
       "      <td>шоколадница</td>\n",
       "      <td>да</td>\n",
       "      <td>кафе</td>\n",
       "      <td>город Москва, 3-й Крутицкий переулок, дом 18</td>\n",
       "      <td>50</td>\n",
       "    </tr>\n",
       "    <tr>\n",
       "      <th>15362</th>\n",
       "      <td>209264</td>\n",
       "      <td>шоколадница</td>\n",
       "      <td>да</td>\n",
       "      <td>кафе</td>\n",
       "      <td>город Москва, улица Земляной Вал, дом 33</td>\n",
       "      <td>10</td>\n",
       "    </tr>\n",
       "    <tr>\n",
       "      <th>15363</th>\n",
       "      <td>209186</td>\n",
       "      <td>шоколадница</td>\n",
       "      <td>да</td>\n",
       "      <td>кафе</td>\n",
       "      <td>город Москва, улица Земляной Вал, дом 33</td>\n",
       "      <td>20</td>\n",
       "    </tr>\n",
       "    <tr>\n",
       "      <th>15364</th>\n",
       "      <td>221900</td>\n",
       "      <td>шоколадница</td>\n",
       "      <td>да</td>\n",
       "      <td>кафе</td>\n",
       "      <td>город Москва, поселение Московский, Киевское ш...</td>\n",
       "      <td>36</td>\n",
       "    </tr>\n",
       "    <tr>\n",
       "      <th>15365</th>\n",
       "      <td>222535</td>\n",
       "      <td>шоколадница</td>\n",
       "      <td>да</td>\n",
       "      <td>кафе</td>\n",
       "      <td>город Москва, Ходынский бульвар, дом 4</td>\n",
       "      <td>10</td>\n",
       "    </tr>\n",
       "  </tbody>\n",
       "</table>\n",
       "</div>"
      ],
      "text/plain": [
       "           id  object_name chain object_type  \\\n",
       "15361  208537  шоколадница    да        кафе   \n",
       "15362  209264  шоколадница    да        кафе   \n",
       "15363  209186  шоколадница    да        кафе   \n",
       "15364  221900  шоколадница    да        кафе   \n",
       "15365  222535  шоколадница    да        кафе   \n",
       "\n",
       "                                                 address  number  \n",
       "15361       город Москва, 3-й Крутицкий переулок, дом 18      50  \n",
       "15362           город Москва, улица Земляной Вал, дом 33      10  \n",
       "15363           город Москва, улица Земляной Вал, дом 33      20  \n",
       "15364  город Москва, поселение Московский, Киевское ш...      36  \n",
       "15365             город Москва, Ходынский бульвар, дом 4      10  "
      ]
     },
     "execution_count": 22,
     "metadata": {},
     "output_type": "execute_result"
    }
   ],
   "source": [
    "# подготовим датасет и изучим информацию о нем\n",
    "data_cleaned = data_replaced.query(\"street != ''\")\n",
    "data_cleaned.info()\n",
    "data.tail()"
   ]
  },
  {
   "cell_type": "markdown",
   "id": "66cbcaeb",
   "metadata": {},
   "source": [
    "В очищенном датасете 14989 значения (исключено 2% данных). Функции отработали верно, в отдельном столбце для каждого заведения сохранена улица. Добавим данные о районе."
   ]
  },
  {
   "cell_type": "code",
   "execution_count": 23,
   "id": "a6e0505b",
   "metadata": {},
   "outputs": [
    {
     "data": {
      "text/html": [
       "<div>\n",
       "<style scoped>\n",
       "    .dataframe tbody tr th:only-of-type {\n",
       "        vertical-align: middle;\n",
       "    }\n",
       "\n",
       "    .dataframe tbody tr th {\n",
       "        vertical-align: top;\n",
       "    }\n",
       "\n",
       "    .dataframe thead th {\n",
       "        text-align: right;\n",
       "    }\n",
       "</style>\n",
       "<table border=\"1\" class=\"dataframe\">\n",
       "  <thead>\n",
       "    <tr style=\"text-align: right;\">\n",
       "      <th></th>\n",
       "      <th>streetname</th>\n",
       "      <th>areaid</th>\n",
       "      <th>okrug</th>\n",
       "      <th>area</th>\n",
       "    </tr>\n",
       "  </thead>\n",
       "  <tbody>\n",
       "    <tr>\n",
       "      <th>0</th>\n",
       "      <td>Выставочный переулок</td>\n",
       "      <td>17</td>\n",
       "      <td>ЦАО</td>\n",
       "      <td>Пресненский район</td>\n",
       "    </tr>\n",
       "    <tr>\n",
       "      <th>1</th>\n",
       "      <td>улица Гашека</td>\n",
       "      <td>17</td>\n",
       "      <td>ЦАО</td>\n",
       "      <td>Пресненский район</td>\n",
       "    </tr>\n",
       "    <tr>\n",
       "      <th>2</th>\n",
       "      <td>Большая Никитская улица</td>\n",
       "      <td>17</td>\n",
       "      <td>ЦАО</td>\n",
       "      <td>Пресненский район</td>\n",
       "    </tr>\n",
       "    <tr>\n",
       "      <th>3</th>\n",
       "      <td>Глубокий переулок</td>\n",
       "      <td>17</td>\n",
       "      <td>ЦАО</td>\n",
       "      <td>Пресненский район</td>\n",
       "    </tr>\n",
       "    <tr>\n",
       "      <th>4</th>\n",
       "      <td>Большой Гнездниковский переулок</td>\n",
       "      <td>17</td>\n",
       "      <td>ЦАО</td>\n",
       "      <td>Пресненский район</td>\n",
       "    </tr>\n",
       "  </tbody>\n",
       "</table>\n",
       "</div>"
      ],
      "text/plain": [
       "                        streetname  areaid okrug               area\n",
       "0             Выставочный переулок      17   ЦАО  Пресненский район\n",
       "1                     улица Гашека      17   ЦАО  Пресненский район\n",
       "2          Большая Никитская улица      17   ЦАО  Пресненский район\n",
       "3                Глубокий переулок      17   ЦАО  Пресненский район\n",
       "4  Большой Гнездниковский переулок      17   ЦАО  Пресненский район"
      ]
     },
     "execution_count": 23,
     "metadata": {},
     "output_type": "execute_result"
    }
   ],
   "source": [
    "# испортируем данные о районах\n",
    "from io import BytesIO\n",
    "import requests\n",
    "spreadsheet_id = '1Tdox1-IcgsyERKyyrorrtxJE-VDjNy3wHlC49rAW14k'\n",
    "file_name = 'https://docs.google.com/spreadsheets/d/{}/export?format=csv'.format(spreadsheet_id)\n",
    "r = requests.get(file_name)\n",
    "district = pd.read_csv(BytesIO(r.content))\n",
    "\n",
    "# изучим образец данных\n",
    "district.head()"
   ]
  },
  {
   "cell_type": "code",
   "execution_count": 24,
   "id": "84205c41",
   "metadata": {},
   "outputs": [],
   "source": [
    "# вынесем название улицы/переулка/шoссе вперед, воспользуемся ранее написанной функцией\n",
    "district['street'] = district['streetname'].apply(lambda x: proper_street(x))\n",
    "\n",
    "# выберем один район для каждой улицы\n",
    "dist_cut = district.groupby(by = 'street').agg({'area': 'min'}).reset_index()"
   ]
  },
  {
   "cell_type": "code",
   "execution_count": 25,
   "id": "e6c814cc",
   "metadata": {
    "scrolled": false
   },
   "outputs": [
    {
     "data": {
      "text/html": [
       "<div>\n",
       "<style scoped>\n",
       "    .dataframe tbody tr th:only-of-type {\n",
       "        vertical-align: middle;\n",
       "    }\n",
       "\n",
       "    .dataframe tbody tr th {\n",
       "        vertical-align: top;\n",
       "    }\n",
       "\n",
       "    .dataframe thead th {\n",
       "        text-align: right;\n",
       "    }\n",
       "</style>\n",
       "<table border=\"1\" class=\"dataframe\">\n",
       "  <thead>\n",
       "    <tr style=\"text-align: right;\">\n",
       "      <th></th>\n",
       "      <th>object_name</th>\n",
       "      <th>chain</th>\n",
       "      <th>object_type</th>\n",
       "      <th>address</th>\n",
       "      <th>number</th>\n",
       "      <th>street</th>\n",
       "      <th>area</th>\n",
       "    </tr>\n",
       "  </thead>\n",
       "  <tbody>\n",
       "    <tr>\n",
       "      <th>0</th>\n",
       "      <td>сметана</td>\n",
       "      <td>нет</td>\n",
       "      <td>кафе</td>\n",
       "      <td>город Москва, улица Егора Абакумова, дом 9</td>\n",
       "      <td>48</td>\n",
       "      <td>улица Егора Абакумова</td>\n",
       "      <td>Ярославский Район</td>\n",
       "    </tr>\n",
       "    <tr>\n",
       "      <th>1</th>\n",
       "      <td>родник</td>\n",
       "      <td>нет</td>\n",
       "      <td>кафе</td>\n",
       "      <td>город Москва, улица Талалихина, дом 2/1, корпус 1</td>\n",
       "      <td>35</td>\n",
       "      <td>улица Талалихина</td>\n",
       "      <td>Нижегородский район</td>\n",
       "    </tr>\n",
       "    <tr>\n",
       "      <th>2</th>\n",
       "      <td>кафе «академия»</td>\n",
       "      <td>нет</td>\n",
       "      <td>кафе</td>\n",
       "      <td>город Москва, Абельмановская улица, дом 6</td>\n",
       "      <td>95</td>\n",
       "      <td>улица Абельмановская</td>\n",
       "      <td>Таганский район</td>\n",
       "    </tr>\n",
       "    <tr>\n",
       "      <th>3</th>\n",
       "      <td>пиццетория</td>\n",
       "      <td>да</td>\n",
       "      <td>кафе</td>\n",
       "      <td>город Москва, Абрамцевская улица, дом 1</td>\n",
       "      <td>40</td>\n",
       "      <td>улица Абрамцевская</td>\n",
       "      <td>Район Лианозово</td>\n",
       "    </tr>\n",
       "    <tr>\n",
       "      <th>4</th>\n",
       "      <td>кафе «вишневая метель»</td>\n",
       "      <td>нет</td>\n",
       "      <td>кафе</td>\n",
       "      <td>город Москва, Абрамцевская улица, дом 9, корпус 1</td>\n",
       "      <td>50</td>\n",
       "      <td>улица Абрамцевская</td>\n",
       "      <td>Район Лианозово</td>\n",
       "    </tr>\n",
       "  </tbody>\n",
       "</table>\n",
       "</div>"
      ],
      "text/plain": [
       "              object_name chain object_type  \\\n",
       "0                 сметана   нет        кафе   \n",
       "1                  родник   нет        кафе   \n",
       "2         кафе «академия»   нет        кафе   \n",
       "3              пиццетория    да        кафе   \n",
       "4  кафе «вишневая метель»   нет        кафе   \n",
       "\n",
       "                                             address  number  \\\n",
       "0         город Москва, улица Егора Абакумова, дом 9      48   \n",
       "1  город Москва, улица Талалихина, дом 2/1, корпус 1      35   \n",
       "2          город Москва, Абельмановская улица, дом 6      95   \n",
       "3            город Москва, Абрамцевская улица, дом 1      40   \n",
       "4  город Москва, Абрамцевская улица, дом 9, корпус 1      50   \n",
       "\n",
       "                  street                 area  \n",
       "0  улица Егора Абакумова    Ярославский Район  \n",
       "1       улица Талалихина  Нижегородский район  \n",
       "2   улица Абельмановская      Таганский район  \n",
       "3     улица Абрамцевская      Район Лианозово  \n",
       "4     улица Абрамцевская      Район Лианозово  "
      ]
     },
     "execution_count": 25,
     "metadata": {},
     "output_type": "execute_result"
    }
   ],
   "source": [
    "# в новый датасет добавим столбец с районами\n",
    "data_dist = data_cleaned.merge(dist_cut, how = 'left', on = 'street')\n",
    "\n",
    "# изучим получившийся датасет\n",
    "data_dist.head()"
   ]
  },
  {
   "cell_type": "markdown",
   "id": "6c227eec",
   "metadata": {},
   "source": [
    "Операции проведены корректно, район добавлен. Посмотрим, во всех ли случаях сработал подбор."
   ]
  },
  {
   "cell_type": "code",
   "execution_count": 26,
   "id": "f8a94672",
   "metadata": {},
   "outputs": [
    {
     "name": "stdout",
     "output_type": "stream",
     "text": [
      "<class 'pandas.core.frame.DataFrame'>\n",
      "Int64Index: 14989 entries, 0 to 14988\n",
      "Data columns (total 7 columns):\n",
      " #   Column       Non-Null Count  Dtype \n",
      "---  ------       --------------  ----- \n",
      " 0   object_name  14989 non-null  object\n",
      " 1   chain        14989 non-null  object\n",
      " 2   object_type  14989 non-null  object\n",
      " 3   address      14989 non-null  object\n",
      " 4   number       14989 non-null  int64 \n",
      " 5   street       14989 non-null  object\n",
      " 6   area         14516 non-null  object\n",
      "dtypes: int64(1), object(6)\n",
      "memory usage: 936.8+ KB\n"
     ]
    }
   ],
   "source": [
    "data_dist.info()"
   ]
  },
  {
   "cell_type": "markdown",
   "id": "e9fef8d8",
   "metadata": {},
   "source": [
    "Из 14989 строк значения подобраны в 14516 случаях (96,8%). Проверим, есть ли нужные данные в файле с районами."
   ]
  },
  {
   "cell_type": "code",
   "execution_count": 27,
   "id": "a08dfb84",
   "metadata": {
    "scrolled": true
   },
   "outputs": [
    {
     "data": {
      "text/html": [
       "<div>\n",
       "<style scoped>\n",
       "    .dataframe tbody tr th:only-of-type {\n",
       "        vertical-align: middle;\n",
       "    }\n",
       "\n",
       "    .dataframe tbody tr th {\n",
       "        vertical-align: top;\n",
       "    }\n",
       "\n",
       "    .dataframe thead th {\n",
       "        text-align: right;\n",
       "    }\n",
       "</style>\n",
       "<table border=\"1\" class=\"dataframe\">\n",
       "  <thead>\n",
       "    <tr style=\"text-align: right;\">\n",
       "      <th></th>\n",
       "      <th>object_name</th>\n",
       "      <th>chain</th>\n",
       "      <th>object_type</th>\n",
       "      <th>address</th>\n",
       "      <th>number</th>\n",
       "      <th>street</th>\n",
       "      <th>area</th>\n",
       "    </tr>\n",
       "  </thead>\n",
       "  <tbody>\n",
       "    <tr>\n",
       "      <th>1451</th>\n",
       "      <td>кафе «шашлычок»</td>\n",
       "      <td>нет</td>\n",
       "      <td>кафе</td>\n",
       "      <td>город Москва, 3-й Митинский переулок, дом 1</td>\n",
       "      <td>44</td>\n",
       "      <td>переулок 3-й Митинский</td>\n",
       "      <td>NaN</td>\n",
       "    </tr>\n",
       "    <tr>\n",
       "      <th>1654</th>\n",
       "      <td>ани</td>\n",
       "      <td>нет</td>\n",
       "      <td>кафе</td>\n",
       "      <td>город Москва, улица Руднёвка, дом 14</td>\n",
       "      <td>32</td>\n",
       "      <td>улица Руднёвка</td>\n",
       "      <td>NaN</td>\n",
       "    </tr>\n",
       "    <tr>\n",
       "      <th>1679</th>\n",
       "      <td>пицца лэнд</td>\n",
       "      <td>нет</td>\n",
       "      <td>фастфуд</td>\n",
       "      <td>город Москва, проспект Защитников Москвы, дом 14</td>\n",
       "      <td>20</td>\n",
       "      <td>проспект Защитников Москвы</td>\n",
       "      <td>NaN</td>\n",
       "    </tr>\n",
       "    <tr>\n",
       "      <th>1726</th>\n",
       "      <td>чайхона №1</td>\n",
       "      <td>да</td>\n",
       "      <td>ресторан</td>\n",
       "      <td>город Москва, улица Мичуринский Проспект, Олим...</td>\n",
       "      <td>94</td>\n",
       "      <td>улица Мичуринский Проспект</td>\n",
       "      <td>NaN</td>\n",
       "    </tr>\n",
       "    <tr>\n",
       "      <th>1838</th>\n",
       "      <td>кафе «мама миа»</td>\n",
       "      <td>нет</td>\n",
       "      <td>кафе</td>\n",
       "      <td>город Москва, поселение Внуковское, улица Лётч...</td>\n",
       "      <td>12</td>\n",
       "      <td>улица Лётчика Ульянина</td>\n",
       "      <td>NaN</td>\n",
       "    </tr>\n",
       "  </tbody>\n",
       "</table>\n",
       "</div>"
      ],
      "text/plain": [
       "          object_name chain object_type  \\\n",
       "1451  кафе «шашлычок»   нет        кафе   \n",
       "1654              ани   нет        кафе   \n",
       "1679       пицца лэнд   нет     фастфуд   \n",
       "1726       чайхона №1    да    ресторан   \n",
       "1838  кафе «мама миа»   нет        кафе   \n",
       "\n",
       "                                                address  number  \\\n",
       "1451        город Москва, 3-й Митинский переулок, дом 1      44   \n",
       "1654               город Москва, улица Руднёвка, дом 14      32   \n",
       "1679   город Москва, проспект Защитников Москвы, дом 14      20   \n",
       "1726  город Москва, улица Мичуринский Проспект, Олим...      94   \n",
       "1838  город Москва, поселение Внуковское, улица Лётч...      12   \n",
       "\n",
       "                          street area  \n",
       "1451      переулок 3-й Митинский  NaN  \n",
       "1654              улица Руднёвка  NaN  \n",
       "1679  проспект Защитников Москвы  NaN  \n",
       "1726  улица Мичуринский Проспект  NaN  \n",
       "1838      улица Лётчика Ульянина  NaN  "
      ]
     },
     "execution_count": 27,
     "metadata": {},
     "output_type": "execute_result"
    }
   ],
   "source": [
    "# отберем строки без значений\n",
    "data_dist.loc[data_dist['area'].isnull()].head()"
   ]
  },
  {
   "cell_type": "code",
   "execution_count": 28,
   "id": "e51c6a5b",
   "metadata": {},
   "outputs": [
    {
     "name": "stdout",
     "output_type": "stream",
     "text": [
      "Найдено значений: 0\n",
      "Найдено значений: 0\n",
      "Найдено значений: 0\n"
     ]
    }
   ],
   "source": [
    "# попробуем найти несколько улиц в изначальном датасете district\n",
    "print('Найдено значений:', len(district.query('street == \"улица Руднёвка\"')))\n",
    "print('Найдено значений:', len(district.query('street == \"проспект Защитников Москвы\"')))\n",
    "print('Найдено значений:', len(district.query('street == \"переулок 3-й Митинский\"')))"
   ]
  },
  {
   "cell_type": "markdown",
   "id": "9202adc7",
   "metadata": {},
   "source": [
    "Выборочная проверка показала, что искомых данных нет в изначальном списке улиц. Доля пустых значений 3,2% не является критичной. Будем работать с заполненными полями."
   ]
  },
  {
   "cell_type": "markdown",
   "id": "d46b2d48",
   "metadata": {},
   "source": [
    "#### Анализ заведений по улицам и районам"
   ]
  },
  {
   "cell_type": "markdown",
   "id": "acc2f84f",
   "metadata": {},
   "source": [
    "Изучим ТОП-10 улиц Москвы по количеству заведений."
   ]
  },
  {
   "cell_type": "code",
   "execution_count": 29,
   "id": "d71d8a6a",
   "metadata": {},
   "outputs": [
    {
     "data": {
      "image/png": "[encoded data removed]",
      "text/plain": [
       "<Figure size 648x360 with 1 Axes>"
      ]
     },
     "metadata": {},
     "output_type": "display_data"
    }
   ],
   "source": [
    "# с помощью ранее заданной функции построим график\n",
    "bar_maker(data_dist.groupby('street').agg({'object_name': 'count'}).rename(columns={'object_name':'Количество'})\\\n",
    "                .sort_values(by = 'Количество', ascending = False).head(10),\\\n",
    "          'Наиболее популярные улицы по количеству заведений', '', '')"
   ]
  },
  {
   "cell_type": "markdown",
   "id": "71ac506b",
   "metadata": {},
   "source": [
    "На популярных улицах более 100 заведений, на самой популярной — проспекте Мира — более 200 заведений. Посмотрим, есть ли предпочтения у рестораторов относительно районов."
   ]
  },
  {
   "cell_type": "code",
   "execution_count": 30,
   "id": "359fa1c5",
   "metadata": {},
   "outputs": [
    {
     "data": {
      "text/html": [
       "<div>\n",
       "<style scoped>\n",
       "    .dataframe tbody tr th:only-of-type {\n",
       "        vertical-align: middle;\n",
       "    }\n",
       "\n",
       "    .dataframe tbody tr th {\n",
       "        vertical-align: top;\n",
       "    }\n",
       "\n",
       "    .dataframe thead th {\n",
       "        text-align: right;\n",
       "    }\n",
       "</style>\n",
       "<table border=\"1\" class=\"dataframe\">\n",
       "  <thead>\n",
       "    <tr style=\"text-align: right;\">\n",
       "      <th></th>\n",
       "      <th>area</th>\n",
       "      <th>quantity</th>\n",
       "    </tr>\n",
       "  </thead>\n",
       "  <tbody>\n",
       "    <tr>\n",
       "      <th>2</th>\n",
       "      <td>Донской район</td>\n",
       "      <td>313</td>\n",
       "    </tr>\n",
       "    <tr>\n",
       "      <th>1</th>\n",
       "      <td>Алексеевский район</td>\n",
       "      <td>203</td>\n",
       "    </tr>\n",
       "    <tr>\n",
       "      <th>0</th>\n",
       "      <td>Академический район</td>\n",
       "      <td>182</td>\n",
       "    </tr>\n",
       "    <tr>\n",
       "      <th>5</th>\n",
       "      <td>Район Аэропорт</td>\n",
       "      <td>172</td>\n",
       "    </tr>\n",
       "    <tr>\n",
       "      <th>4</th>\n",
       "      <td>Пресненский район</td>\n",
       "      <td>167</td>\n",
       "    </tr>\n",
       "    <tr>\n",
       "      <th>3</th>\n",
       "      <td>Ломоносовский район</td>\n",
       "      <td>128</td>\n",
       "    </tr>\n",
       "    <tr>\n",
       "      <th>6</th>\n",
       "      <td>Район Дорогомилово</td>\n",
       "      <td>114</td>\n",
       "    </tr>\n",
       "    <tr>\n",
       "      <th>7</th>\n",
       "      <td>Район Москворечье-Сабурово</td>\n",
       "      <td>111</td>\n",
       "    </tr>\n",
       "    <tr>\n",
       "      <th>8</th>\n",
       "      <td>Район Чертаново Северное</td>\n",
       "      <td>108</td>\n",
       "    </tr>\n",
       "  </tbody>\n",
       "</table>\n",
       "</div>"
      ],
      "text/plain": [
       "                         area  quantity\n",
       "2               Донской район       313\n",
       "1          Алексеевский район       203\n",
       "0         Академический район       182\n",
       "5              Район Аэропорт       172\n",
       "4           Пресненский район       167\n",
       "3         Ломоносовский район       128\n",
       "6          Район Дорогомилово       114\n",
       "7  Район Москворечье-Сабурово       111\n",
       "8    Район Чертаново Северное       108"
      ]
     },
     "execution_count": 30,
     "metadata": {},
     "output_type": "execute_result"
    }
   ],
   "source": [
    "# создадим таблицу с заведениями на популярных улицах\n",
    "street_dist = data_dist.groupby('street').agg({'object_name': 'count'}).reset_index()\\\n",
    "                        .sort_values(by = 'object_name', ascending = False).head(10)\n",
    "street_list = list(set(street_dist['street']))\n",
    "popular_streets = data_dist.query('street in @street_list')\n",
    "\n",
    "# посмотрим, в каких районах больше всего заведений\n",
    "popular_streets.groupby('area')['object_name'].count().reset_index().sort_values(by = 'object_name', ascending = False)\\\n",
    "                .rename(columns={'object_name':'quantity'})"
   ]
  },
  {
   "cell_type": "markdown",
   "id": "b3cfd0c6",
   "metadata": {},
   "source": [
    "Почти все улицы относятся к разным районам. Популярные районы находятся в разных частях Москвы, ни один не попадает в непосредственный центр — вероятно, высокие арендные ставки являются препятствием для развития заведений общепита, поэтому кафе и рестораны открывают рядом: Пресненский район и Дорогомилово находятся в непосредственной близости от Арбата. Изучим, заведение каких форматов и с какой вместительностью размещаются на этих улицах."
   ]
  },
  {
   "cell_type": "code",
   "execution_count": 31,
   "id": "3f8e5855",
   "metadata": {
    "scrolled": true
   },
   "outputs": [
    {
     "data": {
      "text/html": [
       "<div>\n",
       "<style scoped>\n",
       "    .dataframe tbody tr th:only-of-type {\n",
       "        vertical-align: middle;\n",
       "    }\n",
       "\n",
       "    .dataframe tbody tr th {\n",
       "        vertical-align: top;\n",
       "    }\n",
       "\n",
       "    .dataframe thead th {\n",
       "        text-align: right;\n",
       "    }\n",
       "</style>\n",
       "<table border=\"1\" class=\"dataframe\">\n",
       "  <thead>\n",
       "    <tr style=\"text-align: right;\">\n",
       "      <th></th>\n",
       "      <th>object_type</th>\n",
       "      <th>quantity</th>\n",
       "      <th>part</th>\n",
       "    </tr>\n",
       "  </thead>\n",
       "  <tbody>\n",
       "    <tr>\n",
       "      <th>3</th>\n",
       "      <td>кафе</td>\n",
       "      <td>633</td>\n",
       "      <td>42.26%</td>\n",
       "    </tr>\n",
       "    <tr>\n",
       "      <th>6</th>\n",
       "      <td>ресторан</td>\n",
       "      <td>290</td>\n",
       "      <td>19.36%</td>\n",
       "    </tr>\n",
       "    <tr>\n",
       "      <th>8</th>\n",
       "      <td>фастфуд</td>\n",
       "      <td>253</td>\n",
       "      <td>16.89%</td>\n",
       "    </tr>\n",
       "    <tr>\n",
       "      <th>7</th>\n",
       "      <td>столовая</td>\n",
       "      <td>139</td>\n",
       "      <td>9.28%</td>\n",
       "    </tr>\n",
       "    <tr>\n",
       "      <th>0</th>\n",
       "      <td>бар</td>\n",
       "      <td>63</td>\n",
       "      <td>4.21%</td>\n",
       "    </tr>\n",
       "    <tr>\n",
       "      <th>4</th>\n",
       "      <td>кафетерий</td>\n",
       "      <td>48</td>\n",
       "      <td>3.20%</td>\n",
       "    </tr>\n",
       "    <tr>\n",
       "      <th>1</th>\n",
       "      <td>буфет</td>\n",
       "      <td>32</td>\n",
       "      <td>2.14%</td>\n",
       "    </tr>\n",
       "    <tr>\n",
       "      <th>5</th>\n",
       "      <td>кулинария</td>\n",
       "      <td>24</td>\n",
       "      <td>1.60%</td>\n",
       "    </tr>\n",
       "    <tr>\n",
       "      <th>2</th>\n",
       "      <td>закусочная</td>\n",
       "      <td>16</td>\n",
       "      <td>1.07%</td>\n",
       "    </tr>\n",
       "  </tbody>\n",
       "</table>\n",
       "</div>"
      ],
      "text/plain": [
       "  object_type  quantity    part\n",
       "3        кафе       633  42.26%\n",
       "6    ресторан       290  19.36%\n",
       "8     фастфуд       253  16.89%\n",
       "7    столовая       139   9.28%\n",
       "0         бар        63   4.21%\n",
       "4   кафетерий        48   3.20%\n",
       "1       буфет        32   2.14%\n",
       "5   кулинария        24   1.60%\n",
       "2  закусочная        16   1.07%"
      ]
     },
     "execution_count": 31,
     "metadata": {},
     "output_type": "execute_result"
    }
   ],
   "source": [
    "# посчитаем количество заведений по типам\n",
    "popular_types = popular_streets.groupby('object_type')['object_name'].count().reset_index()\\\n",
    "                .sort_values(by = 'object_name', ascending = False)\\\n",
    "                .rename(columns = {'object_name':'quantity'})\n",
    "\n",
    "# найдем общее количество заведений в таблице\n",
    "total = popular_types.sum(axis = 0)\n",
    "\n",
    "# добавим столбец с долей каждого типа в общем количестве\n",
    "popular_types['part'] = popular_types.apply(lambda x: '{:.2f}%'.format(x['quantity'] / total['quantity'] * 100), axis=1)\n",
    "popular_types"
   ]
  },
  {
   "cell_type": "markdown",
   "id": "c52c3640",
   "metadata": {},
   "source": [
    "Самый популярный формат — кафе (42%), их количество в 2 раза превышает рестораны, расположившиеся на второй строчке. Количество заведений фастфуда практически совпадает с ресторанами. Бары, кафетерии, буфеты, кулинарии и закусочные вместе составляют чуть более 20% от количества заведений. Посмотрим, чаще встречаются вместительные заведения или компактные."
   ]
  },
  {
   "cell_type": "code",
   "execution_count": 32,
   "id": "4bca4beb",
   "metadata": {},
   "outputs": [
    {
     "data": {
      "image/png": "[encoded data removed]",
      "text/plain": [
       "<Figure size 576x576 with 3 Axes>"
      ]
     },
     "metadata": {},
     "output_type": "display_data"
    }
   ],
   "source": [
    "# подготовим датасет\n",
    "street_scatter = popular_streets.groupby('street').agg({'street':'count', 'number':'mean'})\n",
    "\n",
    "# построим график\n",
    "with plt.style.context('ggplot'):\n",
    "    s = sns.jointplot(x='number', y='street', data=street_scatter, kind='reg')\n",
    "    s.fig.set_figwidth(8)\n",
    "    s.fig.set_figheight(8)\n",
    "    s.fig.suptitle('Распределение посадочных мест на популярных улицах', fontsize=16)\n",
    "    s.fig.subplots_adjust(top = 0.92)\n",
    "    s.set_axis_labels('Количество посадочных мест', 'Число заведений')"
   ]
  },
  {
   "cell_type": "markdown",
   "id": "c67034c6",
   "metadata": {},
   "source": [
    "На 10 самых популярных улицах чаще встречается большое количество заведений с вместительнотстью до 65 человек. Распространены заведения с вместимостью от 55 до 70 человек."
   ]
  },
  {
   "cell_type": "code",
   "execution_count": 33,
   "id": "1a5e11c9",
   "metadata": {},
   "outputs": [
    {
     "data": {
      "text/html": [
       "<div>\n",
       "<style scoped>\n",
       "    .dataframe tbody tr th:only-of-type {\n",
       "        vertical-align: middle;\n",
       "    }\n",
       "\n",
       "    .dataframe tbody tr th {\n",
       "        vertical-align: top;\n",
       "    }\n",
       "\n",
       "    .dataframe thead th {\n",
       "        text-align: right;\n",
       "    }\n",
       "</style>\n",
       "<table border=\"1\" class=\"dataframe\">\n",
       "  <thead>\n",
       "    <tr style=\"text-align: right;\">\n",
       "      <th></th>\n",
       "      <th>street</th>\n",
       "      <th>бар</th>\n",
       "      <th>буфет</th>\n",
       "      <th>закусочная</th>\n",
       "      <th>кафе</th>\n",
       "      <th>кафетерий</th>\n",
       "      <th>кулинария</th>\n",
       "      <th>ресторан</th>\n",
       "      <th>столовая</th>\n",
       "      <th>фастфуд</th>\n",
       "      <th>кол-во заведений</th>\n",
       "    </tr>\n",
       "  </thead>\n",
       "  <tbody>\n",
       "    <tr>\n",
       "      <th>5</th>\n",
       "      <td>проспект Мира</td>\n",
       "      <td>60.0</td>\n",
       "      <td>30.0</td>\n",
       "      <td>30.0</td>\n",
       "      <td>59.0</td>\n",
       "      <td>4.0</td>\n",
       "      <td>4.0</td>\n",
       "      <td>113.0</td>\n",
       "      <td>99.0</td>\n",
       "      <td>44.0</td>\n",
       "      <td>203.0</td>\n",
       "    </tr>\n",
       "    <tr>\n",
       "      <th>7</th>\n",
       "      <td>улица Профсоюзная</td>\n",
       "      <td>34.0</td>\n",
       "      <td>46.0</td>\n",
       "      <td>1.0</td>\n",
       "      <td>40.0</td>\n",
       "      <td>5.0</td>\n",
       "      <td>12.0</td>\n",
       "      <td>67.0</td>\n",
       "      <td>146.0</td>\n",
       "      <td>13.0</td>\n",
       "      <td>182.0</td>\n",
       "    </tr>\n",
       "    <tr>\n",
       "      <th>3</th>\n",
       "      <td>проспект Ленинградский</td>\n",
       "      <td>50.0</td>\n",
       "      <td>32.0</td>\n",
       "      <td>0.0</td>\n",
       "      <td>36.0</td>\n",
       "      <td>13.0</td>\n",
       "      <td>14.0</td>\n",
       "      <td>85.0</td>\n",
       "      <td>83.0</td>\n",
       "      <td>24.0</td>\n",
       "      <td>172.0</td>\n",
       "    </tr>\n",
       "    <tr>\n",
       "      <th>0</th>\n",
       "      <td>набережная Пресненская</td>\n",
       "      <td>44.0</td>\n",
       "      <td>237.0</td>\n",
       "      <td>0.0</td>\n",
       "      <td>35.0</td>\n",
       "      <td>6.0</td>\n",
       "      <td>0.0</td>\n",
       "      <td>91.0</td>\n",
       "      <td>0.0</td>\n",
       "      <td>3.0</td>\n",
       "      <td>167.0</td>\n",
       "    </tr>\n",
       "    <tr>\n",
       "      <th>8</th>\n",
       "      <td>шоссе Варшавское</td>\n",
       "      <td>36.0</td>\n",
       "      <td>8.0</td>\n",
       "      <td>3.0</td>\n",
       "      <td>40.0</td>\n",
       "      <td>13.0</td>\n",
       "      <td>1.0</td>\n",
       "      <td>151.0</td>\n",
       "      <td>127.0</td>\n",
       "      <td>24.0</td>\n",
       "      <td>165.0</td>\n",
       "    </tr>\n",
       "    <tr>\n",
       "      <th>4</th>\n",
       "      <td>проспект Ленинский</td>\n",
       "      <td>24.0</td>\n",
       "      <td>133.0</td>\n",
       "      <td>4.0</td>\n",
       "      <td>38.0</td>\n",
       "      <td>8.0</td>\n",
       "      <td>0.0</td>\n",
       "      <td>105.0</td>\n",
       "      <td>90.0</td>\n",
       "      <td>22.0</td>\n",
       "      <td>148.0</td>\n",
       "    </tr>\n",
       "    <tr>\n",
       "      <th>1</th>\n",
       "      <td>проспект Вернадского</td>\n",
       "      <td>17.0</td>\n",
       "      <td>44.0</td>\n",
       "      <td>30.0</td>\n",
       "      <td>40.0</td>\n",
       "      <td>17.0</td>\n",
       "      <td>6.0</td>\n",
       "      <td>105.0</td>\n",
       "      <td>239.0</td>\n",
       "      <td>35.0</td>\n",
       "      <td>128.0</td>\n",
       "    </tr>\n",
       "    <tr>\n",
       "      <th>2</th>\n",
       "      <td>проспект Кутузовский</td>\n",
       "      <td>323.0</td>\n",
       "      <td>15.0</td>\n",
       "      <td>0.0</td>\n",
       "      <td>30.0</td>\n",
       "      <td>0.0</td>\n",
       "      <td>5.0</td>\n",
       "      <td>116.0</td>\n",
       "      <td>118.0</td>\n",
       "      <td>25.0</td>\n",
       "      <td>114.0</td>\n",
       "    </tr>\n",
       "    <tr>\n",
       "      <th>9</th>\n",
       "      <td>шоссе Каширское</td>\n",
       "      <td>22.0</td>\n",
       "      <td>34.0</td>\n",
       "      <td>0.0</td>\n",
       "      <td>40.0</td>\n",
       "      <td>11.0</td>\n",
       "      <td>0.0</td>\n",
       "      <td>119.0</td>\n",
       "      <td>152.0</td>\n",
       "      <td>24.0</td>\n",
       "      <td>111.0</td>\n",
       "    </tr>\n",
       "    <tr>\n",
       "      <th>6</th>\n",
       "      <td>улица Кировоградская</td>\n",
       "      <td>63.0</td>\n",
       "      <td>24.0</td>\n",
       "      <td>29.0</td>\n",
       "      <td>42.0</td>\n",
       "      <td>5.0</td>\n",
       "      <td>7.0</td>\n",
       "      <td>87.0</td>\n",
       "      <td>222.0</td>\n",
       "      <td>14.0</td>\n",
       "      <td>108.0</td>\n",
       "    </tr>\n",
       "    <tr>\n",
       "      <th>среднее</th>\n",
       "      <td>NaN</td>\n",
       "      <td>67.3</td>\n",
       "      <td>60.3</td>\n",
       "      <td>9.7</td>\n",
       "      <td>40.0</td>\n",
       "      <td>8.2</td>\n",
       "      <td>4.9</td>\n",
       "      <td>103.9</td>\n",
       "      <td>127.6</td>\n",
       "      <td>22.8</td>\n",
       "      <td>149.8</td>\n",
       "    </tr>\n",
       "  </tbody>\n",
       "</table>\n",
       "</div>"
      ],
      "text/plain": [
       "                         street    бар  буфет  закусочная  кафе  кафетерий  \\\n",
       "5                 проспект Мира   60.0   30.0        30.0  59.0        4.0   \n",
       "7             улица Профсоюзная   34.0   46.0         1.0  40.0        5.0   \n",
       "3        проспект Ленинградский   50.0   32.0         0.0  36.0       13.0   \n",
       "0        набережная Пресненская   44.0  237.0         0.0  35.0        6.0   \n",
       "8              шоссе Варшавское   36.0    8.0         3.0  40.0       13.0   \n",
       "4            проспект Ленинский   24.0  133.0         4.0  38.0        8.0   \n",
       "1          проспект Вернадского   17.0   44.0        30.0  40.0       17.0   \n",
       "2          проспект Кутузовский  323.0   15.0         0.0  30.0        0.0   \n",
       "9               шоссе Каширское   22.0   34.0         0.0  40.0       11.0   \n",
       "6          улица Кировоградская   63.0   24.0        29.0  42.0        5.0   \n",
       "среднее                     NaN   67.3   60.3         9.7  40.0        8.2   \n",
       "\n",
       "         кулинария  ресторан  столовая  фастфуд  кол-во заведений  \n",
       "5              4.0     113.0      99.0     44.0             203.0  \n",
       "7             12.0      67.0     146.0     13.0             182.0  \n",
       "3             14.0      85.0      83.0     24.0             172.0  \n",
       "0              0.0      91.0       0.0      3.0             167.0  \n",
       "8              1.0     151.0     127.0     24.0             165.0  \n",
       "4              0.0     105.0      90.0     22.0             148.0  \n",
       "1              6.0     105.0     239.0     35.0             128.0  \n",
       "2              5.0     116.0     118.0     25.0             114.0  \n",
       "9              0.0     119.0     152.0     24.0             111.0  \n",
       "6              7.0      87.0     222.0     14.0             108.0  \n",
       "среднее        4.9     103.9     127.6     22.8             149.8  "
      ]
     },
     "execution_count": 33,
     "metadata": {},
     "output_type": "execute_result"
    }
   ],
   "source": [
    "# выведем данные о типах заведений и среднем количестве посадочных мест\n",
    "# подготовим сводную таблицу\n",
    "popular_pivot = popular_streets.pivot_table(index = 'street', columns = 'object_type', values = 'number', aggfunc = 'mean')\\\n",
    "                .fillna(0).astype('int').reset_index()\n",
    "\n",
    "# добавим в таблицу информацию о количестве заведений, отсортируем по убыванию\n",
    "streets_order = popular_streets.groupby('street').agg({'object_name': 'count'})\n",
    "streets_objects = popular_pivot.merge(streets_order, how = 'left', on = 'street').sort_values(by = 'object_name', ascending = False)\\\n",
    "                .rename(columns={'object_name':'кол-во заведений'})\n",
    "streets_objects.loc['среднее'] = streets_objects.mean(numeric_only=True)\n",
    "streets_objects"
   ]
  },
  {
   "cell_type": "markdown",
   "id": "d50b65a7",
   "metadata": {},
   "source": [
    "На популярных улицах расположены:\n",
    "- довольно вместительные рестораны (в среднем 103 посадочных места) и столовые (127 мест);\n",
    "- небольшие кафе и фастфуды (40 и 22 посадочных места соответственно);\n",
    "- среднего размера бары и буфеты (67 и 60 мест соответственно).\n",
    "\n",
    "На Кутузовском проспекте, как оказалось, расположены весьма вместительные бары (среднее число мест 323). А на Пресненской набережной очень компактые фастфуды (3 места) и ни одной кулинарии, закусочной или столовой. На 4 из 10 рассматриваемых улиц нет закусочных, еще на трех нет кулинарий. Итого на популярных улицах стремятся открыть формат slow-food и, вероятно, заведения с развлекательной программой. Изучим, в каких районах находятся самые непопулярные улицы."
   ]
  },
  {
   "cell_type": "code",
   "execution_count": 34,
   "id": "dd8c51c6",
   "metadata": {},
   "outputs": [
    {
     "data": {
      "text/html": [
       "<div>\n",
       "<style scoped>\n",
       "    .dataframe tbody tr th:only-of-type {\n",
       "        vertical-align: middle;\n",
       "    }\n",
       "\n",
       "    .dataframe tbody tr th {\n",
       "        vertical-align: top;\n",
       "    }\n",
       "\n",
       "    .dataframe thead th {\n",
       "        text-align: right;\n",
       "    }\n",
       "</style>\n",
       "<table border=\"1\" class=\"dataframe\">\n",
       "  <thead>\n",
       "    <tr style=\"text-align: right;\">\n",
       "      <th></th>\n",
       "      <th>area</th>\n",
       "      <th>quantity</th>\n",
       "    </tr>\n",
       "  </thead>\n",
       "  <tbody>\n",
       "    <tr>\n",
       "      <th>3</th>\n",
       "      <td>Басманный район</td>\n",
       "      <td>25</td>\n",
       "    </tr>\n",
       "    <tr>\n",
       "      <th>93</th>\n",
       "      <td>Таганский район</td>\n",
       "      <td>25</td>\n",
       "    </tr>\n",
       "    <tr>\n",
       "      <th>80</th>\n",
       "      <td>Район Хамовники</td>\n",
       "      <td>22</td>\n",
       "    </tr>\n",
       "    <tr>\n",
       "      <th>21</th>\n",
       "      <td>Пресненский район</td>\n",
       "      <td>20</td>\n",
       "    </tr>\n",
       "    <tr>\n",
       "      <th>94</th>\n",
       "      <td>Тверской район</td>\n",
       "      <td>19</td>\n",
       "    </tr>\n",
       "    <tr>\n",
       "      <th>13</th>\n",
       "      <td>Мещанский район</td>\n",
       "      <td>15</td>\n",
       "    </tr>\n",
       "    <tr>\n",
       "      <th>22</th>\n",
       "      <td>Район Арбат</td>\n",
       "      <td>14</td>\n",
       "    </tr>\n",
       "    <tr>\n",
       "      <th>51</th>\n",
       "      <td>Район Марьина роща</td>\n",
       "      <td>13</td>\n",
       "    </tr>\n",
       "    <tr>\n",
       "      <th>34</th>\n",
       "      <td>Район Замоскворечье</td>\n",
       "      <td>12</td>\n",
       "    </tr>\n",
       "    <tr>\n",
       "      <th>8</th>\n",
       "      <td>Даниловский район</td>\n",
       "      <td>11</td>\n",
       "    </tr>\n",
       "  </tbody>\n",
       "</table>\n",
       "</div>"
      ],
      "text/plain": [
       "                   area  quantity\n",
       "3       Басманный район        25\n",
       "93      Таганский район        25\n",
       "80      Район Хамовники        22\n",
       "21    Пресненский район        20\n",
       "94       Тверской район        19\n",
       "13      Мещанский район        15\n",
       "22          Район Арбат        14\n",
       "51   Район Марьина роща        13\n",
       "34  Район Замоскворечье        12\n",
       "8     Даниловский район        11"
      ]
     },
     "execution_count": 34,
     "metadata": {},
     "output_type": "execute_result"
    }
   ],
   "source": [
    "# отберем улицы с одним заведением\n",
    "one_object = data_dist.groupby('street')['object_name'].count().reset_index().query('object_name == 1')\n",
    "\n",
    "# подготовим список улиц и в соответствии со списком отберем значения из таблицы\n",
    "one_object_list = list(set(one_object['street']))\n",
    "not_popular_streets = data_dist.query('street in @one_object_list')\n",
    "\n",
    "# посмотрим, в каких районах расположены улицы с одним заведением\n",
    "not_popular_streets_bar = not_popular_streets.groupby('area')['object_name'].count().reset_index().sort_values(by = 'object_name', ascending = False)\\\n",
    "                .rename(columns={'object_name':'quantity'}).head(10)\n",
    "not_popular_streets_bar"
   ]
  },
  {
   "cell_type": "markdown",
   "id": "f3c5c000",
   "metadata": {},
   "source": [
    "99 улиц имеют всего одно заведение. Причем все районы из ТОП-10 находятся в центре Москвы, ТОП-5 практически самый центр: Басманный, Таганский, Хамовники, Пресненский, Тверской. Посмотрим, каково среднее количество посадочных мест на этих улицах."
   ]
  },
  {
   "cell_type": "markdown",
   "id": "63b510da",
   "metadata": {},
   "source": [
    "**Вывод по разделу \"Анализ заведений по улицам и районам\":** улицы из ТОП-10 с самым большим числом заведений расположены в 9 районах Москвы, самые близкие к центру районы Пресненский (167 заведений) и Дорогомилово (114 заведений). Непосредственно в центре не так много заведений общепита: ТОП-5 улиц с одним заведением занимают районы из центра (Басманный, Таганский, Хамовники, Пресненский, Тверской). Причина такого положения дел может быть просто в длине центральных улиц — в исторической части много маленьких улиц, либо в арендной ставке, которая не соответствует отраслевой рентабельности.\n",
    "\n",
    "Наиболее популярными являются форматы кафе (42%) и ресторанов (19,3%). Среднее количество посадочных мест на популярных улицах колеблется от 45 до 85, для кафе средний показатель составляет 40 посадочных мест (рестораны открывают в среднем на 100 посадочных мест). Закусочные и кафетерии непопулярны (менее 5% в сумме) и компатные (около 9 посадочных мест). Фастфуды распространены значительно (доля 17%), но небольшие (20 посадочных мест, среднее для сетевых заведений этого формата — 40 посадочных мест)."
   ]
  },
  {
   "cell_type": "markdown",
   "id": "2c693ead",
   "metadata": {},
   "source": [
    "## <a>Общий вывод</a>"
   ]
  },
  {
   "cell_type": "markdown",
   "id": "01214da5",
   "metadata": {},
   "source": [
    "Выбранная концепция — кафе с официантами-роботами — должна способствовать начальному трафику посетителей. В связи с чем критичная транспортная доступность точки. Мы рекомендуем обратить внимание на центральные районы Москвы (Пресненский, Дорогомилово, Хамовники, Якиманка, Таганский, Басманный, Тверской), которые изначально являются центром притяжения горожан и гостей города. Выбор конкретной точки должен быть основан на совпадении совокупности факторов:\n",
    "- красная линия, первый этаж, просматриваемый с улицы фасад;\n",
    "- удобство подъезда и парковки (по возможности не выбирать односторонние улицы или улицы с разделительной полосой);\n",
    "- потенциальный пешеходный трафик;\n",
    "- арендная ставка.\n",
    "\n",
    "С точки зрения выбора улицы рекомендовано обратить внимание на улицы со средним количеством заведений и улицы с репутацией \"развлекательных\": \"кластеры\" увеличивают общую посещаемость места, значит, выручку каждого заведения (в одно единственное кафе на конкретной улице надо ехать специально, посетители с большей вероятностью выберут для поездки место, где есть альтернативы — на случай, если не будет свободного столика или что-то еще пойдет не по плану).\n",
    "\n",
    "Выбор количества мест зависит от расчетного объема инвестиций, допустимой длительности окупаемости проекта, доступных площадок в центре. Средний размер кафе — 40 посадочных мест, представляется возможным ориентироваться на него.\n",
    "\n",
    "При масштабировании проекта рекомендуется придерживаться аналогичных рекомендаций: выбирать места с хорошим трафиком и соответствующей репутацией в центральных районах города, открывать формат кафе со средним числом посадочных мест."
   ]
  },
  {
   "cell_type": "markdown",
   "id": "bf282836",
   "metadata": {},
   "source": [
    "## <a>Презентация</a>"
   ]
  },
  {
   "cell_type": "markdown",
   "id": "91162ebd",
   "metadata": {},
   "source": [
    "https://drive.google.com/file/d/1l_ySZYrv5ITJxq4OziRvWU1jhOE67p2x/view?usp=sharing"
   ]
  }
 ],
 "metadata": {
  "ExecuteTimeLog": [
   {
    "duration": 4,
    "start_time": "2021-06-18T22:20:52.760Z"
   },
   {
    "duration": 45342,
    "start_time": "2021-06-18T22:20:52.769Z"
   },
   {
    "duration": 4,
    "start_time": "2021-06-18T22:21:38.113Z"
   },
   {
    "duration": 289,
    "start_time": "2021-06-18T22:21:38.119Z"
   },
   {
    "duration": 18,
    "start_time": "2021-06-18T22:21:38.411Z"
   },
   {
    "duration": 32,
    "start_time": "2021-06-18T22:21:38.431Z"
   },
   {
    "duration": 16,
    "start_time": "2021-06-18T22:21:38.465Z"
   },
   {
    "duration": 25,
    "start_time": "2021-06-18T22:21:38.483Z"
   },
   {
    "duration": 54,
    "start_time": "2021-06-18T22:21:38.514Z"
   },
   {
    "duration": 16,
    "start_time": "2021-06-18T22:21:38.571Z"
   },
   {
    "duration": 18,
    "start_time": "2021-06-18T22:21:38.590Z"
   },
   {
    "duration": 1178,
    "start_time": "2021-06-18T22:21:38.611Z"
   },
   {
    "duration": 6,
    "start_time": "2021-06-18T22:21:39.787Z"
   },
   {
    "duration": 3,
    "start_time": "2021-06-18T22:21:39.792Z"
   },
   {
    "duration": 2,
    "start_time": "2021-06-18T22:21:39.795Z"
   },
   {
    "duration": 2,
    "start_time": "2021-06-18T22:21:39.798Z"
   },
   {
    "duration": -8,
    "start_time": "2021-06-18T22:21:39.810Z"
   },
   {
    "duration": -9,
    "start_time": "2021-06-18T22:21:39.813Z"
   },
   {
    "duration": -10,
    "start_time": "2021-06-18T22:21:39.817Z"
   },
   {
    "duration": -20,
    "start_time": "2021-06-18T22:21:39.829Z"
   },
   {
    "duration": -20,
    "start_time": "2021-06-18T22:21:39.832Z"
   },
   {
    "duration": -20,
    "start_time": "2021-06-18T22:21:39.835Z"
   },
   {
    "duration": -21,
    "start_time": "2021-06-18T22:21:39.838Z"
   },
   {
    "duration": -21,
    "start_time": "2021-06-18T22:21:39.840Z"
   },
   {
    "duration": 9,
    "start_time": "2021-06-18T22:21:39.853Z"
   },
   {
    "duration": 9,
    "start_time": "2021-06-18T22:21:39.856Z"
   },
   {
    "duration": 8,
    "start_time": "2021-06-18T22:21:39.859Z"
   },
   {
    "duration": 7,
    "start_time": "2021-06-18T22:21:39.862Z"
   },
   {
    "duration": 5,
    "start_time": "2021-06-18T22:21:39.866Z"
   },
   {
    "duration": 4,
    "start_time": "2021-06-18T22:21:39.869Z"
   },
   {
    "duration": 4,
    "start_time": "2021-06-19T11:04:44.356Z"
   },
   {
    "duration": 1906,
    "start_time": "2021-06-19T11:04:44.363Z"
   },
   {
    "duration": 3,
    "start_time": "2021-06-19T11:04:46.272Z"
   },
   {
    "duration": 251,
    "start_time": "2021-06-19T11:04:46.279Z"
   },
   {
    "duration": 30,
    "start_time": "2021-06-19T11:04:46.534Z"
   },
   {
    "duration": 15,
    "start_time": "2021-06-19T11:04:46.567Z"
   },
   {
    "duration": 20,
    "start_time": "2021-06-19T11:04:46.586Z"
   },
   {
    "duration": 73,
    "start_time": "2021-06-19T11:04:46.612Z"
   },
   {
    "duration": 21,
    "start_time": "2021-06-19T11:04:46.689Z"
   },
   {
    "duration": 43,
    "start_time": "2021-06-19T11:04:46.713Z"
   },
   {
    "duration": 4,
    "start_time": "2021-06-19T11:04:46.759Z"
   },
   {
    "duration": 969,
    "start_time": "2021-06-19T11:04:46.765Z"
   },
   {
    "duration": -2817,
    "start_time": "2021-06-19T11:04:50.554Z"
   },
   {
    "duration": -2818,
    "start_time": "2021-06-19T11:04:50.557Z"
   },
   {
    "duration": -2818,
    "start_time": "2021-06-19T11:04:50.559Z"
   },
   {
    "duration": -2821,
    "start_time": "2021-06-19T11:04:50.563Z"
   },
   {
    "duration": -2823,
    "start_time": "2021-06-19T11:04:50.567Z"
   },
   {
    "duration": -2825,
    "start_time": "2021-06-19T11:04:50.570Z"
   },
   {
    "duration": -2818,
    "start_time": "2021-06-19T11:04:50.573Z"
   },
   {
    "duration": -2818,
    "start_time": "2021-06-19T11:04:50.575Z"
   },
   {
    "duration": -2820,
    "start_time": "2021-06-19T11:04:50.578Z"
   },
   {
    "duration": -2820,
    "start_time": "2021-06-19T11:04:50.580Z"
   },
   {
    "duration": -2821,
    "start_time": "2021-06-19T11:04:50.582Z"
   },
   {
    "duration": -2822,
    "start_time": "2021-06-19T11:04:50.585Z"
   },
   {
    "duration": -2822,
    "start_time": "2021-06-19T11:04:50.587Z"
   },
   {
    "duration": -2823,
    "start_time": "2021-06-19T11:04:50.589Z"
   },
   {
    "duration": -2822,
    "start_time": "2021-06-19T11:04:50.590Z"
   },
   {
    "duration": -2823,
    "start_time": "2021-06-19T11:04:50.592Z"
   },
   {
    "duration": -2824,
    "start_time": "2021-06-19T11:04:50.595Z"
   },
   {
    "duration": -2824,
    "start_time": "2021-06-19T11:04:50.596Z"
   },
   {
    "duration": 796,
    "start_time": "2021-06-19T11:05:15.462Z"
   },
   {
    "duration": 19,
    "start_time": "2021-06-19T11:07:56.837Z"
   },
   {
    "duration": 14,
    "start_time": "2021-06-19T11:10:56.486Z"
   },
   {
    "duration": 260,
    "start_time": "2021-06-19T11:11:55.393Z"
   },
   {
    "duration": 269,
    "start_time": "2021-06-19T11:12:35.717Z"
   },
   {
    "duration": 286,
    "start_time": "2021-06-19T11:13:02.692Z"
   },
   {
    "duration": 35427,
    "start_time": "2021-06-19T11:15:43.480Z"
   },
   {
    "duration": 831,
    "start_time": "2021-06-19T11:17:21.813Z"
   },
   {
    "duration": 34674,
    "start_time": "2021-06-19T11:17:41.503Z"
   },
   {
    "duration": 827,
    "start_time": "2021-06-19T11:18:33.187Z"
   },
   {
    "duration": 818,
    "start_time": "2021-06-19T12:29:11.093Z"
   },
   {
    "duration": 11825,
    "start_time": "2021-06-19T13:58:00.230Z"
   },
   {
    "duration": 2720,
    "start_time": "2021-06-19T13:58:12.058Z"
   },
   {
    "duration": 4,
    "start_time": "2021-06-19T13:58:14.782Z"
   },
   {
    "duration": 219,
    "start_time": "2021-06-19T13:58:14.790Z"
   },
   {
    "duration": 27,
    "start_time": "2021-06-19T13:58:15.012Z"
   },
   {
    "duration": 27,
    "start_time": "2021-06-19T13:58:15.042Z"
   },
   {
    "duration": 29,
    "start_time": "2021-06-19T13:58:15.072Z"
   },
   {
    "duration": 50,
    "start_time": "2021-06-19T13:58:15.105Z"
   },
   {
    "duration": 16,
    "start_time": "2021-06-19T13:58:15.159Z"
   },
   {
    "duration": 15,
    "start_time": "2021-06-19T13:58:15.177Z"
   },
   {
    "duration": 4,
    "start_time": "2021-06-19T13:58:15.195Z"
   },
   {
    "duration": 385,
    "start_time": "2021-06-19T13:58:15.201Z"
   },
   {
    "duration": 638,
    "start_time": "2021-06-19T13:58:15.589Z"
   },
   {
    "duration": 963,
    "start_time": "2021-06-19T13:58:16.229Z"
   },
   {
    "duration": -373,
    "start_time": "2021-06-19T13:58:17.569Z"
   },
   {
    "duration": -380,
    "start_time": "2021-06-19T13:58:17.578Z"
   },
   {
    "duration": -385,
    "start_time": "2021-06-19T13:58:17.585Z"
   },
   {
    "duration": -391,
    "start_time": "2021-06-19T13:58:17.593Z"
   },
   {
    "duration": -397,
    "start_time": "2021-06-19T13:58:17.601Z"
   },
   {
    "duration": -401,
    "start_time": "2021-06-19T13:58:17.607Z"
   },
   {
    "duration": -405,
    "start_time": "2021-06-19T13:58:17.613Z"
   },
   {
    "duration": -409,
    "start_time": "2021-06-19T13:58:17.619Z"
   },
   {
    "duration": -412,
    "start_time": "2021-06-19T13:58:17.625Z"
   },
   {
    "duration": -426,
    "start_time": "2021-06-19T13:58:17.641Z"
   },
   {
    "duration": -432,
    "start_time": "2021-06-19T13:58:17.649Z"
   },
   {
    "duration": -400,
    "start_time": "2021-06-19T13:58:17.654Z"
   },
   {
    "duration": -402,
    "start_time": "2021-06-19T13:58:17.659Z"
   },
   {
    "duration": -405,
    "start_time": "2021-06-19T13:58:17.665Z"
   },
   {
    "duration": -410,
    "start_time": "2021-06-19T13:58:17.672Z"
   },
   {
    "duration": -413,
    "start_time": "2021-06-19T13:58:17.677Z"
   },
   {
    "duration": 4,
    "start_time": "2021-06-19T13:58:42.478Z"
   },
   {
    "duration": 2304,
    "start_time": "2021-06-19T13:58:42.486Z"
   },
   {
    "duration": 3,
    "start_time": "2021-06-19T13:58:44.793Z"
   },
   {
    "duration": 177,
    "start_time": "2021-06-19T13:58:44.799Z"
   },
   {
    "duration": 18,
    "start_time": "2021-06-19T13:58:44.978Z"
   },
   {
    "duration": 27,
    "start_time": "2021-06-19T13:58:44.999Z"
   },
   {
    "duration": 34,
    "start_time": "2021-06-19T13:58:45.029Z"
   },
   {
    "duration": 27,
    "start_time": "2021-06-19T13:58:45.066Z"
   },
   {
    "duration": 16,
    "start_time": "2021-06-19T13:58:45.097Z"
   },
   {
    "duration": 49,
    "start_time": "2021-06-19T13:58:45.116Z"
   },
   {
    "duration": 4,
    "start_time": "2021-06-19T13:58:45.168Z"
   },
   {
    "duration": 373,
    "start_time": "2021-06-19T13:58:45.175Z"
   },
   {
    "duration": 391,
    "start_time": "2021-06-19T13:58:45.555Z"
   },
   {
    "duration": 788,
    "start_time": "2021-06-19T13:58:45.956Z"
   },
   {
    "duration": -419,
    "start_time": "2021-06-19T13:58:47.166Z"
   },
   {
    "duration": -434,
    "start_time": "2021-06-19T13:58:47.182Z"
   },
   {
    "duration": -474,
    "start_time": "2021-06-19T13:58:47.223Z"
   },
   {
    "duration": -484,
    "start_time": "2021-06-19T13:58:47.234Z"
   },
   {
    "duration": -490,
    "start_time": "2021-06-19T13:58:47.246Z"
   },
   {
    "duration": -497,
    "start_time": "2021-06-19T13:58:47.255Z"
   },
   {
    "duration": -504,
    "start_time": "2021-06-19T13:58:47.263Z"
   },
   {
    "duration": -519,
    "start_time": "2021-06-19T13:58:47.279Z"
   },
   {
    "duration": -533,
    "start_time": "2021-06-19T13:58:47.295Z"
   },
   {
    "duration": -537,
    "start_time": "2021-06-19T13:58:47.300Z"
   },
   {
    "duration": -539,
    "start_time": "2021-06-19T13:58:47.304Z"
   },
   {
    "duration": -544,
    "start_time": "2021-06-19T13:58:47.310Z"
   },
   {
    "duration": -547,
    "start_time": "2021-06-19T13:58:47.315Z"
   },
   {
    "duration": -565,
    "start_time": "2021-06-19T13:58:47.334Z"
   },
   {
    "duration": -569,
    "start_time": "2021-06-19T13:58:47.340Z"
   },
   {
    "duration": -574,
    "start_time": "2021-06-19T13:58:47.346Z"
   },
   {
    "duration": 5,
    "start_time": "2021-06-19T14:00:45.156Z"
   },
   {
    "duration": 5,
    "start_time": "2021-06-19T14:00:54.257Z"
   },
   {
    "duration": 4,
    "start_time": "2021-06-19T14:00:54.269Z"
   },
   {
    "duration": 162,
    "start_time": "2021-06-19T14:00:54.277Z"
   },
   {
    "duration": 18,
    "start_time": "2021-06-19T14:00:54.441Z"
   },
   {
    "duration": 18,
    "start_time": "2021-06-19T14:00:54.463Z"
   },
   {
    "duration": 18,
    "start_time": "2021-06-19T14:00:54.484Z"
   },
   {
    "duration": 73,
    "start_time": "2021-06-19T14:00:54.505Z"
   },
   {
    "duration": 22,
    "start_time": "2021-06-19T14:00:54.581Z"
   },
   {
    "duration": 51,
    "start_time": "2021-06-19T14:00:54.609Z"
   },
   {
    "duration": 4,
    "start_time": "2021-06-19T14:00:54.664Z"
   },
   {
    "duration": 330,
    "start_time": "2021-06-19T14:00:54.670Z"
   },
   {
    "duration": 403,
    "start_time": "2021-06-19T14:00:55.002Z"
   },
   {
    "duration": 752,
    "start_time": "2021-06-19T14:00:55.407Z"
   },
   {
    "duration": -349,
    "start_time": "2021-06-19T14:00:56.511Z"
   },
   {
    "duration": -358,
    "start_time": "2021-06-19T14:00:56.522Z"
   },
   {
    "duration": -367,
    "start_time": "2021-06-19T14:00:56.533Z"
   },
   {
    "duration": -398,
    "start_time": "2021-06-19T14:00:56.566Z"
   },
   {
    "duration": -402,
    "start_time": "2021-06-19T14:00:56.572Z"
   },
   {
    "duration": -415,
    "start_time": "2021-06-19T14:00:56.587Z"
   },
   {
    "duration": -421,
    "start_time": "2021-06-19T14:00:56.595Z"
   },
   {
    "duration": -454,
    "start_time": "2021-06-19T14:00:56.630Z"
   },
   {
    "duration": -469,
    "start_time": "2021-06-19T14:00:56.648Z"
   },
   {
    "duration": -471,
    "start_time": "2021-06-19T14:00:56.652Z"
   },
   {
    "duration": -473,
    "start_time": "2021-06-19T14:00:56.656Z"
   },
   {
    "duration": -476,
    "start_time": "2021-06-19T14:00:56.661Z"
   },
   {
    "duration": -492,
    "start_time": "2021-06-19T14:00:56.679Z"
   },
   {
    "duration": -495,
    "start_time": "2021-06-19T14:00:56.683Z"
   },
   {
    "duration": -496,
    "start_time": "2021-06-19T14:00:56.686Z"
   },
   {
    "duration": -497,
    "start_time": "2021-06-19T14:00:56.689Z"
   },
   {
    "duration": 3819,
    "start_time": "2021-06-19T14:01:37.597Z"
   },
   {
    "duration": 1949,
    "start_time": "2021-06-19T14:01:41.419Z"
   },
   {
    "duration": 4,
    "start_time": "2021-06-19T14:01:43.370Z"
   },
   {
    "duration": 177,
    "start_time": "2021-06-19T14:01:43.376Z"
   },
   {
    "duration": 19,
    "start_time": "2021-06-19T14:01:43.555Z"
   },
   {
    "duration": 12,
    "start_time": "2021-06-19T14:01:43.576Z"
   },
   {
    "duration": 17,
    "start_time": "2021-06-19T14:01:43.591Z"
   },
   {
    "duration": 59,
    "start_time": "2021-06-19T14:01:43.611Z"
   },
   {
    "duration": 19,
    "start_time": "2021-06-19T14:01:43.673Z"
   },
   {
    "duration": 16,
    "start_time": "2021-06-19T14:01:43.694Z"
   },
   {
    "duration": 5,
    "start_time": "2021-06-19T14:01:43.712Z"
   },
   {
    "duration": 372,
    "start_time": "2021-06-19T14:01:43.721Z"
   },
   {
    "duration": 405,
    "start_time": "2021-06-19T14:01:44.096Z"
   },
   {
    "duration": 758,
    "start_time": "2021-06-19T14:01:44.503Z"
   },
   {
    "duration": -528,
    "start_time": "2021-06-19T14:01:45.791Z"
   },
   {
    "duration": -542,
    "start_time": "2021-06-19T14:01:45.807Z"
   },
   {
    "duration": -551,
    "start_time": "2021-06-19T14:01:45.817Z"
   },
   {
    "duration": -565,
    "start_time": "2021-06-19T14:01:45.832Z"
   },
   {
    "duration": -574,
    "start_time": "2021-06-19T14:01:45.843Z"
   },
   {
    "duration": -586,
    "start_time": "2021-06-19T14:01:45.856Z"
   },
   {
    "duration": -593,
    "start_time": "2021-06-19T14:01:45.865Z"
   },
   {
    "duration": -638,
    "start_time": "2021-06-19T14:01:45.911Z"
   },
   {
    "duration": -649,
    "start_time": "2021-06-19T14:01:45.923Z"
   },
   {
    "duration": -663,
    "start_time": "2021-06-19T14:01:45.938Z"
   },
   {
    "duration": -705,
    "start_time": "2021-06-19T14:01:45.981Z"
   },
   {
    "duration": -717,
    "start_time": "2021-06-19T14:01:45.995Z"
   },
   {
    "duration": -730,
    "start_time": "2021-06-19T14:01:46.009Z"
   },
   {
    "duration": -736,
    "start_time": "2021-06-19T14:01:46.016Z"
   },
   {
    "duration": -743,
    "start_time": "2021-06-19T14:01:46.025Z"
   },
   {
    "duration": -749,
    "start_time": "2021-06-19T14:01:46.032Z"
   },
   {
    "duration": 84,
    "start_time": "2021-06-19T14:02:30.804Z"
   },
   {
    "duration": 110,
    "start_time": "2021-06-19T14:03:30.534Z"
   },
   {
    "duration": 87,
    "start_time": "2021-06-19T14:03:43.589Z"
   },
   {
    "duration": 82,
    "start_time": "2021-06-19T14:03:45.149Z"
   },
   {
    "duration": 92,
    "start_time": "2021-06-19T14:04:12.005Z"
   },
   {
    "duration": 4377,
    "start_time": "2021-06-19T14:07:19.928Z"
   },
   {
    "duration": 3859,
    "start_time": "2021-06-19T14:07:34.757Z"
   },
   {
    "duration": 1837,
    "start_time": "2021-06-19T14:07:38.619Z"
   },
   {
    "duration": 3,
    "start_time": "2021-06-19T14:07:40.459Z"
   },
   {
    "duration": 177,
    "start_time": "2021-06-19T14:07:40.465Z"
   },
   {
    "duration": 18,
    "start_time": "2021-06-19T14:07:40.644Z"
   },
   {
    "duration": 12,
    "start_time": "2021-06-19T14:07:40.665Z"
   },
   {
    "duration": 19,
    "start_time": "2021-06-19T14:07:40.680Z"
   },
   {
    "duration": 55,
    "start_time": "2021-06-19T14:07:40.703Z"
   },
   {
    "duration": 17,
    "start_time": "2021-06-19T14:07:40.761Z"
   },
   {
    "duration": 16,
    "start_time": "2021-06-19T14:07:40.780Z"
   },
   {
    "duration": 5,
    "start_time": "2021-06-19T14:07:40.799Z"
   },
   {
    "duration": 368,
    "start_time": "2021-06-19T14:07:40.807Z"
   },
   {
    "duration": 399,
    "start_time": "2021-06-19T14:07:41.177Z"
   },
   {
    "duration": 1154,
    "start_time": "2021-06-19T14:07:41.579Z"
   },
   {
    "duration": 483,
    "start_time": "2021-06-19T14:07:42.737Z"
   },
   {
    "duration": 418,
    "start_time": "2021-06-19T14:07:43.223Z"
   },
   {
    "duration": 1087,
    "start_time": "2021-06-19T14:07:43.644Z"
   },
   {
    "duration": 49,
    "start_time": "2021-06-19T14:07:44.734Z"
   },
   {
    "duration": 1394,
    "start_time": "2021-06-19T14:07:44.786Z"
   },
   {
    "duration": 614,
    "start_time": "2021-06-19T14:07:46.183Z"
   },
   {
    "duration": 32,
    "start_time": "2021-06-19T14:07:46.800Z"
   },
   {
    "duration": 36,
    "start_time": "2021-06-19T14:07:46.834Z"
   },
   {
    "duration": 20,
    "start_time": "2021-06-19T14:07:46.875Z"
   },
   {
    "duration": 16,
    "start_time": "2021-06-19T14:07:46.898Z"
   },
   {
    "duration": 448,
    "start_time": "2021-06-19T14:07:46.916Z"
   },
   {
    "duration": 33,
    "start_time": "2021-06-19T14:07:47.367Z"
   },
   {
    "duration": 436,
    "start_time": "2021-06-19T14:07:47.403Z"
   },
   {
    "duration": 31,
    "start_time": "2021-06-19T14:07:47.841Z"
   },
   {
    "duration": 83,
    "start_time": "2021-06-19T14:07:47.875Z"
   },
   {
    "duration": 30,
    "start_time": "2021-06-19T14:07:47.960Z"
   },
   {
    "duration": 4,
    "start_time": "2021-06-19T14:10:25.527Z"
   },
   {
    "duration": 1724,
    "start_time": "2021-06-19T14:10:44.773Z"
   },
   {
    "duration": 7138,
    "start_time": "2021-06-19T14:10:59.278Z"
   },
   {
    "duration": 4,
    "start_time": "2021-06-19T14:11:06.419Z"
   },
   {
    "duration": 1876,
    "start_time": "2021-06-19T14:11:06.426Z"
   },
   {
    "duration": 4,
    "start_time": "2021-06-19T14:11:08.305Z"
   },
   {
    "duration": 173,
    "start_time": "2021-06-19T14:11:08.312Z"
   },
   {
    "duration": 20,
    "start_time": "2021-06-19T14:11:08.488Z"
   },
   {
    "duration": 15,
    "start_time": "2021-06-19T14:11:08.511Z"
   },
   {
    "duration": 44,
    "start_time": "2021-06-19T14:11:08.528Z"
   },
   {
    "duration": 26,
    "start_time": "2021-06-19T14:11:08.578Z"
   },
   {
    "duration": 53,
    "start_time": "2021-06-19T14:11:08.609Z"
   },
   {
    "duration": 18,
    "start_time": "2021-06-19T14:11:08.665Z"
   },
   {
    "duration": 6,
    "start_time": "2021-06-19T14:11:08.685Z"
   },
   {
    "duration": 375,
    "start_time": "2021-06-19T14:11:08.694Z"
   },
   {
    "duration": 409,
    "start_time": "2021-06-19T14:11:09.072Z"
   },
   {
    "duration": 1145,
    "start_time": "2021-06-19T14:11:09.484Z"
   },
   {
    "duration": 455,
    "start_time": "2021-06-19T14:11:10.631Z"
   },
   {
    "duration": 417,
    "start_time": "2021-06-19T14:11:11.088Z"
   },
   {
    "duration": 1055,
    "start_time": "2021-06-19T14:11:11.507Z"
   },
   {
    "duration": 42,
    "start_time": "2021-06-19T14:11:12.564Z"
   },
   {
    "duration": 1183,
    "start_time": "2021-06-19T14:11:12.610Z"
   },
   {
    "duration": 628,
    "start_time": "2021-06-19T14:11:13.796Z"
   },
   {
    "duration": 48,
    "start_time": "2021-06-19T14:11:14.426Z"
   },
   {
    "duration": 23,
    "start_time": "2021-06-19T14:11:14.476Z"
   },
   {
    "duration": 33,
    "start_time": "2021-06-19T14:11:14.502Z"
   },
   {
    "duration": 33,
    "start_time": "2021-06-19T14:11:14.537Z"
   },
   {
    "duration": 424,
    "start_time": "2021-06-19T14:11:14.573Z"
   },
   {
    "duration": 32,
    "start_time": "2021-06-19T14:11:15.002Z"
   },
   {
    "duration": 432,
    "start_time": "2021-06-19T14:11:15.036Z"
   },
   {
    "duration": 23,
    "start_time": "2021-06-19T14:11:15.471Z"
   },
   {
    "duration": 90,
    "start_time": "2021-06-19T14:11:15.497Z"
   },
   {
    "duration": 32,
    "start_time": "2021-06-19T14:11:15.590Z"
   },
   {
    "duration": 4,
    "start_time": "2021-06-19T14:12:44.695Z"
   },
   {
    "duration": 1110,
    "start_time": "2021-06-19T14:12:50.411Z"
   },
   {
    "duration": 7422,
    "start_time": "2021-06-19T14:13:56.421Z"
   },
   {
    "duration": 3,
    "start_time": "2021-06-19T14:14:03.846Z"
   },
   {
    "duration": 2080,
    "start_time": "2021-06-19T14:14:03.852Z"
   },
   {
    "duration": 5,
    "start_time": "2021-06-19T14:14:05.935Z"
   },
   {
    "duration": 220,
    "start_time": "2021-06-19T14:14:05.943Z"
   },
   {
    "duration": 27,
    "start_time": "2021-06-19T14:14:06.166Z"
   },
   {
    "duration": 15,
    "start_time": "2021-06-19T14:14:06.197Z"
   },
   {
    "duration": 56,
    "start_time": "2021-06-19T14:14:06.219Z"
   },
   {
    "duration": 27,
    "start_time": "2021-06-19T14:14:06.278Z"
   },
   {
    "duration": 17,
    "start_time": "2021-06-19T14:14:06.307Z"
   },
   {
    "duration": 44,
    "start_time": "2021-06-19T14:14:06.327Z"
   },
   {
    "duration": 14,
    "start_time": "2021-06-19T14:14:06.374Z"
   },
   {
    "duration": 458,
    "start_time": "2021-06-19T14:14:06.391Z"
   },
   {
    "duration": 406,
    "start_time": "2021-06-19T14:14:06.852Z"
   },
   {
    "duration": 1060,
    "start_time": "2021-06-19T14:14:07.261Z"
   },
   {
    "duration": 451,
    "start_time": "2021-06-19T14:14:08.323Z"
   },
   {
    "duration": 409,
    "start_time": "2021-06-19T14:14:08.776Z"
   },
   {
    "duration": 1048,
    "start_time": "2021-06-19T14:14:09.188Z"
   },
   {
    "duration": 47,
    "start_time": "2021-06-19T14:14:10.238Z"
   },
   {
    "duration": 1150,
    "start_time": "2021-06-19T14:14:10.287Z"
   },
   {
    "duration": 585,
    "start_time": "2021-06-19T14:14:11.440Z"
   },
   {
    "duration": 43,
    "start_time": "2021-06-19T14:14:12.028Z"
   },
   {
    "duration": 22,
    "start_time": "2021-06-19T14:14:12.077Z"
   },
   {
    "duration": 53,
    "start_time": "2021-06-19T14:14:12.102Z"
   },
   {
    "duration": 22,
    "start_time": "2021-06-19T14:14:12.159Z"
   },
   {
    "duration": 659,
    "start_time": "2021-06-19T14:14:12.184Z"
   },
   {
    "duration": 54,
    "start_time": "2021-06-19T14:14:12.846Z"
   },
   {
    "duration": 438,
    "start_time": "2021-06-19T14:14:12.902Z"
   },
   {
    "duration": 31,
    "start_time": "2021-06-19T14:14:13.343Z"
   },
   {
    "duration": 88,
    "start_time": "2021-06-19T14:14:13.376Z"
   },
   {
    "duration": 33,
    "start_time": "2021-06-19T14:14:13.466Z"
   },
   {
    "duration": 424,
    "start_time": "2021-06-20T09:06:50.159Z"
   },
   {
    "duration": 15492,
    "start_time": "2021-06-20T09:06:59.676Z"
   },
   {
    "duration": 3,
    "start_time": "2021-06-20T09:07:15.171Z"
   },
   {
    "duration": 1967,
    "start_time": "2021-06-20T09:07:15.177Z"
   },
   {
    "duration": 3,
    "start_time": "2021-06-20T09:07:17.146Z"
   },
   {
    "duration": 214,
    "start_time": "2021-06-20T09:07:17.152Z"
   },
   {
    "duration": 17,
    "start_time": "2021-06-20T09:07:17.369Z"
   },
   {
    "duration": 13,
    "start_time": "2021-06-20T09:07:29.789Z"
   },
   {
    "duration": 23,
    "start_time": "2021-06-20T09:07:39.887Z"
   },
   {
    "duration": 7,
    "start_time": "2021-06-20T09:10:07.750Z"
   },
   {
    "duration": 20,
    "start_time": "2021-06-20T09:10:19.321Z"
   },
   {
    "duration": 27,
    "start_time": "2021-06-20T09:11:23.305Z"
   },
   {
    "duration": 124,
    "start_time": "2021-06-20T10:15:07.985Z"
   },
   {
    "duration": 23,
    "start_time": "2021-06-20T10:17:25.655Z"
   },
   {
    "duration": 16,
    "start_time": "2021-06-20T10:18:18.219Z"
   },
   {
    "duration": 5,
    "start_time": "2021-06-20T10:18:20.177Z"
   },
   {
    "duration": 343,
    "start_time": "2021-06-20T10:18:23.486Z"
   },
   {
    "duration": 491,
    "start_time": "2021-06-20T10:18:27.619Z"
   },
   {
    "duration": 33,
    "start_time": "2021-06-20T10:20:37.280Z"
   },
   {
    "duration": 496,
    "start_time": "2021-06-20T10:21:18.439Z"
   },
   {
    "duration": 17,
    "start_time": "2021-06-20T10:21:33.810Z"
   },
   {
    "duration": 323,
    "start_time": "2021-06-20T10:24:46.935Z"
   },
   {
    "duration": 326,
    "start_time": "2021-06-20T10:24:58.899Z"
   },
   {
    "duration": 18,
    "start_time": "2021-06-20T10:33:45.960Z"
   },
   {
    "duration": 5,
    "start_time": "2021-06-20T10:33:48.921Z"
   },
   {
    "duration": 327,
    "start_time": "2021-06-20T10:33:52.057Z"
   },
   {
    "duration": 22,
    "start_time": "2021-06-20T10:35:11.063Z"
   },
   {
    "duration": 11,
    "start_time": "2021-06-20T11:00:52.622Z"
   },
   {
    "duration": 22,
    "start_time": "2021-06-20T11:01:12.621Z"
   },
   {
    "duration": 354,
    "start_time": "2021-06-20T11:01:43.295Z"
   },
   {
    "duration": 13,
    "start_time": "2021-06-20T11:02:00.617Z"
   },
   {
    "duration": 461,
    "start_time": "2021-06-20T11:02:25.061Z"
   },
   {
    "duration": 343,
    "start_time": "2021-06-20T11:02:56.386Z"
   },
   {
    "duration": 359,
    "start_time": "2021-06-20T11:13:28.789Z"
   },
   {
    "duration": 656,
    "start_time": "2021-06-20T11:17:24.156Z"
   },
   {
    "duration": 13,
    "start_time": "2021-06-20T11:17:49.176Z"
   },
   {
    "duration": 13,
    "start_time": "2021-06-20T11:18:35.937Z"
   },
   {
    "duration": 19,
    "start_time": "2021-06-20T11:18:43.101Z"
   },
   {
    "duration": 412,
    "start_time": "2021-06-20T11:20:14.218Z"
   },
   {
    "duration": 24,
    "start_time": "2021-06-20T11:20:55.029Z"
   },
   {
    "duration": 567,
    "start_time": "2021-06-20T11:21:32.506Z"
   },
   {
    "duration": 6,
    "start_time": "2021-06-20T11:22:38.729Z"
   },
   {
    "duration": 23,
    "start_time": "2021-06-20T11:23:25.295Z"
   },
   {
    "duration": 372,
    "start_time": "2021-06-20T11:23:56.053Z"
   },
   {
    "duration": 486,
    "start_time": "2021-06-20T11:25:01.011Z"
   },
   {
    "duration": 329,
    "start_time": "2021-06-20T11:27:00.118Z"
   },
   {
    "duration": 25,
    "start_time": "2021-06-20T11:27:38.377Z"
   },
   {
    "duration": 408,
    "start_time": "2021-06-20T11:27:56.550Z"
   },
   {
    "duration": 4705,
    "start_time": "2021-06-20T11:30:26.955Z"
   },
   {
    "duration": 4534,
    "start_time": "2021-06-20T11:30:34.911Z"
   },
   {
    "duration": 345,
    "start_time": "2021-06-20T11:30:47.960Z"
   },
   {
    "duration": 404,
    "start_time": "2021-06-20T11:31:13.783Z"
   },
   {
    "duration": 28,
    "start_time": "2021-06-20T11:31:19.666Z"
   },
   {
    "duration": 16,
    "start_time": "2021-06-20T11:31:30.270Z"
   },
   {
    "duration": 17,
    "start_time": "2021-06-20T11:31:38.982Z"
   },
   {
    "duration": 16,
    "start_time": "2021-06-20T11:31:43.991Z"
   },
   {
    "duration": 17,
    "start_time": "2021-06-20T11:31:52.935Z"
   },
   {
    "duration": 16,
    "start_time": "2021-06-20T11:32:19.998Z"
   },
   {
    "duration": 24,
    "start_time": "2021-06-20T11:32:26.657Z"
   },
   {
    "duration": 18,
    "start_time": "2021-06-20T11:32:38.950Z"
   },
   {
    "duration": 18,
    "start_time": "2021-06-20T11:33:34.661Z"
   },
   {
    "duration": 3,
    "start_time": "2021-06-20T11:33:39.706Z"
   },
   {
    "duration": 4,
    "start_time": "2021-06-20T11:33:45.382Z"
   },
   {
    "duration": 16,
    "start_time": "2021-06-20T11:34:47.773Z"
   },
   {
    "duration": 3,
    "start_time": "2021-06-20T11:34:57.262Z"
   },
   {
    "duration": 3,
    "start_time": "2021-06-20T11:35:01.568Z"
   },
   {
    "duration": 23,
    "start_time": "2021-06-20T11:36:30.298Z"
   },
   {
    "duration": 333,
    "start_time": "2021-06-20T11:36:35.395Z"
   },
   {
    "duration": 870,
    "start_time": "2021-06-20T11:37:51.586Z"
   },
   {
    "duration": 34,
    "start_time": "2021-06-20T11:42:36.127Z"
   },
   {
    "duration": 410,
    "start_time": "2021-06-20T11:43:16.549Z"
   },
   {
    "duration": -1617,
    "start_time": "2021-06-20T11:43:51.108Z"
   },
   {
    "duration": 400,
    "start_time": "2021-06-20T11:43:59.999Z"
   },
   {
    "duration": 356,
    "start_time": "2021-06-20T11:44:19.400Z"
   },
   {
    "duration": 28,
    "start_time": "2021-06-20T11:44:23.557Z"
   },
   {
    "duration": 27,
    "start_time": "2021-06-20T11:44:35.306Z"
   },
   {
    "duration": 125,
    "start_time": "2021-06-20T11:44:57.360Z"
   },
   {
    "duration": 31,
    "start_time": "2021-06-20T11:45:00.683Z"
   },
   {
    "duration": 343,
    "start_time": "2021-06-20T11:45:11.237Z"
   },
   {
    "duration": 30,
    "start_time": "2021-06-20T11:45:22.546Z"
   },
   {
    "duration": 334,
    "start_time": "2021-06-20T11:45:25.353Z"
   },
   {
    "duration": 395,
    "start_time": "2021-06-20T11:45:59.660Z"
   },
   {
    "duration": 30,
    "start_time": "2021-06-20T11:47:07.728Z"
   },
   {
    "duration": 14069,
    "start_time": "2021-06-21T09:01:50.813Z"
   },
   {
    "duration": 4,
    "start_time": "2021-06-21T09:02:04.885Z"
   },
   {
    "duration": 1883,
    "start_time": "2021-06-21T09:02:04.892Z"
   },
   {
    "duration": 5,
    "start_time": "2021-06-21T09:02:06.778Z"
   },
   {
    "duration": 185,
    "start_time": "2021-06-21T09:02:06.785Z"
   },
   {
    "duration": 18,
    "start_time": "2021-06-21T09:02:06.973Z"
   },
   {
    "duration": 23,
    "start_time": "2021-06-21T09:02:06.993Z"
   },
   {
    "duration": 11,
    "start_time": "2021-06-21T09:02:07.020Z"
   },
   {
    "duration": 18,
    "start_time": "2021-06-21T09:02:07.034Z"
   },
   {
    "duration": 53,
    "start_time": "2021-06-21T09:02:07.054Z"
   },
   {
    "duration": 34,
    "start_time": "2021-06-21T09:02:07.109Z"
   },
   {
    "duration": 45,
    "start_time": "2021-06-21T09:02:07.145Z"
   },
   {
    "duration": 16,
    "start_time": "2021-06-21T09:02:07.193Z"
   },
   {
    "duration": 4,
    "start_time": "2021-06-21T09:02:07.212Z"
   },
   {
    "duration": 358,
    "start_time": "2021-06-21T09:02:07.218Z"
   },
   {
    "duration": 27,
    "start_time": "2021-06-21T09:02:07.578Z"
   },
   {
    "duration": 359,
    "start_time": "2021-06-21T09:02:07.608Z"
   },
   {
    "duration": 831,
    "start_time": "2021-06-21T09:02:07.970Z"
   },
   {
    "duration": -302,
    "start_time": "2021-06-21T09:02:09.106Z"
   },
   {
    "duration": -313,
    "start_time": "2021-06-21T09:02:09.119Z"
   },
   {
    "duration": -324,
    "start_time": "2021-06-21T09:02:09.132Z"
   },
   {
    "duration": -330,
    "start_time": "2021-06-21T09:02:09.139Z"
   },
   {
    "duration": -334,
    "start_time": "2021-06-21T09:02:09.145Z"
   },
   {
    "duration": -347,
    "start_time": "2021-06-21T09:02:09.159Z"
   },
   {
    "duration": -361,
    "start_time": "2021-06-21T09:02:09.175Z"
   },
   {
    "duration": -378,
    "start_time": "2021-06-21T09:02:09.194Z"
   },
   {
    "duration": -388,
    "start_time": "2021-06-21T09:02:09.205Z"
   },
   {
    "duration": -395,
    "start_time": "2021-06-21T09:02:09.213Z"
   },
   {
    "duration": -401,
    "start_time": "2021-06-21T09:02:09.221Z"
   },
   {
    "duration": -408,
    "start_time": "2021-06-21T09:02:09.229Z"
   },
   {
    "duration": -414,
    "start_time": "2021-06-21T09:02:09.237Z"
   },
   {
    "duration": -419,
    "start_time": "2021-06-21T09:02:09.243Z"
   },
   {
    "duration": -423,
    "start_time": "2021-06-21T09:02:09.249Z"
   },
   {
    "duration": -427,
    "start_time": "2021-06-21T09:02:09.254Z"
   },
   {
    "duration": 18,
    "start_time": "2021-06-21T09:08:02.107Z"
   },
   {
    "duration": 1096,
    "start_time": "2021-06-21T09:08:30.045Z"
   },
   {
    "duration": 34,
    "start_time": "2021-06-21T09:14:50.997Z"
   },
   {
    "duration": 3123,
    "start_time": "2021-06-21T09:16:00.825Z"
   },
   {
    "duration": 995,
    "start_time": "2021-06-21T09:16:16.771Z"
   },
   {
    "duration": 3011,
    "start_time": "2021-06-21T09:16:24.287Z"
   },
   {
    "duration": 24,
    "start_time": "2021-06-21T09:17:32.303Z"
   },
   {
    "duration": 2507,
    "start_time": "2021-06-21T09:17:36.264Z"
   },
   {
    "duration": 2280,
    "start_time": "2021-06-21T09:17:51.391Z"
   },
   {
    "duration": 29,
    "start_time": "2021-06-21T09:18:44.337Z"
   },
   {
    "duration": 96,
    "start_time": "2021-06-21T09:19:03.333Z"
   },
   {
    "duration": 30,
    "start_time": "2021-06-21T09:19:09.811Z"
   },
   {
    "duration": 2544,
    "start_time": "2021-06-21T09:19:13.539Z"
   },
   {
    "duration": 2449,
    "start_time": "2021-06-21T09:19:42.679Z"
   },
   {
    "duration": 2302,
    "start_time": "2021-06-21T09:22:24.864Z"
   },
   {
    "duration": 16,
    "start_time": "2021-06-21T09:25:34.470Z"
   },
   {
    "duration": 18,
    "start_time": "2021-06-21T09:27:06.462Z"
   },
   {
    "duration": 2317,
    "start_time": "2021-06-21T09:27:57.649Z"
   },
   {
    "duration": 2426,
    "start_time": "2021-06-21T09:29:27.022Z"
   },
   {
    "duration": 3399,
    "start_time": "2021-06-21T09:30:45.987Z"
   },
   {
    "duration": 2649,
    "start_time": "2021-06-21T09:32:51.152Z"
   },
   {
    "duration": 2352,
    "start_time": "2021-06-21T09:33:04.405Z"
   },
   {
    "duration": 3991,
    "start_time": "2021-06-21T09:33:31.852Z"
   },
   {
    "duration": 2775,
    "start_time": "2021-06-21T09:36:21.917Z"
   },
   {
    "duration": 3433,
    "start_time": "2021-06-21T09:37:58.313Z"
   },
   {
    "duration": 3019,
    "start_time": "2021-06-21T09:38:15.092Z"
   },
   {
    "duration": 2743,
    "start_time": "2021-06-21T09:39:53.274Z"
   },
   {
    "duration": 2334,
    "start_time": "2021-06-21T09:40:16.840Z"
   },
   {
    "duration": 943,
    "start_time": "2021-06-21T09:41:09.566Z"
   },
   {
    "duration": 2695,
    "start_time": "2021-06-21T09:41:16.329Z"
   },
   {
    "duration": 3442,
    "start_time": "2021-06-21T09:42:34.273Z"
   },
   {
    "duration": 3001,
    "start_time": "2021-06-21T09:46:15.141Z"
   },
   {
    "duration": 2674,
    "start_time": "2021-06-21T09:47:33.574Z"
   },
   {
    "duration": 2713,
    "start_time": "2021-06-21T09:56:20.419Z"
   },
   {
    "duration": 2744,
    "start_time": "2021-06-21T09:57:07.257Z"
   },
   {
    "duration": 2538,
    "start_time": "2021-06-21T09:57:46.800Z"
   },
   {
    "duration": 2627,
    "start_time": "2021-06-21T10:00:25.721Z"
   },
   {
    "duration": 2782,
    "start_time": "2021-06-21T10:01:17.421Z"
   },
   {
    "duration": 3400,
    "start_time": "2021-06-21T10:01:24.099Z"
   },
   {
    "duration": 2413,
    "start_time": "2021-06-21T10:02:50.821Z"
   },
   {
    "duration": 3173,
    "start_time": "2021-06-21T10:03:19.270Z"
   },
   {
    "duration": 2771,
    "start_time": "2021-06-21T10:05:29.552Z"
   },
   {
    "duration": 2671,
    "start_time": "2021-06-21T10:06:11.985Z"
   },
   {
    "duration": 3259,
    "start_time": "2021-06-21T10:06:23.858Z"
   },
   {
    "duration": 2684,
    "start_time": "2021-06-21T10:06:34.148Z"
   },
   {
    "duration": 2459,
    "start_time": "2021-06-21T10:06:45.759Z"
   },
   {
    "duration": 2495,
    "start_time": "2021-06-21T10:06:58.144Z"
   },
   {
    "duration": 2670,
    "start_time": "2021-06-21T10:07:07.706Z"
   },
   {
    "duration": 2524,
    "start_time": "2021-06-21T10:07:38.608Z"
   },
   {
    "duration": 2488,
    "start_time": "2021-06-21T10:11:08.872Z"
   },
   {
    "duration": 621,
    "start_time": "2021-06-21T10:17:10.727Z"
   },
   {
    "duration": 1321,
    "start_time": "2021-06-21T10:17:23.565Z"
   },
   {
    "duration": 2769,
    "start_time": "2021-06-21T10:18:53.719Z"
   },
   {
    "duration": 3024,
    "start_time": "2021-06-21T10:20:54.649Z"
   },
   {
    "duration": 2437,
    "start_time": "2021-06-21T10:21:15.898Z"
   },
   {
    "duration": 380,
    "start_time": "2021-06-21T10:23:15.508Z"
   },
   {
    "duration": 1290,
    "start_time": "2021-06-21T10:35:02.406Z"
   },
   {
    "duration": 37,
    "start_time": "2021-06-21T10:35:09.083Z"
   },
   {
    "duration": 1244,
    "start_time": "2021-06-21T10:35:13.692Z"
   },
   {
    "duration": 566,
    "start_time": "2021-06-21T10:36:26.259Z"
   },
   {
    "duration": 30,
    "start_time": "2021-06-21T10:36:29.226Z"
   },
   {
    "duration": 22,
    "start_time": "2021-06-21T10:36:49.792Z"
   },
   {
    "duration": 20,
    "start_time": "2021-06-21T10:37:35.258Z"
   },
   {
    "duration": 17,
    "start_time": "2021-06-21T10:37:42.205Z"
   },
   {
    "duration": 817,
    "start_time": "2021-06-21T10:37:51.094Z"
   },
   {
    "duration": 309,
    "start_time": "2021-06-21T10:38:02.347Z"
   },
   {
    "duration": 386,
    "start_time": "2021-06-21T10:38:13.346Z"
   },
   {
    "duration": 314,
    "start_time": "2021-06-21T10:39:00.728Z"
   },
   {
    "duration": 33,
    "start_time": "2021-06-21T10:39:08.305Z"
   },
   {
    "duration": 388,
    "start_time": "2021-06-21T10:39:14.946Z"
   },
   {
    "duration": 25,
    "start_time": "2021-06-21T10:40:02.991Z"
   },
   {
    "duration": 62,
    "start_time": "2021-06-21T10:40:35.468Z"
   },
   {
    "duration": 293,
    "start_time": "2021-06-21T10:41:18.302Z"
   },
   {
    "duration": 35,
    "start_time": "2021-06-21T10:41:25.440Z"
   },
   {
    "duration": 22,
    "start_time": "2021-06-21T11:00:28.900Z"
   },
   {
    "duration": 15955,
    "start_time": "2021-06-21T11:01:02.999Z"
   },
   {
    "duration": 26,
    "start_time": "2021-06-21T11:01:42.005Z"
   },
   {
    "duration": 33,
    "start_time": "2021-06-21T11:01:51.192Z"
   },
   {
    "duration": 294,
    "start_time": "2021-06-21T11:01:56.936Z"
   },
   {
    "duration": 22,
    "start_time": "2021-06-21T11:04:51.849Z"
   },
   {
    "duration": 2087,
    "start_time": "2021-06-21T11:05:51.540Z"
   },
   {
    "duration": 1660,
    "start_time": "2021-06-21T11:08:37.335Z"
   },
   {
    "duration": 58,
    "start_time": "2021-06-21T11:12:15.767Z"
   },
   {
    "duration": 7575,
    "start_time": "2021-06-21T11:43:47.704Z"
   },
   {
    "duration": 3,
    "start_time": "2021-06-21T11:43:55.282Z"
   },
   {
    "duration": 1813,
    "start_time": "2021-06-21T11:43:55.288Z"
   },
   {
    "duration": 3,
    "start_time": "2021-06-21T11:43:57.104Z"
   },
   {
    "duration": 178,
    "start_time": "2021-06-21T11:43:57.110Z"
   },
   {
    "duration": 18,
    "start_time": "2021-06-21T11:43:57.290Z"
   },
   {
    "duration": 22,
    "start_time": "2021-06-21T11:43:57.310Z"
   },
   {
    "duration": 13,
    "start_time": "2021-06-21T11:43:57.336Z"
   },
   {
    "duration": 16,
    "start_time": "2021-06-21T11:43:57.385Z"
   },
   {
    "duration": 28,
    "start_time": "2021-06-21T11:43:57.403Z"
   },
   {
    "duration": 66,
    "start_time": "2021-06-21T11:43:57.433Z"
   },
   {
    "duration": 16,
    "start_time": "2021-06-21T11:43:57.502Z"
   },
   {
    "duration": 15,
    "start_time": "2021-06-21T11:43:57.520Z"
   },
   {
    "duration": 7,
    "start_time": "2021-06-21T11:43:57.537Z"
   },
   {
    "duration": 358,
    "start_time": "2021-06-21T11:43:57.547Z"
   },
   {
    "duration": 26,
    "start_time": "2021-06-21T11:43:57.908Z"
   },
   {
    "duration": 347,
    "start_time": "2021-06-21T11:43:57.936Z"
   },
   {
    "duration": 1151,
    "start_time": "2021-06-21T11:43:58.285Z"
   },
   {
    "duration": 2688,
    "start_time": "2021-06-21T11:43:59.438Z"
   },
   {
    "duration": 414,
    "start_time": "2021-06-21T11:44:02.129Z"
   },
   {
    "duration": 1001,
    "start_time": "2021-06-21T11:44:02.545Z"
   },
   {
    "duration": 49,
    "start_time": "2021-06-21T11:44:03.548Z"
   },
   {
    "duration": 1519,
    "start_time": "2021-06-21T11:44:03.602Z"
   },
   {
    "duration": 559,
    "start_time": "2021-06-21T11:44:05.124Z"
   },
   {
    "duration": 30,
    "start_time": "2021-06-21T11:44:05.685Z"
   },
   {
    "duration": 20,
    "start_time": "2021-06-21T11:44:05.717Z"
   },
   {
    "duration": 48,
    "start_time": "2021-06-21T11:44:05.739Z"
   },
   {
    "duration": 18,
    "start_time": "2021-06-21T11:44:05.789Z"
   },
   {
    "duration": 414,
    "start_time": "2021-06-21T11:44:05.809Z"
   },
   {
    "duration": 32,
    "start_time": "2021-06-21T11:44:06.225Z"
   },
   {
    "duration": 41,
    "start_time": "2021-06-21T11:44:06.259Z"
   },
   {
    "duration": 1793,
    "start_time": "2021-06-21T11:44:06.303Z"
   },
   {
    "duration": 59,
    "start_time": "2021-06-21T11:44:08.099Z"
   },
   {
    "duration": 48,
    "start_time": "2021-06-21T11:44:08.161Z"
   }
  ],
  "celltoolbar": "Редактировать метаданные",
  "kernelspec": {
   "display_name": "Python 3",
   "language": "python",
   "name": "python3"
  },
  "language_info": {
   "codemirror_mode": {
    "name": "ipython",
    "version": 3
   },
   "file_extension": ".py",
   "mimetype": "text/x-python",
   "name": "python",
   "nbconvert_exporter": "python",
   "pygments_lexer": "ipython3",
   "version": "3.8.8"
  },
  "toc": {
   "base_numbering": 1,
   "nav_menu": {},
   "number_sections": true,
   "sideBar": true,
   "skip_h1_title": true,
   "title_cell": "Table of Contents",
   "title_sidebar": "Contents",
   "toc_cell": false,
   "toc_position": {},
   "toc_section_display": true,
   "toc_window_display": true
  }
 },
 "nbformat": 4,
 "nbformat_minor": 5
}
