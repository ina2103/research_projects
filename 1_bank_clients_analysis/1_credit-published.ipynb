{
 "cells": [
  {
   "cell_type": "markdown",
   "metadata": {
    "toc": true
   },
   "source": [
    "<h1>Table of Contents<span class=\"tocSkip\"></span></h1>\n",
    "<div class=\"toc\"><ul class=\"toc-item\"><li><span><a href=\"#Общие-положения\" data-toc-modified-id=\"Общие-положения-1\"><span class=\"toc-item-num\">1&nbsp;&nbsp;</span>Общие положения</a></span></li><li><span><a href=\"#Шаг-1.-Изучение-предоставленных-данных\" data-toc-modified-id=\"Шаг-1.-Изучение-предоставленных-данных-2\"><span class=\"toc-item-num\">2&nbsp;&nbsp;</span>Шаг 1. Изучение предоставленных данных</a></span><ul class=\"toc-item\"><li><span><a href=\"#Изучение-общей-информации-о-файле\" data-toc-modified-id=\"Изучение-общей-информации-о-файле-2.1\"><span class=\"toc-item-num\">2.1&nbsp;&nbsp;</span>Изучение общей информации о файле</a></span></li><li><span><a href=\"#Проверка-наличия-дублей-в-данных\" data-toc-modified-id=\"Проверка-наличия-дублей-в-данных-2.2\"><span class=\"toc-item-num\">2.2&nbsp;&nbsp;</span>Проверка наличия дублей в данных</a></span></li><li><span><a href=\"#Проверка-содержание-столбцов-значимых-характеристик\" data-toc-modified-id=\"Проверка-содержание-столбцов-значимых-характеристик-2.3\"><span class=\"toc-item-num\">2.3&nbsp;&nbsp;</span>Проверка содержание столбцов значимых характеристик</a></span></li><li><span><a href=\"#Вывод-по-шагу-&quot;Изучение-предоставленных-данных&quot;\" data-toc-modified-id=\"Вывод-по-шагу-&quot;Изучение-предоставленных-данных&quot;-2.4\"><span class=\"toc-item-num\">2.4&nbsp;&nbsp;</span>Вывод по шагу \"Изучение предоставленных данных\"</a></span></li></ul></li><li><span><a href=\"#Шаг-2.-Предобработка-данных\" data-toc-modified-id=\"Шаг-2.-Предобработка-данных-3\"><span class=\"toc-item-num\">3&nbsp;&nbsp;</span>Шаг 2. Предобработка данных</a></span><ul class=\"toc-item\"><li><span><a href=\"#Удаление-дублей\" data-toc-modified-id=\"Удаление-дублей-3.1\"><span class=\"toc-item-num\">3.1&nbsp;&nbsp;</span>Удаление дублей</a></span></li><li><span><a href=\"#Обработка-значений-NaN\" data-toc-modified-id=\"Обработка-значений-NaN-3.2\"><span class=\"toc-item-num\">3.2&nbsp;&nbsp;</span>Обработка значений NaN</a></span></li><li><span><a href=\"#Замена-типа-данных-float-на-int\" data-toc-modified-id=\"Замена-типа-данных-float-на-int-3.3\"><span class=\"toc-item-num\">3.3&nbsp;&nbsp;</span>Замена типа данных float на int</a></span></li><li><span><a href=\"#Обработка-дубликатов\" data-toc-modified-id=\"Обработка-дубликатов-3.4\"><span class=\"toc-item-num\">3.4&nbsp;&nbsp;</span>Обработка дубликатов</a></span></li><li><span><a href=\"#Столбец-gender:-удаление-значения-XNA\" data-toc-modified-id=\"Столбец-gender:-удаление-значения-XNA-3.5\"><span class=\"toc-item-num\">3.5&nbsp;&nbsp;</span>Столбец gender: удаление значения XNA</a></span></li><li><span><a href=\"#Столбец-children:-удаление-отрицательных-и-экстремально-высоких-значений\" data-toc-modified-id=\"Столбец-children:-удаление-отрицательных-и-экстремально-высоких-значений-3.6\"><span class=\"toc-item-num\">3.6&nbsp;&nbsp;</span>Столбец children: удаление отрицательных и экстремально высоких значений</a></span></li><li><span><a href=\"#Столбец-total_income:-обработка-пропусков\" data-toc-modified-id=\"Столбец-total_income:-обработка-пропусков-3.7\"><span class=\"toc-item-num\">3.7&nbsp;&nbsp;</span>Столбец total_income: обработка пропусков</a></span><ul class=\"toc-item\"><li><span><a href=\"#Проверка-распределения-пустых-значений\" data-toc-modified-id=\"Проверка-распределения-пустых-значений-3.7.1\"><span class=\"toc-item-num\">3.7.1&nbsp;&nbsp;</span>Проверка распределения пустых значений</a></span></li><li><span><a href=\"#Проверим-наличие-корреляции-между-числовыми-параметрами\" data-toc-modified-id=\"Проверим-наличие-корреляции-между-числовыми-параметрами-3.7.2\"><span class=\"toc-item-num\">3.7.2&nbsp;&nbsp;</span>Проверим наличие корреляции между числовыми параметрами</a></span></li><li><span><a href=\"#Заполнение-пропусков-в-total_income\" data-toc-modified-id=\"Заполнение-пропусков-в-total_income-3.7.3\"><span class=\"toc-item-num\">3.7.3&nbsp;&nbsp;</span>Заполнение пропусков в total_income</a></span></li></ul></li><li><span><a href=\"#Столбец-purpose:-лемматизация\" data-toc-modified-id=\"Столбец-purpose:-лемматизация-3.8\"><span class=\"toc-item-num\">3.8&nbsp;&nbsp;</span>Столбец purpose: лемматизация</a></span><ul class=\"toc-item\"><li><span><a href=\"#Изучение-данных-столбца-purpose\" data-toc-modified-id=\"Изучение-данных-столбца-purpose-3.8.1\"><span class=\"toc-item-num\">3.8.1&nbsp;&nbsp;</span>Изучение данных столбца purpose</a></span></li><li><span><a href=\"#Выделение-более-общих-целей-кредита\" data-toc-modified-id=\"Выделение-более-общих-целей-кредита-3.8.2\"><span class=\"toc-item-num\">3.8.2&nbsp;&nbsp;</span>Выделение более общих целей кредита</a></span></li></ul></li><li><span><a href=\"#Столбец-total_income:-категоризация-данных\" data-toc-modified-id=\"Столбец-total_income:-категоризация-данных-3.9\"><span class=\"toc-item-num\">3.9&nbsp;&nbsp;</span>Столбец total_income: категоризация данных</a></span><ul class=\"toc-item\"><li><span><a href=\"#Изучение-данных\" data-toc-modified-id=\"Изучение-данных-3.9.1\"><span class=\"toc-item-num\">3.9.1&nbsp;&nbsp;</span>Изучение данных</a></span></li><li><span><a href=\"#Присвоение-категории-дохода\" data-toc-modified-id=\"Присвоение-категории-дохода-3.9.2\"><span class=\"toc-item-num\">3.9.2&nbsp;&nbsp;</span>Присвоение категории дохода</a></span></li></ul></li><li><span><a href=\"#Дополнительные-категории-наличия-детей-и-наличия-задолжности\" data-toc-modified-id=\"Дополнительные-категории-наличия-детей-и-наличия-задолжности-3.10\"><span class=\"toc-item-num\">3.10&nbsp;&nbsp;</span>Дополнительные категории наличия детей и наличия задолжности</a></span></li></ul></li><li><span><a href=\"#Шаг-3.-Анализ-данных\" data-toc-modified-id=\"Шаг-3.-Анализ-данных-4\"><span class=\"toc-item-num\">4&nbsp;&nbsp;</span>Шаг 3. Анализ данных</a></span><ul class=\"toc-item\"><li><span><a href=\"#Зависимость-между-наличием-детей-и-возвратом-кредита-в-срок\" data-toc-modified-id=\"Зависимость-между-наличием-детей-и-возвратом-кредита-в-срок-4.1\"><span class=\"toc-item-num\">4.1&nbsp;&nbsp;</span>Зависимость между наличием детей и возвратом кредита в срок</a></span></li><li><span><a href=\"#Зависимость-между-семейным-положением-и-возвратом-кредита\" data-toc-modified-id=\"Зависимость-между-семейным-положением-и-возвратом-кредита-4.2\"><span class=\"toc-item-num\">4.2&nbsp;&nbsp;</span>Зависимость между семейным положением и возвратом кредита</a></span></li><li><span><a href=\"#Зависимость-между-уровнем-дохода-и-возвратом-кредита-в-срок\" data-toc-modified-id=\"Зависимость-между-уровнем-дохода-и-возвратом-кредита-в-срок-4.3\"><span class=\"toc-item-num\">4.3&nbsp;&nbsp;</span>Зависимость между уровнем дохода и возвратом кредита в срок</a></span></li><li><span><a href=\"#Зависимость-между-целью-кредита-и-возвратом-в-срок\" data-toc-modified-id=\"Зависимость-между-целью-кредита-и-возвратом-в-срок-4.4\"><span class=\"toc-item-num\">4.4&nbsp;&nbsp;</span>Зависимость между целью кредита и возвратом в срок</a></span></li><li><span><a href=\"#Изучение-параметров,-не-заявленных-в-целях-исследования\" data-toc-modified-id=\"Изучение-параметров,-не-заявленных-в-целях-исследования-4.5\"><span class=\"toc-item-num\">4.5&nbsp;&nbsp;</span>Изучение параметров, не заявленных в целях исследования</a></span><ul class=\"toc-item\"><li><span><a href=\"#Зависимость-между-полом-и-возвратом-кредита-в-срок\" data-toc-modified-id=\"Зависимость-между-полом-и-возвратом-кредита-в-срок-4.5.1\"><span class=\"toc-item-num\">4.5.1&nbsp;&nbsp;</span>Зависимость между полом и возвратом кредита в срок</a></span></li><li><span><a href=\"#Зависимость-между-возрастом-и-возвратом-кредита-в-срок\" data-toc-modified-id=\"Зависимость-между-возрастом-и-возвратом-кредита-в-срок-4.5.2\"><span class=\"toc-item-num\">4.5.2&nbsp;&nbsp;</span>Зависимость между возрастом и возвратом кредита в срок</a></span></li></ul></li><li><span><a href=\"#Кластеризация-должников\" data-toc-modified-id=\"Кластеризация-должников-4.6\"><span class=\"toc-item-num\">4.6&nbsp;&nbsp;</span>Кластеризация должников</a></span></li></ul></li><li><span><a href=\"#Шаг-4.-Общий-вывод\" data-toc-modified-id=\"Шаг-4.-Общий-вывод-5\"><span class=\"toc-item-num\">5&nbsp;&nbsp;</span>Шаг 4. Общий вывод</a></span></li><li><span><a href=\"#Чек-лист-готовности-проекта\" data-toc-modified-id=\"Чек-лист-готовности-проекта-6\"><span class=\"toc-item-num\">6&nbsp;&nbsp;</span>Чек-лист готовности проекта</a></span></li></ul></div>"
   ]
  },
  {
   "cell_type": "markdown",
   "metadata": {},
   "source": [
    "# Исследование надёжности заёмщиков\n",
    "\n",
    "## Общие положения\n",
    "**Заказчик исследования** — кредитный отдел банка. \n",
    "\n",
    "**Цель исследования** — установить наличие или отсутствие зависимости между характеристиками заемщика и фактом погашения кредита в срок. Для проверки гипотезы кредитным отделом банка предоставлена статистика платежеспособности клиентов. \n",
    "\n",
    "**Задачи исследования**:\n",
    "1. Проверить, влияют ли на возврат кредита в срок наличие детей, семейное положение, уровень дохода и цель кредита.\n",
    "2. Подготовить рекомендации о целесообразности включения проверяемых характеристик в модель кредитного скоринга.\n",
    "\n",
    "**Шаги проекта**:\n",
    "1. Изучение предоставленных данных.\n",
    "2. Предобработка данных.\n",
    "3. Анализ данных.\n",
    "4. Выводы на основании анализа данных."
   ]
  },
  {
   "cell_type": "markdown",
   "metadata": {},
   "source": [
    "## Шаг 1. Изучение предоставленных данных"
   ]
  },
  {
   "cell_type": "markdown",
   "metadata": {},
   "source": [
    "### Изучение общей информации о файле"
   ]
  },
  {
   "cell_type": "code",
   "execution_count": 1,
   "metadata": {},
   "outputs": [],
   "source": [
    "# импорт необходимых библиотек\n",
    "import pandas as pd\n",
    "\n",
    "from pymystem3 import Mystem\n",
    "m = Mystem()"
   ]
  },
  {
   "cell_type": "code",
   "execution_count": 2,
   "metadata": {},
   "outputs": [],
   "source": [
    "# чтение файла из однозначно указанной директории\n",
    "data = pd.read_csv('/datasets/data.csv')"
   ]
  },
  {
   "cell_type": "markdown",
   "metadata": {},
   "source": [
    "Для того чтобы составить представление о данных запросим резюме — наименование и содержание колонок, типы данных, информация о пустых значениях."
   ]
  },
  {
   "cell_type": "code",
   "execution_count": 3,
   "metadata": {
    "scrolled": true
   },
   "outputs": [
    {
     "name": "stdout",
     "output_type": "stream",
     "text": [
      "<class 'pandas.core.frame.DataFrame'>\n",
      "RangeIndex: 21525 entries, 0 to 21524\n",
      "Data columns (total 12 columns):\n",
      "children            21525 non-null int64\n",
      "days_employed       19351 non-null float64\n",
      "dob_years           21525 non-null int64\n",
      "education           21525 non-null object\n",
      "education_id        21525 non-null int64\n",
      "family_status       21525 non-null object\n",
      "family_status_id    21525 non-null int64\n",
      "gender              21525 non-null object\n",
      "income_type         21525 non-null object\n",
      "debt                21525 non-null int64\n",
      "total_income        19351 non-null float64\n",
      "purpose             21525 non-null object\n",
      "dtypes: float64(2), int64(5), object(5)\n",
      "memory usage: 2.0+ MB\n"
     ]
    }
   ],
   "source": [
    "# запросим общую информацию о файле стандартным методом .info()\n",
    "data.info()"
   ]
  },
  {
   "cell_type": "markdown",
   "metadata": {},
   "source": [
    "Предоставленный файл содержит 21525 записи, что представляется достаточным для анализа объемом. Три из четырех заявленных для изучения характеристик не имеют пропусков: количество детей (children), семейное положение (family_status), цель получения кредита (purpose). Пропуски есть в важном столбце \"доход\" (total_income), а также в \"трудовом стаже\" (days_employed). Замена пустых значений будет произведена на этапе предообаботки данных.\n",
    "Данные, выраженные числами, имеют числовой формат — количество детей, дней трудового стажа, возраст, идентификаторы уровня образования и семейного положения, наличие задолжности по кредиту, доход."
   ]
  },
  {
   "cell_type": "markdown",
   "metadata": {},
   "source": [
    "Для более полной картины требуется визуальное изучение данных. Запросим первые десять строк датасета."
   ]
  },
  {
   "cell_type": "code",
   "execution_count": 4,
   "metadata": {},
   "outputs": [
    {
     "data": {
      "text/html": [
       "<div>\n",
       "<style scoped>\n",
       "    .dataframe tbody tr th:only-of-type {\n",
       "        vertical-align: middle;\n",
       "    }\n",
       "\n",
       "    .dataframe tbody tr th {\n",
       "        vertical-align: top;\n",
       "    }\n",
       "\n",
       "    .dataframe thead th {\n",
       "        text-align: right;\n",
       "    }\n",
       "</style>\n",
       "<table border=\"1\" class=\"dataframe\">\n",
       "  <thead>\n",
       "    <tr style=\"text-align: right;\">\n",
       "      <th></th>\n",
       "      <th>children</th>\n",
       "      <th>days_employed</th>\n",
       "      <th>dob_years</th>\n",
       "      <th>education</th>\n",
       "      <th>education_id</th>\n",
       "      <th>family_status</th>\n",
       "      <th>family_status_id</th>\n",
       "      <th>gender</th>\n",
       "      <th>income_type</th>\n",
       "      <th>debt</th>\n",
       "      <th>total_income</th>\n",
       "      <th>purpose</th>\n",
       "    </tr>\n",
       "  </thead>\n",
       "  <tbody>\n",
       "    <tr>\n",
       "      <td>0</td>\n",
       "      <td>1</td>\n",
       "      <td>-8437.673028</td>\n",
       "      <td>42</td>\n",
       "      <td>высшее</td>\n",
       "      <td>0</td>\n",
       "      <td>женат / замужем</td>\n",
       "      <td>0</td>\n",
       "      <td>F</td>\n",
       "      <td>сотрудник</td>\n",
       "      <td>0</td>\n",
       "      <td>253875.639453</td>\n",
       "      <td>покупка жилья</td>\n",
       "    </tr>\n",
       "    <tr>\n",
       "      <td>1</td>\n",
       "      <td>1</td>\n",
       "      <td>-4024.803754</td>\n",
       "      <td>36</td>\n",
       "      <td>среднее</td>\n",
       "      <td>1</td>\n",
       "      <td>женат / замужем</td>\n",
       "      <td>0</td>\n",
       "      <td>F</td>\n",
       "      <td>сотрудник</td>\n",
       "      <td>0</td>\n",
       "      <td>112080.014102</td>\n",
       "      <td>приобретение автомобиля</td>\n",
       "    </tr>\n",
       "    <tr>\n",
       "      <td>2</td>\n",
       "      <td>0</td>\n",
       "      <td>-5623.422610</td>\n",
       "      <td>33</td>\n",
       "      <td>Среднее</td>\n",
       "      <td>1</td>\n",
       "      <td>женат / замужем</td>\n",
       "      <td>0</td>\n",
       "      <td>M</td>\n",
       "      <td>сотрудник</td>\n",
       "      <td>0</td>\n",
       "      <td>145885.952297</td>\n",
       "      <td>покупка жилья</td>\n",
       "    </tr>\n",
       "    <tr>\n",
       "      <td>3</td>\n",
       "      <td>3</td>\n",
       "      <td>-4124.747207</td>\n",
       "      <td>32</td>\n",
       "      <td>среднее</td>\n",
       "      <td>1</td>\n",
       "      <td>женат / замужем</td>\n",
       "      <td>0</td>\n",
       "      <td>M</td>\n",
       "      <td>сотрудник</td>\n",
       "      <td>0</td>\n",
       "      <td>267628.550329</td>\n",
       "      <td>дополнительное образование</td>\n",
       "    </tr>\n",
       "    <tr>\n",
       "      <td>4</td>\n",
       "      <td>0</td>\n",
       "      <td>340266.072047</td>\n",
       "      <td>53</td>\n",
       "      <td>среднее</td>\n",
       "      <td>1</td>\n",
       "      <td>гражданский брак</td>\n",
       "      <td>1</td>\n",
       "      <td>F</td>\n",
       "      <td>пенсионер</td>\n",
       "      <td>0</td>\n",
       "      <td>158616.077870</td>\n",
       "      <td>сыграть свадьбу</td>\n",
       "    </tr>\n",
       "    <tr>\n",
       "      <td>5</td>\n",
       "      <td>0</td>\n",
       "      <td>-926.185831</td>\n",
       "      <td>27</td>\n",
       "      <td>высшее</td>\n",
       "      <td>0</td>\n",
       "      <td>гражданский брак</td>\n",
       "      <td>1</td>\n",
       "      <td>M</td>\n",
       "      <td>компаньон</td>\n",
       "      <td>0</td>\n",
       "      <td>255763.565419</td>\n",
       "      <td>покупка жилья</td>\n",
       "    </tr>\n",
       "    <tr>\n",
       "      <td>6</td>\n",
       "      <td>0</td>\n",
       "      <td>-2879.202052</td>\n",
       "      <td>43</td>\n",
       "      <td>высшее</td>\n",
       "      <td>0</td>\n",
       "      <td>женат / замужем</td>\n",
       "      <td>0</td>\n",
       "      <td>F</td>\n",
       "      <td>компаньон</td>\n",
       "      <td>0</td>\n",
       "      <td>240525.971920</td>\n",
       "      <td>операции с жильем</td>\n",
       "    </tr>\n",
       "    <tr>\n",
       "      <td>7</td>\n",
       "      <td>0</td>\n",
       "      <td>-152.779569</td>\n",
       "      <td>50</td>\n",
       "      <td>СРЕДНЕЕ</td>\n",
       "      <td>1</td>\n",
       "      <td>женат / замужем</td>\n",
       "      <td>0</td>\n",
       "      <td>M</td>\n",
       "      <td>сотрудник</td>\n",
       "      <td>0</td>\n",
       "      <td>135823.934197</td>\n",
       "      <td>образование</td>\n",
       "    </tr>\n",
       "    <tr>\n",
       "      <td>8</td>\n",
       "      <td>2</td>\n",
       "      <td>-6929.865299</td>\n",
       "      <td>35</td>\n",
       "      <td>ВЫСШЕЕ</td>\n",
       "      <td>0</td>\n",
       "      <td>гражданский брак</td>\n",
       "      <td>1</td>\n",
       "      <td>F</td>\n",
       "      <td>сотрудник</td>\n",
       "      <td>0</td>\n",
       "      <td>95856.832424</td>\n",
       "      <td>на проведение свадьбы</td>\n",
       "    </tr>\n",
       "    <tr>\n",
       "      <td>9</td>\n",
       "      <td>0</td>\n",
       "      <td>-2188.756445</td>\n",
       "      <td>41</td>\n",
       "      <td>среднее</td>\n",
       "      <td>1</td>\n",
       "      <td>женат / замужем</td>\n",
       "      <td>0</td>\n",
       "      <td>M</td>\n",
       "      <td>сотрудник</td>\n",
       "      <td>0</td>\n",
       "      <td>144425.938277</td>\n",
       "      <td>покупка жилья для семьи</td>\n",
       "    </tr>\n",
       "  </tbody>\n",
       "</table>\n",
       "</div>"
      ],
      "text/plain": [
       "   children  days_employed  dob_years education  education_id  \\\n",
       "0         1   -8437.673028         42    высшее             0   \n",
       "1         1   -4024.803754         36   среднее             1   \n",
       "2         0   -5623.422610         33   Среднее             1   \n",
       "3         3   -4124.747207         32   среднее             1   \n",
       "4         0  340266.072047         53   среднее             1   \n",
       "5         0    -926.185831         27    высшее             0   \n",
       "6         0   -2879.202052         43    высшее             0   \n",
       "7         0    -152.779569         50   СРЕДНЕЕ             1   \n",
       "8         2   -6929.865299         35    ВЫСШЕЕ             0   \n",
       "9         0   -2188.756445         41   среднее             1   \n",
       "\n",
       "      family_status  family_status_id gender income_type  debt   total_income  \\\n",
       "0   женат / замужем                 0      F   сотрудник     0  253875.639453   \n",
       "1   женат / замужем                 0      F   сотрудник     0  112080.014102   \n",
       "2   женат / замужем                 0      M   сотрудник     0  145885.952297   \n",
       "3   женат / замужем                 0      M   сотрудник     0  267628.550329   \n",
       "4  гражданский брак                 1      F   пенсионер     0  158616.077870   \n",
       "5  гражданский брак                 1      M   компаньон     0  255763.565419   \n",
       "6   женат / замужем                 0      F   компаньон     0  240525.971920   \n",
       "7   женат / замужем                 0      M   сотрудник     0  135823.934197   \n",
       "8  гражданский брак                 1      F   сотрудник     0   95856.832424   \n",
       "9   женат / замужем                 0      M   сотрудник     0  144425.938277   \n",
       "\n",
       "                      purpose  \n",
       "0               покупка жилья  \n",
       "1     приобретение автомобиля  \n",
       "2               покупка жилья  \n",
       "3  дополнительное образование  \n",
       "4             сыграть свадьбу  \n",
       "5               покупка жилья  \n",
       "6           операции с жильем  \n",
       "7                 образование  \n",
       "8       на проведение свадьбы  \n",
       "9     покупка жилья для семьи  "
      ]
     },
     "execution_count": 4,
     "metadata": {},
     "output_type": "execute_result"
    }
   ],
   "source": [
    "# запросим первые 10 строк через стандартный метод .head() с параметром 10\n",
    "data.head(10)"
   ]
  },
  {
   "cell_type": "markdown",
   "metadata": {},
   "source": [
    "Данные в столбце education разнородные: \"среднее\", \"Среднее\", \"СРЕДНЕЕ\" — хотя само образование не является характеристикой, заявленной для проверки, есть вероятность, в значимых колонках данные также неоднородны. Причины неясны — если бы в форме для заполнения поле было строчным, были бы опечатки вида \"вышсее\". Возможно, это результат преобразований в разные форматы."
   ]
  },
  {
   "cell_type": "markdown",
   "metadata": {},
   "source": [
    "Количество дней стажа в выборке может принимать в том числе или отрицательные значения или экстремально высокие (340266 дней стажа — это более 932 лет; есть вероятность, что стаж взят в часах, в этом случае рассматриваемое значение 340266 становится примерно 38 годами). В задачах исследования не стоит оценка влияния трудового стажа на возврат кредита, поэтому никаких мер в отношении стобца days_employed принято не будет. Поскольку нет информации о способе получения этих данных, сложно делать предположения о причинах ошибок, а следовательно, и выбирать способы их устранения."
   ]
  },
  {
   "cell_type": "markdown",
   "metadata": {},
   "source": [
    "**Вывод:** кредитным отделом предоставлен достаточный для анализа массив данных, структура и содержание данных удовлетворительные; потребуется работа по преобразованию дублей и пустых значений в ключевых столбцах, а также процедура унификации данных в столбце purpose. "
   ]
  },
  {
   "cell_type": "markdown",
   "metadata": {},
   "source": [
    "### Проверка наличия дублей в данных"
   ]
  },
  {
   "cell_type": "markdown",
   "metadata": {},
   "source": [
    "Проверим наличие полных дублей в предоставленных данных, когда значения всех столбцов в строке совпадает с другой строкой."
   ]
  },
  {
   "cell_type": "code",
   "execution_count": 5,
   "metadata": {},
   "outputs": [
    {
     "name": "stdout",
     "output_type": "stream",
     "text": [
      "Количество дублирующихся строк в данных: 54\n",
      "Доля дублей в данных: 0.25%\n"
     ]
    }
   ],
   "source": [
    "# для подсчет полных дублей в данных вызовем последовательно метод .duplicated() и метод .sum()\n",
    "duplicates = data.duplicated().sum()\n",
    "\n",
    "# для расчета доли дублей найдем длину массива через функцию len()\n",
    "duplicates_part = duplicates / len(data)\n",
    "\n",
    "# выведем результаты исследований\n",
    "print('Количество дублирующихся строк в данных:', duplicates)\n",
    "print('Доля дублей в данных: {:.2%}'.format(duplicates_part))"
   ]
  },
  {
   "cell_type": "markdown",
   "metadata": {},
   "source": [
    "**Вывод:** дублей в данных немного. Источником появления дублей могут быть и заполнение заемщиком формы несколько раз, и возможные ошибки при копировании. Небольшая доля дублей (0,25%) позволяет удалить их без потери качества. Продура будет проведена на следующем этапе."
   ]
  },
  {
   "cell_type": "markdown",
   "metadata": {},
   "source": [
    "### Проверка содержание столбцов значимых характеристик"
   ]
  },
  {
   "cell_type": "markdown",
   "metadata": {},
   "source": [
    "Убедимся, что значимые для исследования столбцы — children, family_status — содержат однородные адекватные данные (из этапа изучения данных очевидно, что столбец purpose содержит разнородные данные, а столбец total_income нуждается в заполнении пропусков). "
   ]
  },
  {
   "cell_type": "markdown",
   "metadata": {},
   "source": [
    "Проверим, что family_status_id является унифицированным идентификатором семейного статуса."
   ]
  },
  {
   "cell_type": "code",
   "execution_count": 6,
   "metadata": {
    "scrolled": true
   },
   "outputs": [
    {
     "data": {
      "text/plain": [
       "family_status\n",
       "Не женат / не замужем    [4]\n",
       "в разводе                [3]\n",
       "вдовец / вдова           [2]\n",
       "гражданский брак         [1]\n",
       "женат / замужем          [0]\n",
       "Name: family_status_id, dtype: object"
      ]
     },
     "execution_count": 6,
     "metadata": {},
     "output_type": "execute_result"
    }
   ],
   "source": [
    "# сгруппируем данные по столбцу family_status и выведем уникальные значения для family_status_id\n",
    "data.groupby('family_status')['family_status_id'].unique()"
   ]
  },
  {
   "cell_type": "markdown",
   "metadata": {},
   "source": [
    "Данным в колонке family_status соответствует цифровой код в колонке family_status_id. Возможно, идентификатор пригодится для дальнейших исследований."
   ]
  },
  {
   "cell_type": "markdown",
   "metadata": {},
   "source": [
    "Посмотрим, какие данные представлены в колонке children."
   ]
  },
  {
   "cell_type": "code",
   "execution_count": 7,
   "metadata": {},
   "outputs": [
    {
     "data": {
      "text/plain": [
       "children\n",
       "-1        47\n",
       " 0     14149\n",
       " 1      4818\n",
       " 2      2055\n",
       " 3       330\n",
       " 4        41\n",
       " 5         9\n",
       " 20       76\n",
       "Name: children, dtype: int64"
      ]
     },
     "execution_count": 7,
     "metadata": {},
     "output_type": "execute_result"
    }
   ],
   "source": [
    "# сгруппируем данные по количеству детей и посчитаем частоту вхождения значений в массив\n",
    "data.groupby('children')['children'].count()"
   ]
  },
  {
   "cell_type": "markdown",
   "metadata": {},
   "source": [
    "Проверка показала, что количество детей может принимать отрицательные значения. Они могли появиться, например, в ходе парсинга форм — в датасет попал лишний символ. Точные причины неизвестны, 47 значений составляют 0,2% от выборки, доля некритична, на следующем этапе данные будут удалены.\n",
    "\n",
    "Вызывает сомнение и показатель 76 заемщиков с 20 детьми. Даже если предположить, что каждый из родителей в этих многодетных семьях подал заявку на кредит, доля семей с 20 детьми составит 0,17% от выборки, в которой есть и бездетные, тогда как в 2017 году доля семей с 11 и более детьми составляла всего 0,004% от всех семей с детьми (доли рассчитаны на основании публикаций в открытых источниках).\n",
    "Проверим, каков минимальный возраст заемщиков с 20 детьми."
   ]
  },
  {
   "cell_type": "code",
   "execution_count": 8,
   "metadata": {
    "scrolled": true
   },
   "outputs": [
    {
     "data": {
      "text/html": [
       "<div>\n",
       "<style scoped>\n",
       "    .dataframe tbody tr th:only-of-type {\n",
       "        vertical-align: middle;\n",
       "    }\n",
       "\n",
       "    .dataframe tbody tr th {\n",
       "        vertical-align: top;\n",
       "    }\n",
       "\n",
       "    .dataframe thead th {\n",
       "        text-align: right;\n",
       "    }\n",
       "</style>\n",
       "<table border=\"1\" class=\"dataframe\">\n",
       "  <thead>\n",
       "    <tr style=\"text-align: right;\">\n",
       "      <th></th>\n",
       "      <th>children</th>\n",
       "      <th>dob_years</th>\n",
       "    </tr>\n",
       "  </thead>\n",
       "  <tbody>\n",
       "    <tr>\n",
       "      <td>2941</td>\n",
       "      <td>20</td>\n",
       "      <td>0</td>\n",
       "    </tr>\n",
       "    <tr>\n",
       "      <td>606</td>\n",
       "      <td>20</td>\n",
       "      <td>21</td>\n",
       "    </tr>\n",
       "    <tr>\n",
       "      <td>3671</td>\n",
       "      <td>20</td>\n",
       "      <td>23</td>\n",
       "    </tr>\n",
       "    <tr>\n",
       "      <td>5315</td>\n",
       "      <td>20</td>\n",
       "      <td>24</td>\n",
       "    </tr>\n",
       "    <tr>\n",
       "      <td>12909</td>\n",
       "      <td>20</td>\n",
       "      <td>25</td>\n",
       "    </tr>\n",
       "  </tbody>\n",
       "</table>\n",
       "</div>"
      ],
      "text/plain": [
       "       children  dob_years\n",
       "2941         20          0\n",
       "606          20         21\n",
       "3671         20         23\n",
       "5315         20         24\n",
       "12909        20         25"
      ]
     },
     "execution_count": 8,
     "metadata": {},
     "output_type": "execute_result"
    }
   ],
   "source": [
    "# объявим переменную children_20, в которую выведем таблицу, где количество детей равно 20\n",
    "children_20 = data[data['children'] == 20]\n",
    "\n",
    "# для объявленной переменной выведем значения столбцов \"дети\" и \"возраст\", \n",
    "# отсортированные по возрастанию \"возраста\", и оставим первые 5 значений методом .head() \n",
    "children_20[['children', 'dob_years']].sort_values(by = 'dob_years').head()"
   ]
  },
  {
   "cell_type": "markdown",
   "metadata": {},
   "source": [
    "В результате более внимательного изучения многодетных семей оказалось, что в 21-25 лет заемщики уже имеют по 20 детей. Можно предположить, что при вводе данных имели место опечатки, и реальное число детей в этих семьях иное — либо 0, либо 2, либо и не 0, и не 2. Аналогично случаю с отрицательными значениями проверить гипотезу не представляется возможным. Строки будут удалены в ходе подготовки данных к анализу."
   ]
  },
  {
   "cell_type": "markdown",
   "metadata": {},
   "source": [
    "Поскольку столбец children преподнес сюрприз с отрицательным количеством детей, проверим, нет ли подобных данных в столбце total_income."
   ]
  },
  {
   "cell_type": "code",
   "execution_count": 9,
   "metadata": {},
   "outputs": [
    {
     "name": "stdout",
     "output_type": "stream",
     "text": [
      "Минимальный доход в выборке: 20667 рублей.\n"
     ]
    }
   ],
   "source": [
    "# посмотрим на минимальное знаение в столбце \"доход\" с помощью метода .min(), \n",
    "# выведем целочисленный результат, чтобы предложение получилось красивое =)\n",
    "print(\"Минимальный доход в выборке:\", int(data['total_income'].min()), \"рублей.\")"
   ]
  },
  {
   "cell_type": "markdown",
   "metadata": {},
   "source": [
    "Отрицательных значений в колонке \"доход\" не обнаружено. Пропуски будут устранены на следующем этапе."
   ]
  },
  {
   "cell_type": "markdown",
   "metadata": {},
   "source": [
    "Проверим еще один столбец, который понадобится для корректного заполнения пропусков в столбце total_income, — пол. По разнообразным исследованиям, зарплата мужчин в среднем на 20% выше, чем у женщин, соответственно, этот фактор нужно будет учесть при заполнении пробелов в доходе."
   ]
  },
  {
   "cell_type": "code",
   "execution_count": 10,
   "metadata": {},
   "outputs": [
    {
     "data": {
      "text/plain": [
       "gender\n",
       "F      14236\n",
       "M       7288\n",
       "XNA        1\n",
       "Name: gender, dtype: int64"
      ]
     },
     "execution_count": 10,
     "metadata": {},
     "output_type": "execute_result"
    }
   ],
   "source": [
    "# сгруппируем данные по столбцу \"gender\" и подсчитаем количество значений\n",
    "data.groupby('gender')['gender'].count()"
   ]
  },
  {
   "cell_type": "markdown",
   "metadata": {},
   "source": [
    "Есть неожиданное значение — XNA. Может быть, ячейка была пустая, и в связи с этим она получила такое странное содержание. В любом случае, установить истинное значение не получится."
   ]
  },
  {
   "cell_type": "markdown",
   "metadata": {},
   "source": [
    "**Вывод:** в ходе внимательного изучения столбцов с количеством детей и полом найдены некорректные значения, которые будут удалены на следующем этапе, поскольку попытка установить истинное значение опирается исключительно на догадки, при этом доля этих данных несущественная."
   ]
  },
  {
   "cell_type": "markdown",
   "metadata": {},
   "source": [
    "### Вывод по шагу \"Изучение предоставленных данных\""
   ]
  },
  {
   "cell_type": "markdown",
   "metadata": {},
   "source": [
    "Предоставленных данных достаточно для анализа, датасет имеет корректные типы значений по столбцам, три из четырех ключевых характеристик — количество детей, семейное положение, цель кредита — не имеют пропусков, хотя иногда принимают неожиданные значения (отрицательное количество детей или 20 детей у заемщиков в двадцатилетнем возрасте). На этапе \"Предобработка данных\" эти артефакты будут устранены, а также заполнены пробелы в уровне дохода заемщиков."
   ]
  },
  {
   "cell_type": "markdown",
   "metadata": {},
   "source": [
    "## Шаг 2. Предобработка данных"
   ]
  },
  {
   "cell_type": "markdown",
   "metadata": {},
   "source": [
    "### Удаление дублей"
   ]
  },
  {
   "cell_type": "markdown",
   "metadata": {},
   "source": [
    "На этапе изучения в исходных данных были обнаружены дубли. Их доля составила всего 0,25%, было принято решение их удалить."
   ]
  },
  {
   "cell_type": "code",
   "execution_count": 11,
   "metadata": {
    "scrolled": true
   },
   "outputs": [
    {
     "name": "stdout",
     "output_type": "stream",
     "text": [
      "Итоговое количество строк: 21471\n"
     ]
    }
   ],
   "source": [
    "# для удаления дублей используем стандартный метод .drop_duplicates, \n",
    "# обновим индексы через .reset_index()\n",
    "data = data.drop_duplicates().reset_index(drop=True)\n",
    "\n",
    "# проверим результат работы методов через подсчет оставшихся строк\n",
    "print('Итоговое количество строк:', len(data))"
   ]
  },
  {
   "cell_type": "markdown",
   "metadata": {},
   "source": [
    "В результате были удалены ровно 54 дубля, в полном соответствии с проведенной ранее оценкой."
   ]
  },
  {
   "cell_type": "markdown",
   "metadata": {},
   "source": [
    "### Обработка значений NaN"
   ]
  },
  {
   "cell_type": "markdown",
   "metadata": {},
   "source": [
    "Для целей исследования необходимо, чтобы данные не содержали пустых строк. На текущем этапе заполним их нулями."
   ]
  },
  {
   "cell_type": "code",
   "execution_count": 12,
   "metadata": {},
   "outputs": [
    {
     "name": "stdout",
     "output_type": "stream",
     "text": [
      "<class 'pandas.core.frame.DataFrame'>\n",
      "RangeIndex: 21471 entries, 0 to 21470\n",
      "Data columns (total 12 columns):\n",
      "children            21471 non-null int64\n",
      "days_employed       21471 non-null float64\n",
      "dob_years           21471 non-null int64\n",
      "education           21471 non-null object\n",
      "education_id        21471 non-null int64\n",
      "family_status       21471 non-null object\n",
      "family_status_id    21471 non-null int64\n",
      "gender              21471 non-null object\n",
      "income_type         21471 non-null object\n",
      "debt                21471 non-null int64\n",
      "total_income        21471 non-null float64\n",
      "purpose             21471 non-null object\n",
      "dtypes: float64(2), int64(5), object(5)\n",
      "memory usage: 2.0+ MB\n"
     ]
    }
   ],
   "source": [
    "# применяем к данным метод .fillna с параметром 0\n",
    "data = data.fillna(0)\n",
    "\n",
    "# проверяем, что в данных не осталось пустых ячеек\n",
    "data.info()"
   ]
  },
  {
   "cell_type": "markdown",
   "metadata": {},
   "source": [
    "Все пустые ячейки успешно заменены на 0."
   ]
  },
  {
   "cell_type": "markdown",
   "metadata": {},
   "source": [
    "### Замена типа данных float на int"
   ]
  },
  {
   "cell_type": "markdown",
   "metadata": {},
   "source": [
    "Для удобства проведения операций заменим данные типа float64 на данные типа int64."
   ]
  },
  {
   "cell_type": "code",
   "execution_count": 13,
   "metadata": {},
   "outputs": [
    {
     "data": {
      "text/plain": [
       "children             int64\n",
       "days_employed        int64\n",
       "dob_years            int64\n",
       "education           object\n",
       "education_id         int64\n",
       "family_status       object\n",
       "family_status_id     int64\n",
       "gender              object\n",
       "income_type         object\n",
       "debt                 int64\n",
       "total_income         int64\n",
       "purpose             object\n",
       "dtype: object"
      ]
     },
     "execution_count": 13,
     "metadata": {},
     "output_type": "execute_result"
    }
   ],
   "source": [
    "# применим к данным метод .astype(), параметры для замены передадим как словарь:\n",
    "# заменим данные на int в колонке \"days_employed\" и в колонке \"total_income\"\n",
    "data = data.astype({'days_employed':'int', 'total_income':'int'})\n",
    "\n",
    "# удостоверимся, что операция сработала - проверим тип значения по столбцам\n",
    "data.dtypes"
   ]
  },
  {
   "cell_type": "markdown",
   "metadata": {},
   "source": [
    "Замена типа значения произведена успешно."
   ]
  },
  {
   "cell_type": "markdown",
   "metadata": {},
   "source": [
    "### Обработка дубликатов"
   ]
  },
  {
   "cell_type": "markdown",
   "metadata": {},
   "source": [
    "В ходе изучения данных в столбце education были обнаружены разнообразные варианты написания одного и того же уровня образования. При заполнение пропусков по столбцу \"доход\" планируется использовать в том числе и характеристику \"образование\", поэтому \"склеим\" дубликаты."
   ]
  },
  {
   "cell_type": "markdown",
   "metadata": {},
   "source": [
    "Проверим, какие варианты написания образования встречаются, и соответствуют ли индентификаторы в столбце education_id значению столбца education."
   ]
  },
  {
   "cell_type": "code",
   "execution_count": 14,
   "metadata": {},
   "outputs": [
    {
     "data": {
      "text/plain": [
       "education\n",
       "ВЫСШЕЕ                 [0]\n",
       "Высшее                 [0]\n",
       "высшее                 [0]\n",
       "СРЕДНЕЕ                [1]\n",
       "Среднее                [1]\n",
       "среднее                [1]\n",
       "НЕОКОНЧЕННОЕ ВЫСШЕЕ    [2]\n",
       "Неоконченное высшее    [2]\n",
       "неоконченное высшее    [2]\n",
       "НАЧАЛЬНОЕ              [3]\n",
       "Начальное              [3]\n",
       "начальное              [3]\n",
       "УЧЕНАЯ СТЕПЕНЬ         [4]\n",
       "Ученая степень         [4]\n",
       "ученая степень         [4]\n",
       "Name: education_id, dtype: object"
      ]
     },
     "execution_count": 14,
     "metadata": {},
     "output_type": "execute_result"
    }
   ],
   "source": [
    "# сгруппируем данные по столбцу education, выведем уникальные значения, \n",
    "# отсортированные в порядке возрастания id\n",
    "data.groupby('education')['education_id'].unique().sort_values()"
   ]
  },
  {
   "cell_type": "markdown",
   "metadata": {},
   "source": [
    "У каждого типа образования встречается 3 варианта написания. Для простоты приведем все описания к строчным буквам. Надо отметить, что индексы во всех вариантах написания совпадают. "
   ]
  },
  {
   "cell_type": "code",
   "execution_count": 15,
   "metadata": {},
   "outputs": [
    {
     "data": {
      "text/plain": [
       "education\n",
       "высшее                 [0]\n",
       "среднее                [1]\n",
       "неоконченное высшее    [2]\n",
       "начальное              [3]\n",
       "ученая степень         [4]\n",
       "Name: education_id, dtype: object"
      ]
     },
     "execution_count": 15,
     "metadata": {},
     "output_type": "execute_result"
    }
   ],
   "source": [
    "# в столбце education заменим все написания на строчные через str.lower()\n",
    "data['education'] = data['education'].str.lower()\n",
    "\n",
    "# проверим, что метод сработал - снова выведем уникальные значения столбца education\n",
    "data.groupby('education')['education_id'].unique().sort_values()"
   ]
  },
  {
   "cell_type": "markdown",
   "metadata": {},
   "source": [
    "Замена прошла успешно, данные однотипные."
   ]
  },
  {
   "cell_type": "markdown",
   "metadata": {},
   "source": [
    "Тем же способом приведем к единообразному написанию и столбец family_status."
   ]
  },
  {
   "cell_type": "code",
   "execution_count": 16,
   "metadata": {},
   "outputs": [],
   "source": [
    "# заменим все буквы на строчные через str.lower()\n",
    "data['family_status'] = data['family_status'].str.lower()"
   ]
  },
  {
   "cell_type": "markdown",
   "metadata": {},
   "source": [
    "### Столбец gender: удаление значения XNA"
   ]
  },
  {
   "cell_type": "markdown",
   "metadata": {},
   "source": [
    "Удалим значение XNA в колонке gender."
   ]
  },
  {
   "cell_type": "code",
   "execution_count": 17,
   "metadata": {},
   "outputs": [
    {
     "data": {
      "text/plain": [
       "gender\n",
       "F    14189\n",
       "M     7281\n",
       "Name: gender, dtype: int64"
      ]
     },
     "execution_count": 17,
     "metadata": {},
     "output_type": "execute_result"
    }
   ],
   "source": [
    "# воспользуемся методом .mask(), который находит элемент, если условие истинно, \n",
    "# к найденному таким образом элементу применим метод .dropna()\n",
    "data = data.mask(data['gender'] == 'XNA').dropna()\n",
    "\n",
    "# для проверки сгруппируем данные по столбцу \"gender\" и посчитаем количество значений\n",
    "data.groupby('gender')['gender'].count()"
   ]
  },
  {
   "cell_type": "markdown",
   "metadata": {},
   "source": [
    "Метод отработал корректно, загадочного значения XNA больше нет в датасете."
   ]
  },
  {
   "cell_type": "markdown",
   "metadata": {},
   "source": [
    "### Столбец children: удаление отрицательных и экстремально высоких значений"
   ]
  },
  {
   "cell_type": "markdown",
   "metadata": {},
   "source": [
    "На этапе изучения данных были обнаружены отрицательные и неправдоподобно высокие значения в колонке children. Общее количество строк с ошибками составляет 123 или 0,57% от выборки. Было принято решение удалить данные, поскольку нельзя однозначно восстановить исходные значения."
   ]
  },
  {
   "cell_type": "code",
   "execution_count": 18,
   "metadata": {
    "scrolled": true
   },
   "outputs": [
    {
     "data": {
      "text/plain": [
       "children\n",
       "0.0    14106\n",
       "1.0     4809\n",
       "2.0     2052\n",
       "3.0      330\n",
       "4.0       41\n",
       "5.0        9\n",
       "Name: children, dtype: int64"
      ]
     },
     "execution_count": 18,
     "metadata": {},
     "output_type": "execute_result"
    }
   ],
   "source": [
    "# для сохранения исходного массива объявим новую переменную data_cleaned,\n",
    "# в которую будет помещена таблица после удаления данных из столбца children\n",
    "\n",
    "# для удаления строк со значениями \"-1\" и \"20\" воспользуемся тем же методом .mask()\n",
    "# условие поиска: значение столбца \"children\" равно -1 или 20\n",
    "# методом .dropna() удалим найденные значения\n",
    "data_cleaned = data.mask((data['children'] == -1) | (data['children'] == 20)).dropna()\n",
    "\n",
    "# для проверки посчитаем количество оставшихся записей по значению в столбце children\n",
    "data_cleaned.groupby('children')['children'].count()"
   ]
  },
  {
   "cell_type": "code",
   "execution_count": 19,
   "metadata": {},
   "outputs": [
    {
     "name": "stdout",
     "output_type": "stream",
     "text": [
      "Итоговое количество строк: 21347\n"
     ]
    }
   ],
   "source": [
    "# проверим результат работы всех ранее примененных методов через подсчет оставшихся строк\n",
    "print('Итоговое количество строк:', len(data_cleaned))"
   ]
  },
  {
   "cell_type": "markdown",
   "metadata": {},
   "source": [
    "**Вывод:** в новом датасете удалены все сомнительные значения. Итоговый объем выборки 21347 строки (начальный объем составлял 21525, то есть удалено 0,83% данных)."
   ]
  },
  {
   "cell_type": "markdown",
   "metadata": {},
   "source": [
    "### Столбец total_income: обработка пропусков"
   ]
  },
  {
   "cell_type": "markdown",
   "metadata": {},
   "source": [
    "Для более достоверного заполнения пропусков в столбе total_income целесообразно учесть влияние нескольких факторов, например, тип занятости, пол, образование. Изучим количество пропусков данных в столбце total_income с учетом обозначенных параметров. "
   ]
  },
  {
   "cell_type": "markdown",
   "metadata": {},
   "source": [
    "#### Проверка распределения пустых значений"
   ]
  },
  {
   "cell_type": "markdown",
   "metadata": {},
   "source": [
    "Начнем с типа занятости — узнаем, размер вхождения каждого значения в выборку и оценим количество пропусков в каждом из типов занятости (вдруг все пропуски сосредоточены в одном типе)."
   ]
  },
  {
   "cell_type": "markdown",
   "metadata": {},
   "source": [
    "Общее количестов упоминаний типа занятости в массиве."
   ]
  },
  {
   "cell_type": "code",
   "execution_count": 20,
   "metadata": {},
   "outputs": [
    {
     "data": {
      "text/plain": [
       "income_type\n",
       "безработный            2\n",
       "в декрете              1\n",
       "госслужащий         1451\n",
       "компаньон           5048\n",
       "пенсионер           3820\n",
       "предприниматель        2\n",
       "сотрудник          11022\n",
       "студент                1\n",
       "Name: income_type, dtype: int64"
      ]
     },
     "execution_count": 20,
     "metadata": {},
     "output_type": "execute_result"
    }
   ],
   "source": [
    "# в датасете, полученном на предыдущем шаге, сгруппируем данные по столбцу income_type \n",
    "# и посчитаем количество значений\n",
    "data_cleaned.groupby('income_type')['income_type'].count()"
   ]
  },
  {
   "cell_type": "markdown",
   "metadata": {},
   "source": [
    "Интересно, что в выборке оказалось всего по 1 студенту и заемщику в декрете. Всего по 2 значения для типов занятости \"предприниматель\" и \"безработный\". Теперь оценим количество пропущенных значений."
   ]
  },
  {
   "cell_type": "code",
   "execution_count": 21,
   "metadata": {},
   "outputs": [
    {
     "data": {
      "text/plain": [
       "income_type\n",
       "госслужащий         144\n",
       "компаньон           499\n",
       "пенсионер           391\n",
       "предприниматель       1\n",
       "сотрудник          1073\n",
       "Name: total_income, dtype: int64"
      ]
     },
     "execution_count": 21,
     "metadata": {},
     "output_type": "execute_result"
    }
   ],
   "source": [
    "# проверим, как распределяются пропуски в total_income относительно типа занятости\n",
    "# для этого объявим переменную, куда передадим датафрейм, отобранный по total_income равному 0\n",
    "income_zero = data_cleaned[data_cleaned['total_income'] == 0]\n",
    "\n",
    "# выведем количество значений для каждого типа занятости в новой переменной\n",
    "income_zero.groupby('income_type')['total_income'].count()"
   ]
  },
  {
   "cell_type": "markdown",
   "metadata": {},
   "source": [
    "Предположение о том, что все пропуски в одном типе значений, не оправдалось: визуально можно сказать, что распределены они примерно в равной доле для каждого из типов."
   ]
  },
  {
   "cell_type": "markdown",
   "metadata": {},
   "source": [
    "Посмотрим, как эти пропуски распределены по уровню образования."
   ]
  },
  {
   "cell_type": "code",
   "execution_count": 22,
   "metadata": {
    "scrolled": true
   },
   "outputs": [
    {
     "data": {
      "text/plain": [
       "education\n",
       "высшее                  532\n",
       "начальное                21\n",
       "неоконченное высшее      69\n",
       "среднее                1486\n",
       "Name: total_income, dtype: int64"
      ]
     },
     "execution_count": 22,
     "metadata": {},
     "output_type": "execute_result"
    }
   ],
   "source": [
    "# воспользуемся тем же способом с объявлением новой переменной по условию\n",
    "education_zero = data_cleaned[data_cleaned['total_income'] == 0]\n",
    "\n",
    "# выведем количество значений для каждого уровня образования\n",
    "education_zero.groupby('education')['total_income'].count()"
   ]
  },
  {
   "cell_type": "markdown",
   "metadata": {},
   "source": [
    "**Вывод:** получилась ожидаемая картина — каких значений больше, там и пропусков больше."
   ]
  },
  {
   "cell_type": "markdown",
   "metadata": {},
   "source": [
    "#### Проверим наличие корреляции между числовыми параметрами"
   ]
  },
  {
   "cell_type": "markdown",
   "metadata": {},
   "source": [
    "Проверим, есть ли факторы, которые однозначно стоит учесть при заполнении пропусков в \"доходе\". Может быть, на доход влияет возраст, который не фигурировал в нашем первом предположении относительно значимых факторов. Выведем таблицу корреляции по числовым параметрам."
   ]
  },
  {
   "cell_type": "markdown",
   "metadata": {},
   "source": [
    "В качестве подготовительного действия добавим в данные новый столбец — числовой индекс для пола."
   ]
  },
  {
   "cell_type": "code",
   "execution_count": 23,
   "metadata": {},
   "outputs": [],
   "source": [
    "# добавим в датасет столбец \"gender_id\", заполним его на основании столбца \"gender\"\n",
    "# с применением лямбда-функции: если столбец \"gender\" принимает значение F,\n",
    "# то в новый столбец \"gender_id\" запишем 1; иначе - 0\n",
    "data_cleaned['gender_id'] = data_cleaned['gender'].apply(lambda gender: 1 if gender == 'F' else 0) "
   ]
  },
  {
   "cell_type": "code",
   "execution_count": 24,
   "metadata": {},
   "outputs": [
    {
     "data": {
      "text/html": [
       "<div>\n",
       "<style scoped>\n",
       "    .dataframe tbody tr th:only-of-type {\n",
       "        vertical-align: middle;\n",
       "    }\n",
       "\n",
       "    .dataframe tbody tr th {\n",
       "        vertical-align: top;\n",
       "    }\n",
       "\n",
       "    .dataframe thead th {\n",
       "        text-align: right;\n",
       "    }\n",
       "</style>\n",
       "<table border=\"1\" class=\"dataframe\">\n",
       "  <thead>\n",
       "    <tr style=\"text-align: right;\">\n",
       "      <th></th>\n",
       "      <th>children</th>\n",
       "      <th>dob_years</th>\n",
       "      <th>education_id</th>\n",
       "      <th>family_status_id</th>\n",
       "      <th>gender_id</th>\n",
       "      <th>total_income</th>\n",
       "    </tr>\n",
       "  </thead>\n",
       "  <tbody>\n",
       "    <tr>\n",
       "      <td>children</td>\n",
       "      <td>1.000000</td>\n",
       "      <td>-0.310984</td>\n",
       "      <td>-0.027080</td>\n",
       "      <td>-0.158836</td>\n",
       "      <td>-0.045968</td>\n",
       "      <td>0.025773</td>\n",
       "    </tr>\n",
       "    <tr>\n",
       "      <td>dob_years</td>\n",
       "      <td>-0.310984</td>\n",
       "      <td>1.000000</td>\n",
       "      <td>0.067174</td>\n",
       "      <td>-0.069798</td>\n",
       "      <td>0.130613</td>\n",
       "      <td>-0.047313</td>\n",
       "    </tr>\n",
       "    <tr>\n",
       "      <td>education_id</td>\n",
       "      <td>-0.027080</td>\n",
       "      <td>0.067174</td>\n",
       "      <td>1.000000</td>\n",
       "      <td>0.007716</td>\n",
       "      <td>-0.027889</td>\n",
       "      <td>-0.147599</td>\n",
       "    </tr>\n",
       "    <tr>\n",
       "      <td>family_status_id</td>\n",
       "      <td>-0.158836</td>\n",
       "      <td>-0.069798</td>\n",
       "      <td>0.007716</td>\n",
       "      <td>1.000000</td>\n",
       "      <td>0.040087</td>\n",
       "      <td>-0.007646</td>\n",
       "    </tr>\n",
       "    <tr>\n",
       "      <td>gender_id</td>\n",
       "      <td>-0.045968</td>\n",
       "      <td>0.130613</td>\n",
       "      <td>-0.027889</td>\n",
       "      <td>0.040087</td>\n",
       "      <td>1.000000</td>\n",
       "      <td>-0.157855</td>\n",
       "    </tr>\n",
       "    <tr>\n",
       "      <td>total_income</td>\n",
       "      <td>0.025773</td>\n",
       "      <td>-0.047313</td>\n",
       "      <td>-0.147599</td>\n",
       "      <td>-0.007646</td>\n",
       "      <td>-0.157855</td>\n",
       "      <td>1.000000</td>\n",
       "    </tr>\n",
       "  </tbody>\n",
       "</table>\n",
       "</div>"
      ],
      "text/plain": [
       "                  children  dob_years  education_id  family_status_id  \\\n",
       "children          1.000000  -0.310984     -0.027080         -0.158836   \n",
       "dob_years        -0.310984   1.000000      0.067174         -0.069798   \n",
       "education_id     -0.027080   0.067174      1.000000          0.007716   \n",
       "family_status_id -0.158836  -0.069798      0.007716          1.000000   \n",
       "gender_id        -0.045968   0.130613     -0.027889          0.040087   \n",
       "total_income      0.025773  -0.047313     -0.147599         -0.007646   \n",
       "\n",
       "                  gender_id  total_income  \n",
       "children          -0.045968      0.025773  \n",
       "dob_years          0.130613     -0.047313  \n",
       "education_id      -0.027889     -0.147599  \n",
       "family_status_id   0.040087     -0.007646  \n",
       "gender_id          1.000000     -0.157855  \n",
       "total_income      -0.157855      1.000000  "
      ]
     },
     "execution_count": 24,
     "metadata": {},
     "output_type": "execute_result"
    }
   ],
   "source": [
    "# возьмем из датасета все столбцы, которые имеют числовые значения - количество детей,\n",
    "# возраст, индентификатор образования, индентификатор семейного статуса, идентификатор пола и доход\n",
    "# и применим стандартный метод расчета корреляции .corr()\n",
    "data_cleaned[['children', 'dob_years', 'education_id', 'family_status_id', 'gender_id',\\\n",
    "              'total_income']].corr()"
   ]
  },
  {
   "cell_type": "markdown",
   "metadata": {},
   "source": [
    "**Вывод:** каждый столбец на 100% коррелирует сам с собой. Но вот во всех остальных случаях значимой корреляции не наблюдается. Следовательно, для заполнения пропусков по доходу будем использовать параметры, подобранные \"интуитивно\", — тип занятости, образование, пол."
   ]
  },
  {
   "cell_type": "markdown",
   "metadata": {},
   "source": [
    "#### Заполнение пропусков в total_income"
   ]
  },
  {
   "cell_type": "markdown",
   "metadata": {},
   "source": [
    "Для заполнения пропусков мы будем брать среднее значение дохода, высчитанное для групп заемщиков, у которых совпадают пол, образование и тип занятости."
   ]
  },
  {
   "cell_type": "code",
   "execution_count": 25,
   "metadata": {
    "scrolled": true
   },
   "outputs": [],
   "source": [
    "# объявим переменную means, в которую поместим таблицу со средним значением по группам\n",
    "# для этого в колонке total_income отберем только значения, не равные 0\n",
    "# сгруппируем полученные данные по полу, образованию, типу занятости\n",
    "# агрегируем группы и высчитаем среднее по столбцу total_income\n",
    "# поместим полученное значение в отдельный столбец и присвоим ему имя \"mean_income\"\n",
    "means = data_cleaned.query('total_income != 0').groupby(['gender', 'education', 'income_type'])\\\n",
    "    .agg({'total_income': 'mean'}).reset_index().rename(columns = {'total_income': 'mean_income'})"
   ]
  },
  {
   "cell_type": "code",
   "execution_count": 26,
   "metadata": {},
   "outputs": [],
   "source": [
    "# объединим таблицу means с исходной таблицей методом .merge()\n",
    "# к исходной таблице data_cleaned добавим таблицу means \n",
    "# в качестве ключа используем сочетание характеристик пола, образования и типа занятости\n",
    "data2 = data_cleaned.merge(means, on = ['gender', 'education', 'income_type'])"
   ]
  },
  {
   "cell_type": "code",
   "execution_count": 27,
   "metadata": {
    "scrolled": true
   },
   "outputs": [
    {
     "data": {
      "text/html": [
       "<div>\n",
       "<style scoped>\n",
       "    .dataframe tbody tr th:only-of-type {\n",
       "        vertical-align: middle;\n",
       "    }\n",
       "\n",
       "    .dataframe tbody tr th {\n",
       "        vertical-align: top;\n",
       "    }\n",
       "\n",
       "    .dataframe thead th {\n",
       "        text-align: right;\n",
       "    }\n",
       "</style>\n",
       "<table border=\"1\" class=\"dataframe\">\n",
       "  <thead>\n",
       "    <tr style=\"text-align: right;\">\n",
       "      <th></th>\n",
       "      <th>children</th>\n",
       "      <th>days_employed</th>\n",
       "      <th>dob_years</th>\n",
       "      <th>education</th>\n",
       "      <th>education_id</th>\n",
       "      <th>family_status</th>\n",
       "      <th>family_status_id</th>\n",
       "      <th>gender</th>\n",
       "      <th>income_type</th>\n",
       "      <th>debt</th>\n",
       "      <th>total_income</th>\n",
       "      <th>purpose</th>\n",
       "      <th>gender_id</th>\n",
       "      <th>mean_income</th>\n",
       "    </tr>\n",
       "  </thead>\n",
       "  <tbody>\n",
       "    <tr>\n",
       "      <td>21336</td>\n",
       "      <td>0.0</td>\n",
       "      <td>-760.0</td>\n",
       "      <td>28.0</td>\n",
       "      <td>начальное</td>\n",
       "      <td>3.0</td>\n",
       "      <td>женат / замужем</td>\n",
       "      <td>0.0</td>\n",
       "      <td>M</td>\n",
       "      <td>госслужащий</td>\n",
       "      <td>0.0</td>\n",
       "      <td>191021.0</td>\n",
       "      <td>получение дополнительного образования</td>\n",
       "      <td>0</td>\n",
       "      <td>231274.75</td>\n",
       "    </tr>\n",
       "    <tr>\n",
       "      <td>21337</td>\n",
       "      <td>0.0</td>\n",
       "      <td>-409.0</td>\n",
       "      <td>45.0</td>\n",
       "      <td>ученая степень</td>\n",
       "      <td>4.0</td>\n",
       "      <td>не женат / не замужем</td>\n",
       "      <td>4.0</td>\n",
       "      <td>M</td>\n",
       "      <td>сотрудник</td>\n",
       "      <td>0.0</td>\n",
       "      <td>198570.0</td>\n",
       "      <td>операции с коммерческой недвижимостью</td>\n",
       "      <td>0</td>\n",
       "      <td>194310.00</td>\n",
       "    </tr>\n",
       "    <tr>\n",
       "      <td>21338</td>\n",
       "      <td>0.0</td>\n",
       "      <td>-5352.0</td>\n",
       "      <td>58.0</td>\n",
       "      <td>ученая степень</td>\n",
       "      <td>4.0</td>\n",
       "      <td>женат / замужем</td>\n",
       "      <td>0.0</td>\n",
       "      <td>M</td>\n",
       "      <td>сотрудник</td>\n",
       "      <td>0.0</td>\n",
       "      <td>268411.0</td>\n",
       "      <td>заняться высшим образованием</td>\n",
       "      <td>0</td>\n",
       "      <td>194310.00</td>\n",
       "    </tr>\n",
       "    <tr>\n",
       "      <td>21339</td>\n",
       "      <td>1.0</td>\n",
       "      <td>-2351.0</td>\n",
       "      <td>37.0</td>\n",
       "      <td>ученая степень</td>\n",
       "      <td>4.0</td>\n",
       "      <td>в разводе</td>\n",
       "      <td>3.0</td>\n",
       "      <td>M</td>\n",
       "      <td>сотрудник</td>\n",
       "      <td>0.0</td>\n",
       "      <td>115949.0</td>\n",
       "      <td>покупка коммерческой недвижимости</td>\n",
       "      <td>0</td>\n",
       "      <td>194310.00</td>\n",
       "    </tr>\n",
       "    <tr>\n",
       "      <td>21340</td>\n",
       "      <td>0.0</td>\n",
       "      <td>-578.0</td>\n",
       "      <td>22.0</td>\n",
       "      <td>высшее</td>\n",
       "      <td>0.0</td>\n",
       "      <td>не женат / не замужем</td>\n",
       "      <td>4.0</td>\n",
       "      <td>M</td>\n",
       "      <td>студент</td>\n",
       "      <td>0.0</td>\n",
       "      <td>98201.0</td>\n",
       "      <td>строительство собственной недвижимости</td>\n",
       "      <td>0</td>\n",
       "      <td>98201.00</td>\n",
       "    </tr>\n",
       "    <tr>\n",
       "      <td>21341</td>\n",
       "      <td>3.0</td>\n",
       "      <td>-5968.0</td>\n",
       "      <td>36.0</td>\n",
       "      <td>ученая степень</td>\n",
       "      <td>4.0</td>\n",
       "      <td>женат / замужем</td>\n",
       "      <td>0.0</td>\n",
       "      <td>F</td>\n",
       "      <td>госслужащий</td>\n",
       "      <td>0.0</td>\n",
       "      <td>111392.0</td>\n",
       "      <td>покупка жилья</td>\n",
       "      <td>1</td>\n",
       "      <td>111392.00</td>\n",
       "    </tr>\n",
       "    <tr>\n",
       "      <td>21342</td>\n",
       "      <td>0.0</td>\n",
       "      <td>376276.0</td>\n",
       "      <td>62.0</td>\n",
       "      <td>ученая степень</td>\n",
       "      <td>4.0</td>\n",
       "      <td>женат / замужем</td>\n",
       "      <td>0.0</td>\n",
       "      <td>F</td>\n",
       "      <td>пенсионер</td>\n",
       "      <td>0.0</td>\n",
       "      <td>255425.0</td>\n",
       "      <td>покупка жилой недвижимости</td>\n",
       "      <td>1</td>\n",
       "      <td>255425.00</td>\n",
       "    </tr>\n",
       "    <tr>\n",
       "      <td>21343</td>\n",
       "      <td>0.0</td>\n",
       "      <td>395302.0</td>\n",
       "      <td>45.0</td>\n",
       "      <td>высшее</td>\n",
       "      <td>0.0</td>\n",
       "      <td>гражданский брак</td>\n",
       "      <td>1.0</td>\n",
       "      <td>F</td>\n",
       "      <td>безработный</td>\n",
       "      <td>0.0</td>\n",
       "      <td>202722.0</td>\n",
       "      <td>ремонт жилью</td>\n",
       "      <td>1</td>\n",
       "      <td>202722.00</td>\n",
       "    </tr>\n",
       "    <tr>\n",
       "      <td>21344</td>\n",
       "      <td>0.0</td>\n",
       "      <td>-520.0</td>\n",
       "      <td>27.0</td>\n",
       "      <td>высшее</td>\n",
       "      <td>0.0</td>\n",
       "      <td>гражданский брак</td>\n",
       "      <td>1.0</td>\n",
       "      <td>F</td>\n",
       "      <td>предприниматель</td>\n",
       "      <td>0.0</td>\n",
       "      <td>499163.0</td>\n",
       "      <td>на проведение свадьбы</td>\n",
       "      <td>1</td>\n",
       "      <td>499163.00</td>\n",
       "    </tr>\n",
       "    <tr>\n",
       "      <td>21345</td>\n",
       "      <td>2.0</td>\n",
       "      <td>-3296.0</td>\n",
       "      <td>39.0</td>\n",
       "      <td>среднее</td>\n",
       "      <td>1.0</td>\n",
       "      <td>женат / замужем</td>\n",
       "      <td>0.0</td>\n",
       "      <td>F</td>\n",
       "      <td>в декрете</td>\n",
       "      <td>1.0</td>\n",
       "      <td>53829.0</td>\n",
       "      <td>автомобиль</td>\n",
       "      <td>1</td>\n",
       "      <td>53829.00</td>\n",
       "    </tr>\n",
       "  </tbody>\n",
       "</table>\n",
       "</div>"
      ],
      "text/plain": [
       "       children  days_employed  dob_years       education  education_id  \\\n",
       "21336       0.0         -760.0       28.0       начальное           3.0   \n",
       "21337       0.0         -409.0       45.0  ученая степень           4.0   \n",
       "21338       0.0        -5352.0       58.0  ученая степень           4.0   \n",
       "21339       1.0        -2351.0       37.0  ученая степень           4.0   \n",
       "21340       0.0         -578.0       22.0          высшее           0.0   \n",
       "21341       3.0        -5968.0       36.0  ученая степень           4.0   \n",
       "21342       0.0       376276.0       62.0  ученая степень           4.0   \n",
       "21343       0.0       395302.0       45.0          высшее           0.0   \n",
       "21344       0.0         -520.0       27.0          высшее           0.0   \n",
       "21345       2.0        -3296.0       39.0         среднее           1.0   \n",
       "\n",
       "               family_status  family_status_id gender      income_type  debt  \\\n",
       "21336        женат / замужем               0.0      M      госслужащий   0.0   \n",
       "21337  не женат / не замужем               4.0      M        сотрудник   0.0   \n",
       "21338        женат / замужем               0.0      M        сотрудник   0.0   \n",
       "21339              в разводе               3.0      M        сотрудник   0.0   \n",
       "21340  не женат / не замужем               4.0      M          студент   0.0   \n",
       "21341        женат / замужем               0.0      F      госслужащий   0.0   \n",
       "21342        женат / замужем               0.0      F        пенсионер   0.0   \n",
       "21343       гражданский брак               1.0      F      безработный   0.0   \n",
       "21344       гражданский брак               1.0      F  предприниматель   0.0   \n",
       "21345        женат / замужем               0.0      F        в декрете   1.0   \n",
       "\n",
       "       total_income                                 purpose  gender_id  \\\n",
       "21336      191021.0   получение дополнительного образования          0   \n",
       "21337      198570.0   операции с коммерческой недвижимостью          0   \n",
       "21338      268411.0            заняться высшим образованием          0   \n",
       "21339      115949.0       покупка коммерческой недвижимости          0   \n",
       "21340       98201.0  строительство собственной недвижимости          0   \n",
       "21341      111392.0                           покупка жилья          1   \n",
       "21342      255425.0              покупка жилой недвижимости          1   \n",
       "21343      202722.0                            ремонт жилью          1   \n",
       "21344      499163.0                   на проведение свадьбы          1   \n",
       "21345       53829.0                              автомобиль          1   \n",
       "\n",
       "       mean_income  \n",
       "21336    231274.75  \n",
       "21337    194310.00  \n",
       "21338    194310.00  \n",
       "21339    194310.00  \n",
       "21340     98201.00  \n",
       "21341    111392.00  \n",
       "21342    255425.00  \n",
       "21343    202722.00  \n",
       "21344    499163.00  \n",
       "21345     53829.00  "
      ]
     },
     "execution_count": 27,
     "metadata": {},
     "output_type": "execute_result"
    }
   ],
   "source": [
    "# проверим результат, вызвав метод .tail()\n",
    "data2.tail(10)"
   ]
  },
  {
   "cell_type": "markdown",
   "metadata": {},
   "source": [
    "В таблице появился столбец со средним доходом по категории."
   ]
  },
  {
   "cell_type": "markdown",
   "metadata": {},
   "source": [
    "Подставим средние значения из столбца mean_income в пустые ячейки столбца total_income."
   ]
  },
  {
   "cell_type": "code",
   "execution_count": 28,
   "metadata": {},
   "outputs": [],
   "source": [
    "# воспользуемся лямбда-функцией, которая проверяет значение столбца total_income\n",
    "# и если находит там 0, то возвращает значение столбца mean_income\n",
    "# в ином случае оставляет текущее\n",
    "data2['total_income'] = data2.apply(lambda row: row['mean_income'] if row['total_income'] == 0 else\\\n",
    "                                    row['total_income'], axis=1) "
   ]
  },
  {
   "cell_type": "code",
   "execution_count": 29,
   "metadata": {
    "scrolled": false
   },
   "outputs": [
    {
     "name": "stdout",
     "output_type": "stream",
     "text": [
      "Количество строк в массиве: 21346\n",
      "Количество значений в total_income: 21346\n"
     ]
    }
   ],
   "source": [
    "# проверим, что замены прошли успешно - посчитаем непустые строки в total_income\n",
    "# и сравним с общей длиной датасета\n",
    "print('Количество строк в массиве:', len(data2))\n",
    "print('Количество значений в total_income:',data2['total_income'].count())"
   ]
  },
  {
   "cell_type": "markdown",
   "metadata": {},
   "source": [
    "**Вывод:** замена прошла успешно. В колонке total_income не осталось пустых значений; пустоты заполнены средним значением дохода, полученным с учетом трех факторов: пола, образования и типа занятости."
   ]
  },
  {
   "cell_type": "markdown",
   "metadata": {},
   "source": [
    "### Столбец purpose: лемматизация"
   ]
  },
  {
   "cell_type": "markdown",
   "metadata": {},
   "source": [
    "Одна из задач исследования — установить, есть ли зависимость между целью кредита и возвратом в срок. Изучим, на какие цели заемщики берут кредиты."
   ]
  },
  {
   "cell_type": "markdown",
   "metadata": {},
   "source": [
    "#### Изучение данных столбца purpose"
   ]
  },
  {
   "cell_type": "markdown",
   "metadata": {},
   "source": [
    "Посмотрим на список уникальных значений по столбцу \"цель кредита\"."
   ]
  },
  {
   "cell_type": "code",
   "execution_count": 30,
   "metadata": {
    "scrolled": false
   },
   "outputs": [
    {
     "name": "stdout",
     "output_type": "stream",
     "text": [
      "purpose\n",
      "автомобили                                476\n",
      "автомобиль                                491\n",
      "высшее образование                        446\n",
      "дополнительное образование                455\n",
      "жилье                                     641\n",
      "заняться высшим образованием              496\n",
      "заняться образованием                     408\n",
      "на покупку автомобиля                     470\n",
      "на покупку подержанного автомобиля        471\n",
      "на покупку своего автомобиля              504\n",
      "на проведение свадьбы                     768\n",
      "недвижимость                              631\n",
      "образование                               442\n",
      "операции с жильем                         647\n",
      "операции с коммерческой недвижимостью     645\n",
      "операции с недвижимостью                  672\n",
      "операции со своей недвижимостью           623\n",
      "покупка жилой недвижимости                601\n",
      "покупка жилья                             640\n",
      "покупка жилья для сдачи                   650\n",
      "покупка жилья для семьи                   637\n",
      "покупка коммерческой недвижимости         659\n",
      "покупка недвижимости                      615\n",
      "покупка своего жилья                      619\n",
      "получение высшего образования             425\n",
      "получение дополнительного образования     445\n",
      "получение образования                     440\n",
      "приобретение автомобиля                   459\n",
      "профильное образование                    432\n",
      "ремонт жилью                              604\n",
      "свадьба                                   792\n",
      "свой автомобиль                           474\n",
      "сделка с автомобилем                      455\n",
      "сделка с подержанным автомобилем          481\n",
      "строительство жилой недвижимости          621\n",
      "строительство недвижимости                619\n",
      "строительство собственной недвижимости    628\n",
      "сыграть свадьбу                           764\n",
      "Name: purpose, dtype: int64\n",
      "\n",
      "Количество уникальных значений: 38\n"
     ]
    }
   ],
   "source": [
    "# с помощью метода .groupby выберем уникальные значения столбца purpose для актуального датасета\n",
    "# и выведем количество упоминаний по каждой цели\n",
    "# запишем данные в переменную, чтобы сразу установить количество уникальных значений функцией len()\n",
    "purposes = data2.groupby('purpose')['purpose'].count()\n",
    "print(purposes)\n",
    "print()\n",
    "\n",
    "# для удобства посчитаем общее количество уникальных значений\n",
    "print('Количество уникальных значений:', len(purposes))"
   ]
  },
  {
   "cell_type": "markdown",
   "metadata": {},
   "source": [
    "В приведенном списке встречаются смысловые повторения: \"автомобиль\" или \"автомобили\", \"получение дополнительного образования\" и \"дополнительное образование\". Количество заявок в этом случае можно смело суммировать."
   ]
  },
  {
   "cell_type": "markdown",
   "metadata": {},
   "source": [
    "Сложнее обстоят дела с недвижимостью — визуально, в этой категории больше всего вариантов формулирования цели. В некоторых случаях уточняется, что недвижимость жилая или коммерческая, но есть и общие формулировки \"недвижимость\", \"операции с недвижимостью\", \"покупка недвижимости\", \"строительство недвижимости\". При этом количество заявок в этих категориях примерно одинаковое:\n",
    "- покупка коммерческой недвижимости = 659,\n",
    "- покупка недвижимости = 615,\n",
    "- покупка своего жилья = 619."
   ]
  },
  {
   "cell_type": "markdown",
   "metadata": {},
   "source": [
    "Представляется необоснованным считать, что все заемщики в случае обращения за кредитом на жилье обязательно делают акцент на том, что это жилая недвижимость. \"Строительство собственной недвижимости\" (628) в равной степени может относиться и к жилой, и к коммерческой. Таким образом, нет возможности разделить кредиты на недвижимость по типу \"жилая\" и \"коммерческая\", поэтому в целях анализа эти заявки будут объединены в одну группу."
   ]
  },
  {
   "cell_type": "markdown",
   "metadata": {},
   "source": [
    "**Вывод:** для корректного анализа необхоимо ввести более общие группы целей, в которые объединить текущие разноообразные формулировки."
   ]
  },
  {
   "cell_type": "markdown",
   "metadata": {},
   "source": [
    "#### Выделение более общих целей кредита"
   ]
  },
  {
   "cell_type": "markdown",
   "metadata": {},
   "source": [
    "Составим список лемм для столбца purpose, на основании которого будем присваивать категории целей кредита. Воспользуемся алгоритмом лемматизации."
   ]
  },
  {
   "cell_type": "code",
   "execution_count": 31,
   "metadata": {
    "scrolled": true
   },
   "outputs": [
    {
     "data": {
      "text/plain": [
       "['автомобиль',\n",
       " 'высокий',\n",
       " 'дополнительный',\n",
       " 'жилой',\n",
       " 'жилье',\n",
       " 'заниматься',\n",
       " 'коммерческий',\n",
       " 'недвижимость',\n",
       " 'образование',\n",
       " 'операция',\n",
       " 'подержанный',\n",
       " 'подержать',\n",
       " 'покупка',\n",
       " 'получение',\n",
       " 'приобретение',\n",
       " 'проведение',\n",
       " 'профильный',\n",
       " 'ремонт',\n",
       " 'свадьба',\n",
       " 'свой',\n",
       " 'сдача',\n",
       " 'сделка',\n",
       " 'семья',\n",
       " 'собственный',\n",
       " 'строительство',\n",
       " 'сыграть']"
      ]
     },
     "execution_count": 31,
     "metadata": {},
     "output_type": "execute_result"
    }
   ],
   "source": [
    "# объявим переменную lemmas, в которую с помощью алгоритма m.lemmatize поместим леммы из столбца  purpose\n",
    "# m.lemmatize принимает на вход строку, поэтому сделаем из массива список значений, \n",
    "# и методом .join() разделим его пробелами\n",
    "# с помощью функции set() оставим в списке уникальные значения\n",
    "lemmas = set(m.lemmatize(\" \".join(list(data2['purpose']))))\n",
    "\n",
    "# из полученного списка удалим все значения, у которых меньше 3х знаков, то есть предлоги и пробелы \n",
    "meaningful_lemmas = [x for x in lemmas if len(x) > 3]\n",
    "\n",
    "# отсортируем полученный список по алфавиту\n",
    "meaningful_lemmas.sort()\n",
    "\n",
    "# выведем на экран\n",
    "meaningful_lemmas"
   ]
  },
  {
   "cell_type": "markdown",
   "metadata": {},
   "source": [
    "В полученном списке сосредоточимся на существительных: автомобиль, жилье, недвижимость, образование, операция, покупка, получение, приобретение, проведение, ремонт, свадьба, сдача, сделка, семья, строительство. Визуально изучим вхождение этих слов во фразы столбца purpose."
   ]
  },
  {
   "cell_type": "markdown",
   "metadata": {},
   "source": [
    "В результате можно еще сократить этот список: покупка, получение, приобретение, проведение, сдача, сделка и семья не встречаются в запросе отдельно от автомобилей или недвижимости. Существительное \"операция\" также относится к квартирам, а не медицине, и употребляется в паре с ключом \"недвижимость\", следовательно, его тоже можно исключить."
   ]
  },
  {
   "cell_type": "markdown",
   "metadata": {},
   "source": [
    "Отдельного внимания заслуживает цель \"ремонт\". Она встречается часто и не связана с приобретением жилья (как все остальные цели, касающиеся недвижимости). При этом в формулировке участвует слово \"жилье\". Это может помешать дальнейшему делению на категории, поэтому заменим \"ремонт жилью\" на просто \"ремонт\"."
   ]
  },
  {
   "cell_type": "code",
   "execution_count": 32,
   "metadata": {},
   "outputs": [
    {
     "data": {
      "text/plain": [
       "purpose\n",
       "профильное образование                    432\n",
       "ремонт                                    604\n",
       "свадьба                                   792\n",
       "свой автомобиль                           474\n",
       "сделка с автомобилем                      455\n",
       "сделка с подержанным автомобилем          481\n",
       "строительство жилой недвижимости          621\n",
       "строительство недвижимости                619\n",
       "строительство собственной недвижимости    628\n",
       "сыграть свадьбу                           764\n",
       "Name: purpose, dtype: int64"
      ]
     },
     "execution_count": 32,
     "metadata": {},
     "output_type": "execute_result"
    }
   ],
   "source": [
    "# с помощью метода .loc() произведем замену значения \"ремонт жилью\" в столбце purpose на \"ремонт\"\n",
    "data2.loc[data2['purpose'] == 'ремонт жилью', 'purpose'] = 'ремонт' \n",
    "\n",
    "# убедимся, что замена прошла успешно\n",
    "data2.groupby('purpose')['purpose'].count().tail(10)"
   ]
  },
  {
   "cell_type": "markdown",
   "metadata": {},
   "source": [
    "Учитывая эти наблюдения, сделаем из полученного списка словарь: значение ключа будет в дальнейшем выведено в дополнительной колонке исходных данных, а наличие элементов словаря будем проверять в колонке purpose. Два элемента будет только в разделе про недвижимость."
   ]
  },
  {
   "cell_type": "code",
   "execution_count": 33,
   "metadata": {},
   "outputs": [],
   "source": [
    "# объявим переменную purpose_dict, в которую поместим словарь\n",
    "# ключом словаря будут обобщенные цели, значениями - леммы, которыми эти цели описываются\n",
    "purpose_dict = {\n",
    "    'покупка коммерческой и жилой недвижимости': ['жилье', 'недвижимость'],\n",
    "    'ремонт недвижимости': ['ремонт'],\n",
    "    'приобретение автомобиля': ['автомобиль'],\n",
    "    'получение образования': ['образование'],\n",
    "    'проведение свадьбы': ['свадьба']\n",
    "}"
   ]
  },
  {
   "cell_type": "markdown",
   "metadata": {},
   "source": [
    "Для присвоения категорий целям кредита напишем функцию get_purpose_dict."
   ]
  },
  {
   "cell_type": "code",
   "execution_count": 34,
   "metadata": {},
   "outputs": [],
   "source": [
    "# в качестве аргумента функция принимает значения столбца purpose\n",
    "# выделяет в каждой строчке леммы алгоритмом m.lemmatize \n",
    "# для каждого ключа в ранее созданном словаре purpose_dict смотрит вхождение значений \n",
    "# ключа в выделенные леммы строки и возвращает имя ключа\n",
    "# если функция встречается с чем-то неопознанным, то возвращает unexpected\n",
    "def get_purpose_dict(purpose):\n",
    "    lemmas = m.lemmatize(purpose)\n",
    "    for item in purpose_dict:\n",
    "        for lemma in purpose_dict[item]:\n",
    "            if lemma in lemmas:\n",
    "                return item\n",
    "    return 'unexpected'"
   ]
  },
  {
   "cell_type": "code",
   "execution_count": 35,
   "metadata": {},
   "outputs": [
    {
     "data": {
      "text/html": [
       "<div>\n",
       "<style scoped>\n",
       "    .dataframe tbody tr th:only-of-type {\n",
       "        vertical-align: middle;\n",
       "    }\n",
       "\n",
       "    .dataframe tbody tr th {\n",
       "        vertical-align: top;\n",
       "    }\n",
       "\n",
       "    .dataframe thead th {\n",
       "        text-align: right;\n",
       "    }\n",
       "</style>\n",
       "<table border=\"1\" class=\"dataframe\">\n",
       "  <thead>\n",
       "    <tr style=\"text-align: right;\">\n",
       "      <th></th>\n",
       "      <th>purpose</th>\n",
       "      <th>purpose_dict</th>\n",
       "    </tr>\n",
       "  </thead>\n",
       "  <tbody>\n",
       "    <tr>\n",
       "      <td>0</td>\n",
       "      <td>покупка жилья</td>\n",
       "      <td>покупка коммерческой и жилой недвижимости</td>\n",
       "    </tr>\n",
       "    <tr>\n",
       "      <td>1</td>\n",
       "      <td>на проведение свадьбы</td>\n",
       "      <td>проведение свадьбы</td>\n",
       "    </tr>\n",
       "    <tr>\n",
       "      <td>2</td>\n",
       "      <td>строительство собственной недвижимости</td>\n",
       "      <td>покупка коммерческой и жилой недвижимости</td>\n",
       "    </tr>\n",
       "    <tr>\n",
       "      <td>3</td>\n",
       "      <td>свадьба</td>\n",
       "      <td>проведение свадьбы</td>\n",
       "    </tr>\n",
       "    <tr>\n",
       "      <td>4</td>\n",
       "      <td>автомобили</td>\n",
       "      <td>приобретение автомобиля</td>\n",
       "    </tr>\n",
       "    <tr>\n",
       "      <td>5</td>\n",
       "      <td>свой автомобиль</td>\n",
       "      <td>приобретение автомобиля</td>\n",
       "    </tr>\n",
       "    <tr>\n",
       "      <td>6</td>\n",
       "      <td>жилье</td>\n",
       "      <td>покупка коммерческой и жилой недвижимости</td>\n",
       "    </tr>\n",
       "    <tr>\n",
       "      <td>7</td>\n",
       "      <td>операции с жильем</td>\n",
       "      <td>покупка коммерческой и жилой недвижимости</td>\n",
       "    </tr>\n",
       "    <tr>\n",
       "      <td>8</td>\n",
       "      <td>сыграть свадьбу</td>\n",
       "      <td>проведение свадьбы</td>\n",
       "    </tr>\n",
       "    <tr>\n",
       "      <td>9</td>\n",
       "      <td>автомобиль</td>\n",
       "      <td>приобретение автомобиля</td>\n",
       "    </tr>\n",
       "  </tbody>\n",
       "</table>\n",
       "</div>"
      ],
      "text/plain": [
       "                                  purpose  \\\n",
       "0                           покупка жилья   \n",
       "1                   на проведение свадьбы   \n",
       "2  строительство собственной недвижимости   \n",
       "3                                 свадьба   \n",
       "4                              автомобили   \n",
       "5                         свой автомобиль   \n",
       "6                                   жилье   \n",
       "7                       операции с жильем   \n",
       "8                         сыграть свадьбу   \n",
       "9                              автомобиль   \n",
       "\n",
       "                                purpose_dict  \n",
       "0  покупка коммерческой и жилой недвижимости  \n",
       "1                         проведение свадьбы  \n",
       "2  покупка коммерческой и жилой недвижимости  \n",
       "3                         проведение свадьбы  \n",
       "4                    приобретение автомобиля  \n",
       "5                    приобретение автомобиля  \n",
       "6  покупка коммерческой и жилой недвижимости  \n",
       "7  покупка коммерческой и жилой недвижимости  \n",
       "8                         проведение свадьбы  \n",
       "9                    приобретение автомобиля  "
      ]
     },
     "execution_count": 35,
     "metadata": {},
     "output_type": "execute_result"
    }
   ],
   "source": [
    "# добавим к актуальному датасету новый столбец purpose_dict, для этого воспользуемся\n",
    "# функцией .apply(), которой в качестве параметра передадим ранее написанную функцию get_purpose_dict\n",
    "data2['purpose_dict'] = data2['purpose'].apply(get_purpose_dict)\n",
    "\n",
    "# изучим пример содержания вновь добавленной колонки\n",
    "data2[['purpose', 'purpose_dict']].head(10)"
   ]
  },
  {
   "cell_type": "markdown",
   "metadata": {},
   "source": [
    "**Вывод:** данные подготовлены к анализу — выделенные более общие категории позволят точнее установить зависимость целей и вероятности возврата кредита."
   ]
  },
  {
   "cell_type": "markdown",
   "metadata": {},
   "source": [
    "### Столбец total_income: категоризация данных"
   ]
  },
  {
   "cell_type": "markdown",
   "metadata": {},
   "source": [
    "Выделим более общие категории и в доходе."
   ]
  },
  {
   "cell_type": "markdown",
   "metadata": {},
   "source": [
    "#### Изучение данных"
   ]
  },
  {
   "cell_type": "markdown",
   "metadata": {},
   "source": [
    "Запросим максимальное и минимальное значение диапазона."
   ]
  },
  {
   "cell_type": "code",
   "execution_count": 36,
   "metadata": {},
   "outputs": [
    {
     "name": "stdout",
     "output_type": "stream",
     "text": [
      "Минимальный доход в выборке: 20667 рублей.\n",
      "Максимальный доход в выборке: 2265604 рублей.\n"
     ]
    }
   ],
   "source": [
    "# методами .min() и .max() найдем минимальный и максимальный уровень дохода\n",
    "print(\"Минимальный доход в выборке:\", int(data2['total_income'].min()), \"рублей.\")\n",
    "print(\"Максимальный доход в выборке:\", int(data2['total_income'].max()), \"рублей.\")"
   ]
  },
  {
   "cell_type": "markdown",
   "metadata": {},
   "source": [
    "Разброс значений получился значительным — от 20 тысяч до 2 миллионов. Возможно, в верхней части выборки есть всего пара-тройка выбросов, в таком случае их целесообразно удалить. \n",
    "Посмотрим, насколько распределение является нормальным. Визуализируем распределение количества данных методом boxplot."
   ]
  },
  {
   "cell_type": "code",
   "execution_count": 37,
   "metadata": {},
   "outputs": [
    {
     "data": {
      "text/plain": [
       "<matplotlib.axes._subplots.AxesSubplot at 0x7f657859a750>"
      ]
     },
     "execution_count": 37,
     "metadata": {},
     "output_type": "execute_result"
    },
    {
     "data": {
      "image/png": "[encoded data removed]",
      "text/plain": [
       "<Figure size 288x720 with 1 Axes>"
      ]
     },
     "metadata": {
      "needs_background": "light"
     },
     "output_type": "display_data"
    }
   ],
   "source": [
    "# применяем метод к данным столбца total_income\n",
    "data2['total_income'].plot.box(figsize = (4, 10))"
   ]
  },
  {
   "cell_type": "markdown",
   "metadata": {},
   "source": [
    "В выборке действительно есть два значения свыше 2 миллионов, но в целом, хвост довольно \"плотный\", поэтому будем работать со всеми данными."
   ]
  },
  {
   "cell_type": "markdown",
   "metadata": {},
   "source": [
    "Для определения промежутков, на которые стоит разделить доход, изучим, как данные праспределяются по квартилям."
   ]
  },
  {
   "cell_type": "code",
   "execution_count": 38,
   "metadata": {},
   "outputs": [
    {
     "data": {
      "text/plain": [
       "count      21346\n",
       "mean      167415\n",
       "std        98519\n",
       "min        20667\n",
       "25%       107518\n",
       "50%       146316\n",
       "75%       201766\n",
       "max      2265604\n",
       "Name: total_income, dtype: int64"
      ]
     },
     "execution_count": 38,
     "metadata": {},
     "output_type": "execute_result"
    }
   ],
   "source": [
    "# для столбца total_income запросим метод .describe() \n",
    "# и применим к нему изменение типа данных, потому что иначе выводится экспоненциальное значение\n",
    "# которое не отличается наглядностью\n",
    "data2['total_income'].describe().apply(int)"
   ]
  },
  {
   "cell_type": "markdown",
   "metadata": {},
   "source": [
    "Получили относительно равномерные промежутки:\n",
    "- 25% значений — доход до 107 тысяч,\n",
    "- 50% значений — доход до 146 тысяч,\n",
    "- 75% значений — доход до 201 тысячи."
   ]
  },
  {
   "cell_type": "markdown",
   "metadata": {},
   "source": [
    "Поскольку 75% значений лежат в плоскости от 20 до 200 тысяч изучим целесообразность более детального деления этого массива."
   ]
  },
  {
   "cell_type": "code",
   "execution_count": 39,
   "metadata": {},
   "outputs": [
    {
     "data": {
      "text/plain": [
       "count     15896\n",
       "mean     126469\n",
       "std       39648\n",
       "min       20667\n",
       "25%       95968\n",
       "50%      129897\n",
       "75%      159345\n",
       "max      199980\n",
       "Name: total_income, dtype: int64"
      ]
     },
     "execution_count": 39,
     "metadata": {},
     "output_type": "execute_result"
    }
   ],
   "source": [
    "# применим к столбцу total_income тот же метод, но зададим дополнительное условие, что доход\n",
    "# не должен превышать 200 тысяч\n",
    "data2.query('total_income <= 200000')['total_income'].describe().apply(int)"
   ]
  },
  {
   "cell_type": "markdown",
   "metadata": {},
   "source": [
    "Получили следующие промежутки:\n",
    "- 25% значений — доход до 95 тысяч,\n",
    "- 50% значений — доход до 129 тысяч,\n",
    "- 75% значений — доход до 159 тысяч."
   ]
  },
  {
   "cell_type": "markdown",
   "metadata": {},
   "source": [
    "**Вывод:** при раздельном анализе диапазонов до 200 тысяч и свыше 200 тысяч точность прогноза возрастет незначительно, при этом потребуется обработка двух отдельных массивов данных. Принято решение остановиться на четырех сравнительно произвольных группах дохода:\n",
    "- до 100 тысяч,\n",
    "- до 150 тысяч,\n",
    "- до 250 тысяч,\n",
    "- свыше 250 тысяч."
   ]
  },
  {
   "cell_type": "markdown",
   "metadata": {},
   "source": [
    "#### Присвоение категории дохода"
   ]
  },
  {
   "cell_type": "markdown",
   "metadata": {},
   "source": [
    "Создадим словарь, в котором в качестве ключа зададим наименование категории, в качестве значений: минимальное и максимальное значение диапазона."
   ]
  },
  {
   "cell_type": "code",
   "execution_count": 40,
   "metadata": {},
   "outputs": [],
   "source": [
    "# объявляем словарь income_dict по аналогии с purpose_dict\n",
    "income_dict = {\n",
    "    'доход до 100 тыс': [0, 100000],\n",
    "    'доход от 100 до 150 тыс': [100000, 150000],\n",
    "    'доход от 150 до 250 тыс': [150000, 250000],\n",
    "    'доход свыше 250 тыс': [250000, 2500000]\n",
    "}"
   ]
  },
  {
   "cell_type": "code",
   "execution_count": 41,
   "metadata": {},
   "outputs": [],
   "source": [
    "# добавим в датасет столбец income_dict, который будет заполнен на основании total_income\n",
    "# сравним значения минимума и максимум диапазонов словаря со значением столбца total_income\n",
    "# для каждой строки данных\n",
    "# в столбец \"income_dict\" вернем значение индекса словаря [0]\n",
    "data2['income_dict'] = data2['total_income'] \\\n",
    "    .apply(lambda income: [item for item in income_dict \\\n",
    "    if income_dict[item][0] < income and income <= income_dict[item][1]][0])"
   ]
  },
  {
   "cell_type": "markdown",
   "metadata": {},
   "source": [
    "### Дополнительные категории наличия детей и наличия задолжности"
   ]
  },
  {
   "cell_type": "markdown",
   "metadata": {},
   "source": [
    "Дополним данные категорией наличия у заемщика детей — эта процедура еще не была проведена, хотя такой параметр потребуется для анализа. Плюс добавим столбец с фактом наличия задолжности."
   ]
  },
  {
   "cell_type": "code",
   "execution_count": 42,
   "metadata": {},
   "outputs": [],
   "source": [
    "# к актуальному датасету добавляем столбец has_children, который заполняется \n",
    "# через функцию .apply() на основании столбца children\n",
    "# если значение столбца children больше 0, то в has_children записывается \"есть дети\", иначе \"нет детей\"\n",
    "data2['has_children'] = data2['children'].apply(lambda x: 'есть дети' if x > 0 else 'нет детей')"
   ]
  },
  {
   "cell_type": "code",
   "execution_count": 43,
   "metadata": {},
   "outputs": [],
   "source": [
    "# поступим аналогичным образом в отношении столбца debt\n",
    "data2['has_debt'] = data2['debt'].apply(lambda x: 'нет долга' if x == 0 else 'есть долг')"
   ]
  },
  {
   "cell_type": "code",
   "execution_count": 44,
   "metadata": {},
   "outputs": [
    {
     "data": {
      "text/html": [
       "<div>\n",
       "<style scoped>\n",
       "    .dataframe tbody tr th:only-of-type {\n",
       "        vertical-align: middle;\n",
       "    }\n",
       "\n",
       "    .dataframe tbody tr th {\n",
       "        vertical-align: top;\n",
       "    }\n",
       "\n",
       "    .dataframe thead th {\n",
       "        text-align: right;\n",
       "    }\n",
       "</style>\n",
       "<table border=\"1\" class=\"dataframe\">\n",
       "  <thead>\n",
       "    <tr style=\"text-align: right;\">\n",
       "      <th></th>\n",
       "      <th>children</th>\n",
       "      <th>days_employed</th>\n",
       "      <th>dob_years</th>\n",
       "      <th>education</th>\n",
       "      <th>education_id</th>\n",
       "      <th>family_status</th>\n",
       "      <th>family_status_id</th>\n",
       "      <th>gender</th>\n",
       "      <th>income_type</th>\n",
       "      <th>debt</th>\n",
       "      <th>total_income</th>\n",
       "      <th>purpose</th>\n",
       "      <th>gender_id</th>\n",
       "      <th>mean_income</th>\n",
       "      <th>purpose_dict</th>\n",
       "      <th>income_dict</th>\n",
       "      <th>has_children</th>\n",
       "      <th>has_debt</th>\n",
       "    </tr>\n",
       "  </thead>\n",
       "  <tbody>\n",
       "    <tr>\n",
       "      <td>18161</td>\n",
       "      <td>2.0</td>\n",
       "      <td>-4375.0</td>\n",
       "      <td>33.0</td>\n",
       "      <td>среднее</td>\n",
       "      <td>1.0</td>\n",
       "      <td>гражданский брак</td>\n",
       "      <td>1.0</td>\n",
       "      <td>M</td>\n",
       "      <td>компаньон</td>\n",
       "      <td>0.0</td>\n",
       "      <td>307329.000000</td>\n",
       "      <td>сыграть свадьбу</td>\n",
       "      <td>0</td>\n",
       "      <td>206646.527969</td>\n",
       "      <td>проведение свадьбы</td>\n",
       "      <td>доход свыше 250 тыс</td>\n",
       "      <td>есть дети</td>\n",
       "      <td>нет долга</td>\n",
       "    </tr>\n",
       "    <tr>\n",
       "      <td>18969</td>\n",
       "      <td>0.0</td>\n",
       "      <td>-549.0</td>\n",
       "      <td>24.0</td>\n",
       "      <td>среднее</td>\n",
       "      <td>1.0</td>\n",
       "      <td>не женат / не замужем</td>\n",
       "      <td>4.0</td>\n",
       "      <td>F</td>\n",
       "      <td>госслужащий</td>\n",
       "      <td>0.0</td>\n",
       "      <td>225159.000000</td>\n",
       "      <td>сделка с подержанным автомобилем</td>\n",
       "      <td>1</td>\n",
       "      <td>142130.150613</td>\n",
       "      <td>приобретение автомобиля</td>\n",
       "      <td>доход от 150 до 250 тыс</td>\n",
       "      <td>нет детей</td>\n",
       "      <td>нет долга</td>\n",
       "    </tr>\n",
       "    <tr>\n",
       "      <td>10464</td>\n",
       "      <td>0.0</td>\n",
       "      <td>340159.0</td>\n",
       "      <td>66.0</td>\n",
       "      <td>среднее</td>\n",
       "      <td>1.0</td>\n",
       "      <td>женат / замужем</td>\n",
       "      <td>0.0</td>\n",
       "      <td>F</td>\n",
       "      <td>пенсионер</td>\n",
       "      <td>0.0</td>\n",
       "      <td>160309.000000</td>\n",
       "      <td>покупка жилой недвижимости</td>\n",
       "      <td>1</td>\n",
       "      <td>129897.745107</td>\n",
       "      <td>покупка коммерческой и жилой недвижимости</td>\n",
       "      <td>доход от 150 до 250 тыс</td>\n",
       "      <td>нет детей</td>\n",
       "      <td>нет долга</td>\n",
       "    </tr>\n",
       "    <tr>\n",
       "      <td>3783</td>\n",
       "      <td>3.0</td>\n",
       "      <td>0.0</td>\n",
       "      <td>39.0</td>\n",
       "      <td>среднее</td>\n",
       "      <td>1.0</td>\n",
       "      <td>не женат / не замужем</td>\n",
       "      <td>4.0</td>\n",
       "      <td>F</td>\n",
       "      <td>сотрудник</td>\n",
       "      <td>0.0</td>\n",
       "      <td>139764.266486</td>\n",
       "      <td>операции с недвижимостью</td>\n",
       "      <td>1</td>\n",
       "      <td>139764.266486</td>\n",
       "      <td>покупка коммерческой и жилой недвижимости</td>\n",
       "      <td>доход от 100 до 150 тыс</td>\n",
       "      <td>есть дети</td>\n",
       "      <td>нет долга</td>\n",
       "    </tr>\n",
       "    <tr>\n",
       "      <td>5204</td>\n",
       "      <td>1.0</td>\n",
       "      <td>-149.0</td>\n",
       "      <td>32.0</td>\n",
       "      <td>среднее</td>\n",
       "      <td>1.0</td>\n",
       "      <td>гражданский брак</td>\n",
       "      <td>1.0</td>\n",
       "      <td>F</td>\n",
       "      <td>сотрудник</td>\n",
       "      <td>1.0</td>\n",
       "      <td>190510.000000</td>\n",
       "      <td>на проведение свадьбы</td>\n",
       "      <td>1</td>\n",
       "      <td>139764.266486</td>\n",
       "      <td>проведение свадьбы</td>\n",
       "      <td>доход от 150 до 250 тыс</td>\n",
       "      <td>есть дети</td>\n",
       "      <td>есть долг</td>\n",
       "    </tr>\n",
       "    <tr>\n",
       "      <td>21049</td>\n",
       "      <td>0.0</td>\n",
       "      <td>373808.0</td>\n",
       "      <td>71.0</td>\n",
       "      <td>начальное</td>\n",
       "      <td>3.0</td>\n",
       "      <td>вдовец / вдова</td>\n",
       "      <td>2.0</td>\n",
       "      <td>F</td>\n",
       "      <td>пенсионер</td>\n",
       "      <td>0.0</td>\n",
       "      <td>81982.000000</td>\n",
       "      <td>строительство недвижимости</td>\n",
       "      <td>1</td>\n",
       "      <td>108166.756757</td>\n",
       "      <td>покупка коммерческой и жилой недвижимости</td>\n",
       "      <td>доход до 100 тыс</td>\n",
       "      <td>нет детей</td>\n",
       "      <td>нет долга</td>\n",
       "    </tr>\n",
       "    <tr>\n",
       "      <td>16446</td>\n",
       "      <td>1.0</td>\n",
       "      <td>-2713.0</td>\n",
       "      <td>36.0</td>\n",
       "      <td>среднее</td>\n",
       "      <td>1.0</td>\n",
       "      <td>гражданский брак</td>\n",
       "      <td>1.0</td>\n",
       "      <td>F</td>\n",
       "      <td>компаньон</td>\n",
       "      <td>0.0</td>\n",
       "      <td>149610.000000</td>\n",
       "      <td>на проведение свадьбы</td>\n",
       "      <td>1</td>\n",
       "      <td>162843.164342</td>\n",
       "      <td>проведение свадьбы</td>\n",
       "      <td>доход от 100 до 150 тыс</td>\n",
       "      <td>есть дети</td>\n",
       "      <td>нет долга</td>\n",
       "    </tr>\n",
       "    <tr>\n",
       "      <td>19922</td>\n",
       "      <td>0.0</td>\n",
       "      <td>0.0</td>\n",
       "      <td>26.0</td>\n",
       "      <td>неоконченное высшее</td>\n",
       "      <td>2.0</td>\n",
       "      <td>не женат / не замужем</td>\n",
       "      <td>4.0</td>\n",
       "      <td>M</td>\n",
       "      <td>сотрудник</td>\n",
       "      <td>0.0</td>\n",
       "      <td>207923.272727</td>\n",
       "      <td>операции с недвижимостью</td>\n",
       "      <td>0</td>\n",
       "      <td>207923.272727</td>\n",
       "      <td>покупка коммерческой и жилой недвижимости</td>\n",
       "      <td>доход от 150 до 250 тыс</td>\n",
       "      <td>нет детей</td>\n",
       "      <td>нет долга</td>\n",
       "    </tr>\n",
       "    <tr>\n",
       "      <td>20326</td>\n",
       "      <td>0.0</td>\n",
       "      <td>380545.0</td>\n",
       "      <td>54.0</td>\n",
       "      <td>высшее</td>\n",
       "      <td>0.0</td>\n",
       "      <td>не женат / не замужем</td>\n",
       "      <td>4.0</td>\n",
       "      <td>F</td>\n",
       "      <td>пенсионер</td>\n",
       "      <td>0.0</td>\n",
       "      <td>243309.000000</td>\n",
       "      <td>операции со своей недвижимостью</td>\n",
       "      <td>1</td>\n",
       "      <td>163579.935897</td>\n",
       "      <td>покупка коммерческой и жилой недвижимости</td>\n",
       "      <td>доход от 150 до 250 тыс</td>\n",
       "      <td>нет детей</td>\n",
       "      <td>нет долга</td>\n",
       "    </tr>\n",
       "    <tr>\n",
       "      <td>20148</td>\n",
       "      <td>1.0</td>\n",
       "      <td>343393.0</td>\n",
       "      <td>59.0</td>\n",
       "      <td>высшее</td>\n",
       "      <td>0.0</td>\n",
       "      <td>женат / замужем</td>\n",
       "      <td>0.0</td>\n",
       "      <td>F</td>\n",
       "      <td>пенсионер</td>\n",
       "      <td>0.0</td>\n",
       "      <td>130064.000000</td>\n",
       "      <td>приобретение автомобиля</td>\n",
       "      <td>1</td>\n",
       "      <td>163579.935897</td>\n",
       "      <td>приобретение автомобиля</td>\n",
       "      <td>доход от 100 до 150 тыс</td>\n",
       "      <td>есть дети</td>\n",
       "      <td>нет долга</td>\n",
       "    </tr>\n",
       "  </tbody>\n",
       "</table>\n",
       "</div>"
      ],
      "text/plain": [
       "       children  days_employed  dob_years            education  education_id  \\\n",
       "18161       2.0        -4375.0       33.0              среднее           1.0   \n",
       "18969       0.0         -549.0       24.0              среднее           1.0   \n",
       "10464       0.0       340159.0       66.0              среднее           1.0   \n",
       "3783        3.0            0.0       39.0              среднее           1.0   \n",
       "5204        1.0         -149.0       32.0              среднее           1.0   \n",
       "21049       0.0       373808.0       71.0            начальное           3.0   \n",
       "16446       1.0        -2713.0       36.0              среднее           1.0   \n",
       "19922       0.0            0.0       26.0  неоконченное высшее           2.0   \n",
       "20326       0.0       380545.0       54.0               высшее           0.0   \n",
       "20148       1.0       343393.0       59.0               высшее           0.0   \n",
       "\n",
       "               family_status  family_status_id gender  income_type  debt  \\\n",
       "18161       гражданский брак               1.0      M    компаньон   0.0   \n",
       "18969  не женат / не замужем               4.0      F  госслужащий   0.0   \n",
       "10464        женат / замужем               0.0      F    пенсионер   0.0   \n",
       "3783   не женат / не замужем               4.0      F    сотрудник   0.0   \n",
       "5204        гражданский брак               1.0      F    сотрудник   1.0   \n",
       "21049         вдовец / вдова               2.0      F    пенсионер   0.0   \n",
       "16446       гражданский брак               1.0      F    компаньон   0.0   \n",
       "19922  не женат / не замужем               4.0      M    сотрудник   0.0   \n",
       "20326  не женат / не замужем               4.0      F    пенсионер   0.0   \n",
       "20148        женат / замужем               0.0      F    пенсионер   0.0   \n",
       "\n",
       "        total_income                           purpose  gender_id  \\\n",
       "18161  307329.000000                   сыграть свадьбу          0   \n",
       "18969  225159.000000  сделка с подержанным автомобилем          1   \n",
       "10464  160309.000000        покупка жилой недвижимости          1   \n",
       "3783   139764.266486          операции с недвижимостью          1   \n",
       "5204   190510.000000             на проведение свадьбы          1   \n",
       "21049   81982.000000        строительство недвижимости          1   \n",
       "16446  149610.000000             на проведение свадьбы          1   \n",
       "19922  207923.272727          операции с недвижимостью          0   \n",
       "20326  243309.000000   операции со своей недвижимостью          1   \n",
       "20148  130064.000000           приобретение автомобиля          1   \n",
       "\n",
       "         mean_income                               purpose_dict  \\\n",
       "18161  206646.527969                         проведение свадьбы   \n",
       "18969  142130.150613                    приобретение автомобиля   \n",
       "10464  129897.745107  покупка коммерческой и жилой недвижимости   \n",
       "3783   139764.266486  покупка коммерческой и жилой недвижимости   \n",
       "5204   139764.266486                         проведение свадьбы   \n",
       "21049  108166.756757  покупка коммерческой и жилой недвижимости   \n",
       "16446  162843.164342                         проведение свадьбы   \n",
       "19922  207923.272727  покупка коммерческой и жилой недвижимости   \n",
       "20326  163579.935897  покупка коммерческой и жилой недвижимости   \n",
       "20148  163579.935897                    приобретение автомобиля   \n",
       "\n",
       "                   income_dict has_children   has_debt  \n",
       "18161      доход свыше 250 тыс    есть дети  нет долга  \n",
       "18969  доход от 150 до 250 тыс    нет детей  нет долга  \n",
       "10464  доход от 150 до 250 тыс    нет детей  нет долга  \n",
       "3783   доход от 100 до 150 тыс    есть дети  нет долга  \n",
       "5204   доход от 150 до 250 тыс    есть дети  есть долг  \n",
       "21049         доход до 100 тыс    нет детей  нет долга  \n",
       "16446  доход от 100 до 150 тыс    есть дети  нет долга  \n",
       "19922  доход от 150 до 250 тыс    нет детей  нет долга  \n",
       "20326  доход от 150 до 250 тыс    нет детей  нет долга  \n",
       "20148  доход от 100 до 150 тыс    есть дети  нет долга  "
      ]
     },
     "execution_count": 44,
     "metadata": {},
     "output_type": "execute_result"
    }
   ],
   "source": [
    "# изучим итоговую таблицу, запросив выборку из 10% случайных значений и посмотрим только 10 из них,\n",
    "# поскольку 10% нашей выборки - это более 1000 строк\n",
    "data2.sample(frac=0.1).head(10)"
   ]
  },
  {
   "cell_type": "markdown",
   "metadata": {},
   "source": [
    "**Вывод:** все данные выводятся корректно, все новые столбцы в данных присутствуют и, судя по представленной выборке, принимают ожидаемые значения. В данных выделены категории дохода, целей кредита, наличия детей."
   ]
  },
  {
   "cell_type": "markdown",
   "metadata": {},
   "source": [
    "## Шаг 3. Анализ данных"
   ]
  },
  {
   "cell_type": "markdown",
   "metadata": {},
   "source": [
    "Целью исследования является проверка наличия или отсутствия зависимости между характеристиками заемщика и фактом погашения кредита в срок. Рассмотрим каждый из изучаемых параметров отдельно:\n",
    "- наличие детей,\n",
    "- семейное положение,\n",
    "- уровень дохода,\n",
    "- цель кредита."
   ]
  },
  {
   "cell_type": "markdown",
   "metadata": {},
   "source": [
    "### Зависимость между наличием детей и возвратом кредита в срок"
   ]
  },
  {
   "cell_type": "markdown",
   "metadata": {},
   "source": [
    "Выведем сводную таблицу, в которой отразим факт наличия детей и наличия задолжности."
   ]
  },
  {
   "cell_type": "code",
   "execution_count": 45,
   "metadata": {},
   "outputs": [
    {
     "data": {
      "text/html": [
       "<div>\n",
       "<style scoped>\n",
       "    .dataframe tbody tr th:only-of-type {\n",
       "        vertical-align: middle;\n",
       "    }\n",
       "\n",
       "    .dataframe tbody tr th {\n",
       "        vertical-align: top;\n",
       "    }\n",
       "\n",
       "    .dataframe thead th {\n",
       "        text-align: right;\n",
       "    }\n",
       "</style>\n",
       "<table border=\"1\" class=\"dataframe\">\n",
       "  <thead>\n",
       "    <tr style=\"text-align: right;\">\n",
       "      <th>has_debt</th>\n",
       "      <th>has_children</th>\n",
       "      <th>есть долг</th>\n",
       "      <th>нет долга</th>\n",
       "      <th>итого</th>\n",
       "      <th>доля должников</th>\n",
       "    </tr>\n",
       "  </thead>\n",
       "  <tbody>\n",
       "    <tr>\n",
       "      <td>0</td>\n",
       "      <td>есть дети</td>\n",
       "      <td>669</td>\n",
       "      <td>6572</td>\n",
       "      <td>7241</td>\n",
       "      <td>9.24%</td>\n",
       "    </tr>\n",
       "    <tr>\n",
       "      <td>1</td>\n",
       "      <td>нет детей</td>\n",
       "      <td>1063</td>\n",
       "      <td>13042</td>\n",
       "      <td>14105</td>\n",
       "      <td>7.54%</td>\n",
       "    </tr>\n",
       "  </tbody>\n",
       "</table>\n",
       "</div>"
      ],
      "text/plain": [
       "has_debt has_children  есть долг  нет долга  итого доля должников\n",
       "0           есть дети        669       6572   7241          9.24%\n",
       "1           нет детей       1063      13042  14105          7.54%"
      ]
     },
     "execution_count": 45,
     "metadata": {},
     "output_type": "execute_result"
    }
   ],
   "source": [
    "# в строки передадим данные о наличии детей, в столбцы - о наличии долга\n",
    "# в ячейках выведем количество значений столбца debt\n",
    "pivot_children = data2.pivot_table(index = ['has_children'], columns = 'has_debt', values = 'debt',\\\n",
    "                                   aggfunc = 'count').reset_index()\n",
    "\n",
    "# добавим в таблицу столбец \"итого\" с суммой значений по строкам\n",
    "pivot_children['итого'] = pivot_children['есть долг'] + pivot_children['нет долга']\n",
    "\n",
    "# добавим в таблицу столбец \"доля должников\", выведем его в формате процентов \n",
    "# с точностью 2 знака после запятой\n",
    "pivot_children['доля должников'] = pivot_children.apply(lambda x:\\\n",
    "                    \"{:.2f}%\".format(x['есть долг'] / x['итого'] * 100), axis=1)\n",
    "\n",
    "# выведем таблицу на экран\n",
    "pivot_children"
   ]
  },
  {
   "cell_type": "code",
   "execution_count": 46,
   "metadata": {},
   "outputs": [
    {
     "name": "stdout",
     "output_type": "stream",
     "text": [
      "Средняя доля должников: 8.4%\n"
     ]
    }
   ],
   "source": [
    "# найдем медианное значение доли должников\n",
    "# для этого применим стандартный метод .mean() к неформатированному столбцу долей должников\n",
    "pivot_children['доля числовая'] = pivot_children['есть долг'] / pivot_children['итого']\n",
    "children_mean = pivot_children['доля числовая'].mean()\n",
    "print('Средняя доля должников: {:.1%}'.format(children_mean))"
   ]
  },
  {
   "cell_type": "markdown",
   "metadata": {},
   "source": [
    "**Вывод:** доля должников выше среди заемщиков с детьми."
   ]
  },
  {
   "cell_type": "markdown",
   "metadata": {},
   "source": [
    "### Зависимость между семейным положением и возвратом кредита"
   ]
  },
  {
   "cell_type": "markdown",
   "metadata": {},
   "source": [
    "Применим аналогичный метод ко следующим двум параметрам — семейное положение и наличие задолжности по кредиту."
   ]
  },
  {
   "cell_type": "code",
   "execution_count": 47,
   "metadata": {},
   "outputs": [
    {
     "data": {
      "text/html": [
       "<div>\n",
       "<style scoped>\n",
       "    .dataframe tbody tr th:only-of-type {\n",
       "        vertical-align: middle;\n",
       "    }\n",
       "\n",
       "    .dataframe tbody tr th {\n",
       "        vertical-align: top;\n",
       "    }\n",
       "\n",
       "    .dataframe thead th {\n",
       "        text-align: right;\n",
       "    }\n",
       "</style>\n",
       "<table border=\"1\" class=\"dataframe\">\n",
       "  <thead>\n",
       "    <tr style=\"text-align: right;\">\n",
       "      <th>has_debt</th>\n",
       "      <th>family_status</th>\n",
       "      <th>есть долг</th>\n",
       "      <th>нет долга</th>\n",
       "      <th>итого</th>\n",
       "      <th>доля должников</th>\n",
       "    </tr>\n",
       "  </thead>\n",
       "  <tbody>\n",
       "    <tr>\n",
       "      <td>0</td>\n",
       "      <td>в разводе</td>\n",
       "      <td>84</td>\n",
       "      <td>1105</td>\n",
       "      <td>1189</td>\n",
       "      <td>7.06%</td>\n",
       "    </tr>\n",
       "    <tr>\n",
       "      <td>1</td>\n",
       "      <td>вдовец / вдова</td>\n",
       "      <td>63</td>\n",
       "      <td>888</td>\n",
       "      <td>951</td>\n",
       "      <td>6.62%</td>\n",
       "    </tr>\n",
       "    <tr>\n",
       "      <td>2</td>\n",
       "      <td>гражданский брак</td>\n",
       "      <td>385</td>\n",
       "      <td>3760</td>\n",
       "      <td>4145</td>\n",
       "      <td>9.29%</td>\n",
       "    </tr>\n",
       "    <tr>\n",
       "      <td>3</td>\n",
       "      <td>женат / замужем</td>\n",
       "      <td>927</td>\n",
       "      <td>11338</td>\n",
       "      <td>12265</td>\n",
       "      <td>7.56%</td>\n",
       "    </tr>\n",
       "    <tr>\n",
       "      <td>4</td>\n",
       "      <td>не женат / не замужем</td>\n",
       "      <td>273</td>\n",
       "      <td>2523</td>\n",
       "      <td>2796</td>\n",
       "      <td>9.76%</td>\n",
       "    </tr>\n",
       "  </tbody>\n",
       "</table>\n",
       "</div>"
      ],
      "text/plain": [
       "has_debt          family_status  есть долг  нет долга  итого доля должников\n",
       "0                     в разводе         84       1105   1189          7.06%\n",
       "1                вдовец / вдова         63        888    951          6.62%\n",
       "2              гражданский брак        385       3760   4145          9.29%\n",
       "3               женат / замужем        927      11338  12265          7.56%\n",
       "4         не женат / не замужем        273       2523   2796          9.76%"
      ]
     },
     "execution_count": 47,
     "metadata": {},
     "output_type": "execute_result"
    }
   ],
   "source": [
    "# здесь и далее в сводной таблице будут меняться только значения строк, \n",
    "# все остальные операции полностью соответствуют предыдущему шагу\n",
    "pivot_family = data2.pivot_table(index = ['family_status'], columns = 'has_debt', values = 'debt',\\\n",
    "                                   aggfunc = 'count').reset_index()\n",
    "pivot_family['итого'] = pivot_family['есть долг'] + pivot_family['нет долга']\n",
    "pivot_family['доля должников'] = pivot_family.apply(lambda x:\\\n",
    "                    \"{:.2f}%\".format(x['есть долг'] / x['итого'] * 100), axis=1)\n",
    "pivot_family"
   ]
  },
  {
   "cell_type": "code",
   "execution_count": 48,
   "metadata": {},
   "outputs": [
    {
     "name": "stdout",
     "output_type": "stream",
     "text": [
      "Средняя доля должников: 8.1%\n"
     ]
    }
   ],
   "source": [
    "pivot_family['доля числовая'] = pivot_family['есть долг'] / pivot_family['итого']\n",
    "family_mean = pivot_family['доля числовая'].mean()\n",
    "print('Средняя доля должников: {:.1%}'.format(family_mean))"
   ]
  },
  {
   "cell_type": "markdown",
   "metadata": {},
   "source": [
    "**Вывод:** самые надежные заемщики встречаются среди овдовевших людей; женатые и в разводе следующие по дисциплинированности, третья категория надежности — граждане, не состоящие в официальном браке. "
   ]
  },
  {
   "cell_type": "markdown",
   "metadata": {},
   "source": [
    "### Зависимость между уровнем дохода и возвратом кредита в срок"
   ]
  },
  {
   "cell_type": "code",
   "execution_count": 49,
   "metadata": {},
   "outputs": [
    {
     "data": {
      "text/html": [
       "<div>\n",
       "<style scoped>\n",
       "    .dataframe tbody tr th:only-of-type {\n",
       "        vertical-align: middle;\n",
       "    }\n",
       "\n",
       "    .dataframe tbody tr th {\n",
       "        vertical-align: top;\n",
       "    }\n",
       "\n",
       "    .dataframe thead th {\n",
       "        text-align: right;\n",
       "    }\n",
       "</style>\n",
       "<table border=\"1\" class=\"dataframe\">\n",
       "  <thead>\n",
       "    <tr style=\"text-align: right;\">\n",
       "      <th>has_debt</th>\n",
       "      <th>income_dict</th>\n",
       "      <th>есть долг</th>\n",
       "      <th>нет долга</th>\n",
       "      <th>итого</th>\n",
       "      <th>доля должников</th>\n",
       "    </tr>\n",
       "  </thead>\n",
       "  <tbody>\n",
       "    <tr>\n",
       "      <td>0</td>\n",
       "      <td>доход до 100 тыс</td>\n",
       "      <td>354</td>\n",
       "      <td>4092</td>\n",
       "      <td>4446</td>\n",
       "      <td>7.96%</td>\n",
       "    </tr>\n",
       "    <tr>\n",
       "      <td>1</td>\n",
       "      <td>доход от 100 до 150 тыс</td>\n",
       "      <td>561</td>\n",
       "      <td>5995</td>\n",
       "      <td>6556</td>\n",
       "      <td>8.56%</td>\n",
       "    </tr>\n",
       "    <tr>\n",
       "      <td>2</td>\n",
       "      <td>доход от 150 до 250 тыс</td>\n",
       "      <td>620</td>\n",
       "      <td>6852</td>\n",
       "      <td>7472</td>\n",
       "      <td>8.30%</td>\n",
       "    </tr>\n",
       "    <tr>\n",
       "      <td>3</td>\n",
       "      <td>доход свыше 250 тыс</td>\n",
       "      <td>197</td>\n",
       "      <td>2675</td>\n",
       "      <td>2872</td>\n",
       "      <td>6.86%</td>\n",
       "    </tr>\n",
       "  </tbody>\n",
       "</table>\n",
       "</div>"
      ],
      "text/plain": [
       "has_debt              income_dict  есть долг  нет долга  итого доля должников\n",
       "0                доход до 100 тыс        354       4092   4446          7.96%\n",
       "1         доход от 100 до 150 тыс        561       5995   6556          8.56%\n",
       "2         доход от 150 до 250 тыс        620       6852   7472          8.30%\n",
       "3             доход свыше 250 тыс        197       2675   2872          6.86%"
      ]
     },
     "execution_count": 49,
     "metadata": {},
     "output_type": "execute_result"
    }
   ],
   "source": [
    "pivot_income = data2.pivot_table(index = ['income_dict'], columns = 'has_debt', values = 'debt',\\\n",
    "                                   aggfunc = 'count').reset_index()\n",
    "pivot_income['итого'] = pivot_income['есть долг'] + pivot_income['нет долга']\n",
    "pivot_income['доля должников'] = pivot_income.apply(lambda x:\\\n",
    "                    \"{:.2f}%\".format(x['есть долг'] / x['итого'] * 100), axis=1)\n",
    "pivot_income"
   ]
  },
  {
   "cell_type": "code",
   "execution_count": 50,
   "metadata": {},
   "outputs": [
    {
     "name": "stdout",
     "output_type": "stream",
     "text": [
      "Средняя доля должников: 7.9%\n"
     ]
    }
   ],
   "source": [
    "pivot_income['доля числовая'] = pivot_income['есть долг'] / pivot_income['итого']\n",
    "income_mean = pivot_income['доля числовая'].mean()\n",
    "print('Средняя доля должников: {:.1%}'.format(income_mean))"
   ]
  },
  {
   "cell_type": "markdown",
   "metadata": {},
   "source": [
    "**Вывод:** самые дисциплинированные — заемщики с высоким уровнем дохода. Как ни странно, следующая по добросовестности группа — те, кто зарабатывает менее 100 тысяч."
   ]
  },
  {
   "cell_type": "markdown",
   "metadata": {},
   "source": [
    "### Зависимость между целью кредита и возвратом в срок"
   ]
  },
  {
   "cell_type": "code",
   "execution_count": 51,
   "metadata": {
    "scrolled": true
   },
   "outputs": [
    {
     "data": {
      "text/html": [
       "<div>\n",
       "<style scoped>\n",
       "    .dataframe tbody tr th:only-of-type {\n",
       "        vertical-align: middle;\n",
       "    }\n",
       "\n",
       "    .dataframe tbody tr th {\n",
       "        vertical-align: top;\n",
       "    }\n",
       "\n",
       "    .dataframe thead th {\n",
       "        text-align: right;\n",
       "    }\n",
       "</style>\n",
       "<table border=\"1\" class=\"dataframe\">\n",
       "  <thead>\n",
       "    <tr style=\"text-align: right;\">\n",
       "      <th>has_debt</th>\n",
       "      <th>purpose_dict</th>\n",
       "      <th>есть долг</th>\n",
       "      <th>нет долга</th>\n",
       "      <th>итого</th>\n",
       "      <th>доля должников</th>\n",
       "    </tr>\n",
       "  </thead>\n",
       "  <tbody>\n",
       "    <tr>\n",
       "      <td>0</td>\n",
       "      <td>покупка коммерческой и жилой недвижимости</td>\n",
       "      <td>745</td>\n",
       "      <td>9403</td>\n",
       "      <td>10148</td>\n",
       "      <td>7.34%</td>\n",
       "    </tr>\n",
       "    <tr>\n",
       "      <td>1</td>\n",
       "      <td>получение образования</td>\n",
       "      <td>369</td>\n",
       "      <td>3620</td>\n",
       "      <td>3989</td>\n",
       "      <td>9.25%</td>\n",
       "    </tr>\n",
       "    <tr>\n",
       "      <td>2</td>\n",
       "      <td>приобретение автомобиля</td>\n",
       "      <td>400</td>\n",
       "      <td>3881</td>\n",
       "      <td>4281</td>\n",
       "      <td>9.34%</td>\n",
       "    </tr>\n",
       "    <tr>\n",
       "      <td>3</td>\n",
       "      <td>проведение свадьбы</td>\n",
       "      <td>183</td>\n",
       "      <td>2141</td>\n",
       "      <td>2324</td>\n",
       "      <td>7.87%</td>\n",
       "    </tr>\n",
       "    <tr>\n",
       "      <td>4</td>\n",
       "      <td>ремонт недвижимости</td>\n",
       "      <td>35</td>\n",
       "      <td>569</td>\n",
       "      <td>604</td>\n",
       "      <td>5.79%</td>\n",
       "    </tr>\n",
       "  </tbody>\n",
       "</table>\n",
       "</div>"
      ],
      "text/plain": [
       "has_debt                               purpose_dict  есть долг  нет долга  \\\n",
       "0         покупка коммерческой и жилой недвижимости        745       9403   \n",
       "1                             получение образования        369       3620   \n",
       "2                           приобретение автомобиля        400       3881   \n",
       "3                                проведение свадьбы        183       2141   \n",
       "4                               ремонт недвижимости         35        569   \n",
       "\n",
       "has_debt  итого доля должников  \n",
       "0         10148          7.34%  \n",
       "1          3989          9.25%  \n",
       "2          4281          9.34%  \n",
       "3          2324          7.87%  \n",
       "4           604          5.79%  "
      ]
     },
     "execution_count": 51,
     "metadata": {},
     "output_type": "execute_result"
    }
   ],
   "source": [
    "pivot_purpose = data2.pivot_table(index = ['purpose_dict'], columns = 'has_debt', values = 'debt',\\\n",
    "                                   aggfunc = 'count').reset_index()\n",
    "pivot_purpose['итого'] = pivot_purpose['есть долг'] + pivot_purpose['нет долга']\n",
    "pivot_purpose['доля должников'] = pivot_purpose.apply(lambda x:\\\n",
    "                    \"{:.2f}%\".format(x['есть долг'] / x['итого'] * 100), axis=1)\n",
    "pivot_purpose"
   ]
  },
  {
   "cell_type": "code",
   "execution_count": 52,
   "metadata": {},
   "outputs": [
    {
     "name": "stdout",
     "output_type": "stream",
     "text": [
      "Средняя доля должников: 7.9%\n"
     ]
    }
   ],
   "source": [
    "pivot_purpose['доля числовая'] = pivot_purpose['есть долг'] / pivot_purpose['итого']\n",
    "purpose_mean = pivot_purpose['доля числовая'].mean()\n",
    "print('Средняя доля должников: {:.1%}'.format(purpose_mean))"
   ]
  },
  {
   "cell_type": "markdown",
   "metadata": {},
   "source": [
    "**Вывод:** больше всего долгов у тех, кто брал кредит на автомобиль или образование. "
   ]
  },
  {
   "cell_type": "markdown",
   "metadata": {},
   "source": [
    "### Изучение параметров, не заявленных в целях исследования"
   ]
  },
  {
   "cell_type": "markdown",
   "metadata": {},
   "source": [
    "Предварительный вывод: средний уровень невозврата кредитов в исследованных группах колеблется от 7,9% до 8,4%. Категории, по которым невозвраты превышают 8,5% можно отнести к рискованным."
   ]
  },
  {
   "cell_type": "markdown",
   "metadata": {},
   "source": [
    "Представляется интересным посмотреть подобные соотношения также для пола и возраста, чтобы уточнить прогнозы."
   ]
  },
  {
   "cell_type": "markdown",
   "metadata": {},
   "source": [
    "#### Зависимость между полом и возвратом кредита в срок"
   ]
  },
  {
   "cell_type": "code",
   "execution_count": 53,
   "metadata": {},
   "outputs": [
    {
     "data": {
      "text/html": [
       "<div>\n",
       "<style scoped>\n",
       "    .dataframe tbody tr th:only-of-type {\n",
       "        vertical-align: middle;\n",
       "    }\n",
       "\n",
       "    .dataframe tbody tr th {\n",
       "        vertical-align: top;\n",
       "    }\n",
       "\n",
       "    .dataframe thead th {\n",
       "        text-align: right;\n",
       "    }\n",
       "</style>\n",
       "<table border=\"1\" class=\"dataframe\">\n",
       "  <thead>\n",
       "    <tr style=\"text-align: right;\">\n",
       "      <th>has_debt</th>\n",
       "      <th>gender</th>\n",
       "      <th>есть долг</th>\n",
       "      <th>нет долга</th>\n",
       "      <th>итого</th>\n",
       "      <th>доля должников</th>\n",
       "    </tr>\n",
       "  </thead>\n",
       "  <tbody>\n",
       "    <tr>\n",
       "      <td>0</td>\n",
       "      <td>F</td>\n",
       "      <td>989</td>\n",
       "      <td>13118</td>\n",
       "      <td>14107</td>\n",
       "      <td>7.01%</td>\n",
       "    </tr>\n",
       "    <tr>\n",
       "      <td>1</td>\n",
       "      <td>M</td>\n",
       "      <td>743</td>\n",
       "      <td>6496</td>\n",
       "      <td>7239</td>\n",
       "      <td>10.26%</td>\n",
       "    </tr>\n",
       "  </tbody>\n",
       "</table>\n",
       "</div>"
      ],
      "text/plain": [
       "has_debt gender  есть долг  нет долга  итого доля должников\n",
       "0             F        989      13118  14107          7.01%\n",
       "1             M        743       6496   7239         10.26%"
      ]
     },
     "execution_count": 53,
     "metadata": {},
     "output_type": "execute_result"
    }
   ],
   "source": [
    "pivot_gender = data2.pivot_table(index = ['gender'], columns = 'has_debt', values = 'debt',\\\n",
    "                                   aggfunc = 'count').reset_index()\n",
    "pivot_gender['итого'] = pivot_gender['есть долг'] + pivot_gender['нет долга']\n",
    "pivot_gender['доля должников'] = pivot_gender.apply(lambda x:\\\n",
    "                    \"{:.2f}%\".format(x['есть долг'] / x['итого'] * 100), axis=1)\n",
    "pivot_gender"
   ]
  },
  {
   "cell_type": "code",
   "execution_count": 54,
   "metadata": {
    "scrolled": true
   },
   "outputs": [
    {
     "name": "stdout",
     "output_type": "stream",
     "text": [
      "Средняя доля должников: 8.6%\n"
     ]
    }
   ],
   "source": [
    "pivot_gender['доля числовая'] = pivot_gender['есть долг'] / pivot_gender['итого']\n",
    "gender_mean = pivot_gender['доля числовая'].mean()\n",
    "print('Средняя доля должников: {:.1%}'.format(gender_mean))"
   ]
  },
  {
   "cell_type": "markdown",
   "metadata": {},
   "source": [
    "**Вывод:** заемщики-мужчины гораздо менее дисциплинированные."
   ]
  },
  {
   "cell_type": "markdown",
   "metadata": {},
   "source": [
    "#### Зависимость между возрастом и возвратом кредита в срок"
   ]
  },
  {
   "cell_type": "markdown",
   "metadata": {},
   "source": [
    "Для построения анализа по возрасту сначала проведем категоризацию данных. Изучим распределение значений возраста по квартилям."
   ]
  },
  {
   "cell_type": "code",
   "execution_count": 55,
   "metadata": {},
   "outputs": [
    {
     "data": {
      "text/plain": [
       "count    21346.000000\n",
       "mean        43.286049\n",
       "std         12.578273\n",
       "min          0.000000\n",
       "25%         33.000000\n",
       "50%         42.000000\n",
       "75%         53.000000\n",
       "max         75.000000\n",
       "Name: dob_years, dtype: float64"
      ]
     },
     "execution_count": 55,
     "metadata": {},
     "output_type": "execute_result"
    }
   ],
   "source": [
    "data2['dob_years'].describe()"
   ]
  },
  {
   "cell_type": "markdown",
   "metadata": {},
   "source": [
    "В выборе есть нулевые значения. От пола или образования возраст точно не зависит, а вот с типом занятости корреляция возможна, поэтому учтем этот параметр для заполения нулей."
   ]
  },
  {
   "cell_type": "code",
   "execution_count": 56,
   "metadata": {},
   "outputs": [],
   "source": [
    "# пременим ту же последовательность шагов, которую мы использовали для замены пустых значений\n",
    "# в столбце total_income, только в отношении столбца dob_years\n",
    "means = data2.query('dob_years != 0').groupby(['income_type'])\\\n",
    "    .agg({'dob_years': 'mean'}).reset_index().rename(columns = {'dob_years': 'mean_years'})\n",
    "data2 = data2.merge(means, on = ['income_type'])\n",
    "data2['dob_years'] = data2.apply(lambda row: row['mean_years'] if row['dob_years'] == 0 else\\\n",
    "                                    row['dob_years'], axis=1)"
   ]
  },
  {
   "cell_type": "code",
   "execution_count": 57,
   "metadata": {},
   "outputs": [
    {
     "data": {
      "text/plain": [
       "count    21346.000000\n",
       "mean        43.491709\n",
       "std         12.234180\n",
       "min         19.000000\n",
       "25%         33.250000\n",
       "50%         43.000000\n",
       "75%         53.000000\n",
       "max         75.000000\n",
       "Name: dob_years, dtype: float64"
      ]
     },
     "execution_count": 57,
     "metadata": {},
     "output_type": "execute_result"
    }
   ],
   "source": [
    "# запросим обновленные квартили\n",
    "data2['dob_years'].describe()"
   ]
  },
  {
   "cell_type": "code",
   "execution_count": 58,
   "metadata": {},
   "outputs": [],
   "source": [
    "# объявляем словарь диапазонов\n",
    "years_dict = {\n",
    "    'возраст до 30': [0, 30],\n",
    "    'возраст от 30 до 45': [30, 45],\n",
    "    'возраст от 45 до 55': [45, 55],\n",
    "    'старше 55': [55, 100]\n",
    "}"
   ]
  },
  {
   "cell_type": "code",
   "execution_count": 59,
   "metadata": {},
   "outputs": [
    {
     "data": {
      "text/html": [
       "<div>\n",
       "<style scoped>\n",
       "    .dataframe tbody tr th:only-of-type {\n",
       "        vertical-align: middle;\n",
       "    }\n",
       "\n",
       "    .dataframe tbody tr th {\n",
       "        vertical-align: top;\n",
       "    }\n",
       "\n",
       "    .dataframe thead th {\n",
       "        text-align: right;\n",
       "    }\n",
       "</style>\n",
       "<table border=\"1\" class=\"dataframe\">\n",
       "  <thead>\n",
       "    <tr style=\"text-align: right;\">\n",
       "      <th></th>\n",
       "      <th>children</th>\n",
       "      <th>days_employed</th>\n",
       "      <th>dob_years</th>\n",
       "      <th>education</th>\n",
       "      <th>education_id</th>\n",
       "      <th>family_status</th>\n",
       "      <th>family_status_id</th>\n",
       "      <th>gender</th>\n",
       "      <th>income_type</th>\n",
       "      <th>debt</th>\n",
       "      <th>total_income</th>\n",
       "      <th>purpose</th>\n",
       "      <th>gender_id</th>\n",
       "      <th>mean_income</th>\n",
       "      <th>purpose_dict</th>\n",
       "      <th>income_dict</th>\n",
       "      <th>has_children</th>\n",
       "      <th>has_debt</th>\n",
       "      <th>mean_years</th>\n",
       "      <th>years_dict</th>\n",
       "    </tr>\n",
       "  </thead>\n",
       "  <tbody>\n",
       "    <tr>\n",
       "      <td>0</td>\n",
       "      <td>1.0</td>\n",
       "      <td>-8437.0</td>\n",
       "      <td>42.0</td>\n",
       "      <td>высшее</td>\n",
       "      <td>0.0</td>\n",
       "      <td>женат / замужем</td>\n",
       "      <td>0.0</td>\n",
       "      <td>F</td>\n",
       "      <td>сотрудник</td>\n",
       "      <td>0.0</td>\n",
       "      <td>253875.0</td>\n",
       "      <td>покупка жилья</td>\n",
       "      <td>1</td>\n",
       "      <td>178270.34081</td>\n",
       "      <td>покупка коммерческой и жилой недвижимости</td>\n",
       "      <td>доход свыше 250 тыс</td>\n",
       "      <td>есть дети</td>\n",
       "      <td>нет долга</td>\n",
       "      <td>40.007567</td>\n",
       "      <td>возраст от 30 до 45</td>\n",
       "    </tr>\n",
       "    <tr>\n",
       "      <td>1</td>\n",
       "      <td>2.0</td>\n",
       "      <td>-6929.0</td>\n",
       "      <td>35.0</td>\n",
       "      <td>высшее</td>\n",
       "      <td>0.0</td>\n",
       "      <td>гражданский брак</td>\n",
       "      <td>1.0</td>\n",
       "      <td>F</td>\n",
       "      <td>сотрудник</td>\n",
       "      <td>0.0</td>\n",
       "      <td>95856.0</td>\n",
       "      <td>на проведение свадьбы</td>\n",
       "      <td>1</td>\n",
       "      <td>178270.34081</td>\n",
       "      <td>проведение свадьбы</td>\n",
       "      <td>доход до 100 тыс</td>\n",
       "      <td>есть дети</td>\n",
       "      <td>нет долга</td>\n",
       "      <td>40.007567</td>\n",
       "      <td>возраст от 30 до 45</td>\n",
       "    </tr>\n",
       "    <tr>\n",
       "      <td>2</td>\n",
       "      <td>1.0</td>\n",
       "      <td>-717.0</td>\n",
       "      <td>26.0</td>\n",
       "      <td>высшее</td>\n",
       "      <td>0.0</td>\n",
       "      <td>женат / замужем</td>\n",
       "      <td>0.0</td>\n",
       "      <td>F</td>\n",
       "      <td>сотрудник</td>\n",
       "      <td>0.0</td>\n",
       "      <td>187863.0</td>\n",
       "      <td>строительство собственной недвижимости</td>\n",
       "      <td>1</td>\n",
       "      <td>178270.34081</td>\n",
       "      <td>покупка коммерческой и жилой недвижимости</td>\n",
       "      <td>доход от 150 до 250 тыс</td>\n",
       "      <td>есть дети</td>\n",
       "      <td>нет долга</td>\n",
       "      <td>40.007567</td>\n",
       "      <td>возраст до 30</td>\n",
       "    </tr>\n",
       "    <tr>\n",
       "      <td>3</td>\n",
       "      <td>1.0</td>\n",
       "      <td>-6953.0</td>\n",
       "      <td>50.0</td>\n",
       "      <td>высшее</td>\n",
       "      <td>0.0</td>\n",
       "      <td>гражданский брак</td>\n",
       "      <td>1.0</td>\n",
       "      <td>F</td>\n",
       "      <td>сотрудник</td>\n",
       "      <td>0.0</td>\n",
       "      <td>203199.0</td>\n",
       "      <td>свадьба</td>\n",
       "      <td>1</td>\n",
       "      <td>178270.34081</td>\n",
       "      <td>проведение свадьбы</td>\n",
       "      <td>доход от 150 до 250 тыс</td>\n",
       "      <td>есть дети</td>\n",
       "      <td>нет долга</td>\n",
       "      <td>40.007567</td>\n",
       "      <td>возраст от 45 до 55</td>\n",
       "    </tr>\n",
       "    <tr>\n",
       "      <td>4</td>\n",
       "      <td>0.0</td>\n",
       "      <td>-3480.0</td>\n",
       "      <td>27.0</td>\n",
       "      <td>высшее</td>\n",
       "      <td>0.0</td>\n",
       "      <td>гражданский брак</td>\n",
       "      <td>1.0</td>\n",
       "      <td>F</td>\n",
       "      <td>сотрудник</td>\n",
       "      <td>0.0</td>\n",
       "      <td>92238.0</td>\n",
       "      <td>автомобили</td>\n",
       "      <td>1</td>\n",
       "      <td>178270.34081</td>\n",
       "      <td>приобретение автомобиля</td>\n",
       "      <td>доход до 100 тыс</td>\n",
       "      <td>нет детей</td>\n",
       "      <td>нет долга</td>\n",
       "      <td>40.007567</td>\n",
       "      <td>возраст до 30</td>\n",
       "    </tr>\n",
       "  </tbody>\n",
       "</table>\n",
       "</div>"
      ],
      "text/plain": [
       "   children  days_employed  dob_years education  education_id  \\\n",
       "0       1.0        -8437.0       42.0    высшее           0.0   \n",
       "1       2.0        -6929.0       35.0    высшее           0.0   \n",
       "2       1.0         -717.0       26.0    высшее           0.0   \n",
       "3       1.0        -6953.0       50.0    высшее           0.0   \n",
       "4       0.0        -3480.0       27.0    высшее           0.0   \n",
       "\n",
       "      family_status  family_status_id gender income_type  debt  total_income  \\\n",
       "0   женат / замужем               0.0      F   сотрудник   0.0      253875.0   \n",
       "1  гражданский брак               1.0      F   сотрудник   0.0       95856.0   \n",
       "2   женат / замужем               0.0      F   сотрудник   0.0      187863.0   \n",
       "3  гражданский брак               1.0      F   сотрудник   0.0      203199.0   \n",
       "4  гражданский брак               1.0      F   сотрудник   0.0       92238.0   \n",
       "\n",
       "                                  purpose  gender_id   mean_income  \\\n",
       "0                           покупка жилья          1  178270.34081   \n",
       "1                   на проведение свадьбы          1  178270.34081   \n",
       "2  строительство собственной недвижимости          1  178270.34081   \n",
       "3                                 свадьба          1  178270.34081   \n",
       "4                              автомобили          1  178270.34081   \n",
       "\n",
       "                                purpose_dict              income_dict  \\\n",
       "0  покупка коммерческой и жилой недвижимости      доход свыше 250 тыс   \n",
       "1                         проведение свадьбы         доход до 100 тыс   \n",
       "2  покупка коммерческой и жилой недвижимости  доход от 150 до 250 тыс   \n",
       "3                         проведение свадьбы  доход от 150 до 250 тыс   \n",
       "4                    приобретение автомобиля         доход до 100 тыс   \n",
       "\n",
       "  has_children   has_debt  mean_years           years_dict  \n",
       "0    есть дети  нет долга   40.007567  возраст от 30 до 45  \n",
       "1    есть дети  нет долга   40.007567  возраст от 30 до 45  \n",
       "2    есть дети  нет долга   40.007567        возраст до 30  \n",
       "3    есть дети  нет долга   40.007567  возраст от 45 до 55  \n",
       "4    нет детей  нет долга   40.007567        возраст до 30  "
      ]
     },
     "execution_count": 59,
     "metadata": {},
     "output_type": "execute_result"
    }
   ],
   "source": [
    "# добавим столбец years_dict с категорией возраста\n",
    "data2['years_dict'] = data2['dob_years'] \\\n",
    "    .apply(lambda years: [item for item in years_dict \\\n",
    "    if years_dict[item][0] < years and years <= years_dict[item][1]][0])\n",
    "data2.head()"
   ]
  },
  {
   "cell_type": "code",
   "execution_count": 60,
   "metadata": {},
   "outputs": [
    {
     "data": {
      "text/html": [
       "<div>\n",
       "<style scoped>\n",
       "    .dataframe tbody tr th:only-of-type {\n",
       "        vertical-align: middle;\n",
       "    }\n",
       "\n",
       "    .dataframe tbody tr th {\n",
       "        vertical-align: top;\n",
       "    }\n",
       "\n",
       "    .dataframe thead th {\n",
       "        text-align: right;\n",
       "    }\n",
       "</style>\n",
       "<table border=\"1\" class=\"dataframe\">\n",
       "  <thead>\n",
       "    <tr style=\"text-align: right;\">\n",
       "      <th>has_debt</th>\n",
       "      <th>years_dict</th>\n",
       "      <th>есть долг</th>\n",
       "      <th>нет долга</th>\n",
       "      <th>итого</th>\n",
       "      <th>доля должников</th>\n",
       "    </tr>\n",
       "  </thead>\n",
       "  <tbody>\n",
       "    <tr>\n",
       "      <td>0</td>\n",
       "      <td>возраст до 30</td>\n",
       "      <td>403</td>\n",
       "      <td>3297</td>\n",
       "      <td>3700</td>\n",
       "      <td>10.89%</td>\n",
       "    </tr>\n",
       "    <tr>\n",
       "      <td>1</td>\n",
       "      <td>возраст от 30 до 45</td>\n",
       "      <td>763</td>\n",
       "      <td>7747</td>\n",
       "      <td>8510</td>\n",
       "      <td>8.97%</td>\n",
       "    </tr>\n",
       "    <tr>\n",
       "      <td>2</td>\n",
       "      <td>возраст от 45 до 55</td>\n",
       "      <td>326</td>\n",
       "      <td>4466</td>\n",
       "      <td>4792</td>\n",
       "      <td>6.80%</td>\n",
       "    </tr>\n",
       "    <tr>\n",
       "      <td>3</td>\n",
       "      <td>старше 55</td>\n",
       "      <td>240</td>\n",
       "      <td>4104</td>\n",
       "      <td>4344</td>\n",
       "      <td>5.52%</td>\n",
       "    </tr>\n",
       "  </tbody>\n",
       "</table>\n",
       "</div>"
      ],
      "text/plain": [
       "has_debt           years_dict  есть долг  нет долга  итого доля должников\n",
       "0               возраст до 30        403       3297   3700         10.89%\n",
       "1         возраст от 30 до 45        763       7747   8510          8.97%\n",
       "2         возраст от 45 до 55        326       4466   4792          6.80%\n",
       "3                   старше 55        240       4104   4344          5.52%"
      ]
     },
     "execution_count": 60,
     "metadata": {},
     "output_type": "execute_result"
    }
   ],
   "source": [
    "pivot_years = data2.pivot_table(index = ['years_dict'], columns = 'has_debt', values = 'debt',\\\n",
    "                                   aggfunc = 'count').reset_index()\n",
    "pivot_years['итого'] = pivot_years['есть долг'] + pivot_years['нет долга']\n",
    "pivot_years['доля должников'] = pivot_years.apply(lambda x:\\\n",
    "                    \"{:.2f}%\".format(x['есть долг'] / x['итого'] * 100), axis=1)\n",
    "pivot_years"
   ]
  },
  {
   "cell_type": "code",
   "execution_count": 61,
   "metadata": {},
   "outputs": [
    {
     "name": "stdout",
     "output_type": "stream",
     "text": [
      "Средняя доля должников: 8.0%\n"
     ]
    }
   ],
   "source": [
    "pivot_years['доля числовая'] = pivot_years['есть долг'] / pivot_years['итого']\n",
    "years_mean = pivot_years['доля числовая'].mean()\n",
    "print('Средняя доля должников: {:.1%}'.format(years_mean))"
   ]
  },
  {
   "cell_type": "markdown",
   "metadata": {},
   "source": [
    "**Вывод:** в категории \"возраст\" тоже нет откровений — чаще всех бывают должны люди до 30 лет."
   ]
  },
  {
   "cell_type": "markdown",
   "metadata": {},
   "source": [
    "### Кластеризация должников"
   ]
  },
  {
   "cell_type": "markdown",
   "metadata": {},
   "source": [
    "На предыдущем этапе анализа был установлен порог риска — 8,5%. Более высокая доля долго зафикисрована в следующих группах заемщиков:\n",
    "1. Мужчины (10,26%).\n",
    "2. Возраст: до 30 лет (10,89%), возраст до 45 лет (8,97%).\n",
    "3. Семейное положение: не женат/не замужем (9,76%), гражданский брак (9,29%).\n",
    "4. Нет детей (9.24%).\n",
    "5. Доход от 100 до 150 тысяч (8,56%).\n",
    "6. Цель: покупка авто (9,34%), получение образования (9,25%)."
   ]
  },
  {
   "cell_type": "markdown",
   "metadata": {},
   "source": [
    "Разделим заемщиков на кластеры с учетом \"рискованных\" параметров (исключим из анализа \"доход\" — там зафиксировано совсем небольшое превышение заданного порога)."
   ]
  },
  {
   "cell_type": "markdown",
   "metadata": {},
   "source": [
    "Сгруппируем в кластер мужчин без детей и изучим, как семейное положение влияет на возврат кредита в срок."
   ]
  },
  {
   "cell_type": "code",
   "execution_count": 62,
   "metadata": {},
   "outputs": [],
   "source": [
    "# объявим переменные data_mc и data_fc, в которые поместим выборку из актуального датасета \n",
    "# по полу и наличию детей\n",
    "data_mc = data2[ (data2['gender'] == 'M') & (data2['has_children'] == 'нет детей') ]\n",
    "data_fc = data2[ (data2['gender'] == 'F') & (data2['has_children'] == 'нет детей') ]"
   ]
  },
  {
   "cell_type": "code",
   "execution_count": 63,
   "metadata": {},
   "outputs": [
    {
     "data": {
      "text/html": [
       "<div>\n",
       "<style scoped>\n",
       "    .dataframe tbody tr th:only-of-type {\n",
       "        vertical-align: middle;\n",
       "    }\n",
       "\n",
       "    .dataframe tbody tr th {\n",
       "        vertical-align: top;\n",
       "    }\n",
       "\n",
       "    .dataframe thead th {\n",
       "        text-align: right;\n",
       "    }\n",
       "</style>\n",
       "<table border=\"1\" class=\"dataframe\">\n",
       "  <thead>\n",
       "    <tr style=\"text-align: right;\">\n",
       "      <th>has_debt</th>\n",
       "      <th>gender</th>\n",
       "      <th>family_status</th>\n",
       "      <th>has_children</th>\n",
       "      <th>есть долг</th>\n",
       "      <th>нет долга</th>\n",
       "      <th>итого</th>\n",
       "      <th>доля должников</th>\n",
       "    </tr>\n",
       "  </thead>\n",
       "  <tbody>\n",
       "    <tr>\n",
       "      <td>0</td>\n",
       "      <td>M</td>\n",
       "      <td>в разводе</td>\n",
       "      <td>нет детей</td>\n",
       "      <td>11</td>\n",
       "      <td>142</td>\n",
       "      <td>153</td>\n",
       "      <td>7.19%</td>\n",
       "    </tr>\n",
       "    <tr>\n",
       "      <td>1</td>\n",
       "      <td>M</td>\n",
       "      <td>вдовец / вдова</td>\n",
       "      <td>нет детей</td>\n",
       "      <td>10</td>\n",
       "      <td>36</td>\n",
       "      <td>46</td>\n",
       "      <td>21.74%</td>\n",
       "    </tr>\n",
       "    <tr>\n",
       "      <td>2</td>\n",
       "      <td>M</td>\n",
       "      <td>гражданский брак</td>\n",
       "      <td>нет детей</td>\n",
       "      <td>97</td>\n",
       "      <td>764</td>\n",
       "      <td>861</td>\n",
       "      <td>11.27%</td>\n",
       "    </tr>\n",
       "    <tr>\n",
       "      <td>3</td>\n",
       "      <td>M</td>\n",
       "      <td>женат / замужем</td>\n",
       "      <td>нет детей</td>\n",
       "      <td>225</td>\n",
       "      <td>2358</td>\n",
       "      <td>2583</td>\n",
       "      <td>8.71%</td>\n",
       "    </tr>\n",
       "    <tr>\n",
       "      <td>4</td>\n",
       "      <td>M</td>\n",
       "      <td>не женат / не замужем</td>\n",
       "      <td>нет детей</td>\n",
       "      <td>128</td>\n",
       "      <td>800</td>\n",
       "      <td>928</td>\n",
       "      <td>13.79%</td>\n",
       "    </tr>\n",
       "  </tbody>\n",
       "</table>\n",
       "</div>"
      ],
      "text/plain": [
       "has_debt gender          family_status has_children  есть долг  нет долга  \\\n",
       "0             M              в разводе    нет детей         11        142   \n",
       "1             M         вдовец / вдова    нет детей         10         36   \n",
       "2             M       гражданский брак    нет детей         97        764   \n",
       "3             M        женат / замужем    нет детей        225       2358   \n",
       "4             M  не женат / не замужем    нет детей        128        800   \n",
       "\n",
       "has_debt  итого доля должников  \n",
       "0           153          7.19%  \n",
       "1            46         21.74%  \n",
       "2           861         11.27%  \n",
       "3          2583          8.71%  \n",
       "4           928         13.79%  "
      ]
     },
     "execution_count": 63,
     "metadata": {},
     "output_type": "execute_result"
    }
   ],
   "source": [
    "# для формирования сводной таблицы по бездетным мужчинам повторим стандартные шаги, \n",
    "# но в отношении нового датасета data_mc\n",
    "pivot_mc_f = data_mc.pivot_table(index = ['gender','family_status','has_children'], \\\n",
    "                            columns = 'has_debt', values = 'debt', aggfunc = 'count').reset_index()\n",
    "pivot_mc_f['итого'] = pivot_mc_f['есть долг'] + pivot_mc_f['нет долга']\n",
    "pivot_mc_f['доля должников'] = pivot_mc_f.apply(lambda x:\\\n",
    "                    \"{:.2f}%\".format(x['есть долг'] / x['итого'] * 100), axis=1)\n",
    "pivot_mc_f"
   ]
  },
  {
   "cell_type": "markdown",
   "metadata": {},
   "source": [
    "Наиболее рискованными заемщиками являются мужчины-вдовцы без детей. Но это и самая малочисленная группа заемщиков — всего 46 событий. Выводы делать рано, но в целом имеет смысл наблюдать за динамикой в этой категории. В данной выборке подтверждается более высокий риск невозврата для не женатых и состоящих в гражданском браке заемщиков."
   ]
  },
  {
   "cell_type": "markdown",
   "metadata": {},
   "source": [
    "Сравнима полученные результаты с аналогичной выборкой по бездетным женщинам."
   ]
  },
  {
   "cell_type": "code",
   "execution_count": 64,
   "metadata": {},
   "outputs": [
    {
     "data": {
      "text/html": [
       "<div>\n",
       "<style scoped>\n",
       "    .dataframe tbody tr th:only-of-type {\n",
       "        vertical-align: middle;\n",
       "    }\n",
       "\n",
       "    .dataframe tbody tr th {\n",
       "        vertical-align: top;\n",
       "    }\n",
       "\n",
       "    .dataframe thead th {\n",
       "        text-align: right;\n",
       "    }\n",
       "</style>\n",
       "<table border=\"1\" class=\"dataframe\">\n",
       "  <thead>\n",
       "    <tr style=\"text-align: right;\">\n",
       "      <th>has_debt</th>\n",
       "      <th>gender</th>\n",
       "      <th>family_status</th>\n",
       "      <th>has_children</th>\n",
       "      <th>есть долг</th>\n",
       "      <th>нет долга</th>\n",
       "      <th>итого</th>\n",
       "      <th>доля должников</th>\n",
       "    </tr>\n",
       "  </thead>\n",
       "  <tbody>\n",
       "    <tr>\n",
       "      <td>0</td>\n",
       "      <td>F</td>\n",
       "      <td>в разводе</td>\n",
       "      <td>нет детей</td>\n",
       "      <td>44</td>\n",
       "      <td>587</td>\n",
       "      <td>631</td>\n",
       "      <td>6.97%</td>\n",
       "    </tr>\n",
       "    <tr>\n",
       "      <td>1</td>\n",
       "      <td>F</td>\n",
       "      <td>вдовец / вдова</td>\n",
       "      <td>нет детей</td>\n",
       "      <td>43</td>\n",
       "      <td>758</td>\n",
       "      <td>801</td>\n",
       "      <td>5.37%</td>\n",
       "    </tr>\n",
       "    <tr>\n",
       "      <td>2</td>\n",
       "      <td>F</td>\n",
       "      <td>гражданский брак</td>\n",
       "      <td>нет детей</td>\n",
       "      <td>132</td>\n",
       "      <td>1747</td>\n",
       "      <td>1879</td>\n",
       "      <td>7.03%</td>\n",
       "    </tr>\n",
       "    <tr>\n",
       "      <td>3</td>\n",
       "      <td>F</td>\n",
       "      <td>женат / замужем</td>\n",
       "      <td>нет детей</td>\n",
       "      <td>291</td>\n",
       "      <td>4598</td>\n",
       "      <td>4889</td>\n",
       "      <td>5.95%</td>\n",
       "    </tr>\n",
       "    <tr>\n",
       "      <td>4</td>\n",
       "      <td>F</td>\n",
       "      <td>не женат / не замужем</td>\n",
       "      <td>нет детей</td>\n",
       "      <td>82</td>\n",
       "      <td>1252</td>\n",
       "      <td>1334</td>\n",
       "      <td>6.15%</td>\n",
       "    </tr>\n",
       "  </tbody>\n",
       "</table>\n",
       "</div>"
      ],
      "text/plain": [
       "has_debt gender          family_status has_children  есть долг  нет долга  \\\n",
       "0             F              в разводе    нет детей         44        587   \n",
       "1             F         вдовец / вдова    нет детей         43        758   \n",
       "2             F       гражданский брак    нет детей        132       1747   \n",
       "3             F        женат / замужем    нет детей        291       4598   \n",
       "4             F  не женат / не замужем    нет детей         82       1252   \n",
       "\n",
       "has_debt  итого доля должников  \n",
       "0           631          6.97%  \n",
       "1           801          5.37%  \n",
       "2          1879          7.03%  \n",
       "3          4889          5.95%  \n",
       "4          1334          6.15%  "
      ]
     },
     "execution_count": 64,
     "metadata": {},
     "output_type": "execute_result"
    }
   ],
   "source": [
    "# аналогичные шаги\n",
    "pivot_fc_f = data_fc.pivot_table(index = ['gender','family_status','has_children'], \\\n",
    "                            columns = 'has_debt', values = 'debt', aggfunc = 'count').reset_index()\n",
    "pivot_fc_f['итого'] = pivot_fc_f['есть долг'] + pivot_fc_f['нет долга']\n",
    "pivot_fc_f['доля должников'] = pivot_fc_f.apply(lambda x:\\\n",
    "                    \"{:.2f}%\".format(x['есть долг'] / x['итого'] * 100), axis=1)\n",
    "pivot_fc_f"
   ]
  },
  {
   "cell_type": "markdown",
   "metadata": {},
   "source": [
    "Женщины-вдовы, напротив, оказались самыми надежными заемщиками, при том, что обращаются они за кредитом в 16 раз чаще. Относительно высокая (хотя и ниже заданного порога) доля невозвратов для женщин в гражданском браке и разводе."
   ]
  },
  {
   "cell_type": "markdown",
   "metadata": {},
   "source": [
    "**Вывод:** для заемщиков-мужчин однозначно негативными факторами являются отсутствие детей и официальной жены. Для женщин без детей положительным фактором является статус вдовы."
   ]
  },
  {
   "cell_type": "markdown",
   "metadata": {},
   "source": [
    "*Дальнейшая кластеризация не проводилась — при попытках посмотреть аналогичные доли для параметров \"возраст\" и \"цели кредита\" были получены идентичные значения для групп мужчин и женщин. Вероятно, данные изменены в учебных целях, поэтому подобный анализ не показателен.*"
   ]
  },
  {
   "cell_type": "markdown",
   "metadata": {},
   "source": [
    "## Шаг 4. Общий вывод"
   ]
  },
  {
   "cell_type": "markdown",
   "metadata": {},
   "source": [
    "Долги есть у любой из групп заемщиков. Усредненная доля невозвратов кредитов составляет 8%. Большие доли невозвратов зафиксированы в группах:\n",
    "1. Мужчины (10,26%).\n",
    "2. Возраст: до 30 лет (10,89%), возраст до 45 лет (8,97%).\n",
    "3. Семейное положение: не женат/не замужем (9,76%), гражданский брак (9,29%).\n",
    "4. Нет детей (9.24%).\n",
    "5. Доход от 100 до 150 тысяч (8,56%).\n",
    "6. Цель: покупка авто (9,34%), получение образования (9,25%)."
   ]
  },
  {
   "cell_type": "markdown",
   "metadata": {},
   "source": [
    "Однозначно негативным является сочетание факторов пол = мужчина, наличие детей = нет, семейное положение = не состоит в официальных отношениях."
   ]
  },
  {
   "cell_type": "markdown",
   "metadata": {},
   "source": [
    "Позитивными являются следующие независимые факторы (не их совокупность):\n",
    "1. Семейное положение: вдова (5,37%).\n",
    "2. Возраст: старше 55 лет (5,52%).\n",
    "3. Цель кредита: ремонт недвижимости (5,79%).\n",
    "4. Доход: свыше 250 тысяч (6,86%)"
   ]
  },
  {
   "cell_type": "markdown",
   "metadata": {},
   "source": [
    "**Вывод:** оценка заявленных в целях исследования характеристик — семейного положения, наличие детей, уровня дохода и целей кредита — рекомендуется для включения в модель кредитного скоринга. Вес каждого из параметров нуждается в дополнительной оценке."
   ]
  }
 ],
 "metadata": {
  "kernelspec": {
   "display_name": "Python 3",
   "language": "python",
   "name": "python3"
  },
  "language_info": {
   "codemirror_mode": {
    "name": "ipython",
    "version": 3
   },
   "file_extension": ".py",
   "mimetype": "text/x-python",
   "name": "python",
   "nbconvert_exporter": "python",
   "pygments_lexer": "ipython3",
   "version": "3.8.8"
  },
  "toc": {
   "base_numbering": 1,
   "nav_menu": {},
   "number_sections": true,
   "sideBar": true,
   "skip_h1_title": true,
   "title_cell": "Table of Contents",
   "title_sidebar": "Contents",
   "toc_cell": true,
   "toc_position": {},
   "toc_section_display": true,
   "toc_window_display": false
  }
 },
 "nbformat": 4,
 "nbformat_minor": 2
}
